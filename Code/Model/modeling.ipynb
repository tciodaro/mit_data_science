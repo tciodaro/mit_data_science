{
 "cells": [
  {
   "cell_type": "code",
   "execution_count": 83,
   "metadata": {},
   "outputs": [],
   "source": [
    "import pandas as pd\n",
    "import numpy as np\n",
    "import matplotlib.pyplot as plt\n",
    "import fbprophet\n",
    "import logging\n",
    "\n",
    "logging.getLogger().setLevel(logging.ERROR)\n",
    "    \n",
    "%matplotlib inline\n",
    "\n",
    "plt.style.use('bmh')\n",
    "\n",
    "%store -r WORKDIR\n",
    "if 'WORKDIR' not in dir():\n",
    "    WORKDIR = 'C:/Users/BZ241WX/Documents/InfNet/CursoPosDataScience/mit_data_science/'\n",
    "\n",
    "test_samples = 52\n",
    "min_samples = test_samples\n",
    "n_stores = 3\n",
    "n_dept = 3\n",
    "\n",
    "\n",
    "data_proc_file = WORKDIR + '/Data/Processed/retail.parquet'\n",
    "save_file = WORKDIR + '/Data/Modeling/forecast_results.parquet'\n",
    "\n",
    "time_col = 'Date'\n",
    "grain_col = ['Store', 'Dept']\n",
    "target_col = 'Weekly_Sales'\n",
    "\n",
    "variable_names = ['IsHoliday', 'Type', 'Size','Temperature',\n",
    "                  'Fuel_Price', 'MarkDown1', 'MarkDown2', 'MarkDown3',\n",
    "                  'MarkDown4', 'MarkDown5', 'CPI', 'Unemployment']\n",
    "\n",
    "pd.plotting.register_matplotlib_converters()"
   ]
  },
  {
   "cell_type": "markdown",
   "metadata": {},
   "source": [
    "# Carga dos Dados "
   ]
  },
  {
   "cell_type": "code",
   "execution_count": 76,
   "metadata": {},
   "outputs": [
    {
     "name": "stdout",
     "output_type": "stream",
     "text": [
      "shape: (1287, 16)\n",
      "columns: Index(['Store', 'Dept', 'Date', 'Weekly_Sales', 'IsHoliday', 'Type', 'Size',\n",
      "       'Temperature', 'Fuel_Price', 'MarkDown1', 'MarkDown2', 'MarkDown3',\n",
      "       'MarkDown4', 'MarkDown5', 'CPI', 'Unemployment'],\n",
      "      dtype='object')\n"
     ]
    }
   ],
   "source": [
    "df = pd.read_parquet(data_proc_file)\n",
    "\n",
    "store_list = df.Store.unique().tolist()[:n_stores]\n",
    "dept_list = df.Dept.unique().tolist()[:n_dept]\n",
    "\n",
    "df = df[df.Store.isin(store_list)].copy()\n",
    "df = df[df.Dept.isin(dept_list)].copy()\n",
    "\n",
    "\n",
    "print('shape:', df.shape)\n",
    "print('columns:', df.columns)"
   ]
  },
  {
   "cell_type": "markdown",
   "metadata": {},
   "source": [
    "# Descricao dos Dados "
   ]
  },
  {
   "cell_type": "code",
   "execution_count": 85,
   "metadata": {},
   "outputs": [
    {
     "data": {
      "text/html": [
       "<div>\n",
       "<style scoped>\n",
       "    .dataframe tbody tr th:only-of-type {\n",
       "        vertical-align: middle;\n",
       "    }\n",
       "\n",
       "    .dataframe tbody tr th {\n",
       "        vertical-align: top;\n",
       "    }\n",
       "\n",
       "    .dataframe thead th {\n",
       "        text-align: right;\n",
       "    }\n",
       "</style>\n",
       "<table border=\"1\" class=\"dataframe\">\n",
       "  <thead>\n",
       "    <tr style=\"text-align: right;\">\n",
       "      <th></th>\n",
       "      <th>Weekly_Sales</th>\n",
       "      <th>IsHoliday</th>\n",
       "      <th>Size</th>\n",
       "      <th>Temperature</th>\n",
       "      <th>Fuel_Price</th>\n",
       "      <th>MarkDown1</th>\n",
       "      <th>MarkDown2</th>\n",
       "      <th>MarkDown3</th>\n",
       "      <th>MarkDown4</th>\n",
       "      <th>MarkDown5</th>\n",
       "      <th>CPI</th>\n",
       "      <th>Unemployment</th>\n",
       "    </tr>\n",
       "  </thead>\n",
       "  <tbody>\n",
       "    <tr>\n",
       "      <th>count</th>\n",
       "      <td>1287.000000</td>\n",
       "      <td>1287.000000</td>\n",
       "      <td>1287.000000</td>\n",
       "      <td>1287.000000</td>\n",
       "      <td>1287.000000</td>\n",
       "      <td>1287.000000</td>\n",
       "      <td>1287.000000</td>\n",
       "      <td>1287.000000</td>\n",
       "      <td>1287.000000</td>\n",
       "      <td>1287.000000</td>\n",
       "      <td>1287.000000</td>\n",
       "      <td>1287.000000</td>\n",
       "    </tr>\n",
       "    <tr>\n",
       "      <th>mean</th>\n",
       "      <td>25068.117280</td>\n",
       "      <td>0.069930</td>\n",
       "      <td>130338.000000</td>\n",
       "      <td>69.319114</td>\n",
       "      <td>3.219699</td>\n",
       "      <td>2594.099487</td>\n",
       "      <td>901.844149</td>\n",
       "      <td>435.430420</td>\n",
       "      <td>1113.925711</td>\n",
       "      <td>1526.848904</td>\n",
       "      <td>217.011578</td>\n",
       "      <td>7.470417</td>\n",
       "    </tr>\n",
       "    <tr>\n",
       "      <th>std</th>\n",
       "      <td>20312.820974</td>\n",
       "      <td>0.255128</td>\n",
       "      <td>68967.668537</td>\n",
       "      <td>14.212531</td>\n",
       "      <td>0.425981</td>\n",
       "      <td>5898.481182</td>\n",
       "      <td>5705.281720</td>\n",
       "      <td>4939.380697</td>\n",
       "      <td>3723.590692</td>\n",
       "      <td>3391.033271</td>\n",
       "      <td>4.678144</td>\n",
       "      <td>0.532558</td>\n",
       "    </tr>\n",
       "    <tr>\n",
       "      <th>min</th>\n",
       "      <td>2444.090000</td>\n",
       "      <td>0.000000</td>\n",
       "      <td>37392.000000</td>\n",
       "      <td>33.020000</td>\n",
       "      <td>2.514000</td>\n",
       "      <td>0.000000</td>\n",
       "      <td>0.000000</td>\n",
       "      <td>0.000000</td>\n",
       "      <td>0.000000</td>\n",
       "      <td>0.000000</td>\n",
       "      <td>209.998458</td>\n",
       "      <td>6.034000</td>\n",
       "    </tr>\n",
       "    <tr>\n",
       "      <th>25%</th>\n",
       "      <td>10078.630000</td>\n",
       "      <td>0.000000</td>\n",
       "      <td>37392.000000</td>\n",
       "      <td>58.760000</td>\n",
       "      <td>2.759000</td>\n",
       "      <td>0.000000</td>\n",
       "      <td>0.000000</td>\n",
       "      <td>0.000000</td>\n",
       "      <td>0.000000</td>\n",
       "      <td>0.000000</td>\n",
       "      <td>212.903312</td>\n",
       "      <td>7.143000</td>\n",
       "    </tr>\n",
       "    <tr>\n",
       "      <th>50%</th>\n",
       "      <td>16976.190000</td>\n",
       "      <td>0.000000</td>\n",
       "      <td>151315.000000</td>\n",
       "      <td>70.310000</td>\n",
       "      <td>3.290000</td>\n",
       "      <td>0.000000</td>\n",
       "      <td>0.000000</td>\n",
       "      <td>0.000000</td>\n",
       "      <td>0.000000</td>\n",
       "      <td>0.000000</td>\n",
       "      <td>215.694438</td>\n",
       "      <td>7.564000</td>\n",
       "    </tr>\n",
       "    <tr>\n",
       "      <th>75%</th>\n",
       "      <td>42233.695000</td>\n",
       "      <td>0.000000</td>\n",
       "      <td>202307.000000</td>\n",
       "      <td>81.840000</td>\n",
       "      <td>3.594000</td>\n",
       "      <td>3221.250000</td>\n",
       "      <td>10.470000</td>\n",
       "      <td>3.830000</td>\n",
       "      <td>570.570000</td>\n",
       "      <td>1743.540000</td>\n",
       "      <td>221.309517</td>\n",
       "      <td>7.866000</td>\n",
       "    </tr>\n",
       "    <tr>\n",
       "      <th>max</th>\n",
       "      <td>93511.030000</td>\n",
       "      <td>1.000000</td>\n",
       "      <td>202307.000000</td>\n",
       "      <td>93.340000</td>\n",
       "      <td>3.907000</td>\n",
       "      <td>75149.790000</td>\n",
       "      <td>92523.940000</td>\n",
       "      <td>77451.260000</td>\n",
       "      <td>48159.860000</td>\n",
       "      <td>36430.330000</td>\n",
       "      <td>226.987364</td>\n",
       "      <td>8.324000</td>\n",
       "    </tr>\n",
       "  </tbody>\n",
       "</table>\n",
       "</div>"
      ],
      "text/plain": [
       "       Weekly_Sales    IsHoliday           Size  Temperature   Fuel_Price  \\\n",
       "count   1287.000000  1287.000000    1287.000000  1287.000000  1287.000000   \n",
       "mean   25068.117280     0.069930  130338.000000    69.319114     3.219699   \n",
       "std    20312.820974     0.255128   68967.668537    14.212531     0.425981   \n",
       "min     2444.090000     0.000000   37392.000000    33.020000     2.514000   \n",
       "25%    10078.630000     0.000000   37392.000000    58.760000     2.759000   \n",
       "50%    16976.190000     0.000000  151315.000000    70.310000     3.290000   \n",
       "75%    42233.695000     0.000000  202307.000000    81.840000     3.594000   \n",
       "max    93511.030000     1.000000  202307.000000    93.340000     3.907000   \n",
       "\n",
       "          MarkDown1     MarkDown2     MarkDown3     MarkDown4     MarkDown5  \\\n",
       "count   1287.000000   1287.000000   1287.000000   1287.000000   1287.000000   \n",
       "mean    2594.099487    901.844149    435.430420   1113.925711   1526.848904   \n",
       "std     5898.481182   5705.281720   4939.380697   3723.590692   3391.033271   \n",
       "min        0.000000      0.000000      0.000000      0.000000      0.000000   \n",
       "25%        0.000000      0.000000      0.000000      0.000000      0.000000   \n",
       "50%        0.000000      0.000000      0.000000      0.000000      0.000000   \n",
       "75%     3221.250000     10.470000      3.830000    570.570000   1743.540000   \n",
       "max    75149.790000  92523.940000  77451.260000  48159.860000  36430.330000   \n",
       "\n",
       "               CPI  Unemployment  \n",
       "count  1287.000000   1287.000000  \n",
       "mean    217.011578      7.470417  \n",
       "std       4.678144      0.532558  \n",
       "min     209.998458      6.034000  \n",
       "25%     212.903312      7.143000  \n",
       "50%     215.694438      7.564000  \n",
       "75%     221.309517      7.866000  \n",
       "max     226.987364      8.324000  "
      ]
     },
     "execution_count": 85,
     "metadata": {},
     "output_type": "execute_result"
    }
   ],
   "source": [
    "df.describe()"
   ]
  },
  {
   "cell_type": "code",
   "execution_count": 77,
   "metadata": {},
   "outputs": [
    {
     "name": "stdout",
     "output_type": "stream",
     "text": [
      "Train: (819, 16)\n",
      "Test : (468, 16)\n"
     ]
    }
   ],
   "source": [
    "\n",
    "\n",
    "def split_last_n_by_grain(df, ntest, time_column_name, grain_column_names):\n",
    "    \"\"\"Group df by grain and split on last n rows for each group.\"\"\"\n",
    "    df_grouped = (df.sort_values(time_column_name) # Sort by ascending time\n",
    "                  .groupby(grain_column_names, group_keys=False))\n",
    "    df_head = df_grouped.apply(lambda dfg: dfg.iloc[:-ntest])\n",
    "    df_tail = df_grouped.apply(lambda dfg: dfg.iloc[-ntest:])\n",
    "    return df_head, df_tail\n",
    "\n",
    "\n",
    "\n",
    "df_train, df_test = split_last_n_by_grain(df, test_samples, time_col, grain_col)\n",
    "\n",
    "print('Train:', df_train.shape)\n",
    "print('Test :', df_test.shape)"
   ]
  },
  {
   "cell_type": "markdown",
   "metadata": {},
   "source": [
    "# Construção do Pipeline "
   ]
  },
  {
   "cell_type": "code",
   "execution_count": 78,
   "metadata": {},
   "outputs": [
    {
     "name": "stdout",
     "output_type": "stream",
     "text": [
      "Store  1Dept  1 mape 19.44 %\n",
      "Dept  2 mape 5.37 %\n",
      "Dept  3 mape 47.38 %\n",
      "Store  2Dept  1 mape 17.84 %\n",
      "Dept  2 mape 6.33 %\n",
      "Dept  3 mape 58.06 %\n",
      "Store  3Dept  1 mape 18.70 %\n",
      "Dept  2 mape 9.06 %\n",
      "Dept  3 mape 30.58 %\n"
     ]
    }
   ],
   "source": [
    "def mape(y_true, y_pred):\n",
    "    return (np.abs(y_pred - y_true)/y_true).mean() * 100\n",
    "    \n",
    "df_model_result=pd.DataFrame()\n",
    "result_list = []\n",
    "for store in store_list:\n",
    "    print('Store ', store, end='')\n",
    "    idx_store = df.Store == store\n",
    "    for dept in dept_list:\n",
    "        print('Dept ', dept, end='')\n",
    "        idx_dept = df_train.Dept == dept\n",
    "        # Get data\n",
    "        Xtrn = df_train.loc[(df_train.Store == store) & (df_train.Dept == dept), [time_col, target_col]].copy()\n",
    "        Xtst = df_test.loc[(df_test.Store == store) & (df_test.Dept == dept), [time_col, target_col]].copy()    \n",
    "        Xrefit = df.loc[(df.Store == store) & (df.Dept == dept), [time_col, target_col]].copy()\n",
    "\n",
    "        Xtrn.columns = ['ds', 'y']\n",
    "        if Xtrn.shape[0] < min_samples:\n",
    "            print('=> less than', min_samples, '. Ignored.(', Xtrn.shape[0],')')\n",
    "            continue\n",
    "\n",
    "        # Train Model\n",
    "        model = fbprophet.Prophet().fit(Xtrn)\n",
    "        # Evaluate Model\n",
    "        n_periods = Xtst.shape[0]\n",
    "        forecast_data = model.make_future_dataframe(\n",
    "            periods=n_periods,\n",
    "            include_history=True\n",
    "            )\n",
    "        df_forecast = model.predict(forecast_data).set_index('ds')\n",
    "        forecast     = df_forecast.yhat.rename('forecast').to_frame()\n",
    "        \n",
    "        # Score model\n",
    "        score = mape(Xtst.set_index(time_col).values, forecast[-n_periods:].values)\n",
    "        print(' mape %.2f %%'%score)\n",
    "\n",
    "        # Refit model\n",
    "        Xrefit.columns = ['ds','y']\n",
    "        model = fbprophet.Prophet().fit(Xrefit)\n",
    "        # Forecast Model\n",
    "        n_periods = Xtst.shape[0]\n",
    "        forecast_data = model.make_future_dataframe(\n",
    "            periods=n_periods,\n",
    "            include_history=True\n",
    "            )\n",
    "        df_forecast = model.predict(forecast_data).set_index('ds')\n",
    "        forecast     = df_forecast.yhat.rename('forecast').to_frame()\n",
    "        forecast_low  =  df_forecast.yhat_lower.rename('forecast_lo').to_frame()\n",
    "        forecast_up   =  df_forecast.yhat_upper.rename('forecast_up').to_frame()\n",
    "        \n",
    "        forecast_result = pd.concat((forecast, forecast_low, forecast_up), axis=1)\n",
    "        result = pd.concat((Xrefit.set_index('ds'), forecast_result), axis=1)\n",
    "        result.rename({'y':target_col}, axis=1, inplace=True)\n",
    "        result.rename_axis(time_col, inplace=True)\n",
    "        result['Store'] = store\n",
    "        result['Dept'] = dept\n",
    "        result_list.append(result)\n",
    "        \n",
    "        \n",
    "df_results = pd.concat(result_list)"
   ]
  },
  {
   "cell_type": "markdown",
   "metadata": {},
   "source": [
    "# Exportar Resultados "
   ]
  },
  {
   "cell_type": "code",
   "execution_count": 99,
   "metadata": {},
   "outputs": [
    {
     "data": {
      "text/html": [
       "<div>\n",
       "<style scoped>\n",
       "    .dataframe tbody tr th:only-of-type {\n",
       "        vertical-align: middle;\n",
       "    }\n",
       "\n",
       "    .dataframe tbody tr th {\n",
       "        vertical-align: top;\n",
       "    }\n",
       "\n",
       "    .dataframe thead th {\n",
       "        text-align: right;\n",
       "    }\n",
       "</style>\n",
       "<table border=\"1\" class=\"dataframe\">\n",
       "  <thead>\n",
       "    <tr style=\"text-align: right;\">\n",
       "      <th></th>\n",
       "      <th>Weekly_Sales</th>\n",
       "      <th>forecast</th>\n",
       "      <th>forecast_lo</th>\n",
       "      <th>forecast_up</th>\n",
       "      <th>Store</th>\n",
       "      <th>Dept</th>\n",
       "    </tr>\n",
       "    <tr>\n",
       "      <th>Date</th>\n",
       "      <th></th>\n",
       "      <th></th>\n",
       "      <th></th>\n",
       "      <th></th>\n",
       "      <th></th>\n",
       "      <th></th>\n",
       "    </tr>\n",
       "  </thead>\n",
       "  <tbody>\n",
       "    <tr>\n",
       "      <th>2010-02-05</th>\n",
       "      <td>24924.50</td>\n",
       "      <td>31703.400126</td>\n",
       "      <td>24137.001228</td>\n",
       "      <td>39254.998032</td>\n",
       "      <td>1</td>\n",
       "      <td>1</td>\n",
       "    </tr>\n",
       "    <tr>\n",
       "      <th>2010-02-12</th>\n",
       "      <td>46039.49</td>\n",
       "      <td>37709.465678</td>\n",
       "      <td>30122.519673</td>\n",
       "      <td>45275.961488</td>\n",
       "      <td>1</td>\n",
       "      <td>1</td>\n",
       "    </tr>\n",
       "    <tr>\n",
       "      <th>2010-02-19</th>\n",
       "      <td>41595.55</td>\n",
       "      <td>36412.196439</td>\n",
       "      <td>29019.039751</td>\n",
       "      <td>43181.751960</td>\n",
       "      <td>1</td>\n",
       "      <td>1</td>\n",
       "    </tr>\n",
       "    <tr>\n",
       "      <th>2010-02-26</th>\n",
       "      <td>19403.54</td>\n",
       "      <td>28518.666365</td>\n",
       "      <td>20966.761747</td>\n",
       "      <td>36148.293556</td>\n",
       "      <td>1</td>\n",
       "      <td>1</td>\n",
       "    </tr>\n",
       "    <tr>\n",
       "      <th>2010-03-05</th>\n",
       "      <td>21827.90</td>\n",
       "      <td>19514.149121</td>\n",
       "      <td>12147.538901</td>\n",
       "      <td>26441.680775</td>\n",
       "      <td>1</td>\n",
       "      <td>1</td>\n",
       "    </tr>\n",
       "  </tbody>\n",
       "</table>\n",
       "</div>"
      ],
      "text/plain": [
       "            Weekly_Sales      forecast   forecast_lo   forecast_up Store Dept\n",
       "Date                                                                         \n",
       "2010-02-05      24924.50  31703.400126  24137.001228  39254.998032     1    1\n",
       "2010-02-12      46039.49  37709.465678  30122.519673  45275.961488     1    1\n",
       "2010-02-19      41595.55  36412.196439  29019.039751  43181.751960     1    1\n",
       "2010-02-26      19403.54  28518.666365  20966.761747  36148.293556     1    1\n",
       "2010-03-05      21827.90  19514.149121  12147.538901  26441.680775     1    1"
      ]
     },
     "execution_count": 99,
     "metadata": {},
     "output_type": "execute_result"
    }
   ],
   "source": [
    "df_results.head()"
   ]
  },
  {
   "cell_type": "code",
   "execution_count": 106,
   "metadata": {},
   "outputs": [],
   "source": [
    "final_results = (df_results.drop(target_col, axis=1)\n",
    "                           .reset_index()\n",
    "                           .merge(df, how='left', on=grain_col + [time_col])\n",
    ")\n",
    "final_results.to_parquet(save_file)\n",
    "final_results.to_excel(save_file.replace(\".parquet\",\".xlsx\"))"
   ]
  },
  {
   "cell_type": "markdown",
   "metadata": {},
   "source": [
    "# Plot Forecast "
   ]
  },
  {
   "cell_type": "code",
   "execution_count": 91,
   "metadata": {},
   "outputs": [
    {
     "data": {
      "text/plain": [
       "<matplotlib.legend.Legend at 0x148af2072c8>"
      ]
     },
     "execution_count": 91,
     "metadata": {},
     "output_type": "execute_result"
    },
    {
     "data": {
      "image/png": "[encoded data removed]",
      "text/plain": [
       "<Figure size 864x288 with 1 Axes>"
      ]
     },
     "metadata": {
      "needs_background": "light"
     },
     "output_type": "display_data"
    }
   ],
   "source": [
    "plt.figure(figsize=(12,4))\n",
    "result.Weekly_Sales.plot(label='Real')\n",
    "result.forecast.plot(label='Previsto')\n",
    "plt.ylabel('Volume de Vendas')\n",
    "plt.legend()"
   ]
  },
  {
   "cell_type": "code",
   "execution_count": 95,
   "metadata": {},
   "outputs": [
    {
     "data": {
      "text/plain": [
       "[{'label': '1', 'value': '1'},\n",
       " {'label': '2', 'value': '2'},\n",
       " {'label': '3', 'value': '3'}]"
      ]
     },
     "execution_count": 95,
     "metadata": {},
     "output_type": "execute_result"
    }
   ],
   "source": []
  }
 ],
 "metadata": {
  "kernelspec": {
   "display_name": "Python 3",
   "language": "python",
   "name": "python3"
  },
  "language_info": {
   "codemirror_mode": {
    "name": "ipython",
    "version": 3
   },
   "file_extension": ".py",
   "mimetype": "text/x-python",
   "name": "python",
   "nbconvert_exporter": "python",
   "pygments_lexer": "ipython3",
   "version": "3.7.4"
  }
 },
 "nbformat": 4,
 "nbformat_minor": 4
}
