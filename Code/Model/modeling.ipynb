{
 "cells": [
  {
   "cell_type": "code",
   "execution_count": 1,
   "metadata": {},
   "outputs": [],
   "source": [
    "\n",
    "import pandas as pd\n",
    "import seaborn as sns\n",
    "import numpy as np\n",
    "import matplotlib.pyplot as plt\n",
    "import joblib\n",
    "\n",
    "\n",
    "import pickle\n",
    "import scipy.optimize as optim\n",
    "import logging\n",
    "\n",
    "logging.getLogger().setLevel(logging.ERROR)\n",
    "    \n",
    "\n",
    "%matplotlib inline\n",
    "\n",
    "plt.style.use('bmh')\n",
    "\n",
    "WORKDIR = 'C:/Users/Paulo/Desktop/infnet-projeto-final/mit_data_science/'\n",
    "\n",
    "input_table = WORKDIR + '/Data/Processed/nyctaxi_data_analysis_yellow.parquet'\n",
    "model_file = WORKDIR + '/Data/Modeling/taxi_model.jbl'\n",
    "save_data = WORKDIR + '/Data/Modeling/dev_results.jbl'\n",
    "\n",
    "pd.plotting.register_matplotlib_converters()\n",
    "\n",
    "target_variable = 'fare_amount'\n",
    "classifier_variables = ['dropoff_latitude', 'dropoff_longitude',\n",
    "       'passenger_count', 'pickup_latitude', 'pickup_longitude', 'hour_of_day',\n",
    "       'day_of_week', 'day_of_year', 'year', 'eucl_distance', 'manh_distance']"
   ]
  },
  {
   "cell_type": "markdown",
   "metadata": {},
   "source": [
    "# Carga dos Dados "
   ]
  },
  {
   "cell_type": "code",
   "execution_count": 2,
   "metadata": {},
   "outputs": [
    {
     "name": "stdout",
     "output_type": "stream",
     "text": [
      "shape: (3883, 12)\n",
      "columns: Index(['dropoff_latitude', 'dropoff_longitude', 'fare_amount',\n",
      "       'passenger_count', 'pickup_latitude', 'pickup_longitude', 'hour_of_day',\n",
      "       'day_of_week', 'day_of_year', 'year', 'eucl_distance', 'manh_distance'],\n",
      "      dtype='object')\n"
     ]
    }
   ],
   "source": [
    "train = pd.read_parquet(input_table)\n",
    "\n",
    "print('shape:', train.shape)\n",
    "print('columns:', train.columns)"
   ]
  },
  {
   "cell_type": "code",
   "execution_count": 38,
   "metadata": {},
   "outputs": [
    {
     "data": {
      "text/html": [
       "<div>\n",
       "<style scoped>\n",
       "    .dataframe tbody tr th:only-of-type {\n",
       "        vertical-align: middle;\n",
       "    }\n",
       "\n",
       "    .dataframe tbody tr th {\n",
       "        vertical-align: top;\n",
       "    }\n",
       "\n",
       "    .dataframe thead th {\n",
       "        text-align: right;\n",
       "    }\n",
       "</style>\n",
       "<table border=\"1\" class=\"dataframe\">\n",
       "  <thead>\n",
       "    <tr style=\"text-align: right;\">\n",
       "      <th></th>\n",
       "      <th>dropoff_latitude</th>\n",
       "      <th>dropoff_longitude</th>\n",
       "      <th>fare_amount</th>\n",
       "      <th>passenger_count</th>\n",
       "      <th>pickup_latitude</th>\n",
       "      <th>pickup_longitude</th>\n",
       "      <th>hour_of_day</th>\n",
       "      <th>day_of_week</th>\n",
       "      <th>day_of_year</th>\n",
       "      <th>year</th>\n",
       "      <th>eucl_distance</th>\n",
       "      <th>manh_distance</th>\n",
       "      <th>estimated_fare</th>\n",
       "      <th>idTaxi</th>\n",
       "    </tr>\n",
       "    <tr>\n",
       "      <th>index</th>\n",
       "      <th></th>\n",
       "      <th></th>\n",
       "      <th></th>\n",
       "      <th></th>\n",
       "      <th></th>\n",
       "      <th></th>\n",
       "      <th></th>\n",
       "      <th></th>\n",
       "      <th></th>\n",
       "      <th></th>\n",
       "      <th></th>\n",
       "      <th></th>\n",
       "      <th></th>\n",
       "      <th></th>\n",
       "    </tr>\n",
       "  </thead>\n",
       "  <tbody>\n",
       "    <tr>\n",
       "      <th>4000</th>\n",
       "      <td>40.772537</td>\n",
       "      <td>-73.952852</td>\n",
       "      <td>6.0</td>\n",
       "      <td>1</td>\n",
       "      <td>40.781080</td>\n",
       "      <td>-73.960960</td>\n",
       "      <td>23</td>\n",
       "      <td>1</td>\n",
       "      <td>182</td>\n",
       "      <td>2014</td>\n",
       "      <td>1.170192</td>\n",
       "      <td>1.852088</td>\n",
       "      <td>5.529762</td>\n",
       "      <td>4000</td>\n",
       "    </tr>\n",
       "    <tr>\n",
       "      <th>4001</th>\n",
       "      <td>40.766477</td>\n",
       "      <td>-73.978090</td>\n",
       "      <td>9.0</td>\n",
       "      <td>6</td>\n",
       "      <td>40.760512</td>\n",
       "      <td>-73.971795</td>\n",
       "      <td>14</td>\n",
       "      <td>1</td>\n",
       "      <td>28</td>\n",
       "      <td>2014</td>\n",
       "      <td>0.849392</td>\n",
       "      <td>1.363678</td>\n",
       "      <td>6.055681</td>\n",
       "      <td>4001</td>\n",
       "    </tr>\n",
       "    <tr>\n",
       "      <th>4002</th>\n",
       "      <td>40.787835</td>\n",
       "      <td>-73.955601</td>\n",
       "      <td>4.5</td>\n",
       "      <td>1</td>\n",
       "      <td>40.793633</td>\n",
       "      <td>-73.966991</td>\n",
       "      <td>9</td>\n",
       "      <td>6</td>\n",
       "      <td>208</td>\n",
       "      <td>2014</td>\n",
       "      <td>1.155824</td>\n",
       "      <td>1.911818</td>\n",
       "      <td>5.484866</td>\n",
       "      <td>4002</td>\n",
       "    </tr>\n",
       "    <tr>\n",
       "      <th>4003</th>\n",
       "      <td>40.759287</td>\n",
       "      <td>-73.974354</td>\n",
       "      <td>3.0</td>\n",
       "      <td>1</td>\n",
       "      <td>40.755553</td>\n",
       "      <td>-73.977370</td>\n",
       "      <td>8</td>\n",
       "      <td>1</td>\n",
       "      <td>189</td>\n",
       "      <td>2014</td>\n",
       "      <td>0.486902</td>\n",
       "      <td>0.750801</td>\n",
       "      <td>5.777875</td>\n",
       "      <td>4003</td>\n",
       "    </tr>\n",
       "    <tr>\n",
       "      <th>4004</th>\n",
       "      <td>40.770861</td>\n",
       "      <td>-73.865488</td>\n",
       "      <td>31.5</td>\n",
       "      <td>1</td>\n",
       "      <td>40.755373</td>\n",
       "      <td>-73.971965</td>\n",
       "      <td>14</td>\n",
       "      <td>4</td>\n",
       "      <td>339</td>\n",
       "      <td>2014</td>\n",
       "      <td>9.134312</td>\n",
       "      <td>13.566147</td>\n",
       "      <td>31.200061</td>\n",
       "      <td>4004</td>\n",
       "    </tr>\n",
       "    <tr>\n",
       "      <th>...</th>\n",
       "      <td>...</td>\n",
       "      <td>...</td>\n",
       "      <td>...</td>\n",
       "      <td>...</td>\n",
       "      <td>...</td>\n",
       "      <td>...</td>\n",
       "      <td>...</td>\n",
       "      <td>...</td>\n",
       "      <td>...</td>\n",
       "      <td>...</td>\n",
       "      <td>...</td>\n",
       "      <td>...</td>\n",
       "      <td>...</td>\n",
       "      <td>...</td>\n",
       "    </tr>\n",
       "    <tr>\n",
       "      <th>7995</th>\n",
       "      <td>40.745200</td>\n",
       "      <td>-73.994063</td>\n",
       "      <td>5.3</td>\n",
       "      <td>1</td>\n",
       "      <td>40.754433</td>\n",
       "      <td>-73.980287</td>\n",
       "      <td>13</td>\n",
       "      <td>0</td>\n",
       "      <td>213</td>\n",
       "      <td>2011</td>\n",
       "      <td>1.549905</td>\n",
       "      <td>2.559287</td>\n",
       "      <td>6.435945</td>\n",
       "      <td>7995</td>\n",
       "    </tr>\n",
       "    <tr>\n",
       "      <th>7996</th>\n",
       "      <td>40.726895</td>\n",
       "      <td>-74.003175</td>\n",
       "      <td>6.9</td>\n",
       "      <td>1</td>\n",
       "      <td>40.729962</td>\n",
       "      <td>-74.003908</td>\n",
       "      <td>18</td>\n",
       "      <td>4</td>\n",
       "      <td>126</td>\n",
       "      <td>2011</td>\n",
       "      <td>0.346692</td>\n",
       "      <td>0.422673</td>\n",
       "      <td>5.883169</td>\n",
       "      <td>7996</td>\n",
       "    </tr>\n",
       "    <tr>\n",
       "      <th>7997</th>\n",
       "      <td>40.748200</td>\n",
       "      <td>-73.984800</td>\n",
       "      <td>4.9</td>\n",
       "      <td>3</td>\n",
       "      <td>40.757900</td>\n",
       "      <td>-73.985700</td>\n",
       "      <td>15</td>\n",
       "      <td>5</td>\n",
       "      <td>281</td>\n",
       "      <td>2011</td>\n",
       "      <td>1.081591</td>\n",
       "      <td>1.179036</td>\n",
       "      <td>5.872100</td>\n",
       "      <td>7997</td>\n",
       "    </tr>\n",
       "    <tr>\n",
       "      <th>7998</th>\n",
       "      <td>40.772127</td>\n",
       "      <td>-73.960988</td>\n",
       "      <td>6.9</td>\n",
       "      <td>1</td>\n",
       "      <td>40.757542</td>\n",
       "      <td>-73.961886</td>\n",
       "      <td>12</td>\n",
       "      <td>2</td>\n",
       "      <td>292</td>\n",
       "      <td>2011</td>\n",
       "      <td>1.624050</td>\n",
       "      <td>1.722172</td>\n",
       "      <td>6.999086</td>\n",
       "      <td>7998</td>\n",
       "    </tr>\n",
       "    <tr>\n",
       "      <th>7999</th>\n",
       "      <td>40.725305</td>\n",
       "      <td>-73.994201</td>\n",
       "      <td>6.5</td>\n",
       "      <td>2</td>\n",
       "      <td>40.742152</td>\n",
       "      <td>-73.989232</td>\n",
       "      <td>17</td>\n",
       "      <td>5</td>\n",
       "      <td>183</td>\n",
       "      <td>2011</td>\n",
       "      <td>1.920120</td>\n",
       "      <td>2.426590</td>\n",
       "      <td>7.049113</td>\n",
       "      <td>7999</td>\n",
       "    </tr>\n",
       "  </tbody>\n",
       "</table>\n",
       "<p>3883 rows × 14 columns</p>\n",
       "</div>"
      ],
      "text/plain": [
       "       dropoff_latitude  dropoff_longitude  fare_amount  passenger_count  \\\n",
       "index                                                                      \n",
       "4000          40.772537         -73.952852          6.0                1   \n",
       "4001          40.766477         -73.978090          9.0                6   \n",
       "4002          40.787835         -73.955601          4.5                1   \n",
       "4003          40.759287         -73.974354          3.0                1   \n",
       "4004          40.770861         -73.865488         31.5                1   \n",
       "...                 ...                ...          ...              ...   \n",
       "7995          40.745200         -73.994063          5.3                1   \n",
       "7996          40.726895         -74.003175          6.9                1   \n",
       "7997          40.748200         -73.984800          4.9                3   \n",
       "7998          40.772127         -73.960988          6.9                1   \n",
       "7999          40.725305         -73.994201          6.5                2   \n",
       "\n",
       "       pickup_latitude  pickup_longitude  hour_of_day  day_of_week  \\\n",
       "index                                                                \n",
       "4000         40.781080        -73.960960           23            1   \n",
       "4001         40.760512        -73.971795           14            1   \n",
       "4002         40.793633        -73.966991            9            6   \n",
       "4003         40.755553        -73.977370            8            1   \n",
       "4004         40.755373        -73.971965           14            4   \n",
       "...                ...               ...          ...          ...   \n",
       "7995         40.754433        -73.980287           13            0   \n",
       "7996         40.729962        -74.003908           18            4   \n",
       "7997         40.757900        -73.985700           15            5   \n",
       "7998         40.757542        -73.961886           12            2   \n",
       "7999         40.742152        -73.989232           17            5   \n",
       "\n",
       "       day_of_year  year  eucl_distance  manh_distance  estimated_fare  idTaxi  \n",
       "index                                                                           \n",
       "4000           182  2014       1.170192       1.852088        5.529762    4000  \n",
       "4001            28  2014       0.849392       1.363678        6.055681    4001  \n",
       "4002           208  2014       1.155824       1.911818        5.484866    4002  \n",
       "4003           189  2014       0.486902       0.750801        5.777875    4003  \n",
       "4004           339  2014       9.134312      13.566147       31.200061    4004  \n",
       "...            ...   ...            ...            ...             ...     ...  \n",
       "7995           213  2011       1.549905       2.559287        6.435945    7995  \n",
       "7996           126  2011       0.346692       0.422673        5.883169    7996  \n",
       "7997           281  2011       1.081591       1.179036        5.872100    7997  \n",
       "7998           292  2011       1.624050       1.722172        6.999086    7998  \n",
       "7999           183  2011       1.920120       2.426590        7.049113    7999  \n",
       "\n",
       "[3883 rows x 14 columns]"
      ]
     },
     "execution_count": 38,
     "metadata": {},
     "output_type": "execute_result"
    }
   ],
   "source": [
    "train"
   ]
  },
  {
   "cell_type": "code",
   "execution_count": 4,
   "metadata": {},
   "outputs": [],
   "source": [
    "X = train.drop('fare_amount', axis = 1)"
   ]
  },
  {
   "cell_type": "code",
   "execution_count": 5,
   "metadata": {},
   "outputs": [
    {
     "data": {
      "text/plain": [
       "(3883, 11)"
      ]
     },
     "execution_count": 5,
     "metadata": {},
     "output_type": "execute_result"
    }
   ],
   "source": [
    "X.shape"
   ]
  },
  {
   "cell_type": "code",
   "execution_count": 6,
   "metadata": {},
   "outputs": [],
   "source": [
    "y = train['fare_amount']"
   ]
  },
  {
   "cell_type": "code",
   "execution_count": 7,
   "metadata": {},
   "outputs": [
    {
     "data": {
      "text/plain": [
       "(3883,)"
      ]
     },
     "execution_count": 7,
     "metadata": {},
     "output_type": "execute_result"
    }
   ],
   "source": [
    "y.shape"
   ]
  },
  {
   "cell_type": "markdown",
   "metadata": {},
   "source": [
    "# Treino / Teste "
   ]
  },
  {
   "cell_type": "markdown",
   "metadata": {},
   "source": [
    "from sklearn.preprocessing import MinMaxScaler\n",
    "scaler = MinMaxScaler()\n",
    "scaler.fit(X_train)\n",
    "X_train_scaled = scaler.transform(X_train)"
   ]
  },
  {
   "cell_type": "markdown",
   "metadata": {},
   "source": [
    "X_train_scaled[0]"
   ]
  },
  {
   "cell_type": "code",
   "execution_count": 8,
   "metadata": {},
   "outputs": [],
   "source": [
    "from sklearn.model_selection import cross_val_score\n",
    "cv = 3\n",
    "scoring = 'neg_mean_squared_error'\n",
    "import multiprocessing\n",
    "n_jobs = multiprocessing.cpu_count() - 1"
   ]
  },
  {
   "cell_type": "code",
   "execution_count": 9,
   "metadata": {},
   "outputs": [
    {
     "data": {
      "text/plain": [
       "7"
      ]
     },
     "execution_count": 9,
     "metadata": {},
     "output_type": "execute_result"
    }
   ],
   "source": [
    "n_jobs"
   ]
  },
  {
   "cell_type": "markdown",
   "metadata": {},
   "source": [
    "### Linear Regression"
   ]
  },
  {
   "cell_type": "code",
   "execution_count": 10,
   "metadata": {},
   "outputs": [
    {
     "data": {
      "text/plain": [
       "3.7948486550972933"
      ]
     },
     "execution_count": 10,
     "metadata": {},
     "output_type": "execute_result"
    }
   ],
   "source": [
    "from sklearn.linear_model import LinearRegression\n",
    "model = LinearRegression()\n",
    "scores = cross_val_score(model, X, y, cv = cv,\n",
    "                         scoring = scoring, n_jobs = n_jobs)\n",
    "np.sqrt(-scores.mean())"
   ]
  },
  {
   "cell_type": "markdown",
   "metadata": {},
   "source": [
    "### Ridge Regression"
   ]
  },
  {
   "cell_type": "code",
   "execution_count": 11,
   "metadata": {},
   "outputs": [
    {
     "data": {
      "text/plain": [
       "3.7827162024674226"
      ]
     },
     "execution_count": 11,
     "metadata": {},
     "output_type": "execute_result"
    }
   ],
   "source": [
    "from sklearn.linear_model import Ridge\n",
    "model = Ridge()\n",
    "scores = cross_val_score(model, X, y, cv = cv,\n",
    "                         scoring = scoring, n_jobs = n_jobs)\n",
    "np.sqrt(-scores.mean())"
   ]
  },
  {
   "cell_type": "markdown",
   "metadata": {},
   "source": [
    "### Lasso Regression"
   ]
  },
  {
   "cell_type": "code",
   "execution_count": 12,
   "metadata": {},
   "outputs": [
    {
     "data": {
      "text/plain": [
       "4.011937378356693"
      ]
     },
     "execution_count": 12,
     "metadata": {},
     "output_type": "execute_result"
    }
   ],
   "source": [
    "from sklearn.linear_model import Lasso\n",
    "model = Lasso()\n",
    "scores = cross_val_score(model, X, y, cv = cv,\n",
    "                         scoring = scoring, n_jobs = n_jobs)\n",
    "np.sqrt(-scores.mean())"
   ]
  },
  {
   "cell_type": "markdown",
   "metadata": {},
   "source": [
    "### Nearest Neighbors"
   ]
  },
  {
   "cell_type": "code",
   "execution_count": 13,
   "metadata": {},
   "outputs": [
    {
     "data": {
      "text/plain": [
       "4.554401224960701"
      ]
     },
     "execution_count": 13,
     "metadata": {},
     "output_type": "execute_result"
    }
   ],
   "source": [
    "from sklearn.neighbors import KNeighborsRegressor\n",
    "model = KNeighborsRegressor()\n",
    "scores = cross_val_score(model, X, y, cv = cv,\n",
    "                         scoring = scoring, n_jobs = n_jobs)\n",
    "np.sqrt(-scores.mean())"
   ]
  },
  {
   "cell_type": "markdown",
   "metadata": {},
   "source": [
    "### Decision Tree"
   ]
  },
  {
   "cell_type": "code",
   "execution_count": 14,
   "metadata": {},
   "outputs": [
    {
     "data": {
      "text/plain": [
       "5.1565162505106485"
      ]
     },
     "execution_count": 14,
     "metadata": {},
     "output_type": "execute_result"
    }
   ],
   "source": [
    "from sklearn.tree import DecisionTreeRegressor\n",
    "model = DecisionTreeRegressor()\n",
    "scores = cross_val_score(model, X, y, cv = cv,\n",
    "                         scoring = scoring, n_jobs = n_jobs)\n",
    "np.sqrt(-scores.mean())"
   ]
  },
  {
   "cell_type": "markdown",
   "metadata": {},
   "source": [
    "### Random Forest"
   ]
  },
  {
   "cell_type": "code",
   "execution_count": 15,
   "metadata": {},
   "outputs": [
    {
     "data": {
      "text/plain": [
       "3.959794565777524"
      ]
     },
     "execution_count": 15,
     "metadata": {},
     "output_type": "execute_result"
    }
   ],
   "source": [
    "from sklearn.ensemble import RandomForestRegressor\n",
    "model = RandomForestRegressor()\n",
    "scores = cross_val_score(model, X, y, cv = cv,\n",
    "                         scoring = scoring, n_jobs = n_jobs)\n",
    "np.sqrt(-scores.mean())"
   ]
  },
  {
   "cell_type": "markdown",
   "metadata": {},
   "source": [
    "### Gradient Boosting"
   ]
  },
  {
   "cell_type": "code",
   "execution_count": 16,
   "metadata": {},
   "outputs": [
    {
     "data": {
      "text/plain": [
       "3.615957854342245"
      ]
     },
     "execution_count": 16,
     "metadata": {},
     "output_type": "execute_result"
    }
   ],
   "source": [
    "from sklearn.ensemble import GradientBoostingRegressor\n",
    "model = GradientBoostingRegressor()\n",
    "scores = cross_val_score(model, X, y, cv = cv,\n",
    "                         scoring = scoring, n_jobs = n_jobs)\n",
    "np.sqrt(-scores.mean())"
   ]
  },
  {
   "cell_type": "markdown",
   "metadata": {},
   "source": [
    "## Inspecionando o melhor modelo\n",
    "\n",
    "### Dividindo a base de dados"
   ]
  },
  {
   "cell_type": "code",
   "execution_count": 17,
   "metadata": {},
   "outputs": [],
   "source": [
    "from sklearn.model_selection import train_test_split\n",
    "X_train, X_test, y_train, y_test = train_test_split(X, y,\n",
    "                                                      test_size = 0.2, random_state = 24)"
   ]
  },
  {
   "cell_type": "code",
   "execution_count": 19,
   "metadata": {},
   "outputs": [
    {
     "data": {
      "text/plain": [
       "(3106, 11)"
      ]
     },
     "execution_count": 19,
     "metadata": {},
     "output_type": "execute_result"
    }
   ],
   "source": [
    "X_train.shape"
   ]
  },
  {
   "cell_type": "code",
   "execution_count": 20,
   "metadata": {},
   "outputs": [
    {
     "data": {
      "text/plain": [
       "(3106, 11)"
      ]
     },
     "execution_count": 20,
     "metadata": {},
     "output_type": "execute_result"
    }
   ],
   "source": [
    "X_train.shape"
   ]
  },
  {
   "cell_type": "code",
   "execution_count": 21,
   "metadata": {},
   "outputs": [
    {
     "data": {
      "text/plain": [
       "(777, 11)"
      ]
     },
     "execution_count": 21,
     "metadata": {},
     "output_type": "execute_result"
    }
   ],
   "source": [
    "X_test.shape"
   ]
  },
  {
   "cell_type": "markdown",
   "metadata": {},
   "source": [
    "### Treinamento do modelo"
   ]
  },
  {
   "cell_type": "code",
   "execution_count": 22,
   "metadata": {},
   "outputs": [
    {
     "data": {
      "text/plain": [
       "GradientBoostingRegressor()"
      ]
     },
     "execution_count": 22,
     "metadata": {},
     "output_type": "execute_result"
    }
   ],
   "source": [
    "model = GradientBoostingRegressor()\n",
    "model.fit(X_train, y_train)\n"
   ]
  },
  {
   "cell_type": "markdown",
   "metadata": {},
   "source": [
    "### Inspecionando o modelo"
   ]
  },
  {
   "cell_type": "code",
   "execution_count": 23,
   "metadata": {},
   "outputs": [
    {
     "data": {
      "text/plain": [
       "array([1.28673863e-02, 1.61397241e-02, 6.20627046e-05, 3.31883207e-03,\n",
       "       7.56623477e-03, 9.34960634e-03, 2.17939446e-03, 5.98957087e-03,\n",
       "       1.53389234e-02, 8.64780730e-01, 6.24075348e-02])"
      ]
     },
     "execution_count": 23,
     "metadata": {},
     "output_type": "execute_result"
    }
   ],
   "source": [
    "features_importances = model.feature_importances_\n",
    "features_importances"
   ]
  },
  {
   "cell_type": "code",
   "execution_count": 24,
   "metadata": {},
   "outputs": [
    {
     "data": {
      "text/plain": [
       "array([ 2,  6,  3,  7,  4,  5,  0,  8,  1, 10,  9], dtype=int64)"
      ]
     },
     "execution_count": 24,
     "metadata": {},
     "output_type": "execute_result"
    }
   ],
   "source": [
    "argsort = np.argsort(features_importances)\n",
    "argsort"
   ]
  },
  {
   "cell_type": "code",
   "execution_count": 25,
   "metadata": {},
   "outputs": [
    {
     "data": {
      "text/plain": [
       "array([6.20627046e-05, 2.17939446e-03, 3.31883207e-03, 5.98957087e-03,\n",
       "       7.56623477e-03, 9.34960634e-03, 1.28673863e-02, 1.53389234e-02,\n",
       "       1.61397241e-02, 6.24075348e-02, 8.64780730e-01])"
      ]
     },
     "execution_count": 25,
     "metadata": {},
     "output_type": "execute_result"
    }
   ],
   "source": [
    "features_importances_sorted = features_importances[argsort]\n",
    "features_importances_sorted"
   ]
  },
  {
   "cell_type": "code",
   "execution_count": 26,
   "metadata": {},
   "outputs": [
    {
     "data": {
      "text/plain": [
       "Index(['dropoff_latitude', 'dropoff_longitude', 'passenger_count',\n",
       "       'pickup_latitude', 'pickup_longitude', 'hour_of_day', 'day_of_week',\n",
       "       'day_of_year', 'year', 'eucl_distance', 'manh_distance'],\n",
       "      dtype='object')"
      ]
     },
     "execution_count": 26,
     "metadata": {},
     "output_type": "execute_result"
    }
   ],
   "source": [
    "feature_names = X_train.columns\n",
    "feature_names"
   ]
  },
  {
   "cell_type": "code",
   "execution_count": 27,
   "metadata": {},
   "outputs": [
    {
     "data": {
      "text/plain": [
       "Index(['passenger_count', 'day_of_week', 'pickup_latitude', 'day_of_year',\n",
       "       'pickup_longitude', 'hour_of_day', 'dropoff_latitude', 'year',\n",
       "       'dropoff_longitude', 'manh_distance', 'eucl_distance'],\n",
       "      dtype='object')"
      ]
     },
     "execution_count": 27,
     "metadata": {},
     "output_type": "execute_result"
    }
   ],
   "source": [
    "features_sorted = feature_names[argsort]\n",
    "features_sorted"
   ]
  },
  {
   "cell_type": "code",
   "execution_count": 28,
   "metadata": {},
   "outputs": [
    {
     "data": {
      "image/png": "[encoded data removed]",
      "text/plain": [
       "<Figure size 432x288 with 1 Axes>"
      ]
     },
     "metadata": {
      "needs_background": "light"
     },
     "output_type": "display_data"
    }
   ],
   "source": [
    "plt.barh(features_sorted, features_importances_sorted);"
   ]
  },
  {
   "cell_type": "code",
   "execution_count": 29,
   "metadata": {},
   "outputs": [
    {
     "data": {
      "text/plain": [
       "6.475721739961109"
      ]
     },
     "execution_count": 29,
     "metadata": {},
     "output_type": "execute_result"
    }
   ],
   "source": [
    "mse = model.train_score_[-1]\n",
    "mse"
   ]
  },
  {
   "cell_type": "code",
   "execution_count": 30,
   "metadata": {},
   "outputs": [
    {
     "data": {
      "text/plain": [
       "2.5447439438892685"
      ]
     },
     "execution_count": 30,
     "metadata": {},
     "output_type": "execute_result"
    }
   ],
   "source": [
    "rmse = np.sqrt(mse)\n",
    "rmse"
   ]
  },
  {
   "cell_type": "markdown",
   "metadata": {},
   "source": [
    "# Previsões na base de dados de Teste"
   ]
  },
  {
   "cell_type": "code",
   "execution_count": 31,
   "metadata": {},
   "outputs": [
    {
     "data": {
      "text/plain": [
       "array([ 9.0408389 , 14.76244908,  3.72991299,  8.8047673 ,  4.97727098,\n",
       "       10.02187233,  7.43209537, 49.52011631,  5.69975738,  8.13964291,\n",
       "        6.38994385,  7.98580207, 18.19317781,  4.75676293, 12.9177587 ,\n",
       "       13.65715413, 19.12842754, 15.09957013,  7.74002952,  5.1163873 ,\n",
       "       17.25154667,  5.50557916, 47.36233885,  4.77979645, 15.62583118,\n",
       "        8.91588888, 13.70897267,  8.19685848,  6.15374311,  7.80123452,\n",
       "        8.78617117,  5.9904359 , 24.90065802,  6.42524598, 10.85486626,\n",
       "        6.7972828 ,  5.94888468,  8.86361147, 11.39337702,  5.23484535,\n",
       "       11.92419575,  9.58300281,  4.82466058, 24.99057184,  4.93180768,\n",
       "        7.13753276,  9.05558693,  5.72775795, 12.10849677,  7.52812483,\n",
       "       23.71750371,  4.73769076,  4.29316365,  7.41995871, 17.68923248,\n",
       "       10.12784922,  8.28870688, 13.7923687 , 10.67932692, 42.80667845,\n",
       "        4.77380314,  9.21027033,  8.2541667 ,  8.70412724,  4.87524061,\n",
       "        7.64928042,  9.02189444, 11.5754821 , 10.43664182, 11.88618032,\n",
       "        3.90046514, 10.35588418, 13.56147892,  6.43394072, 15.41087276,\n",
       "        6.96843962,  7.35312925,  8.60177613,  8.17197188,  5.33375642,\n",
       "        9.81350556,  5.636782  ,  6.23287369, 10.32841208, 11.92238077,\n",
       "        5.88526696,  8.77889696,  5.26733494,  6.77576211,  5.84128093,\n",
       "        8.93820594,  7.70844828,  7.73773602,  6.62300032,  9.81155964,\n",
       "        6.78524362, 21.28999793,  4.79626638, 13.2906251 ,  4.75718521,\n",
       "       14.64652182,  8.81781062, 11.42303361, 38.20376212,  7.30593715,\n",
       "        6.3832805 ,  8.6547622 , 40.39240695, 19.93073674,  5.91071508,\n",
       "        5.77787539,  5.81120923,  8.03599084, 16.69177107, 16.07005126,\n",
       "       19.33772512, 27.77455162,  4.17963861, 27.4429771 ,  5.9062194 ,\n",
       "        7.97548346, 11.09164796, 17.23145834, 18.85594599, 11.91494902,\n",
       "       29.5749906 , 12.61920485,  6.58800494,  7.39523861, 10.79408297,\n",
       "       19.14988305, 10.70052694,  5.09532542,  9.21986943,  8.56830491,\n",
       "        7.9791903 ,  4.09711965,  6.22532174,  6.44957425, 12.07651276,\n",
       "        4.6393187 , 15.85891206,  7.7873158 , 29.40536505, 10.16140353,\n",
       "        8.82337771,  4.76121101, 16.42270497, 18.46645961,  7.53421414,\n",
       "       11.01382138,  7.95532037,  6.11420803,  5.37986873, 10.09784892,\n",
       "        8.07914692,  5.57250842,  9.4953178 ,  3.60198034,  6.5827687 ,\n",
       "        8.08629287,  8.94204149,  7.42859434, 17.18515727,  7.87609176,\n",
       "        7.1713894 ,  8.49169797,  7.35322236,  9.52757218, 10.66295008,\n",
       "       36.04814742, 10.98555173,  5.9062194 ,  8.02361726,  6.0069404 ,\n",
       "       11.39006769, 14.17478372, 29.8623089 ,  7.73204692,  8.19595394,\n",
       "        7.26282981,  6.87590133,  7.94402378,  7.50792968, 17.87262387,\n",
       "       13.81132165,  8.80414681,  5.24462115,  5.03125146,  9.18812796,\n",
       "        6.54999133, 14.80301254,  5.22192015,  7.39728756, 11.10982219,\n",
       "        8.80385573, 10.99594176, 13.05611332, 24.31495483, 12.06533614,\n",
       "        7.31618202, 28.95537162, 17.05953131,  5.89822939, 13.68603931,\n",
       "        5.76271413,  5.81792122, 15.9353248 ,  4.82946704, 13.56076048,\n",
       "       15.45974303, 12.03752791,  8.39480286, 15.04906182,  5.8998557 ,\n",
       "        6.12372696,  9.85628416, 17.68173542, 11.66949691, 10.39297987,\n",
       "       17.34857484, 14.38906324, 15.58900127,  6.58713575, 24.02478616,\n",
       "       13.36677384, 28.15902917,  9.29677754,  5.0027404 , 16.312022  ,\n",
       "        9.55078741,  5.72425045,  8.0299716 ,  8.78861623, 14.67652297,\n",
       "        7.64564894,  4.69705921,  6.731467  , 11.87735638,  8.36218362,\n",
       "        6.60572191, 22.34384222,  4.17609568, 14.24504168,  8.32609297,\n",
       "       14.29157051,  6.66377303,  8.86088714, 14.31447251,  8.67388871,\n",
       "        8.87263362, 26.05611012,  4.84882372, 20.842594  ,  4.73694536,\n",
       "        6.28190248,  9.4434517 , 17.77917874, 44.51366082, 10.11264213,\n",
       "        6.64178973,  8.7384855 ,  5.89337767, 15.30717985, 10.79855507,\n",
       "       10.50782283,  7.46580342, 22.8989225 , 10.71936573, 10.78976656,\n",
       "        9.24896928, 21.60862222,  7.19590137,  9.9437733 , 14.72073445,\n",
       "        6.45407762,  5.82799891, 12.21186062, 11.68584757,  8.19968324,\n",
       "        7.60973982, 14.1864922 ,  6.89006442,  8.91981358, 51.47213398,\n",
       "        7.17085197,  9.98156527, 45.74120472, 12.15645495, 14.00024677,\n",
       "       10.62677779, 10.43805629,  7.03683431, 15.78389207,  9.81973985,\n",
       "        4.91194121,  5.76549584, 10.55426697,  8.33519008,  4.34633309,\n",
       "        5.42538093,  7.11507273,  7.33732913,  5.66090171, 16.42484322,\n",
       "        9.39308659, 12.51317426,  7.59924515, 51.52078249,  9.76763249,\n",
       "        8.85383426,  5.48403438, 19.02255692,  8.44860995,  6.63570755,\n",
       "       24.2561747 ,  6.7197132 ,  4.53792214,  6.58800494,  4.89029359,\n",
       "        6.95963177, 16.81706998,  7.94433846,  6.22477978,  5.21444617,\n",
       "       10.60358608,  7.74054739, 10.13209034,  6.93568492,  8.24001552,\n",
       "        9.6285508 ,  7.30185234,  8.82524531, 27.38916109,  6.36049328,\n",
       "        5.83493203, 15.17581399,  8.74793822, 27.44034825,  7.79002968,\n",
       "       19.99318173, 10.75350152,  7.13382562,  4.93392926, 24.59031176,\n",
       "       26.28904326, 22.24293773,  7.92951304,  7.27455007, 19.79737778,\n",
       "       10.34718481, 10.75408769,  5.48712348,  6.26261057,  8.7919086 ,\n",
       "       11.4277088 , 10.84798956, 10.18154807, 21.36047811,  7.27162709,\n",
       "        5.11221484,  8.36755848,  9.44521623, 15.97812231, 45.21393429,\n",
       "       10.15912455, 30.18241457, 19.28847428, 13.65591408, 11.40383111,\n",
       "        5.41503984, 26.59908438, 13.15426311,  3.82738952, 10.17059882,\n",
       "        4.98655704, 13.38123351, 10.70029917,  4.77653355, 17.65992194,\n",
       "        8.19555946,  9.79309563,  5.08532312, 25.83943498,  8.52693809,\n",
       "        6.59498539, 13.82862801,  8.69909201, 12.25150354, 31.81713317,\n",
       "        5.52316631,  9.87869212, 15.16089112,  4.70562428,  5.62984337,\n",
       "       21.39109566,  6.00016729, 17.56897834, 10.75529025, 11.87034703,\n",
       "        8.82024058, 17.04852418,  8.00244399, 24.07392617, 12.80266484,\n",
       "        9.89510711,  6.26982213, 16.14727147, 21.74427758, 10.30481794,\n",
       "        6.20270379, 11.03133901, 17.12269209,  4.98785438,  6.99885082,\n",
       "        7.44674354,  6.42686976,  7.42497926,  4.33730617,  7.56590058,\n",
       "       10.84706035,  7.49094386, 10.44748616, 10.82960196, 19.08625011,\n",
       "       11.36597234, 16.037898  ,  6.31011858,  8.69640725,  9.96637637,\n",
       "       10.66014941,  5.5479656 ,  5.87145432, 15.96474488, 11.29745189,\n",
       "        8.41396403,  5.27538837,  8.86208972,  5.27067136,  5.2970084 ,\n",
       "        6.46408899,  6.48981019,  5.89442902,  6.40824027,  8.90031986,\n",
       "        9.17524174, 15.84713979, 17.86392199,  8.70358495, 10.85332843,\n",
       "       26.05979289, 31.0048105 ,  6.58832315,  7.15944855, 19.70185745,\n",
       "       16.53631875,  9.44195583, 10.61685941,  7.49884149, 16.67501167,\n",
       "       14.67336485, 13.46009761,  5.91761132, 17.09927349,  8.31215472,\n",
       "        8.39874353, 13.97516285,  6.64456506,  7.2573801 , 11.32170893,\n",
       "        7.72131446,  6.97510289,  8.5914853 ,  6.1135684 ,  8.54480791,\n",
       "        6.98318511, 12.99915635,  7.40262831,  6.25120158,  6.39659302,\n",
       "       43.14647482, 15.91716734, 30.42444767,  9.09278464, 12.71717406,\n",
       "       14.90768077, 15.84100927, 16.7077387 , 51.40755912,  5.88161233,\n",
       "       11.83594081,  5.87807039,  7.46768772, 11.4772701 ,  5.42817608,\n",
       "        8.53154982,  8.82837968, 20.51242651,  4.67331804,  9.83272876,\n",
       "       20.23416583,  9.16739223,  5.18607906,  7.25599013, 10.89172354,\n",
       "       16.64862526,  5.6991316 ,  7.08269973, 13.87644753, 14.95566988,\n",
       "        6.98546205,  5.92968246, 10.1910597 ,  8.05250143,  9.54969259,\n",
       "       11.83062566,  6.35565083,  5.86974288, 10.09625543, 10.07298045,\n",
       "       10.2834746 ,  6.72641007,  8.52427386, 42.5699633 , 14.49555503,\n",
       "        4.86486643,  8.74603501,  5.57979407,  5.68842409, 12.11272352,\n",
       "        9.81912851,  8.18558634,  7.09718039, 11.13362641,  7.72412517,\n",
       "       10.04170436,  4.43685566,  9.49102181, 23.35525762, 37.63160698,\n",
       "        5.162136  ,  8.95436138,  4.25549724,  8.77987899, 11.97530463,\n",
       "        5.10554162,  9.16561171,  9.94348394, 12.08260992,  4.91919389,\n",
       "        8.86094052,  6.10572091,  5.15169133,  7.259048  , 17.87950884,\n",
       "        6.56980187, 11.60519016,  5.98634014,  8.43083898, 26.80322442,\n",
       "       46.02609597,  7.01845569, 18.37381283, 10.09368154,  6.35874814,\n",
       "       11.17609385,  5.12180945, 16.46933362, 13.59166697,  4.61532861,\n",
       "        9.94380793, 16.8106318 , 17.87664126,  8.46739997, 12.43953332,\n",
       "       11.15487439,  8.11555394,  7.52316746, 12.4761956 , 11.73506171,\n",
       "       27.51145767, 17.15051648,  6.98478572,  6.0428389 ,  9.07081312,\n",
       "        7.16356745,  8.1984538 ,  6.60682097,  9.33685685,  7.15872309,\n",
       "       12.81835548, 10.51766817,  6.5394686 , 13.55077613, 11.52241367,\n",
       "        5.66775419, 19.48921997, 17.09115262,  8.81399796, 12.26766667,\n",
       "        6.0726841 , 12.24215795, 16.17521749,  7.24809231,  3.96262337,\n",
       "        6.52557642,  5.53792557,  8.4878205 , 14.22794952, 27.82475628,\n",
       "        7.02031629,  8.34267706,  9.25822596,  9.76235695,  8.5364872 ,\n",
       "        9.91247841,  9.03179148,  7.49873695,  7.70066804,  6.45156037,\n",
       "        9.52895265,  5.71590188,  3.63443925,  6.95989956, 10.3292728 ,\n",
       "        8.15268913,  5.28927903, 17.05486301, 15.32703917,  8.89117017,\n",
       "        9.47389719, 40.84355218, 16.87773559, 25.72107514,  9.72524197,\n",
       "        9.16724877,  5.82676598,  7.03638868,  4.64666957,  9.34628012,\n",
       "        8.16809051,  5.8781653 , 10.33527452,  5.47574128,  8.28883808,\n",
       "       12.060359  , 19.71065226, 17.29788525,  6.58071425,  7.01618755,\n",
       "        8.01289284, 12.33149463,  5.98348862,  7.72724447,  6.39217994,\n",
       "        9.09003221,  5.06708411, 14.36077887,  7.78099008,  5.40170365,\n",
       "       20.49715074,  4.68420207,  8.44896084,  8.03905513,  5.61100664,\n",
       "        8.17053604, 14.10015492, 31.00131808,  5.07186987,  5.15473064,\n",
       "        8.7107024 , 10.17767073,  6.71318255,  8.74396013,  9.93624205,\n",
       "       32.59912759,  8.43418514,  5.10976623,  5.4159131 , 12.42295839,\n",
       "       15.79575876,  6.64016108, 12.69576679, 11.38592261,  4.61159635,\n",
       "       29.92831924,  7.76385115,  5.67230523, 15.87453381, 18.03917878,\n",
       "       17.33731385, 26.49883165,  7.16002612,  9.98177633,  8.39564383,\n",
       "       51.75299541, 10.38094997, 11.91068131,  4.97745262,  7.34287923,\n",
       "        5.3059873 ,  7.94157166, 17.36622792,  7.9331587 ,  5.41389088,\n",
       "        6.91022288, 16.80382352, 20.95377893, 13.56399902,  7.51096952,\n",
       "        8.99107998,  5.14282858, 13.7744628 , 10.72482771,  7.87410856,\n",
       "       22.13204603, 36.08803452, 21.33121127, 14.20811929,  4.78718306,\n",
       "        8.08404006, 10.97936571, 10.27969966, 17.35738567, 18.11322559,\n",
       "        6.20881554, 19.32886239,  8.42051835,  8.99138605,  8.38528533,\n",
       "       29.5679157 ,  9.68231295,  7.2968971 ,  6.50297322,  6.74317012,\n",
       "        7.74758447, 15.48423284,  4.03137139,  7.98269153,  5.24069293,\n",
       "       23.51599478,  5.79136712, 45.48333443, 10.12543018,  9.51948879,\n",
       "        4.79327203, 45.99070235,  6.24337217, 13.70451977,  5.13152136,\n",
       "       10.52039042, 11.78809127,  7.49032677, 13.40189916,  6.64636392,\n",
       "       31.70369658, 10.10987259,  8.11733257, 10.21227857,  7.86294795,\n",
       "        6.28393322,  4.57814912,  6.65520274, 25.66672712, 10.95512807,\n",
       "       11.83915515,  6.09916601, 19.22913215, 11.88484795,  7.12098048,\n",
       "       11.48501989,  6.29943733,  6.62738664,  5.21553869, 15.19633509,\n",
       "       14.51750293,  6.89292272])"
      ]
     },
     "execution_count": 31,
     "metadata": {},
     "output_type": "execute_result"
    }
   ],
   "source": [
    "y_pred = model.predict(X_test)\n",
    "y_pred"
   ]
  },
  {
   "cell_type": "code",
   "execution_count": 45,
   "metadata": {},
   "outputs": [],
   "source": [
    "from sklearn.metrics import mean_squared_error\n",
    "mse = mean_squared_error(y_test,y_pred)\n",
    "rmse = np.sqrt(mse)"
   ]
  },
  {
   "cell_type": "code",
   "execution_count": 46,
   "metadata": {},
   "outputs": [
    {
     "data": {
      "text/plain": [
       "3.429602047460873"
      ]
     },
     "execution_count": 46,
     "metadata": {},
     "output_type": "execute_result"
    }
   ],
   "source": [
    "rmse"
   ]
  },
  {
   "cell_type": "markdown",
   "metadata": {},
   "source": [
    "# Exportar os resultados da Modelagem "
   ]
  },
  {
   "cell_type": "code",
   "execution_count": 33,
   "metadata": {},
   "outputs": [
    {
     "data": {
      "text/plain": [
       "<matplotlib.axes._subplots.AxesSubplot at 0x2a6560c0b50>"
      ]
     },
     "execution_count": 33,
     "metadata": {},
     "output_type": "execute_result"
    },
    {
     "data": {
      "image/png": "[encoded data removed]",
      "text/plain": [
       "<Figure size 432x288 with 1 Axes>"
      ]
     },
     "metadata": {
      "needs_background": "light"
     },
     "output_type": "display_data"
    }
   ],
   "source": [
    "y_pred1 = model.predict(X)\n",
    "train['estimated_fare'] = y_pred1\n",
    "train['idTaxi'] = X.index.values\n",
    "\n",
    "train.to_parquet(save_data)\n",
    "train.estimated_fare.plot.kde()"
   ]
  },
  {
   "cell_type": "code",
   "execution_count": 34,
   "metadata": {},
   "outputs": [
    {
     "data": {
      "text/html": [
       "<div>\n",
       "<style scoped>\n",
       "    .dataframe tbody tr th:only-of-type {\n",
       "        vertical-align: middle;\n",
       "    }\n",
       "\n",
       "    .dataframe tbody tr th {\n",
       "        vertical-align: top;\n",
       "    }\n",
       "\n",
       "    .dataframe thead th {\n",
       "        text-align: right;\n",
       "    }\n",
       "</style>\n",
       "<table border=\"1\" class=\"dataframe\">\n",
       "  <thead>\n",
       "    <tr style=\"text-align: right;\">\n",
       "      <th></th>\n",
       "      <th>dropoff_latitude</th>\n",
       "      <th>dropoff_longitude</th>\n",
       "      <th>fare_amount</th>\n",
       "      <th>passenger_count</th>\n",
       "      <th>pickup_latitude</th>\n",
       "      <th>pickup_longitude</th>\n",
       "      <th>hour_of_day</th>\n",
       "      <th>day_of_week</th>\n",
       "      <th>day_of_year</th>\n",
       "      <th>year</th>\n",
       "      <th>eucl_distance</th>\n",
       "      <th>manh_distance</th>\n",
       "      <th>estimated_fare</th>\n",
       "      <th>idTaxi</th>\n",
       "    </tr>\n",
       "    <tr>\n",
       "      <th>index</th>\n",
       "      <th></th>\n",
       "      <th></th>\n",
       "      <th></th>\n",
       "      <th></th>\n",
       "      <th></th>\n",
       "      <th></th>\n",
       "      <th></th>\n",
       "      <th></th>\n",
       "      <th></th>\n",
       "      <th></th>\n",
       "      <th></th>\n",
       "      <th></th>\n",
       "      <th></th>\n",
       "      <th></th>\n",
       "    </tr>\n",
       "  </thead>\n",
       "  <tbody>\n",
       "    <tr>\n",
       "      <th>4000</th>\n",
       "      <td>40.772537</td>\n",
       "      <td>-73.952852</td>\n",
       "      <td>6.0</td>\n",
       "      <td>1</td>\n",
       "      <td>40.781080</td>\n",
       "      <td>-73.960960</td>\n",
       "      <td>23</td>\n",
       "      <td>1</td>\n",
       "      <td>182</td>\n",
       "      <td>2014</td>\n",
       "      <td>1.170192</td>\n",
       "      <td>1.852088</td>\n",
       "      <td>5.529762</td>\n",
       "      <td>4000</td>\n",
       "    </tr>\n",
       "    <tr>\n",
       "      <th>4001</th>\n",
       "      <td>40.766477</td>\n",
       "      <td>-73.978090</td>\n",
       "      <td>9.0</td>\n",
       "      <td>6</td>\n",
       "      <td>40.760512</td>\n",
       "      <td>-73.971795</td>\n",
       "      <td>14</td>\n",
       "      <td>1</td>\n",
       "      <td>28</td>\n",
       "      <td>2014</td>\n",
       "      <td>0.849392</td>\n",
       "      <td>1.363678</td>\n",
       "      <td>6.055681</td>\n",
       "      <td>4001</td>\n",
       "    </tr>\n",
       "    <tr>\n",
       "      <th>4002</th>\n",
       "      <td>40.787835</td>\n",
       "      <td>-73.955601</td>\n",
       "      <td>4.5</td>\n",
       "      <td>1</td>\n",
       "      <td>40.793633</td>\n",
       "      <td>-73.966991</td>\n",
       "      <td>9</td>\n",
       "      <td>6</td>\n",
       "      <td>208</td>\n",
       "      <td>2014</td>\n",
       "      <td>1.155824</td>\n",
       "      <td>1.911818</td>\n",
       "      <td>5.484866</td>\n",
       "      <td>4002</td>\n",
       "    </tr>\n",
       "    <tr>\n",
       "      <th>4003</th>\n",
       "      <td>40.759287</td>\n",
       "      <td>-73.974354</td>\n",
       "      <td>3.0</td>\n",
       "      <td>1</td>\n",
       "      <td>40.755553</td>\n",
       "      <td>-73.977370</td>\n",
       "      <td>8</td>\n",
       "      <td>1</td>\n",
       "      <td>189</td>\n",
       "      <td>2014</td>\n",
       "      <td>0.486902</td>\n",
       "      <td>0.750801</td>\n",
       "      <td>5.777875</td>\n",
       "      <td>4003</td>\n",
       "    </tr>\n",
       "    <tr>\n",
       "      <th>4004</th>\n",
       "      <td>40.770861</td>\n",
       "      <td>-73.865488</td>\n",
       "      <td>31.5</td>\n",
       "      <td>1</td>\n",
       "      <td>40.755373</td>\n",
       "      <td>-73.971965</td>\n",
       "      <td>14</td>\n",
       "      <td>4</td>\n",
       "      <td>339</td>\n",
       "      <td>2014</td>\n",
       "      <td>9.134312</td>\n",
       "      <td>13.566147</td>\n",
       "      <td>31.200061</td>\n",
       "      <td>4004</td>\n",
       "    </tr>\n",
       "    <tr>\n",
       "      <th>...</th>\n",
       "      <td>...</td>\n",
       "      <td>...</td>\n",
       "      <td>...</td>\n",
       "      <td>...</td>\n",
       "      <td>...</td>\n",
       "      <td>...</td>\n",
       "      <td>...</td>\n",
       "      <td>...</td>\n",
       "      <td>...</td>\n",
       "      <td>...</td>\n",
       "      <td>...</td>\n",
       "      <td>...</td>\n",
       "      <td>...</td>\n",
       "      <td>...</td>\n",
       "    </tr>\n",
       "    <tr>\n",
       "      <th>7995</th>\n",
       "      <td>40.745200</td>\n",
       "      <td>-73.994063</td>\n",
       "      <td>5.3</td>\n",
       "      <td>1</td>\n",
       "      <td>40.754433</td>\n",
       "      <td>-73.980287</td>\n",
       "      <td>13</td>\n",
       "      <td>0</td>\n",
       "      <td>213</td>\n",
       "      <td>2011</td>\n",
       "      <td>1.549905</td>\n",
       "      <td>2.559287</td>\n",
       "      <td>6.435945</td>\n",
       "      <td>7995</td>\n",
       "    </tr>\n",
       "    <tr>\n",
       "      <th>7996</th>\n",
       "      <td>40.726895</td>\n",
       "      <td>-74.003175</td>\n",
       "      <td>6.9</td>\n",
       "      <td>1</td>\n",
       "      <td>40.729962</td>\n",
       "      <td>-74.003908</td>\n",
       "      <td>18</td>\n",
       "      <td>4</td>\n",
       "      <td>126</td>\n",
       "      <td>2011</td>\n",
       "      <td>0.346692</td>\n",
       "      <td>0.422673</td>\n",
       "      <td>5.883169</td>\n",
       "      <td>7996</td>\n",
       "    </tr>\n",
       "    <tr>\n",
       "      <th>7997</th>\n",
       "      <td>40.748200</td>\n",
       "      <td>-73.984800</td>\n",
       "      <td>4.9</td>\n",
       "      <td>3</td>\n",
       "      <td>40.757900</td>\n",
       "      <td>-73.985700</td>\n",
       "      <td>15</td>\n",
       "      <td>5</td>\n",
       "      <td>281</td>\n",
       "      <td>2011</td>\n",
       "      <td>1.081591</td>\n",
       "      <td>1.179036</td>\n",
       "      <td>5.872100</td>\n",
       "      <td>7997</td>\n",
       "    </tr>\n",
       "    <tr>\n",
       "      <th>7998</th>\n",
       "      <td>40.772127</td>\n",
       "      <td>-73.960988</td>\n",
       "      <td>6.9</td>\n",
       "      <td>1</td>\n",
       "      <td>40.757542</td>\n",
       "      <td>-73.961886</td>\n",
       "      <td>12</td>\n",
       "      <td>2</td>\n",
       "      <td>292</td>\n",
       "      <td>2011</td>\n",
       "      <td>1.624050</td>\n",
       "      <td>1.722172</td>\n",
       "      <td>6.999086</td>\n",
       "      <td>7998</td>\n",
       "    </tr>\n",
       "    <tr>\n",
       "      <th>7999</th>\n",
       "      <td>40.725305</td>\n",
       "      <td>-73.994201</td>\n",
       "      <td>6.5</td>\n",
       "      <td>2</td>\n",
       "      <td>40.742152</td>\n",
       "      <td>-73.989232</td>\n",
       "      <td>17</td>\n",
       "      <td>5</td>\n",
       "      <td>183</td>\n",
       "      <td>2011</td>\n",
       "      <td>1.920120</td>\n",
       "      <td>2.426590</td>\n",
       "      <td>7.049113</td>\n",
       "      <td>7999</td>\n",
       "    </tr>\n",
       "  </tbody>\n",
       "</table>\n",
       "<p>3883 rows × 14 columns</p>\n",
       "</div>"
      ],
      "text/plain": [
       "       dropoff_latitude  dropoff_longitude  fare_amount  passenger_count  \\\n",
       "index                                                                      \n",
       "4000          40.772537         -73.952852          6.0                1   \n",
       "4001          40.766477         -73.978090          9.0                6   \n",
       "4002          40.787835         -73.955601          4.5                1   \n",
       "4003          40.759287         -73.974354          3.0                1   \n",
       "4004          40.770861         -73.865488         31.5                1   \n",
       "...                 ...                ...          ...              ...   \n",
       "7995          40.745200         -73.994063          5.3                1   \n",
       "7996          40.726895         -74.003175          6.9                1   \n",
       "7997          40.748200         -73.984800          4.9                3   \n",
       "7998          40.772127         -73.960988          6.9                1   \n",
       "7999          40.725305         -73.994201          6.5                2   \n",
       "\n",
       "       pickup_latitude  pickup_longitude  hour_of_day  day_of_week  \\\n",
       "index                                                                \n",
       "4000         40.781080        -73.960960           23            1   \n",
       "4001         40.760512        -73.971795           14            1   \n",
       "4002         40.793633        -73.966991            9            6   \n",
       "4003         40.755553        -73.977370            8            1   \n",
       "4004         40.755373        -73.971965           14            4   \n",
       "...                ...               ...          ...          ...   \n",
       "7995         40.754433        -73.980287           13            0   \n",
       "7996         40.729962        -74.003908           18            4   \n",
       "7997         40.757900        -73.985700           15            5   \n",
       "7998         40.757542        -73.961886           12            2   \n",
       "7999         40.742152        -73.989232           17            5   \n",
       "\n",
       "       day_of_year  year  eucl_distance  manh_distance  estimated_fare  idTaxi  \n",
       "index                                                                           \n",
       "4000           182  2014       1.170192       1.852088        5.529762    4000  \n",
       "4001            28  2014       0.849392       1.363678        6.055681    4001  \n",
       "4002           208  2014       1.155824       1.911818        5.484866    4002  \n",
       "4003           189  2014       0.486902       0.750801        5.777875    4003  \n",
       "4004           339  2014       9.134312      13.566147       31.200061    4004  \n",
       "...            ...   ...            ...            ...             ...     ...  \n",
       "7995           213  2011       1.549905       2.559287        6.435945    7995  \n",
       "7996           126  2011       0.346692       0.422673        5.883169    7996  \n",
       "7997           281  2011       1.081591       1.179036        5.872100    7997  \n",
       "7998           292  2011       1.624050       1.722172        6.999086    7998  \n",
       "7999           183  2011       1.920120       2.426590        7.049113    7999  \n",
       "\n",
       "[3883 rows x 14 columns]"
      ]
     },
     "execution_count": 34,
     "metadata": {},
     "output_type": "execute_result"
    }
   ],
   "source": [
    "train"
   ]
  },
  {
   "cell_type": "markdown",
   "metadata": {},
   "source": [
    "joblib.dump({'model': model,\n",
    "             'variables': classifier_variables},\n",
    "            model_file)"
   ]
  },
  {
   "cell_type": "code",
   "execution_count": 36,
   "metadata": {},
   "outputs": [],
   "source": [
    "model_file = WORKDIR + '/Data/Modeling/taxi_model.jbl'\n",
    "\n",
    "with open(model_file, 'wb') as fid:\n",
    "    pickle.dump({'model': model,\n",
    "             'variables': classifier_variables}, fid)"
   ]
  },
  {
   "cell_type": "markdown",
   "metadata": {},
   "source": [
    "# exportar a tabela de resultados\n",
    "df_results.to_parquet(model_score_file)\n",
    "\n",
    "filename = model_score_file.replace(\".parquet\",\"_\" + df_results.date_end.max().date().strftime('%Y-%m-%d') + \".parquet\") \n",
    "df_results.to_parquet(filename)\n",
    "\n",
    "\n",
    "with open(model_file, 'wb') as fid:\n",
    "    pickle.dump(trained_models, fid)\n",
    "\n",
    "\n",
    "filename = model_file.replace(\".jbl\",\"_\" + df_results.date_end.max().date().strftime('%Y-%m-%d') + \".jbl\")     \n",
    "with open(model_file, 'wb') as fid:\n",
    "    pickle.dump(trained_models, fid)\n",
    "    \n",
    "    \n",
    "df_results.head()"
   ]
  },
  {
   "cell_type": "code",
   "execution_count": null,
   "metadata": {},
   "outputs": [],
   "source": []
  }
 ],
 "metadata": {
  "kernelspec": {
   "display_name": "Python 3",
   "language": "python",
   "name": "python3"
  },
  "language_info": {
   "codemirror_mode": {
    "name": "ipython",
    "version": 3
   },
   "file_extension": ".py",
   "mimetype": "text/x-python",
   "name": "python",
   "nbconvert_exporter": "python",
   "pygments_lexer": "ipython3",
   "version": "3.8.3"
  }
 },
 "nbformat": 4,
 "nbformat_minor": 4
}
