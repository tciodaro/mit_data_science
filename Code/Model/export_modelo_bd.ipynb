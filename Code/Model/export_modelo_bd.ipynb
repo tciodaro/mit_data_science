{
 "cells": [
  {
   "cell_type": "code",
   "execution_count": 2,
   "metadata": {},
   "outputs": [],
   "source": [
    "import sqlite3\n",
    "import pandas as  pd\n",
    "import numpy as np\n",
    "import datetime\n",
    "import os"
   ]
  },
  {
   "cell_type": "markdown",
   "metadata": {},
   "source": [
    "### <span style=\"color:#9932CC\">**1. Diretórios Mapeados**</span>"
   ]
  },
  {
   "cell_type": "code",
   "execution_count": 3,
   "metadata": {},
   "outputs": [],
   "source": [
    "result_file ='../../Data/Modeling/score_sin.parquet'\n",
    "\n",
    "path_database = '../../Code/Operationalization/db.sqlite3'"
   ]
  },
  {
   "cell_type": "markdown",
   "metadata": {},
   "source": [
    "### <span style=\"color:#9932CC\">**2. Leitura dos dados tratados**</span>"
   ]
  },
  {
   "cell_type": "code",
   "execution_count": 4,
   "metadata": {},
   "outputs": [
    {
     "data": {
      "text/html": [
       "<div>\n",
       "<style scoped>\n",
       "    .dataframe tbody tr th:only-of-type {\n",
       "        vertical-align: middle;\n",
       "    }\n",
       "\n",
       "    .dataframe tbody tr th {\n",
       "        vertical-align: top;\n",
       "    }\n",
       "\n",
       "    .dataframe thead th {\n",
       "        text-align: right;\n",
       "    }\n",
       "</style>\n",
       "<table border=\"1\" class=\"dataframe\">\n",
       "  <thead>\n",
       "    <tr style=\"text-align: right;\">\n",
       "      <th></th>\n",
       "      <th>id_sin</th>\n",
       "      <th>dsc_texto</th>\n",
       "      <th>tip_supervisao</th>\n",
       "      <th>din_execucao</th>\n",
       "      <th>tip_evento</th>\n",
       "      <th>tip_predicao</th>\n",
       "      <th>pct_predicao</th>\n",
       "    </tr>\n",
       "  </thead>\n",
       "  <tbody>\n",
       "    <tr>\n",
       "      <th>0</th>\n",
       "      <td>801877</td>\n",
       "      <td>substituicao do mangote da linha de  fechament...</td>\n",
       "      <td>oper</td>\n",
       "      <td>2020-09-07 01:21:08.006362</td>\n",
       "      <td>True</td>\n",
       "      <td>True</td>\n",
       "      <td>100.0</td>\n",
       "    </tr>\n",
       "    <tr>\n",
       "      <th>1</th>\n",
       "      <td>801878</td>\n",
       "      <td>correcao de ponto quente lado  fonte  barra   ...</td>\n",
       "      <td>oper</td>\n",
       "      <td>2020-09-07 01:21:08.006362</td>\n",
       "      <td>True</td>\n",
       "      <td>True</td>\n",
       "      <td>27.0</td>\n",
       "    </tr>\n",
       "  </tbody>\n",
       "</table>\n",
       "</div>"
      ],
      "text/plain": [
       "   id_sin                                          dsc_texto tip_supervisao  \\\n",
       "0  801877  substituicao do mangote da linha de  fechament...           oper   \n",
       "1  801878  correcao de ponto quente lado  fonte  barra   ...           oper   \n",
       "\n",
       "                 din_execucao tip_evento tip_predicao  pct_predicao  \n",
       "0  2020-09-07 01:21:08.006362       True         True         100.0  \n",
       "1  2020-09-07 01:21:08.006362       True         True          27.0  "
      ]
     },
     "execution_count": 4,
     "metadata": {},
     "output_type": "execute_result"
    }
   ],
   "source": [
    "dataframe = pd.read_parquet(result_file)\n",
    "dataframe.head(2)"
   ]
  },
  {
   "cell_type": "markdown",
   "metadata": {},
   "source": [
    "### <span style=\"color:#9932CC\">**3. Parametros Query: Data**</span>"
   ]
  },
  {
   "cell_type": "code",
   "execution_count": 5,
   "metadata": {},
   "outputs": [
    {
     "data": {
      "text/plain": [
       "array(['2020-09-07 01:21:08.006362'], dtype=object)"
      ]
     },
     "execution_count": 5,
     "metadata": {},
     "output_type": "execute_result"
    }
   ],
   "source": [
    "df_data = pd.DataFrame(data=dataframe.din_execucao.astype(str))\n",
    "df_data = df_data.min()\n",
    "\n",
    "array_df_data = df_data.to_numpy()\n",
    "array_df_data"
   ]
  },
  {
   "cell_type": "markdown",
   "metadata": {},
   "source": [
    "### <span style=\"color:#9932CC\">**3. Conversao para Array de Dataframe Completo**</span>"
   ]
  },
  {
   "cell_type": "code",
   "execution_count": 6,
   "metadata": {},
   "outputs": [],
   "source": [
    "array_dataframe = dataframe.to_numpy()"
   ]
  },
  {
   "cell_type": "code",
   "execution_count": null,
   "metadata": {},
   "outputs": [],
   "source": []
  },
  {
   "cell_type": "markdown",
   "metadata": {},
   "source": [
    "### <span style=\"color:#9932CC\">**4. Salva Dados em Database**</span>"
   ]
  },
  {
   "cell_type": "code",
   "execution_count": 7,
   "metadata": {},
   "outputs": [
    {
     "name": "stdout",
     "output_type": "stream",
     "text": [
      "Conectado com sucesso ao SQLite\n",
      "Total(Teste-Treino) de registros Inseridos:  4998\n",
      "Conexão com SQLite fechada\n"
     ]
    }
   ],
   "source": [
    "sqliteConnection = sqlite3.connect(path_database)\n",
    "\n",
    "cursor = sqliteConnection.cursor()\n",
    "print(\"Conectado com sucesso ao SQLite\")\n",
    "\n",
    "\n",
    "#Insere informações no banco de dados\n",
    "try:\n",
    "    sqlite_insert_query = \"\"\"INSERT INTO applications_dadosretreino(id_sin,dsc_texto,tip_supervisao,din_execucao,tip_evento,tip_predicao,pct_predicao) \n",
    "                             VALUES  (?, ?, ?, ?, ?, ? , ?) \"\"\"\n",
    "\n",
    "    cursor.executemany(sqlite_insert_query, array_dataframe)\n",
    "    sqliteConnection.commit()\n",
    "    print(\"Total(Teste-Treino) de registros Inseridos: \", cursor.rowcount)\n",
    "    \n",
    "    sqlite_update_query = \"\"\"UPDATE applications_dadosretreino set pct_predicao = CAST(CAST(pct_predicao AS DECIMAL(4,2)) AS VARCHAR(10))\"\"\"\n",
    "    cursor.execute(sqlite_update_query)\n",
    "    sqliteConnection.commit()   \n",
    "    \n",
    "    cursor.close()\n",
    "               \n",
    "except sqlite3.Error as error:\n",
    "    print(\"Falha ao inserir registros no database\", error)\n",
    "finally:\n",
    "   if (sqliteConnection):\n",
    "       sqliteConnection.close()\n",
    "   print(\"Conexão com SQLite fechada\")\n"
   ]
  },
  {
   "cell_type": "code",
   "execution_count": null,
   "metadata": {},
   "outputs": [],
   "source": []
  }
 ],
 "metadata": {
  "kernelspec": {
   "display_name": "Python 3",
   "language": "python",
   "name": "python3"
  },
  "language_info": {
   "codemirror_mode": {
    "name": "ipython",
    "version": 3
   },
   "file_extension": ".py",
   "mimetype": "text/x-python",
   "name": "python",
   "nbconvert_exporter": "python",
   "pygments_lexer": "ipython3",
   "version": "3.7.6"
  }
 },
 "nbformat": 4,
 "nbformat_minor": 4
}
