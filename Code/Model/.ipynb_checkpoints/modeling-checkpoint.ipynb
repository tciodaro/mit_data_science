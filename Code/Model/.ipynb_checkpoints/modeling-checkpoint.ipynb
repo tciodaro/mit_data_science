{
 "cells": [
  {
   "cell_type": "code",
   "execution_count": 2,
   "metadata": {},
   "outputs": [],
   "source": [
    "\n",
    "import pandas as pd\n",
    "import seaborn as sns\n",
    "import numpy as np\n",
    "import matplotlib.pyplot as plt\n",
    "import joblib\n",
    "\n",
    "\n",
    "import pickle\n",
    "import scipy.optimize as optim\n",
    "import logging\n",
    "\n",
    "logging.getLogger().setLevel(logging.ERROR)\n",
    "    \n",
    "\n",
    "%matplotlib inline\n",
    "\n",
    "plt.style.use('bmh')\n",
    "\n",
    "WORKDIR = 'C:/Users/Paulo/Desktop/infnet-projeto-final/mit_data_science/'\n",
    "\n",
    "input_table = WORKDIR + '/Data/Processed/nyctaxi_data_analysis_yellow.parquet'\n",
    "model_file = WORKDIR + '/Data/Modeling/taxi_model.jbl'\n",
    "save_data = WORKDIR + '/Data/Modeling/dev_results.jbl'\n",
    "\n",
    "pd.plotting.register_matplotlib_converters()\n",
    "\n",
    "target_variable = 'fare_amount'\n",
    "classifier_variables = ['dropoff_latitude', 'dropoff_longitude',\n",
    "       'passenger_count', 'pickup_latitude', 'pickup_longitude', 'hour_of_day',\n",
    "       'day_of_week', 'day_of_year', 'year', 'eucl_distance', 'manh_distance']"
   ]
  },
  {
   "cell_type": "markdown",
   "metadata": {},
   "source": [
    "# Carga dos Dados "
   ]
  },
  {
   "cell_type": "code",
   "execution_count": 3,
   "metadata": {},
   "outputs": [
    {
     "name": "stdout",
     "output_type": "stream",
     "text": [
      "shape: (3886, 12)\n",
      "columns: Index(['dropoff_latitude', 'dropoff_longitude', 'fare_amount',\n",
      "       'passenger_count', 'pickup_latitude', 'pickup_longitude', 'hour_of_day',\n",
      "       'day_of_week', 'day_of_year', 'year', 'eucl_distance', 'manh_distance'],\n",
      "      dtype='object')\n"
     ]
    }
   ],
   "source": [
    "train = pd.read_parquet(input_table)\n",
    "\n",
    "print('shape:', train.shape)\n",
    "print('columns:', train.columns)"
   ]
  },
  {
   "cell_type": "code",
   "execution_count": 4,
   "metadata": {},
   "outputs": [
    {
     "data": {
      "text/html": [
       "<div>\n",
       "<style scoped>\n",
       "    .dataframe tbody tr th:only-of-type {\n",
       "        vertical-align: middle;\n",
       "    }\n",
       "\n",
       "    .dataframe tbody tr th {\n",
       "        vertical-align: top;\n",
       "    }\n",
       "\n",
       "    .dataframe thead th {\n",
       "        text-align: right;\n",
       "    }\n",
       "</style>\n",
       "<table border=\"1\" class=\"dataframe\">\n",
       "  <thead>\n",
       "    <tr style=\"text-align: right;\">\n",
       "      <th></th>\n",
       "      <th>dropoff_latitude</th>\n",
       "      <th>dropoff_longitude</th>\n",
       "      <th>fare_amount</th>\n",
       "      <th>passenger_count</th>\n",
       "      <th>pickup_latitude</th>\n",
       "      <th>pickup_longitude</th>\n",
       "      <th>hour_of_day</th>\n",
       "      <th>day_of_week</th>\n",
       "      <th>day_of_year</th>\n",
       "      <th>year</th>\n",
       "      <th>eucl_distance</th>\n",
       "      <th>manh_distance</th>\n",
       "    </tr>\n",
       "  </thead>\n",
       "  <tbody>\n",
       "    <tr>\n",
       "      <th>4000</th>\n",
       "      <td>40.769232</td>\n",
       "      <td>-73.988495</td>\n",
       "      <td>4.0</td>\n",
       "      <td>1</td>\n",
       "      <td>40.760177</td>\n",
       "      <td>-73.995085</td>\n",
       "      <td>21</td>\n",
       "      <td>0</td>\n",
       "      <td>286</td>\n",
       "      <td>2014</td>\n",
       "      <td>1.150063</td>\n",
       "      <td>1.740191</td>\n",
       "    </tr>\n",
       "    <tr>\n",
       "      <th>4001</th>\n",
       "      <td>40.757988</td>\n",
       "      <td>-73.986066</td>\n",
       "      <td>11.5</td>\n",
       "      <td>1</td>\n",
       "      <td>40.764503</td>\n",
       "      <td>-73.992088</td>\n",
       "      <td>18</td>\n",
       "      <td>1</td>\n",
       "      <td>210</td>\n",
       "      <td>2014</td>\n",
       "      <td>0.884613</td>\n",
       "      <td>1.394488</td>\n",
       "    </tr>\n",
       "    <tr>\n",
       "      <th>4002</th>\n",
       "      <td>40.711057</td>\n",
       "      <td>-74.014965</td>\n",
       "      <td>19.5</td>\n",
       "      <td>3</td>\n",
       "      <td>40.770197</td>\n",
       "      <td>-73.984085</td>\n",
       "      <td>11</td>\n",
       "      <td>0</td>\n",
       "      <td>279</td>\n",
       "      <td>2014</td>\n",
       "      <td>7.074213</td>\n",
       "      <td>10.012910</td>\n",
       "    </tr>\n",
       "    <tr>\n",
       "      <th>4003</th>\n",
       "      <td>40.813992</td>\n",
       "      <td>-73.946337</td>\n",
       "      <td>4.5</td>\n",
       "      <td>1</td>\n",
       "      <td>40.822257</td>\n",
       "      <td>-73.942405</td>\n",
       "      <td>22</td>\n",
       "      <td>6</td>\n",
       "      <td>131</td>\n",
       "      <td>2014</td>\n",
       "      <td>0.977083</td>\n",
       "      <td>1.356670</td>\n",
       "    </tr>\n",
       "    <tr>\n",
       "      <th>4004</th>\n",
       "      <td>40.790220</td>\n",
       "      <td>-73.973352</td>\n",
       "      <td>14.0</td>\n",
       "      <td>1</td>\n",
       "      <td>40.767722</td>\n",
       "      <td>-73.955875</td>\n",
       "      <td>11</td>\n",
       "      <td>2</td>\n",
       "      <td>281</td>\n",
       "      <td>2014</td>\n",
       "      <td>2.903299</td>\n",
       "      <td>4.446413</td>\n",
       "    </tr>\n",
       "    <tr>\n",
       "      <th>...</th>\n",
       "      <td>...</td>\n",
       "      <td>...</td>\n",
       "      <td>...</td>\n",
       "      <td>...</td>\n",
       "      <td>...</td>\n",
       "      <td>...</td>\n",
       "      <td>...</td>\n",
       "      <td>...</td>\n",
       "      <td>...</td>\n",
       "      <td>...</td>\n",
       "      <td>...</td>\n",
       "      <td>...</td>\n",
       "    </tr>\n",
       "    <tr>\n",
       "      <th>7995</th>\n",
       "      <td>40.715517</td>\n",
       "      <td>-74.013242</td>\n",
       "      <td>12.1</td>\n",
       "      <td>1</td>\n",
       "      <td>40.744065</td>\n",
       "      <td>-73.984019</td>\n",
       "      <td>8</td>\n",
       "      <td>1</td>\n",
       "      <td>18</td>\n",
       "      <td>2011</td>\n",
       "      <td>4.018756</td>\n",
       "      <td>6.425859</td>\n",
       "    </tr>\n",
       "    <tr>\n",
       "      <th>7996</th>\n",
       "      <td>40.762845</td>\n",
       "      <td>-73.989364</td>\n",
       "      <td>10.5</td>\n",
       "      <td>2</td>\n",
       "      <td>40.767732</td>\n",
       "      <td>-73.961885</td>\n",
       "      <td>17</td>\n",
       "      <td>4</td>\n",
       "      <td>280</td>\n",
       "      <td>2011</td>\n",
       "      <td>2.377917</td>\n",
       "      <td>3.600065</td>\n",
       "    </tr>\n",
       "    <tr>\n",
       "      <th>7997</th>\n",
       "      <td>40.735461</td>\n",
       "      <td>-73.989847</td>\n",
       "      <td>3.3</td>\n",
       "      <td>1</td>\n",
       "      <td>40.740463</td>\n",
       "      <td>-73.986324</td>\n",
       "      <td>16</td>\n",
       "      <td>0</td>\n",
       "      <td>304</td>\n",
       "      <td>2011</td>\n",
       "      <td>0.630641</td>\n",
       "      <td>0.948234</td>\n",
       "    </tr>\n",
       "    <tr>\n",
       "      <th>7998</th>\n",
       "      <td>40.693757</td>\n",
       "      <td>-73.993294</td>\n",
       "      <td>46.5</td>\n",
       "      <td>1</td>\n",
       "      <td>40.643879</td>\n",
       "      <td>-73.790503</td>\n",
       "      <td>15</td>\n",
       "      <td>6</td>\n",
       "      <td>23</td>\n",
       "      <td>2011</td>\n",
       "      <td>17.985827</td>\n",
       "      <td>28.104331</td>\n",
       "    </tr>\n",
       "    <tr>\n",
       "      <th>7999</th>\n",
       "      <td>40.729013</td>\n",
       "      <td>-74.008677</td>\n",
       "      <td>4.1</td>\n",
       "      <td>1</td>\n",
       "      <td>40.727994</td>\n",
       "      <td>-73.999042</td>\n",
       "      <td>20</td>\n",
       "      <td>3</td>\n",
       "      <td>188</td>\n",
       "      <td>2011</td>\n",
       "      <td>0.820015</td>\n",
       "      <td>1.185043</td>\n",
       "    </tr>\n",
       "  </tbody>\n",
       "</table>\n",
       "<p>3886 rows × 12 columns</p>\n",
       "</div>"
      ],
      "text/plain": [
       "      dropoff_latitude  dropoff_longitude  fare_amount  passenger_count  \\\n",
       "4000         40.769232         -73.988495          4.0                1   \n",
       "4001         40.757988         -73.986066         11.5                1   \n",
       "4002         40.711057         -74.014965         19.5                3   \n",
       "4003         40.813992         -73.946337          4.5                1   \n",
       "4004         40.790220         -73.973352         14.0                1   \n",
       "...                ...                ...          ...              ...   \n",
       "7995         40.715517         -74.013242         12.1                1   \n",
       "7996         40.762845         -73.989364         10.5                2   \n",
       "7997         40.735461         -73.989847          3.3                1   \n",
       "7998         40.693757         -73.993294         46.5                1   \n",
       "7999         40.729013         -74.008677          4.1                1   \n",
       "\n",
       "      pickup_latitude  pickup_longitude  hour_of_day  day_of_week  \\\n",
       "4000        40.760177        -73.995085           21            0   \n",
       "4001        40.764503        -73.992088           18            1   \n",
       "4002        40.770197        -73.984085           11            0   \n",
       "4003        40.822257        -73.942405           22            6   \n",
       "4004        40.767722        -73.955875           11            2   \n",
       "...               ...               ...          ...          ...   \n",
       "7995        40.744065        -73.984019            8            1   \n",
       "7996        40.767732        -73.961885           17            4   \n",
       "7997        40.740463        -73.986324           16            0   \n",
       "7998        40.643879        -73.790503           15            6   \n",
       "7999        40.727994        -73.999042           20            3   \n",
       "\n",
       "      day_of_year  year  eucl_distance  manh_distance  \n",
       "4000          286  2014       1.150063       1.740191  \n",
       "4001          210  2014       0.884613       1.394488  \n",
       "4002          279  2014       7.074213      10.012910  \n",
       "4003          131  2014       0.977083       1.356670  \n",
       "4004          281  2014       2.903299       4.446413  \n",
       "...           ...   ...            ...            ...  \n",
       "7995           18  2011       4.018756       6.425859  \n",
       "7996          280  2011       2.377917       3.600065  \n",
       "7997          304  2011       0.630641       0.948234  \n",
       "7998           23  2011      17.985827      28.104331  \n",
       "7999          188  2011       0.820015       1.185043  \n",
       "\n",
       "[3886 rows x 12 columns]"
      ]
     },
     "execution_count": 4,
     "metadata": {},
     "output_type": "execute_result"
    }
   ],
   "source": [
    "train"
   ]
  },
  {
   "cell_type": "code",
   "execution_count": 5,
   "metadata": {},
   "outputs": [],
   "source": [
    "X = train.drop('fare_amount', axis = 1)"
   ]
  },
  {
   "cell_type": "code",
   "execution_count": 6,
   "metadata": {},
   "outputs": [
    {
     "data": {
      "text/plain": [
       "(3886, 11)"
      ]
     },
     "execution_count": 6,
     "metadata": {},
     "output_type": "execute_result"
    }
   ],
   "source": [
    "X.shape"
   ]
  },
  {
   "cell_type": "code",
   "execution_count": 7,
   "metadata": {},
   "outputs": [],
   "source": [
    "y = train['fare_amount']"
   ]
  },
  {
   "cell_type": "code",
   "execution_count": 8,
   "metadata": {},
   "outputs": [
    {
     "data": {
      "text/plain": [
       "(3886,)"
      ]
     },
     "execution_count": 8,
     "metadata": {},
     "output_type": "execute_result"
    }
   ],
   "source": [
    "y.shape"
   ]
  },
  {
   "cell_type": "markdown",
   "metadata": {},
   "source": [
    "# Treino / Teste "
   ]
  },
  {
   "cell_type": "markdown",
   "metadata": {},
   "source": [
    "from sklearn.preprocessing import MinMaxScaler\n",
    "scaler = MinMaxScaler()\n",
    "scaler.fit(X_train)\n",
    "X_train_scaled = scaler.transform(X_train)"
   ]
  },
  {
   "cell_type": "markdown",
   "metadata": {},
   "source": [
    "X_train_scaled[0]"
   ]
  },
  {
   "cell_type": "code",
   "execution_count": 9,
   "metadata": {},
   "outputs": [],
   "source": [
    "from sklearn.model_selection import cross_val_score\n",
    "cv = 3\n",
    "scoring = 'neg_mean_squared_error'\n",
    "import multiprocessing\n",
    "n_jobs = multiprocessing.cpu_count() - 1"
   ]
  },
  {
   "cell_type": "code",
   "execution_count": 10,
   "metadata": {},
   "outputs": [
    {
     "data": {
      "text/plain": [
       "7"
      ]
     },
     "execution_count": 10,
     "metadata": {},
     "output_type": "execute_result"
    }
   ],
   "source": [
    "n_jobs"
   ]
  },
  {
   "cell_type": "markdown",
   "metadata": {},
   "source": [
    "### Linear Regression"
   ]
  },
  {
   "cell_type": "code",
   "execution_count": 11,
   "metadata": {},
   "outputs": [
    {
     "data": {
      "text/plain": [
       "4.433678061971398"
      ]
     },
     "execution_count": 11,
     "metadata": {},
     "output_type": "execute_result"
    }
   ],
   "source": [
    "from sklearn.linear_model import LinearRegression\n",
    "model = LinearRegression()\n",
    "scores = cross_val_score(model, X, y, cv = cv,\n",
    "                         scoring = scoring, n_jobs = n_jobs)\n",
    "np.sqrt(-scores.mean())"
   ]
  },
  {
   "cell_type": "markdown",
   "metadata": {},
   "source": [
    "### Ridge Regression"
   ]
  },
  {
   "cell_type": "code",
   "execution_count": 12,
   "metadata": {},
   "outputs": [
    {
     "data": {
      "text/plain": [
       "4.395627705758972"
      ]
     },
     "execution_count": 12,
     "metadata": {},
     "output_type": "execute_result"
    }
   ],
   "source": [
    "from sklearn.linear_model import Ridge\n",
    "model = Ridge()\n",
    "scores = cross_val_score(model, X, y, cv = cv,\n",
    "                         scoring = scoring, n_jobs = n_jobs)\n",
    "np.sqrt(-scores.mean())"
   ]
  },
  {
   "cell_type": "markdown",
   "metadata": {},
   "source": [
    "### Lasso Regression"
   ]
  },
  {
   "cell_type": "code",
   "execution_count": 13,
   "metadata": {},
   "outputs": [
    {
     "data": {
      "text/plain": [
       "4.55291691211377"
      ]
     },
     "execution_count": 13,
     "metadata": {},
     "output_type": "execute_result"
    }
   ],
   "source": [
    "from sklearn.linear_model import Lasso\n",
    "model = Lasso()\n",
    "scores = cross_val_score(model, X, y, cv = cv,\n",
    "                         scoring = scoring, n_jobs = n_jobs)\n",
    "np.sqrt(-scores.mean())"
   ]
  },
  {
   "cell_type": "markdown",
   "metadata": {},
   "source": [
    "### Nearest Neighbors"
   ]
  },
  {
   "cell_type": "code",
   "execution_count": 14,
   "metadata": {},
   "outputs": [
    {
     "data": {
      "text/plain": [
       "5.253763651735959"
      ]
     },
     "execution_count": 14,
     "metadata": {},
     "output_type": "execute_result"
    }
   ],
   "source": [
    "from sklearn.neighbors import KNeighborsRegressor\n",
    "model = KNeighborsRegressor()\n",
    "scores = cross_val_score(model, X, y, cv = cv,\n",
    "                         scoring = scoring, n_jobs = n_jobs)\n",
    "np.sqrt(-scores.mean())"
   ]
  },
  {
   "cell_type": "markdown",
   "metadata": {},
   "source": [
    "### Decision Tree"
   ]
  },
  {
   "cell_type": "code",
   "execution_count": 15,
   "metadata": {},
   "outputs": [
    {
     "data": {
      "text/plain": [
       "5.335016119209981"
      ]
     },
     "execution_count": 15,
     "metadata": {},
     "output_type": "execute_result"
    }
   ],
   "source": [
    "from sklearn.tree import DecisionTreeRegressor\n",
    "model = DecisionTreeRegressor()\n",
    "scores = cross_val_score(model, X, y, cv = cv,\n",
    "                         scoring = scoring, n_jobs = n_jobs)\n",
    "np.sqrt(-scores.mean())"
   ]
  },
  {
   "cell_type": "markdown",
   "metadata": {},
   "source": [
    "### Random Forest"
   ]
  },
  {
   "cell_type": "code",
   "execution_count": 16,
   "metadata": {},
   "outputs": [
    {
     "data": {
      "text/plain": [
       "4.096992480754557"
      ]
     },
     "execution_count": 16,
     "metadata": {},
     "output_type": "execute_result"
    }
   ],
   "source": [
    "from sklearn.ensemble import RandomForestRegressor\n",
    "model = RandomForestRegressor()\n",
    "scores = cross_val_score(model, X, y, cv = cv,\n",
    "                         scoring = scoring, n_jobs = n_jobs)\n",
    "np.sqrt(-scores.mean())"
   ]
  },
  {
   "cell_type": "markdown",
   "metadata": {},
   "source": [
    "### Gradient Boosting"
   ]
  },
  {
   "cell_type": "code",
   "execution_count": 17,
   "metadata": {},
   "outputs": [
    {
     "data": {
      "text/plain": [
       "4.031228657398315"
      ]
     },
     "execution_count": 17,
     "metadata": {},
     "output_type": "execute_result"
    }
   ],
   "source": [
    "from sklearn.ensemble import GradientBoostingRegressor\n",
    "model = GradientBoostingRegressor()\n",
    "scores = cross_val_score(model, X, y, cv = cv,\n",
    "                         scoring = scoring, n_jobs = n_jobs)\n",
    "np.sqrt(-scores.mean())"
   ]
  },
  {
   "cell_type": "markdown",
   "metadata": {},
   "source": [
    "## Inspecionando o melhor modelo\n",
    "\n",
    "### Dividindo a base de dados"
   ]
  },
  {
   "cell_type": "code",
   "execution_count": 18,
   "metadata": {},
   "outputs": [],
   "source": [
    "from sklearn.model_selection import train_test_split\n",
    "X_train, X_test, y_train, y_test = train_test_split(X, y,\n",
    "                                                      test_size = 0.2, random_state = 24)"
   ]
  },
  {
   "cell_type": "code",
   "execution_count": 19,
   "metadata": {},
   "outputs": [
    {
     "data": {
      "text/plain": [
       "(3108, 11)"
      ]
     },
     "execution_count": 19,
     "metadata": {},
     "output_type": "execute_result"
    }
   ],
   "source": [
    "X_train.shape"
   ]
  },
  {
   "cell_type": "code",
   "execution_count": 20,
   "metadata": {},
   "outputs": [
    {
     "data": {
      "text/plain": [
       "(3108, 11)"
      ]
     },
     "execution_count": 20,
     "metadata": {},
     "output_type": "execute_result"
    }
   ],
   "source": [
    "X_train.shape"
   ]
  },
  {
   "cell_type": "code",
   "execution_count": 21,
   "metadata": {},
   "outputs": [
    {
     "data": {
      "text/plain": [
       "(778, 11)"
      ]
     },
     "execution_count": 21,
     "metadata": {},
     "output_type": "execute_result"
    }
   ],
   "source": [
    "X_test.shape"
   ]
  },
  {
   "cell_type": "markdown",
   "metadata": {},
   "source": [
    "### Treinamento do modelo"
   ]
  },
  {
   "cell_type": "code",
   "execution_count": 22,
   "metadata": {},
   "outputs": [
    {
     "data": {
      "text/plain": [
       "GradientBoostingRegressor()"
      ]
     },
     "execution_count": 22,
     "metadata": {},
     "output_type": "execute_result"
    }
   ],
   "source": [
    "model = GradientBoostingRegressor()\n",
    "model.fit(X_train, y_train)\n"
   ]
  },
  {
   "cell_type": "markdown",
   "metadata": {},
   "source": [
    "### Inspecionando o modelo"
   ]
  },
  {
   "cell_type": "code",
   "execution_count": 23,
   "metadata": {},
   "outputs": [
    {
     "data": {
      "text/plain": [
       "array([2.85102592e-02, 3.32577297e-02, 9.03645215e-05, 5.25842711e-03,\n",
       "       3.62341998e-02, 6.47316714e-03, 8.39519266e-04, 6.19959565e-03,\n",
       "       1.39011040e-02, 7.34054337e-01, 1.35181296e-01])"
      ]
     },
     "execution_count": 23,
     "metadata": {},
     "output_type": "execute_result"
    }
   ],
   "source": [
    "features_importances = model.feature_importances_\n",
    "features_importances"
   ]
  },
  {
   "cell_type": "code",
   "execution_count": 24,
   "metadata": {},
   "outputs": [
    {
     "data": {
      "text/plain": [
       "array([ 2,  6,  3,  7,  5,  8,  0,  1,  4, 10,  9], dtype=int64)"
      ]
     },
     "execution_count": 24,
     "metadata": {},
     "output_type": "execute_result"
    }
   ],
   "source": [
    "argsort = np.argsort(features_importances)\n",
    "argsort"
   ]
  },
  {
   "cell_type": "code",
   "execution_count": 25,
   "metadata": {},
   "outputs": [
    {
     "data": {
      "text/plain": [
       "array([9.03645215e-05, 8.39519266e-04, 5.25842711e-03, 6.19959565e-03,\n",
       "       6.47316714e-03, 1.39011040e-02, 2.85102592e-02, 3.32577297e-02,\n",
       "       3.62341998e-02, 1.35181296e-01, 7.34054337e-01])"
      ]
     },
     "execution_count": 25,
     "metadata": {},
     "output_type": "execute_result"
    }
   ],
   "source": [
    "features_importances_sorted = features_importances[argsort]\n",
    "features_importances_sorted"
   ]
  },
  {
   "cell_type": "code",
   "execution_count": 26,
   "metadata": {},
   "outputs": [
    {
     "data": {
      "text/plain": [
       "Index(['dropoff_latitude', 'dropoff_longitude', 'passenger_count',\n",
       "       'pickup_latitude', 'pickup_longitude', 'hour_of_day', 'day_of_week',\n",
       "       'day_of_year', 'year', 'eucl_distance', 'manh_distance'],\n",
       "      dtype='object')"
      ]
     },
     "execution_count": 26,
     "metadata": {},
     "output_type": "execute_result"
    }
   ],
   "source": [
    "feature_names = X_train.columns\n",
    "feature_names"
   ]
  },
  {
   "cell_type": "code",
   "execution_count": 27,
   "metadata": {},
   "outputs": [
    {
     "data": {
      "text/plain": [
       "Index(['passenger_count', 'day_of_week', 'pickup_latitude', 'day_of_year',\n",
       "       'hour_of_day', 'year', 'dropoff_latitude', 'dropoff_longitude',\n",
       "       'pickup_longitude', 'manh_distance', 'eucl_distance'],\n",
       "      dtype='object')"
      ]
     },
     "execution_count": 27,
     "metadata": {},
     "output_type": "execute_result"
    }
   ],
   "source": [
    "features_sorted = feature_names[argsort]\n",
    "features_sorted"
   ]
  },
  {
   "cell_type": "code",
   "execution_count": 28,
   "metadata": {},
   "outputs": [
    {
     "data": {
      "image/png": "[encoded data removed]",
      "text/plain": [
       "<Figure size 432x288 with 1 Axes>"
      ]
     },
     "metadata": {
      "needs_background": "light"
     },
     "output_type": "display_data"
    }
   ],
   "source": [
    "plt.barh(features_sorted, features_importances_sorted);"
   ]
  },
  {
   "cell_type": "code",
   "execution_count": 29,
   "metadata": {},
   "outputs": [
    {
     "data": {
      "text/plain": [
       "6.030792863392232"
      ]
     },
     "execution_count": 29,
     "metadata": {},
     "output_type": "execute_result"
    }
   ],
   "source": [
    "mse = model.train_score_[-1]\n",
    "mse"
   ]
  },
  {
   "cell_type": "code",
   "execution_count": 30,
   "metadata": {},
   "outputs": [
    {
     "data": {
      "text/plain": [
       "2.455767265722107"
      ]
     },
     "execution_count": 30,
     "metadata": {},
     "output_type": "execute_result"
    }
   ],
   "source": [
    "rmse = np.sqrt(mse)\n",
    "rmse"
   ]
  },
  {
   "cell_type": "markdown",
   "metadata": {},
   "source": [
    "# Previsões na base de dados de Teste"
   ]
  },
  {
   "cell_type": "code",
   "execution_count": 31,
   "metadata": {},
   "outputs": [
    {
     "data": {
      "text/plain": [
       "array([15.82831508, 21.99794953, 18.04994954,  6.42661308,  5.14076669,\n",
       "       50.55060075,  5.17810799,  6.6012425 ,  5.1043969 , 10.09990309,\n",
       "       12.0834681 ,  8.79939976,  7.16437121,  8.54336251,  9.38987638,\n",
       "       47.55733688, 42.31865511, 47.48041241,  8.59227864, 11.58802667,\n",
       "       10.65179317, 10.60405635,  9.92488215,  4.75325859, 17.60537652,\n",
       "        6.25615552,  8.61273623, 12.42272093,  5.75851143,  9.95023314,\n",
       "        6.89564235, 12.75540109,  5.62690536, 15.58547294,  6.32512179,\n",
       "        9.29888567,  9.58646257,  6.16031449, 10.96581221,  6.87913916,\n",
       "       13.65152056,  7.20007354,  6.7013504 ,  5.18015392, 12.28204205,\n",
       "       14.84865651,  6.44222199,  5.23311303,  6.8406095 , 13.50189183,\n",
       "        5.14839055,  5.32228744, 18.17877294,  6.50852221,  6.00782825,\n",
       "        9.19290454,  7.70198667,  6.52579604,  8.66114412,  8.39723113,\n",
       "        9.81624762, 11.0810012 , 11.38078507,  7.85270919, 14.57120283,\n",
       "       20.43807731, 11.90077345,  8.23495189,  4.69367011,  7.6309421 ,\n",
       "        4.59291811,  8.9533927 ,  5.59336397, 13.18942116,  4.88854503,\n",
       "       13.29082579, 16.14336727,  7.02592347, 26.47287146, 12.24646948,\n",
       "        5.8331775 ,  7.3797121 , 32.2583128 , 15.07337348,  4.23531171,\n",
       "        5.30599678, 12.28564515,  5.85704206, 11.05071472,  4.94797722,\n",
       "        4.78406375, 11.19703906, 12.8504841 , 32.17625068,  5.95849659,\n",
       "        4.49907745,  5.43458538,  9.03587913,  7.93504361, 11.7514715 ,\n",
       "        5.97797131,  5.83129091,  5.093501  ,  7.52004759,  7.33050185,\n",
       "       48.63267521, 10.32037892, 10.24216784, 14.24446271,  5.4168166 ,\n",
       "        6.79299079,  4.37779237,  9.1508316 ,  6.139933  ,  5.58966169,\n",
       "        8.04415264, 10.05359635, 21.05942721,  4.44081113,  6.25582997,\n",
       "        6.58104173, 12.47493213, 14.46631129, 12.41886844,  5.95958174,\n",
       "       27.78064428,  6.19171694,  9.6991312 , 12.51501864,  5.17161333,\n",
       "       12.79591509,  5.29042786,  5.64231695,  8.7005265 ,  6.1081828 ,\n",
       "        7.5715839 , 11.71726031,  6.29401071, 10.31450558,  7.47757473,\n",
       "        7.66162953, 11.81593008,  5.46995848, 12.28059787,  9.34922432,\n",
       "       11.84378643, 19.44429296,  4.7980423 ,  8.05408832,  5.32849029,\n",
       "        5.97001186,  9.46121546,  5.92189151, 10.50447468,  7.49593229,\n",
       "        9.07629022, 12.27158389, 13.83606648, 12.5998038 ,  5.34863866,\n",
       "       10.47236058, 11.68120398,  6.93003313,  5.75110583, 17.36509043,\n",
       "        7.4888454 ,  9.46754061,  9.6785553 ,  6.42831619,  5.8130183 ,\n",
       "        4.65174494, 18.56559266, 15.26856919, 13.46456058, 11.06343677,\n",
       "       22.02519379,  8.93378517, 10.70209029, 16.4248182 ,  8.27153778,\n",
       "        7.37412468, 22.51190993, 26.53858344,  5.25362827,  8.95274596,\n",
       "        8.31147608, 11.35533517,  9.20073968,  9.21418462, 10.07226904,\n",
       "        7.09228578,  8.38531687,  5.41007533, 27.3444332 , 26.29556147,\n",
       "        7.13235433, 34.38372792,  8.35627144, 29.71486684,  4.92043462,\n",
       "        7.06402183, 17.78027436,  8.3409316 ,  6.20485292, 11.0501525 ,\n",
       "       18.90895749, 17.44732566,  7.80656702,  7.51902637, 11.00544281,\n",
       "        8.59756154, 12.13445747, 11.16106903,  5.59288469, 10.33876662,\n",
       "        9.107126  , 18.50661951,  6.80027591,  8.84770837, 11.06855511,\n",
       "       11.02656562,  6.00315618, 15.25016502,  6.73641153,  7.95047299,\n",
       "       16.04194497,  8.87913472, 12.38704383,  6.02549091,  4.8813422 ,\n",
       "       20.91003221, 11.7420415 ,  5.30654577,  9.52326719, 48.16488697,\n",
       "        5.89384069,  9.61899639,  8.38404254, 46.81880827,  5.5944547 ,\n",
       "        8.16228179,  9.68343997,  5.7038808 ,  8.07137425,  7.77035102,\n",
       "        9.25050893, 15.42339018, 11.57546039, 13.05472513,  6.13422966,\n",
       "       11.74313329,  6.10304459,  5.62335424, 12.36599471,  9.01471495,\n",
       "       10.71778035, 18.44092302,  5.5602211 ,  8.32058748,  5.79474175,\n",
       "        6.67456539, 18.37347818,  9.91964972, 49.76555102,  5.59352525,\n",
       "       11.37371117, 44.39462112, 13.25147138, 10.79347852,  7.19902072,\n",
       "        9.0346636 ,  6.37413297,  5.1170084 ,  8.94754154,  8.4041049 ,\n",
       "       17.34353895,  5.04229179,  8.63874123, 11.44537818, 12.0192714 ,\n",
       "        9.94489986,  8.83819611,  9.73149817, 22.89176908, 19.33721358,\n",
       "        6.99490959,  6.54029352,  6.43330973,  7.72688993,  8.12550349,\n",
       "        8.17421549,  6.35126157, 17.43173835,  5.08853203,  5.42685715,\n",
       "        7.92087541, 12.3753771 , 22.19038211,  5.8537425 ,  8.49250622,\n",
       "       26.06395218, 16.11205269,  7.45375709,  8.60876326, 12.75210389,\n",
       "       10.04910425,  6.6681187 ,  5.26034595, 16.118909  ,  9.06165322,\n",
       "       13.54932767,  8.66484687, 49.17712287, 15.96682508, 18.85339433,\n",
       "       11.68599439, 10.67887554,  8.26250028, 16.27921152,  7.40761202,\n",
       "       11.88668102, 29.74021806, 13.28106124, 10.71121689, 12.28890863,\n",
       "        9.30057316,  6.07110425, 15.22437952,  8.38958127,  9.73381209,\n",
       "        4.71271505,  8.6307997 ,  7.71035639, 12.22185093,  5.4389773 ,\n",
       "       10.38002172,  5.10046019, 11.67087532,  8.10621499,  7.03826073,\n",
       "       12.72155025, 10.2169276 , 17.25016675, 11.55331685,  5.47436551,\n",
       "       11.1367364 ,  6.74181637,  7.58150406,  5.32421579, 19.96282487,\n",
       "       25.57891253,  7.53596155, 10.81616097,  5.21415541, 10.82181899,\n",
       "       50.46447579,  5.813789  ,  8.24495485,  8.5139571 ,  5.59217181,\n",
       "       19.99885752,  8.58880838,  3.81663353, 46.43086813,  7.50260513,\n",
       "       12.21248444,  5.80971554,  7.36914667,  6.94853516,  6.13739785,\n",
       "        6.58133032,  6.49379211,  9.5799011 ,  6.45614638, 10.77414598,\n",
       "       32.53295851,  5.72550712,  5.62411372,  8.69848319,  5.99828856,\n",
       "        7.9999264 , 11.14176346,  5.6477859 ,  4.41729384,  6.83416344,\n",
       "       13.76785049,  9.07198455,  7.19719857, 49.82757681, 10.32533002,\n",
       "        9.47373207,  6.87053523,  5.1495464 ,  7.36311567, 21.87314984,\n",
       "       10.51657465, 24.44897801,  8.54452147,  4.8771196 ,  8.51530234,\n",
       "       10.62022173,  7.53901913, 31.16750111,  8.50592923, 27.09140471,\n",
       "       18.30293475,  6.98578087,  9.28444086,  5.40060959,  5.70023113,\n",
       "       12.41645594, 11.69169092, 10.85495019,  8.96926146, 32.82098523,\n",
       "       11.34471476, 11.9225233 , 35.15062303,  8.57736924,  8.68416527,\n",
       "        9.25840386,  6.09670016,  8.06646423,  6.87480163, 11.71690355,\n",
       "        6.68784987,  6.79746128,  7.89415762, 30.03257195,  5.99703477,\n",
       "       24.27006023,  7.9870958 , 13.26614003,  7.86566481,  9.45397799,\n",
       "        5.59161152, 10.96639008,  6.09771121, 12.63635006,  5.98259893,\n",
       "       10.77784345,  4.82616727, 12.68109485,  5.57056163, 10.98646827,\n",
       "        8.81599836, 10.69769041, 53.49853832, 11.63059815, 23.47264953,\n",
       "        8.15522628,  6.98581502,  8.55007436,  7.60947194,  6.64957435,\n",
       "        5.55866488,  6.52422405, 11.34984531, 11.42274057, 11.95600363,\n",
       "        7.08878087,  4.91189115, 25.82051632,  6.53911987,  9.08330403,\n",
       "       13.17814683,  7.11527177, 10.78304957,  5.59086753,  9.43397065,\n",
       "        5.59119851, 15.12534884,  9.96347843, 10.06908876,  5.13739661,\n",
       "        7.09775276,  8.02762488,  8.38302323,  5.34205977,  4.83951249,\n",
       "        9.05758186,  8.96926146,  7.72610635, 11.28705942,  4.39519952,\n",
       "        8.69685632,  5.2754876 ,  4.75745296,  5.57308204, 10.98630137,\n",
       "        5.78640366,  5.33453783,  7.48748639, 27.63394067,  8.71368556,\n",
       "       10.99997965, 18.92649347,  5.61439983, 10.24552532, 31.12296622,\n",
       "       24.11502859,  9.92488215, 13.64588866, 32.39929091,  4.65114034,\n",
       "        9.43360229, 18.42421282,  5.34667231, 12.7281618 , 14.31431031,\n",
       "        7.7881806 ,  8.02619939,  6.30267471, 10.45240347, 25.45499205,\n",
       "       11.48879725,  5.72520148, 12.61156665,  5.99785225,  9.72675317,\n",
       "        8.01835988,  7.41450534, 14.68366526, 16.48415575,  5.99852337,\n",
       "       13.54803141, 11.68935894,  5.36702622, 21.91832137,  6.15391355,\n",
       "        6.10172687,  9.74065963,  8.08226735, 15.23718174,  7.69502531,\n",
       "       11.83897915, 12.15010551, 20.39872266, 17.22217828,  6.07192902,\n",
       "       18.15739274,  8.30726063, 44.75184573, 46.91918717, 12.9419064 ,\n",
       "       11.85591438,  9.64507774,  6.45111253,  5.74316956,  5.1200477 ,\n",
       "       12.54808752, 10.65659132, 12.50142081, 20.88422846, 10.900607  ,\n",
       "        9.36102729,  4.89560049,  8.51845792,  6.08280654, 10.42673298,\n",
       "        6.12766142, 12.36960399, 17.26044987, 15.20858104, 12.56161595,\n",
       "        5.49842336, 26.9493262 ,  8.03693759,  9.27575426,  4.74288953,\n",
       "        5.9336446 ,  5.62635146,  5.16607002,  7.02931076,  8.26057555,\n",
       "        5.57132021,  6.10025497,  8.43811716,  7.00646899, 11.3388637 ,\n",
       "        6.03403216, 25.57426432, 11.22923471,  5.75812528,  7.54053399,\n",
       "        6.16679682,  5.92598689, 25.88809778,  5.94339844,  6.18670911,\n",
       "       12.25864691,  7.2750476 ,  8.94754154, 10.20913376,  9.86808763,\n",
       "        5.42500674, 38.05594826,  7.30385638,  7.69250709,  9.98999708,\n",
       "        8.25343148,  7.61286444,  6.55320743,  5.5982003 ,  6.48316917,\n",
       "        8.23887312,  8.61532492,  9.94212358,  8.31192   , 14.05465429,\n",
       "       21.08704148, 10.03280909, 11.5539077 ,  7.65660934,  4.76492473,\n",
       "        6.27043881,  7.63921147, 30.79066868, 16.51747848,  4.94684373,\n",
       "       10.23965995, 12.353889  ,  4.49873401,  8.34538388,  6.77808594,\n",
       "        5.53463795, 25.041049  ,  9.47192792, 31.44490221,  9.57411241,\n",
       "        5.75516515, 14.62125887,  4.72616673, 12.57206643,  9.61233668,\n",
       "       11.04315285, 17.91309229,  6.22031371, 13.68716612,  5.42807701,\n",
       "        4.73512259, 50.80280981, 22.62429137, 10.75910292, 15.5773174 ,\n",
       "        9.64358485,  9.83027071,  8.07482827,  5.73800484,  7.57380164,\n",
       "        5.46229535, 13.12712935,  9.49462404,  7.27624756,  9.35558874,\n",
       "       14.02054025,  7.09775276,  8.16174627, 94.3736482 , 12.87050541,\n",
       "        6.12799065, 21.69027947, 13.44342274, 26.33630828, 25.4230641 ,\n",
       "       11.35883191,  6.99479189,  5.39719631,  4.70061083, 17.07706845,\n",
       "       11.08474851,  4.88594575,  8.12855052, 10.93366346,  5.64108775,\n",
       "       10.38235707,  5.05453123, 17.37999476,  7.09313001, 14.1445375 ,\n",
       "        7.15298145, 22.94440783, 25.34355052,  8.85992953, 10.0392792 ,\n",
       "       14.70501911,  6.90435256,  4.77409757,  4.34443903, 10.04165682,\n",
       "        7.18364104,  8.90616061, 17.98348306,  7.86094579, 13.67249252,\n",
       "        7.39120668,  5.65150451, 50.20341939,  7.12294945,  7.373915  ,\n",
       "       17.14288285, 12.7205914 ,  9.92289033,  7.34812579,  8.80609122,\n",
       "        4.84665298, 14.13657059,  6.09131981, 13.46157308, 11.13742811,\n",
       "       16.36142873, 13.61255913,  6.5988251 ,  7.65247538, 27.01620279,\n",
       "        8.44160847, 15.70293302, 13.57534772, 10.71637655, 13.18450889,\n",
       "       25.91701692,  5.02064121,  5.01474468, 15.56562086,  5.50760433,\n",
       "       10.47351907,  5.64644304, 10.52263666, 11.49732788, 28.57112775,\n",
       "       12.2264707 ,  4.77504115,  4.74057889, 11.54532745, 24.25891411,\n",
       "        6.46450926,  5.47436551,  8.79794597,  7.23981867, 11.06525898,\n",
       "        8.84030587,  6.0852867 , 10.95750251, 12.3252864 ,  5.16651705,\n",
       "        7.41101058, 21.60183105, 20.31892269, 33.71363769, 10.28922133,\n",
       "        8.52325952,  6.50426458,  5.54838032, 24.27927818,  9.18751133,\n",
       "        4.57335816,  7.61179571,  9.45829891,  6.30426425, 12.945153  ,\n",
       "        5.61845986,  4.41711145,  8.08884749, 10.63027007,  8.3402756 ,\n",
       "        9.18399654,  8.25476855,  9.14053526, 13.08813326,  5.24719168,\n",
       "       12.48926362,  7.2361229 ,  9.73398341, 20.51936917,  5.36260886,\n",
       "       14.78870531,  6.21557713, 11.67835229])"
      ]
     },
     "execution_count": 31,
     "metadata": {},
     "output_type": "execute_result"
    }
   ],
   "source": [
    "y_pred = model.predict(X_test)\n",
    "y_pred"
   ]
  },
  {
   "cell_type": "code",
   "execution_count": 32,
   "metadata": {},
   "outputs": [],
   "source": [
    "from sklearn.metrics import mean_squared_error\n",
    "mse = mean_squared_error(y_test,y_pred)\n",
    "rmse = np.sqrt(mse)"
   ]
  },
  {
   "cell_type": "code",
   "execution_count": 33,
   "metadata": {},
   "outputs": [
    {
     "data": {
      "text/plain": [
       "3.218220728247418"
      ]
     },
     "execution_count": 33,
     "metadata": {},
     "output_type": "execute_result"
    }
   ],
   "source": [
    "rmse"
   ]
  },
  {
   "cell_type": "markdown",
   "metadata": {},
   "source": [
    "# Exportar os resultados da Modelagem "
   ]
  },
  {
   "cell_type": "code",
   "execution_count": 34,
   "metadata": {},
   "outputs": [
    {
     "data": {
      "text/html": [
       "<div>\n",
       "<style scoped>\n",
       "    .dataframe tbody tr th:only-of-type {\n",
       "        vertical-align: middle;\n",
       "    }\n",
       "\n",
       "    .dataframe tbody tr th {\n",
       "        vertical-align: top;\n",
       "    }\n",
       "\n",
       "    .dataframe thead th {\n",
       "        text-align: right;\n",
       "    }\n",
       "</style>\n",
       "<table border=\"1\" class=\"dataframe\">\n",
       "  <thead>\n",
       "    <tr style=\"text-align: right;\">\n",
       "      <th></th>\n",
       "      <th>dropoff_latitude</th>\n",
       "      <th>dropoff_longitude</th>\n",
       "      <th>passenger_count</th>\n",
       "      <th>pickup_latitude</th>\n",
       "      <th>pickup_longitude</th>\n",
       "      <th>hour_of_day</th>\n",
       "      <th>day_of_week</th>\n",
       "      <th>day_of_year</th>\n",
       "      <th>year</th>\n",
       "      <th>eucl_distance</th>\n",
       "      <th>manh_distance</th>\n",
       "    </tr>\n",
       "  </thead>\n",
       "  <tbody>\n",
       "    <tr>\n",
       "      <th>4000</th>\n",
       "      <td>40.769232</td>\n",
       "      <td>-73.988495</td>\n",
       "      <td>1</td>\n",
       "      <td>40.760177</td>\n",
       "      <td>-73.995085</td>\n",
       "      <td>21</td>\n",
       "      <td>0</td>\n",
       "      <td>286</td>\n",
       "      <td>2014</td>\n",
       "      <td>1.150063</td>\n",
       "      <td>1.740191</td>\n",
       "    </tr>\n",
       "    <tr>\n",
       "      <th>4001</th>\n",
       "      <td>40.757988</td>\n",
       "      <td>-73.986066</td>\n",
       "      <td>1</td>\n",
       "      <td>40.764503</td>\n",
       "      <td>-73.992088</td>\n",
       "      <td>18</td>\n",
       "      <td>1</td>\n",
       "      <td>210</td>\n",
       "      <td>2014</td>\n",
       "      <td>0.884613</td>\n",
       "      <td>1.394488</td>\n",
       "    </tr>\n",
       "    <tr>\n",
       "      <th>4002</th>\n",
       "      <td>40.711057</td>\n",
       "      <td>-74.014965</td>\n",
       "      <td>3</td>\n",
       "      <td>40.770197</td>\n",
       "      <td>-73.984085</td>\n",
       "      <td>11</td>\n",
       "      <td>0</td>\n",
       "      <td>279</td>\n",
       "      <td>2014</td>\n",
       "      <td>7.074213</td>\n",
       "      <td>10.012910</td>\n",
       "    </tr>\n",
       "    <tr>\n",
       "      <th>4003</th>\n",
       "      <td>40.813992</td>\n",
       "      <td>-73.946337</td>\n",
       "      <td>1</td>\n",
       "      <td>40.822257</td>\n",
       "      <td>-73.942405</td>\n",
       "      <td>22</td>\n",
       "      <td>6</td>\n",
       "      <td>131</td>\n",
       "      <td>2014</td>\n",
       "      <td>0.977083</td>\n",
       "      <td>1.356670</td>\n",
       "    </tr>\n",
       "    <tr>\n",
       "      <th>4004</th>\n",
       "      <td>40.790220</td>\n",
       "      <td>-73.973352</td>\n",
       "      <td>1</td>\n",
       "      <td>40.767722</td>\n",
       "      <td>-73.955875</td>\n",
       "      <td>11</td>\n",
       "      <td>2</td>\n",
       "      <td>281</td>\n",
       "      <td>2014</td>\n",
       "      <td>2.903299</td>\n",
       "      <td>4.446413</td>\n",
       "    </tr>\n",
       "    <tr>\n",
       "      <th>...</th>\n",
       "      <td>...</td>\n",
       "      <td>...</td>\n",
       "      <td>...</td>\n",
       "      <td>...</td>\n",
       "      <td>...</td>\n",
       "      <td>...</td>\n",
       "      <td>...</td>\n",
       "      <td>...</td>\n",
       "      <td>...</td>\n",
       "      <td>...</td>\n",
       "      <td>...</td>\n",
       "    </tr>\n",
       "    <tr>\n",
       "      <th>7995</th>\n",
       "      <td>40.715517</td>\n",
       "      <td>-74.013242</td>\n",
       "      <td>1</td>\n",
       "      <td>40.744065</td>\n",
       "      <td>-73.984019</td>\n",
       "      <td>8</td>\n",
       "      <td>1</td>\n",
       "      <td>18</td>\n",
       "      <td>2011</td>\n",
       "      <td>4.018756</td>\n",
       "      <td>6.425859</td>\n",
       "    </tr>\n",
       "    <tr>\n",
       "      <th>7996</th>\n",
       "      <td>40.762845</td>\n",
       "      <td>-73.989364</td>\n",
       "      <td>2</td>\n",
       "      <td>40.767732</td>\n",
       "      <td>-73.961885</td>\n",
       "      <td>17</td>\n",
       "      <td>4</td>\n",
       "      <td>280</td>\n",
       "      <td>2011</td>\n",
       "      <td>2.377917</td>\n",
       "      <td>3.600065</td>\n",
       "    </tr>\n",
       "    <tr>\n",
       "      <th>7997</th>\n",
       "      <td>40.735461</td>\n",
       "      <td>-73.989847</td>\n",
       "      <td>1</td>\n",
       "      <td>40.740463</td>\n",
       "      <td>-73.986324</td>\n",
       "      <td>16</td>\n",
       "      <td>0</td>\n",
       "      <td>304</td>\n",
       "      <td>2011</td>\n",
       "      <td>0.630641</td>\n",
       "      <td>0.948234</td>\n",
       "    </tr>\n",
       "    <tr>\n",
       "      <th>7998</th>\n",
       "      <td>40.693757</td>\n",
       "      <td>-73.993294</td>\n",
       "      <td>1</td>\n",
       "      <td>40.643879</td>\n",
       "      <td>-73.790503</td>\n",
       "      <td>15</td>\n",
       "      <td>6</td>\n",
       "      <td>23</td>\n",
       "      <td>2011</td>\n",
       "      <td>17.985827</td>\n",
       "      <td>28.104331</td>\n",
       "    </tr>\n",
       "    <tr>\n",
       "      <th>7999</th>\n",
       "      <td>40.729013</td>\n",
       "      <td>-74.008677</td>\n",
       "      <td>1</td>\n",
       "      <td>40.727994</td>\n",
       "      <td>-73.999042</td>\n",
       "      <td>20</td>\n",
       "      <td>3</td>\n",
       "      <td>188</td>\n",
       "      <td>2011</td>\n",
       "      <td>0.820015</td>\n",
       "      <td>1.185043</td>\n",
       "    </tr>\n",
       "  </tbody>\n",
       "</table>\n",
       "<p>3886 rows × 11 columns</p>\n",
       "</div>"
      ],
      "text/plain": [
       "      dropoff_latitude  dropoff_longitude  passenger_count  pickup_latitude  \\\n",
       "4000         40.769232         -73.988495                1        40.760177   \n",
       "4001         40.757988         -73.986066                1        40.764503   \n",
       "4002         40.711057         -74.014965                3        40.770197   \n",
       "4003         40.813992         -73.946337                1        40.822257   \n",
       "4004         40.790220         -73.973352                1        40.767722   \n",
       "...                ...                ...              ...              ...   \n",
       "7995         40.715517         -74.013242                1        40.744065   \n",
       "7996         40.762845         -73.989364                2        40.767732   \n",
       "7997         40.735461         -73.989847                1        40.740463   \n",
       "7998         40.693757         -73.993294                1        40.643879   \n",
       "7999         40.729013         -74.008677                1        40.727994   \n",
       "\n",
       "      pickup_longitude  hour_of_day  day_of_week  day_of_year  year  \\\n",
       "4000        -73.995085           21            0          286  2014   \n",
       "4001        -73.992088           18            1          210  2014   \n",
       "4002        -73.984085           11            0          279  2014   \n",
       "4003        -73.942405           22            6          131  2014   \n",
       "4004        -73.955875           11            2          281  2014   \n",
       "...                ...          ...          ...          ...   ...   \n",
       "7995        -73.984019            8            1           18  2011   \n",
       "7996        -73.961885           17            4          280  2011   \n",
       "7997        -73.986324           16            0          304  2011   \n",
       "7998        -73.790503           15            6           23  2011   \n",
       "7999        -73.999042           20            3          188  2011   \n",
       "\n",
       "      eucl_distance  manh_distance  \n",
       "4000       1.150063       1.740191  \n",
       "4001       0.884613       1.394488  \n",
       "4002       7.074213      10.012910  \n",
       "4003       0.977083       1.356670  \n",
       "4004       2.903299       4.446413  \n",
       "...             ...            ...  \n",
       "7995       4.018756       6.425859  \n",
       "7996       2.377917       3.600065  \n",
       "7997       0.630641       0.948234  \n",
       "7998      17.985827      28.104331  \n",
       "7999       0.820015       1.185043  \n",
       "\n",
       "[3886 rows x 11 columns]"
      ]
     },
     "execution_count": 34,
     "metadata": {},
     "output_type": "execute_result"
    }
   ],
   "source": [
    "X"
   ]
  },
  {
   "cell_type": "code",
   "execution_count": 42,
   "metadata": {},
   "outputs": [
    {
     "data": {
      "text/plain": [
       "<matplotlib.axes._subplots.AxesSubplot at 0x22268d25e80>"
      ]
     },
     "execution_count": 42,
     "metadata": {},
     "output_type": "execute_result"
    },
    {
     "data": {
      "image/png": "[encoded data removed]",
      "text/plain": [
       "<Figure size 432x288 with 1 Axes>"
      ]
     },
     "metadata": {
      "needs_background": "light"
     },
     "output_type": "display_data"
    }
   ],
   "source": [
    "y_pred1 = model.predict(X)\n",
    "train['estimated_fare'] = y_pred1\n",
    "train['idTaxi'] = train['pickup_latitude'].astype(str)+'_'+train['pickup_longitude'].astype(str)+'_'+train['day_of_year'].astype(str)+'_'+train['year'].astype(str)\n",
    "\n",
    "train.to_parquet(save_data)\n",
    "train.estimated_fare.plot.kde()"
   ]
  },
  {
   "cell_type": "code",
   "execution_count": 43,
   "metadata": {},
   "outputs": [
    {
     "data": {
      "text/html": [
       "<div>\n",
       "<style scoped>\n",
       "    .dataframe tbody tr th:only-of-type {\n",
       "        vertical-align: middle;\n",
       "    }\n",
       "\n",
       "    .dataframe tbody tr th {\n",
       "        vertical-align: top;\n",
       "    }\n",
       "\n",
       "    .dataframe thead th {\n",
       "        text-align: right;\n",
       "    }\n",
       "</style>\n",
       "<table border=\"1\" class=\"dataframe\">\n",
       "  <thead>\n",
       "    <tr style=\"text-align: right;\">\n",
       "      <th></th>\n",
       "      <th>dropoff_latitude</th>\n",
       "      <th>dropoff_longitude</th>\n",
       "      <th>fare_amount</th>\n",
       "      <th>passenger_count</th>\n",
       "      <th>pickup_latitude</th>\n",
       "      <th>pickup_longitude</th>\n",
       "      <th>hour_of_day</th>\n",
       "      <th>day_of_week</th>\n",
       "      <th>day_of_year</th>\n",
       "      <th>year</th>\n",
       "      <th>eucl_distance</th>\n",
       "      <th>manh_distance</th>\n",
       "      <th>estimated_fare</th>\n",
       "      <th>idTaxi</th>\n",
       "    </tr>\n",
       "  </thead>\n",
       "  <tbody>\n",
       "    <tr>\n",
       "      <th>4000</th>\n",
       "      <td>40.769232</td>\n",
       "      <td>-73.988495</td>\n",
       "      <td>4.0</td>\n",
       "      <td>1</td>\n",
       "      <td>40.760177</td>\n",
       "      <td>-73.995085</td>\n",
       "      <td>21</td>\n",
       "      <td>0</td>\n",
       "      <td>286</td>\n",
       "      <td>2014</td>\n",
       "      <td>1.150063</td>\n",
       "      <td>1.740191</td>\n",
       "      <td>6.488312</td>\n",
       "      <td>40.760177_-73.995085_286_2014</td>\n",
       "    </tr>\n",
       "    <tr>\n",
       "      <th>4001</th>\n",
       "      <td>40.757988</td>\n",
       "      <td>-73.986066</td>\n",
       "      <td>11.5</td>\n",
       "      <td>1</td>\n",
       "      <td>40.764503</td>\n",
       "      <td>-73.992088</td>\n",
       "      <td>18</td>\n",
       "      <td>1</td>\n",
       "      <td>210</td>\n",
       "      <td>2014</td>\n",
       "      <td>0.884613</td>\n",
       "      <td>1.394488</td>\n",
       "      <td>6.864766</td>\n",
       "      <td>40.764503_-73.992088_210_2014</td>\n",
       "    </tr>\n",
       "    <tr>\n",
       "      <th>4002</th>\n",
       "      <td>40.711057</td>\n",
       "      <td>-74.014965</td>\n",
       "      <td>19.5</td>\n",
       "      <td>3</td>\n",
       "      <td>40.770197</td>\n",
       "      <td>-73.984085</td>\n",
       "      <td>11</td>\n",
       "      <td>0</td>\n",
       "      <td>279</td>\n",
       "      <td>2014</td>\n",
       "      <td>7.074213</td>\n",
       "      <td>10.012910</td>\n",
       "      <td>22.809311</td>\n",
       "      <td>40.770197_-73.984085_279_2014</td>\n",
       "    </tr>\n",
       "    <tr>\n",
       "      <th>4003</th>\n",
       "      <td>40.813992</td>\n",
       "      <td>-73.946337</td>\n",
       "      <td>4.5</td>\n",
       "      <td>1</td>\n",
       "      <td>40.822257</td>\n",
       "      <td>-73.942405</td>\n",
       "      <td>22</td>\n",
       "      <td>6</td>\n",
       "      <td>131</td>\n",
       "      <td>2014</td>\n",
       "      <td>0.977083</td>\n",
       "      <td>1.356670</td>\n",
       "      <td>4.377792</td>\n",
       "      <td>40.822257_-73.942405_131_2014</td>\n",
       "    </tr>\n",
       "    <tr>\n",
       "      <th>4004</th>\n",
       "      <td>40.790220</td>\n",
       "      <td>-73.973352</td>\n",
       "      <td>14.0</td>\n",
       "      <td>1</td>\n",
       "      <td>40.767722</td>\n",
       "      <td>-73.955875</td>\n",
       "      <td>11</td>\n",
       "      <td>2</td>\n",
       "      <td>281</td>\n",
       "      <td>2014</td>\n",
       "      <td>2.903299</td>\n",
       "      <td>4.446413</td>\n",
       "      <td>11.887626</td>\n",
       "      <td>40.767722_-73.955875_281_2014</td>\n",
       "    </tr>\n",
       "    <tr>\n",
       "      <th>...</th>\n",
       "      <td>...</td>\n",
       "      <td>...</td>\n",
       "      <td>...</td>\n",
       "      <td>...</td>\n",
       "      <td>...</td>\n",
       "      <td>...</td>\n",
       "      <td>...</td>\n",
       "      <td>...</td>\n",
       "      <td>...</td>\n",
       "      <td>...</td>\n",
       "      <td>...</td>\n",
       "      <td>...</td>\n",
       "      <td>...</td>\n",
       "      <td>...</td>\n",
       "    </tr>\n",
       "    <tr>\n",
       "      <th>7995</th>\n",
       "      <td>40.715517</td>\n",
       "      <td>-74.013242</td>\n",
       "      <td>12.1</td>\n",
       "      <td>1</td>\n",
       "      <td>40.744065</td>\n",
       "      <td>-73.984019</td>\n",
       "      <td>8</td>\n",
       "      <td>1</td>\n",
       "      <td>18</td>\n",
       "      <td>2011</td>\n",
       "      <td>4.018756</td>\n",
       "      <td>6.425859</td>\n",
       "      <td>11.759652</td>\n",
       "      <td>40.744065_-73.984019_18_2011</td>\n",
       "    </tr>\n",
       "    <tr>\n",
       "      <th>7996</th>\n",
       "      <td>40.762845</td>\n",
       "      <td>-73.989364</td>\n",
       "      <td>10.5</td>\n",
       "      <td>2</td>\n",
       "      <td>40.767732</td>\n",
       "      <td>-73.961885</td>\n",
       "      <td>17</td>\n",
       "      <td>4</td>\n",
       "      <td>280</td>\n",
       "      <td>2011</td>\n",
       "      <td>2.377917</td>\n",
       "      <td>3.600065</td>\n",
       "      <td>9.419228</td>\n",
       "      <td>40.767732_-73.961885_280_2011</td>\n",
       "    </tr>\n",
       "    <tr>\n",
       "      <th>7997</th>\n",
       "      <td>40.735461</td>\n",
       "      <td>-73.989847</td>\n",
       "      <td>3.3</td>\n",
       "      <td>1</td>\n",
       "      <td>40.740463</td>\n",
       "      <td>-73.986324</td>\n",
       "      <td>16</td>\n",
       "      <td>0</td>\n",
       "      <td>304</td>\n",
       "      <td>2011</td>\n",
       "      <td>0.630641</td>\n",
       "      <td>0.948234</td>\n",
       "      <td>5.383156</td>\n",
       "      <td>40.740463_-73.986324_304_2011</td>\n",
       "    </tr>\n",
       "    <tr>\n",
       "      <th>7998</th>\n",
       "      <td>40.693757</td>\n",
       "      <td>-73.993294</td>\n",
       "      <td>46.5</td>\n",
       "      <td>1</td>\n",
       "      <td>40.643879</td>\n",
       "      <td>-73.790503</td>\n",
       "      <td>15</td>\n",
       "      <td>6</td>\n",
       "      <td>23</td>\n",
       "      <td>2011</td>\n",
       "      <td>17.985827</td>\n",
       "      <td>28.104331</td>\n",
       "      <td>44.780615</td>\n",
       "      <td>40.643879_-73.790503_23_2011</td>\n",
       "    </tr>\n",
       "    <tr>\n",
       "      <th>7999</th>\n",
       "      <td>40.729013</td>\n",
       "      <td>-74.008677</td>\n",
       "      <td>4.1</td>\n",
       "      <td>1</td>\n",
       "      <td>40.727994</td>\n",
       "      <td>-73.999042</td>\n",
       "      <td>20</td>\n",
       "      <td>3</td>\n",
       "      <td>188</td>\n",
       "      <td>2011</td>\n",
       "      <td>0.820015</td>\n",
       "      <td>1.185043</td>\n",
       "      <td>4.806249</td>\n",
       "      <td>40.727994_-73.999042_188_2011</td>\n",
       "    </tr>\n",
       "  </tbody>\n",
       "</table>\n",
       "<p>3886 rows × 14 columns</p>\n",
       "</div>"
      ],
      "text/plain": [
       "      dropoff_latitude  dropoff_longitude  fare_amount  passenger_count  \\\n",
       "4000         40.769232         -73.988495          4.0                1   \n",
       "4001         40.757988         -73.986066         11.5                1   \n",
       "4002         40.711057         -74.014965         19.5                3   \n",
       "4003         40.813992         -73.946337          4.5                1   \n",
       "4004         40.790220         -73.973352         14.0                1   \n",
       "...                ...                ...          ...              ...   \n",
       "7995         40.715517         -74.013242         12.1                1   \n",
       "7996         40.762845         -73.989364         10.5                2   \n",
       "7997         40.735461         -73.989847          3.3                1   \n",
       "7998         40.693757         -73.993294         46.5                1   \n",
       "7999         40.729013         -74.008677          4.1                1   \n",
       "\n",
       "      pickup_latitude  pickup_longitude  hour_of_day  day_of_week  \\\n",
       "4000        40.760177        -73.995085           21            0   \n",
       "4001        40.764503        -73.992088           18            1   \n",
       "4002        40.770197        -73.984085           11            0   \n",
       "4003        40.822257        -73.942405           22            6   \n",
       "4004        40.767722        -73.955875           11            2   \n",
       "...               ...               ...          ...          ...   \n",
       "7995        40.744065        -73.984019            8            1   \n",
       "7996        40.767732        -73.961885           17            4   \n",
       "7997        40.740463        -73.986324           16            0   \n",
       "7998        40.643879        -73.790503           15            6   \n",
       "7999        40.727994        -73.999042           20            3   \n",
       "\n",
       "      day_of_year  year  eucl_distance  manh_distance  estimated_fare  \\\n",
       "4000          286  2014       1.150063       1.740191        6.488312   \n",
       "4001          210  2014       0.884613       1.394488        6.864766   \n",
       "4002          279  2014       7.074213      10.012910       22.809311   \n",
       "4003          131  2014       0.977083       1.356670        4.377792   \n",
       "4004          281  2014       2.903299       4.446413       11.887626   \n",
       "...           ...   ...            ...            ...             ...   \n",
       "7995           18  2011       4.018756       6.425859       11.759652   \n",
       "7996          280  2011       2.377917       3.600065        9.419228   \n",
       "7997          304  2011       0.630641       0.948234        5.383156   \n",
       "7998           23  2011      17.985827      28.104331       44.780615   \n",
       "7999          188  2011       0.820015       1.185043        4.806249   \n",
       "\n",
       "                             idTaxi  \n",
       "4000  40.760177_-73.995085_286_2014  \n",
       "4001  40.764503_-73.992088_210_2014  \n",
       "4002  40.770197_-73.984085_279_2014  \n",
       "4003  40.822257_-73.942405_131_2014  \n",
       "4004  40.767722_-73.955875_281_2014  \n",
       "...                             ...  \n",
       "7995   40.744065_-73.984019_18_2011  \n",
       "7996  40.767732_-73.961885_280_2011  \n",
       "7997  40.740463_-73.986324_304_2011  \n",
       "7998   40.643879_-73.790503_23_2011  \n",
       "7999  40.727994_-73.999042_188_2011  \n",
       "\n",
       "[3886 rows x 14 columns]"
      ]
     },
     "execution_count": 43,
     "metadata": {},
     "output_type": "execute_result"
    }
   ],
   "source": [
    "train"
   ]
  },
  {
   "cell_type": "markdown",
   "metadata": {},
   "source": [
    "joblib.dump({'model': model,\n",
    "             'variables': classifier_variables},\n",
    "            model_file)"
   ]
  },
  {
   "cell_type": "code",
   "execution_count": 36,
   "metadata": {},
   "outputs": [],
   "source": [
    "model_file = WORKDIR + '/Data/Modeling/taxi_model.jbl'\n",
    "\n",
    "with open(model_file, 'wb') as fid:\n",
    "    pickle.dump({'model': model,\n",
    "             'variables': classifier_variables}, fid)"
   ]
  },
  {
   "cell_type": "markdown",
   "metadata": {},
   "source": [
    "# exportar a tabela de resultados\n",
    "df_results.to_parquet(model_score_file)\n",
    "\n",
    "filename = model_score_file.replace(\".parquet\",\"_\" + df_results.date_end.max().date().strftime('%Y-%m-%d') + \".parquet\") \n",
    "df_results.to_parquet(filename)\n",
    "\n",
    "\n",
    "with open(model_file, 'wb') as fid:\n",
    "    pickle.dump(trained_models, fid)\n",
    "\n",
    "\n",
    "filename = model_file.replace(\".jbl\",\"_\" + df_results.date_end.max().date().strftime('%Y-%m-%d') + \".jbl\")     \n",
    "with open(model_file, 'wb') as fid:\n",
    "    pickle.dump(trained_models, fid)\n",
    "    \n",
    "    \n",
    "df_results.head()"
   ]
  },
  {
   "cell_type": "code",
   "execution_count": null,
   "metadata": {},
   "outputs": [],
   "source": []
  }
 ],
 "metadata": {
  "kernelspec": {
   "display_name": "Python 3",
   "language": "python",
   "name": "python3"
  },
  "language_info": {
   "codemirror_mode": {
    "name": "ipython",
    "version": 3
   },
   "file_extension": ".py",
   "mimetype": "text/x-python",
   "name": "python",
   "nbconvert_exporter": "python",
   "pygments_lexer": "ipython3",
   "version": "3.8.3"
  }
 },
 "nbformat": 4,
 "nbformat_minor": 4
}
