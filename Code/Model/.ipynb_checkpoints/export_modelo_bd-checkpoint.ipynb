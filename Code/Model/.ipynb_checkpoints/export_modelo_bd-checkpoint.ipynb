{
 "cells": [
  {
   "cell_type": "code",
   "execution_count": 1,
   "metadata": {},
   "outputs": [],
   "source": [
    "import sqlite3\n",
    "import pandas as  pd\n",
    "import numpy as np\n",
    "import datetime\n",
    "import os"
   ]
  },
  {
   "cell_type": "markdown",
   "metadata": {},
   "source": [
    "### <span style=\"color:#9932CC\">**1. Diretórios Mapeados**</span>"
   ]
  },
  {
   "cell_type": "code",
   "execution_count": 2,
   "metadata": {},
   "outputs": [],
   "source": [
    "source_file = '../../Data/Processed/dados_treinoteste.parquet'\n",
    "\n",
    "result_file ='../../Data/Modeling/score_sin.parquet'\n",
    "\n",
    "path_database = '../../Code/Operationalization/db.sqlite3'"
   ]
  },
  {
   "cell_type": "markdown",
   "metadata": {},
   "source": [
    "### <span style=\"color:#9932CC\">**2. Leitura dos dados tratados**</span>"
   ]
  },
  {
   "cell_type": "markdown",
   "metadata": {},
   "source": [
    "<span style=\"color:#191970\">**2.1 Dados de Treino = 22% do Total de Registros**</span>"
   ]
  },
  {
   "cell_type": "code",
   "execution_count": 3,
   "metadata": {},
   "outputs": [
    {
     "data": {
      "text/html": [
       "<div>\n",
       "<style scoped>\n",
       "    .dataframe tbody tr th:only-of-type {\n",
       "        vertical-align: middle;\n",
       "    }\n",
       "\n",
       "    .dataframe tbody tr th {\n",
       "        vertical-align: top;\n",
       "    }\n",
       "\n",
       "    .dataframe thead th {\n",
       "        text-align: right;\n",
       "    }\n",
       "</style>\n",
       "<table border=\"1\" class=\"dataframe\">\n",
       "  <thead>\n",
       "    <tr style=\"text-align: right;\">\n",
       "      <th></th>\n",
       "      <th>id</th>\n",
       "      <th>dsc_texto</th>\n",
       "      <th>tip_legenda</th>\n",
       "      <th>tip_predicao</th>\n",
       "      <th>pct_predicao</th>\n",
       "      <th>din_calculo</th>\n",
       "    </tr>\n",
       "  </thead>\n",
       "  <tbody>\n",
       "    <tr>\n",
       "      <th>0</th>\n",
       "      <td>746687</td>\n",
       "      <td>substituicao do mangote da linha de  fechament...</td>\n",
       "      <td>prop</td>\n",
       "      <td>True</td>\n",
       "      <td>10000.0</td>\n",
       "      <td>2020-09-10 17:39:17.929503</td>\n",
       "    </tr>\n",
       "    <tr>\n",
       "      <th>1</th>\n",
       "      <td>746709</td>\n",
       "      <td>correcao de ponto quente lado  fonte  barra   ...</td>\n",
       "      <td>prop</td>\n",
       "      <td>True</td>\n",
       "      <td>4030.0</td>\n",
       "      <td>2020-09-10 17:39:17.929503</td>\n",
       "    </tr>\n",
       "  </tbody>\n",
       "</table>\n",
       "</div>"
      ],
      "text/plain": [
       "       id                                          dsc_texto tip_legenda  \\\n",
       "0  746687  substituicao do mangote da linha de  fechament...        prop   \n",
       "1  746709  correcao de ponto quente lado  fonte  barra   ...        prop   \n",
       "\n",
       "  tip_predicao  pct_predicao                 din_calculo  \n",
       "0         True       10000.0  2020-09-10 17:39:17.929503  \n",
       "1         True        4030.0  2020-09-10 17:39:17.929503  "
      ]
     },
     "execution_count": 3,
     "metadata": {},
     "output_type": "execute_result"
    }
   ],
   "source": [
    "dataresult = pd.read_parquet(result_file)\n",
    "dataresult.head(2)"
   ]
  },
  {
   "cell_type": "code",
   "execution_count": 4,
   "metadata": {},
   "outputs": [
    {
     "data": {
      "text/plain": [
       "4998"
      ]
     },
     "execution_count": 4,
     "metadata": {},
     "output_type": "execute_result"
    }
   ],
   "source": [
    "dataresult['id'].count()"
   ]
  },
  {
   "cell_type": "markdown",
   "metadata": {},
   "source": [
    "<span style=\"color:#191970\">**2.2 Dados de Treino e Teste = 100% dos Registros**</span>"
   ]
  },
  {
   "cell_type": "code",
   "execution_count": 5,
   "metadata": {},
   "outputs": [
    {
     "data": {
      "text/html": [
       "<div>\n",
       "<style scoped>\n",
       "    .dataframe tbody tr th:only-of-type {\n",
       "        vertical-align: middle;\n",
       "    }\n",
       "\n",
       "    .dataframe tbody tr th {\n",
       "        vertical-align: top;\n",
       "    }\n",
       "\n",
       "    .dataframe thead th {\n",
       "        text-align: right;\n",
       "    }\n",
       "</style>\n",
       "<table border=\"1\" class=\"dataframe\">\n",
       "  <thead>\n",
       "    <tr style=\"text-align: right;\">\n",
       "      <th></th>\n",
       "      <th>id</th>\n",
       "      <th>dsc_texto</th>\n",
       "      <th>tip_supervisao</th>\n",
       "    </tr>\n",
       "  </thead>\n",
       "  <tbody>\n",
       "    <tr>\n",
       "      <th>0</th>\n",
       "      <td>746687</td>\n",
       "      <td>realizar testes nos controles de potencia ativ...</td>\n",
       "      <td>prop</td>\n",
       "    </tr>\n",
       "    <tr>\n",
       "      <th>1</th>\n",
       "      <td>746709</td>\n",
       "      <td>equipe snefabbdorbp  atualizacao de firmware u...</td>\n",
       "      <td>prop</td>\n",
       "    </tr>\n",
       "  </tbody>\n",
       "</table>\n",
       "</div>"
      ],
      "text/plain": [
       "       id                                          dsc_texto tip_supervisao\n",
       "0  746687  realizar testes nos controles de potencia ativ...           prop\n",
       "1  746709  equipe snefabbdorbp  atualizacao de firmware u...           prop"
      ]
     },
     "execution_count": 5,
     "metadata": {},
     "output_type": "execute_result"
    }
   ],
   "source": [
    "datatreinoteste = pd.read_parquet(source_file)\n",
    "datatreinoteste.head(2)"
   ]
  },
  {
   "cell_type": "code",
   "execution_count": 6,
   "metadata": {},
   "outputs": [
    {
     "data": {
      "text/plain": [
       "22717"
      ]
     },
     "execution_count": 6,
     "metadata": {},
     "output_type": "execute_result"
    }
   ],
   "source": [
    "datatreinoteste['id'].count()\n"
   ]
  },
  {
   "cell_type": "markdown",
   "metadata": {},
   "source": [
    "### <span style=\"color:#9932CC\">**3. Parametros Query: Data**</span>"
   ]
  },
  {
   "cell_type": "code",
   "execution_count": 7,
   "metadata": {},
   "outputs": [],
   "source": [
    "df_data = pd.DataFrame(data=dataresult.din_calculo.astype(str))\n",
    "df_data = df_data.min()\n",
    "\n",
    "array_df_data = df_data.to_numpy()\n"
   ]
  },
  {
   "cell_type": "code",
   "execution_count": 8,
   "metadata": {},
   "outputs": [],
   "source": [
    "datatreinoteste['din_evento'] = datetime.datetime.now()\n",
    "datatreinoteste.din_evento = datatreinoteste.din_evento.astype(str)\n",
    "\n",
    "#array_df_data_treino = df_data_treino.to_numpy()"
   ]
  },
  {
   "cell_type": "markdown",
   "metadata": {},
   "source": [
    "### <span style=\"color:#9932CC\">**3. Conversao para Array de Dataframe Completo**</span>"
   ]
  },
  {
   "cell_type": "code",
   "execution_count": 9,
   "metadata": {},
   "outputs": [],
   "source": [
    "array_result = dataresult.to_numpy()\n"
   ]
  },
  {
   "cell_type": "code",
   "execution_count": 10,
   "metadata": {},
   "outputs": [],
   "source": [
    "datatreinoteste = datatreinoteste[['id','din_evento','dsc_texto','tip_supervisao']]\n",
    "array_testetreino = datatreinoteste.to_numpy()\n"
   ]
  },
  {
   "cell_type": "markdown",
   "metadata": {},
   "source": [
    "### <span style=\"color:#9932CC\">**4. Salva Dados em Database**</span>"
   ]
  },
  {
   "cell_type": "markdown",
   "metadata": {},
   "source": [
    "<span style=\"color:#191970\">**4.1 Exportar os dados originais usados no Treino e Teste e Resultadosde Predição para Base de Dados**</span>"
   ]
  },
  {
   "cell_type": "code",
   "execution_count": 59,
   "metadata": {},
   "outputs": [
    {
     "name": "stdout",
     "output_type": "stream",
     "text": [
      "Conectado com sucesso ao SQLite\n",
      "Total(Teste-Treino) de registros Inseridos:  22717\n",
      "Total(Teste-Treino) de registros Inseridos:  4998\n",
      "Conexão com SQLite fechada\n"
     ]
    }
   ],
   "source": [
    "sqliteConnection = sqlite3.connect(path_database)\n",
    "\n",
    "cursor = sqliteConnection.cursor()\n",
    "print(\"Conectado com sucesso ao SQLite\")\n",
    "\n",
    "#Insere informações no banco de dados\n",
    "try:\n",
    "    sqlite_insert_query1 = \"\"\"INSERT INTO applications_coletatestetreino(id, din_evento,dsc_texto,tip_supervisao) \n",
    "                             VALUES  (?, ?, ?, ?) \"\"\"\n",
    "\n",
    "    cursor.executemany(sqlite_insert_query1, array_testetreino)\n",
    "    sqliteConnection.commit()\n",
    "    print(\"Total(Teste-Treino) de registros Inseridos: \", cursor.rowcount)\n",
    "    \n",
    "        \n",
    "    sqlite_insert_query2 = \"\"\"INSERT INTO applications_treinoteste(id,dsc_texto,tip_legenda,tip_predicao,pct_predicao,din_calculo) \n",
    "                             VALUES  (?, ?, ?, ?, ?, ? ) \"\"\"\n",
    "\n",
    "    cursor.executemany(sqlite_insert_query2, array_result)\n",
    "    sqliteConnection.commit()\n",
    "    print(\"Total(Teste-Treino) de registros Inseridos: \", cursor.rowcount)\n",
    "    \n",
    "    sqlite_update_query = \"\"\"UPDATE applications_treinoteste set pct_predicao = CAST(CAST(pct_predicao AS DECIMAL(4,2)) AS VARCHAR(10))\"\"\"\n",
    "    cursor.execute(sqlite_update_query)\n",
    "    sqliteConnection.commit()      \n",
    "        \n",
    "    cursor.close()\n",
    "               \n",
    "except sqlite3.Error as error:\n",
    "    print(\"Falha ao inserir registros no database\", error)\n",
    "finally:\n",
    "   if (sqliteConnection):\n",
    "       sqliteConnection.close()\n",
    "   print(\"Conexão com SQLite fechada\")\n"
   ]
  },
  {
   "cell_type": "markdown",
   "metadata": {},
   "source": [
    "### <span style=\"color:red\"> Não executar a estatística na fase de modelo o trecho abaixo"
   ]
  },
  {
   "cell_type": "markdown",
   "metadata": {},
   "source": [
    "<span style=\"color:#191970\">**4.2 Exportar os dados de teste Resutantes para Base de Dados**</span>\n",
    "\n",
    "sqliteConnection = sqlite3.connect(path_database)\n",
    "\n",
    "cursor = sqliteConnection.cursor()\n",
    "print(\"Conectado com sucesso ao SQLite\")\n",
    "\n",
    "\n",
    "try:\n",
    "    sqlite_select_true = \"\"\"SELECT COUNT(tip_predicao) as total_true from applications_treinoteste WHERE tip_predicao = 'True' \"\"\"\n",
    "    cursor.execute(sqlite_select_true)\n",
    "    (total_true,) = cursor.fetchone()\n",
    "    d_true = np.array(total_true)\n",
    "    array_true = np.append(array_df_data, d_true)   \n",
    "       \n",
    "    \n",
    "    sqlite_insert_true = \"\"\"INSERT INTO applications_estatistica(din_execucao,dsc_predicao,qtd_registro, tip_legenda) \n",
    "                             VALUES  (?, 'True', ?, 'OPERADOR' ) \"\"\"\n",
    "    cursor.execute(sqlite_insert_true, array_true)\n",
    "    sqliteConnection.commit() \n",
    "    \n",
    "    \n",
    "    \n",
    "    sqlite_select_false = \"\"\"SELECT COUNT(tip_predicao) as total_false from applications_treinoteste WHERE tip_predicao = 'False' \"\"\"\n",
    "    cursor.execute(sqlite_select_false)\n",
    "    (total_false,) = cursor.fetchone()\n",
    "    d_false = np.array(total_false)\n",
    "    array_false = np.append(array_df_data, d_false) \n",
    "    \n",
    "    sqlite_insert_false = \"\"\"INSERT INTO applications_estatistica(din_execucao,dsc_predicao,qtd_registro, tip_legenda) \n",
    "                             VALUES  (?, 'False', ? , 'PROPRIETARIO' ) \"\"\"\n",
    "    \n",
    "    cursor.execute(sqlite_insert_false, array_false)   \n",
    "    sqliteConnection.commit() \n",
    "        \n",
    "    cursor.close()\n",
    "               \n",
    "except sqlite3.Error as error:\n",
    "    print(\"Erro:  \", error)\n",
    "finally:\n",
    "   if (sqliteConnection):\n",
    "       sqliteConnection.close()\n",
    "   print(\"Conexão com SQLite fechada\")\n"
   ]
  },
  {
   "cell_type": "code",
   "execution_count": null,
   "metadata": {},
   "outputs": [],
   "source": []
  }
 ],
 "metadata": {
  "kernelspec": {
   "display_name": "Python 3",
   "language": "python",
   "name": "python3"
  },
  "language_info": {
   "codemirror_mode": {
    "name": "ipython",
    "version": 3
   },
   "file_extension": ".py",
   "mimetype": "text/x-python",
   "name": "python",
   "nbconvert_exporter": "python",
   "pygments_lexer": "ipython3",
   "version": "3.7.6"
  }
 },
 "nbformat": 4,
 "nbformat_minor": 4
}
