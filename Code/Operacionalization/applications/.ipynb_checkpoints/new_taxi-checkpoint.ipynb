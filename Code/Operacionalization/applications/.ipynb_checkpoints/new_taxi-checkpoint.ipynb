{
 "cells": [
  {
   "cell_type": "code",
   "execution_count": 7,
   "metadata": {},
   "outputs": [],
   "source": [
    "import requests\n",
    "from rest_framework import status\n",
    "import json\n",
    "import pandas\n",
    "\n",
    "WORKDIR = 'C:/Users/Paulo/Desktop/infnet-projeto-final/mit_data_science/'\n",
    "\n",
    "\n",
    "taxi_data = WORKDIR + '/Data/Processed/nyctaxi_data_analysis_green.parquet'\n",
    "\n",
    "number_of_taxis = 40\n",
    "\n",
    "base_url = 'http://127.0.0.1:8000/'"
   ]
  },
  {
   "cell_type": "markdown",
   "metadata": {},
   "source": [
    "# Recuperar Dados "
   ]
  },
  {
   "cell_type": "code",
   "execution_count": 8,
   "metadata": {},
   "outputs": [
    {
     "name": "stdout",
     "output_type": "stream",
     "text": [
      "(40, 13)\n"
     ]
    },
    {
     "data": {
      "text/html": [
       "<div>\n",
       "<style scoped>\n",
       "    .dataframe tbody tr th:only-of-type {\n",
       "        vertical-align: middle;\n",
       "    }\n",
       "\n",
       "    .dataframe tbody tr th {\n",
       "        vertical-align: top;\n",
       "    }\n",
       "\n",
       "    .dataframe thead th {\n",
       "        text-align: right;\n",
       "    }\n",
       "</style>\n",
       "<table border=\"1\" class=\"dataframe\">\n",
       "  <thead>\n",
       "    <tr style=\"text-align: right;\">\n",
       "      <th></th>\n",
       "      <th>dropoff_latitude</th>\n",
       "      <th>dropoff_longitude</th>\n",
       "      <th>fare_amount</th>\n",
       "      <th>passenger_count</th>\n",
       "      <th>pickup_latitude</th>\n",
       "      <th>pickup_longitude</th>\n",
       "      <th>hour_of_day</th>\n",
       "      <th>day_of_week</th>\n",
       "      <th>day_of_year</th>\n",
       "      <th>year</th>\n",
       "      <th>eucl_distance</th>\n",
       "      <th>manh_distance</th>\n",
       "      <th>idTaxi</th>\n",
       "    </tr>\n",
       "  </thead>\n",
       "  <tbody>\n",
       "    <tr>\n",
       "      <th>5888</th>\n",
       "      <td>40.767437</td>\n",
       "      <td>-73.922501</td>\n",
       "      <td>5.0</td>\n",
       "      <td>1</td>\n",
       "      <td>40.756371</td>\n",
       "      <td>-73.929276</td>\n",
       "      <td>3</td>\n",
       "      <td>0</td>\n",
       "      <td>195</td>\n",
       "      <td>2014</td>\n",
       "      <td>1.356814</td>\n",
       "      <td>1.984489</td>\n",
       "      <td>5888</td>\n",
       "    </tr>\n",
       "    <tr>\n",
       "      <th>6108</th>\n",
       "      <td>40.752586</td>\n",
       "      <td>-73.854912</td>\n",
       "      <td>8.5</td>\n",
       "      <td>1</td>\n",
       "      <td>40.742725</td>\n",
       "      <td>-73.851051</td>\n",
       "      <td>19</td>\n",
       "      <td>1</td>\n",
       "      <td>302</td>\n",
       "      <td>2013</td>\n",
       "      <td>1.144062</td>\n",
       "      <td>1.526236</td>\n",
       "      <td>6108</td>\n",
       "    </tr>\n",
       "    <tr>\n",
       "      <th>6466</th>\n",
       "      <td>40.754288</td>\n",
       "      <td>-73.867355</td>\n",
       "      <td>5.5</td>\n",
       "      <td>5</td>\n",
       "      <td>40.750500</td>\n",
       "      <td>-73.876678</td>\n",
       "      <td>19</td>\n",
       "      <td>5</td>\n",
       "      <td>348</td>\n",
       "      <td>2013</td>\n",
       "      <td>0.891432</td>\n",
       "      <td>1.458347</td>\n",
       "      <td>6466</td>\n",
       "    </tr>\n",
       "    <tr>\n",
       "      <th>6573</th>\n",
       "      <td>40.731842</td>\n",
       "      <td>-73.855812</td>\n",
       "      <td>17.0</td>\n",
       "      <td>1</td>\n",
       "      <td>40.744621</td>\n",
       "      <td>-73.911301</td>\n",
       "      <td>14</td>\n",
       "      <td>2</td>\n",
       "      <td>352</td>\n",
       "      <td>2013</td>\n",
       "      <td>4.887760</td>\n",
       "      <td>7.593418</td>\n",
       "      <td>6573</td>\n",
       "    </tr>\n",
       "    <tr>\n",
       "      <th>5210</th>\n",
       "      <td>40.869026</td>\n",
       "      <td>-73.915894</td>\n",
       "      <td>8.0</td>\n",
       "      <td>2</td>\n",
       "      <td>40.853741</td>\n",
       "      <td>-73.930428</td>\n",
       "      <td>22</td>\n",
       "      <td>0</td>\n",
       "      <td>188</td>\n",
       "      <td>2014</td>\n",
       "      <td>2.094165</td>\n",
       "      <td>3.316817</td>\n",
       "      <td>5210</td>\n",
       "    </tr>\n",
       "  </tbody>\n",
       "</table>\n",
       "</div>"
      ],
      "text/plain": [
       "      dropoff_latitude  dropoff_longitude  fare_amount  passenger_count  \\\n",
       "5888         40.767437         -73.922501          5.0                1   \n",
       "6108         40.752586         -73.854912          8.5                1   \n",
       "6466         40.754288         -73.867355          5.5                5   \n",
       "6573         40.731842         -73.855812         17.0                1   \n",
       "5210         40.869026         -73.915894          8.0                2   \n",
       "\n",
       "      pickup_latitude  pickup_longitude  hour_of_day  day_of_week  \\\n",
       "5888        40.756371        -73.929276            3            0   \n",
       "6108        40.742725        -73.851051           19            1   \n",
       "6466        40.750500        -73.876678           19            5   \n",
       "6573        40.744621        -73.911301           14            2   \n",
       "5210        40.853741        -73.930428           22            0   \n",
       "\n",
       "      day_of_year  year  eucl_distance  manh_distance  idTaxi  \n",
       "5888          195  2014       1.356814       1.984489    5888  \n",
       "6108          302  2013       1.144062       1.526236    6108  \n",
       "6466          348  2013       0.891432       1.458347    6466  \n",
       "6573          352  2013       4.887760       7.593418    6573  \n",
       "5210          188  2014       2.094165       3.316817    5210  "
      ]
     },
     "execution_count": 8,
     "metadata": {},
     "output_type": "execute_result"
    }
   ],
   "source": [
    "data = pandas.read_parquet(taxi_data).sample(number_of_taxis)\n",
    "data['idTaxi'] = data['pickup_latitude'].astype(str)+'_'+data['pickup_longitude'].astype(str)+'_'+data['day_of_year'].astype(str)+'_'+data['year'].astype(str)\n",
    "print(data.shape)\n",
    "data.head()"
   ]
  },
  {
   "cell_type": "code",
   "execution_count": 9,
   "metadata": {},
   "outputs": [
    {
     "data": {
      "text/plain": [
       "dropoff_latitude     float64\n",
       "dropoff_longitude    float64\n",
       "fare_amount          float64\n",
       "passenger_count        int32\n",
       "pickup_latitude      float64\n",
       "pickup_longitude     float64\n",
       "hour_of_day            int64\n",
       "day_of_week            int64\n",
       "day_of_year            int64\n",
       "year                   int64\n",
       "eucl_distance        float64\n",
       "manh_distance        float64\n",
       "idTaxi                 int64\n",
       "dtype: object"
      ]
     },
     "execution_count": 9,
     "metadata": {},
     "output_type": "execute_result"
    }
   ],
   "source": [
    "data.dtypes"
   ]
  },
  {
   "cell_type": "markdown",
   "metadata": {},
   "source": [
    "# Post data "
   ]
  },
  {
   "cell_type": "code",
   "execution_count": 10,
   "metadata": {},
   "outputs": [],
   "source": [
    "url = base_url + 'taxi/'\n",
    "\n",
    "for i, row in data.iterrows():\n",
    "    post_data = row.to_dict()\n",
    "    response = requests.post(url, post_data)\n",
    "\n",
    "    if response.status_code == status.HTTP_400_BAD_REQUEST:\n",
    "        print('Tarifa ja existente')\n",
    "   \n",
    "    "
   ]
  },
  {
   "cell_type": "code",
   "execution_count": 9,
   "metadata": {},
   "outputs": [
    {
     "data": {
      "text/plain": [
       "{'dropoff_latitude': 40.83982467651367,\n",
       " 'dropoff_longitude': -73.8880386352539,\n",
       " 'fare_amount': 3.5,\n",
       " 'passenger_count': 1.0,\n",
       " 'pickup_latitude': 40.84058380126953,\n",
       " 'pickup_longitude': -73.88155364990234,\n",
       " 'hour_of_day': 11.0,\n",
       " 'day_of_week': 3.0,\n",
       " 'day_of_year': 303.0,\n",
       " 'year': 2014.0,\n",
       " 'eucl_distance': 0.5522015687354498,\n",
       " 'manh_distance': 0.8057611591449191,\n",
       " 'idTaxi': 5451.0}"
      ]
     },
     "execution_count": 9,
     "metadata": {},
     "output_type": "execute_result"
    }
   ],
   "source": [
    "post_data"
   ]
  },
  {
   "cell_type": "code",
   "execution_count": null,
   "metadata": {},
   "outputs": [],
   "source": []
  }
 ],
 "metadata": {
  "kernelspec": {
   "display_name": "Python 3",
   "language": "python",
   "name": "python3"
  },
  "language_info": {
   "codemirror_mode": {
    "name": "ipython",
    "version": 3
   },
   "file_extension": ".py",
   "mimetype": "text/x-python",
   "name": "python",
   "nbconvert_exporter": "python",
   "pygments_lexer": "ipython3",
   "version": "3.8.3"
  }
 },
 "nbformat": 4,
 "nbformat_minor": 4
}
