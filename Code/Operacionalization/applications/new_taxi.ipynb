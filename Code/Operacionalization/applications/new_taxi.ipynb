{
 "cells": [
  {
   "cell_type": "code",
   "execution_count": 5,
   "metadata": {},
   "outputs": [],
   "source": [
    "import requests\n",
    "from rest_framework import status\n",
    "import json\n",
    "import pandas\n",
    "\n",
    "WORKDIR = 'C:/Users/Paulo/Desktop/infnet-projeto-final/mit_data_science/'\n",
    "\n",
    "\n",
    "taxi_data = WORKDIR + '/Data/Processed/nyctaxi_data_analysis_green.parquet'\n",
    "\n",
    "number_of_taxis = 10\n",
    "\n",
    "base_url = 'http://127.0.0.1:8000/'"
   ]
  },
  {
   "cell_type": "markdown",
   "metadata": {},
   "source": [
    "# Recuperar Dados "
   ]
  },
  {
   "cell_type": "code",
   "execution_count": 12,
   "metadata": {},
   "outputs": [
    {
     "name": "stdout",
     "output_type": "stream",
     "text": [
      "(10, 13)\n"
     ]
    },
    {
     "data": {
      "text/html": [
       "<div>\n",
       "<style scoped>\n",
       "    .dataframe tbody tr th:only-of-type {\n",
       "        vertical-align: middle;\n",
       "    }\n",
       "\n",
       "    .dataframe tbody tr th {\n",
       "        vertical-align: top;\n",
       "    }\n",
       "\n",
       "    .dataframe thead th {\n",
       "        text-align: right;\n",
       "    }\n",
       "</style>\n",
       "<table border=\"1\" class=\"dataframe\">\n",
       "  <thead>\n",
       "    <tr style=\"text-align: right;\">\n",
       "      <th></th>\n",
       "      <th>dropoff_latitude</th>\n",
       "      <th>dropoff_longitude</th>\n",
       "      <th>fare_amount</th>\n",
       "      <th>passenger_count</th>\n",
       "      <th>pickup_latitude</th>\n",
       "      <th>pickup_longitude</th>\n",
       "      <th>hour_of_day</th>\n",
       "      <th>day_of_week</th>\n",
       "      <th>day_of_year</th>\n",
       "      <th>year</th>\n",
       "      <th>eucl_distance</th>\n",
       "      <th>manh_distance</th>\n",
       "      <th>idTaxi</th>\n",
       "    </tr>\n",
       "  </thead>\n",
       "  <tbody>\n",
       "    <tr>\n",
       "      <th>5501</th>\n",
       "      <td>40.672050</td>\n",
       "      <td>-73.976433</td>\n",
       "      <td>9.5</td>\n",
       "      <td>1</td>\n",
       "      <td>40.685905</td>\n",
       "      <td>-73.978653</td>\n",
       "      <td>20</td>\n",
       "      <td>1</td>\n",
       "      <td>91</td>\n",
       "      <td>2014</td>\n",
       "      <td>1.552425</td>\n",
       "      <td>1.788035</td>\n",
       "      <td>5501</td>\n",
       "    </tr>\n",
       "    <tr>\n",
       "      <th>5644</th>\n",
       "      <td>40.714436</td>\n",
       "      <td>-73.956787</td>\n",
       "      <td>3.0</td>\n",
       "      <td>1</td>\n",
       "      <td>40.716019</td>\n",
       "      <td>-73.961998</td>\n",
       "      <td>3</td>\n",
       "      <td>0</td>\n",
       "      <td>167</td>\n",
       "      <td>2014</td>\n",
       "      <td>0.473294</td>\n",
       "      <td>0.755693</td>\n",
       "      <td>5644</td>\n",
       "    </tr>\n",
       "    <tr>\n",
       "      <th>6684</th>\n",
       "      <td>40.798573</td>\n",
       "      <td>-73.939537</td>\n",
       "      <td>7.0</td>\n",
       "      <td>1</td>\n",
       "      <td>40.856762</td>\n",
       "      <td>-73.895355</td>\n",
       "      <td>21</td>\n",
       "      <td>0</td>\n",
       "      <td>364</td>\n",
       "      <td>2013</td>\n",
       "      <td>7.464565</td>\n",
       "      <td>11.386733</td>\n",
       "      <td>6684</td>\n",
       "    </tr>\n",
       "    <tr>\n",
       "      <th>6497</th>\n",
       "      <td>40.725105</td>\n",
       "      <td>-73.812637</td>\n",
       "      <td>11.0</td>\n",
       "      <td>1</td>\n",
       "      <td>40.721687</td>\n",
       "      <td>-73.844177</td>\n",
       "      <td>16</td>\n",
       "      <td>2</td>\n",
       "      <td>345</td>\n",
       "      <td>2013</td>\n",
       "      <td>2.685781</td>\n",
       "      <td>3.888360</td>\n",
       "      <td>6497</td>\n",
       "    </tr>\n",
       "    <tr>\n",
       "      <th>5096</th>\n",
       "      <td>40.768581</td>\n",
       "      <td>-73.989296</td>\n",
       "      <td>14.0</td>\n",
       "      <td>1</td>\n",
       "      <td>40.804802</td>\n",
       "      <td>-73.966110</td>\n",
       "      <td>23</td>\n",
       "      <td>5</td>\n",
       "      <td>18</td>\n",
       "      <td>2014</td>\n",
       "      <td>4.477061</td>\n",
       "      <td>6.607751</td>\n",
       "      <td>5096</td>\n",
       "    </tr>\n",
       "  </tbody>\n",
       "</table>\n",
       "</div>"
      ],
      "text/plain": [
       "      dropoff_latitude  dropoff_longitude  fare_amount  passenger_count  \\\n",
       "5501         40.672050         -73.976433          9.5                1   \n",
       "5644         40.714436         -73.956787          3.0                1   \n",
       "6684         40.798573         -73.939537          7.0                1   \n",
       "6497         40.725105         -73.812637         11.0                1   \n",
       "5096         40.768581         -73.989296         14.0                1   \n",
       "\n",
       "      pickup_latitude  pickup_longitude  hour_of_day  day_of_week  \\\n",
       "5501        40.685905        -73.978653           20            1   \n",
       "5644        40.716019        -73.961998            3            0   \n",
       "6684        40.856762        -73.895355           21            0   \n",
       "6497        40.721687        -73.844177           16            2   \n",
       "5096        40.804802        -73.966110           23            5   \n",
       "\n",
       "      day_of_year  year  eucl_distance  manh_distance  idTaxi  \n",
       "5501           91  2014       1.552425       1.788035    5501  \n",
       "5644          167  2014       0.473294       0.755693    5644  \n",
       "6684          364  2013       7.464565      11.386733    6684  \n",
       "6497          345  2013       2.685781       3.888360    6497  \n",
       "5096           18  2014       4.477061       6.607751    5096  "
      ]
     },
     "execution_count": 12,
     "metadata": {},
     "output_type": "execute_result"
    }
   ],
   "source": [
    "data = pandas.read_parquet(taxi_data).sample(number_of_taxis)\n",
    "data['idTaxi'] = data.index.values\n",
    "print(data.shape)\n",
    "data.head()"
   ]
  },
  {
   "cell_type": "code",
   "execution_count": 13,
   "metadata": {},
   "outputs": [
    {
     "data": {
      "text/plain": [
       "dropoff_latitude     float64\n",
       "dropoff_longitude    float64\n",
       "fare_amount          float64\n",
       "passenger_count        int32\n",
       "pickup_latitude      float64\n",
       "pickup_longitude     float64\n",
       "hour_of_day            int64\n",
       "day_of_week            int64\n",
       "day_of_year            int64\n",
       "year                   int64\n",
       "eucl_distance        float64\n",
       "manh_distance        float64\n",
       "idTaxi                 int64\n",
       "dtype: object"
      ]
     },
     "execution_count": 13,
     "metadata": {},
     "output_type": "execute_result"
    }
   ],
   "source": [
    "data.dtypes"
   ]
  },
  {
   "cell_type": "markdown",
   "metadata": {},
   "source": [
    "# Post data "
   ]
  },
  {
   "cell_type": "code",
   "execution_count": 14,
   "metadata": {},
   "outputs": [],
   "source": [
    "url = base_url + 'taxi/'\n",
    "\n",
    "for i, row in data.iterrows():\n",
    "    post_data = row.to_dict()\n",
    "    response = requests.post(url, post_data)\n",
    "\n",
    "    if response.status_code == status.HTTP_400_BAD_REQUEST:\n",
    "        print('Tarifa ja existente')\n",
    "   \n",
    "    "
   ]
  },
  {
   "cell_type": "code",
   "execution_count": 9,
   "metadata": {},
   "outputs": [
    {
     "data": {
      "text/plain": [
       "{'dropoff_latitude': 40.83982467651367,\n",
       " 'dropoff_longitude': -73.8880386352539,\n",
       " 'fare_amount': 3.5,\n",
       " 'passenger_count': 1.0,\n",
       " 'pickup_latitude': 40.84058380126953,\n",
       " 'pickup_longitude': -73.88155364990234,\n",
       " 'hour_of_day': 11.0,\n",
       " 'day_of_week': 3.0,\n",
       " 'day_of_year': 303.0,\n",
       " 'year': 2014.0,\n",
       " 'eucl_distance': 0.5522015687354498,\n",
       " 'manh_distance': 0.8057611591449191,\n",
       " 'idTaxi': 5451.0}"
      ]
     },
     "execution_count": 9,
     "metadata": {},
     "output_type": "execute_result"
    }
   ],
   "source": [
    "post_data"
   ]
  },
  {
   "cell_type": "code",
   "execution_count": null,
   "metadata": {},
   "outputs": [],
   "source": []
  }
 ],
 "metadata": {
  "kernelspec": {
   "display_name": "Python 3",
   "language": "python",
   "name": "python3"
  },
  "language_info": {
   "codemirror_mode": {
    "name": "ipython",
    "version": 3
   },
   "file_extension": ".py",
   "mimetype": "text/x-python",
   "name": "python",
   "nbconvert_exporter": "python",
   "pygments_lexer": "ipython3",
   "version": "3.8.3"
  }
 },
 "nbformat": 4,
 "nbformat_minor": 4
}
