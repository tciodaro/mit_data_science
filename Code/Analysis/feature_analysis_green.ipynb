{
 "cells": [
  {
   "cell_type": "code",
   "execution_count": 1,
   "metadata": {},
   "outputs": [],
   "source": [
    "import matplotlib.pyplot as plt\n",
    "import pandas as pd\n",
    "import datetime\n",
    "import numpy as np\n",
    "import seaborn as sns\n",
    "\n",
    "%matplotlib inline\n",
    "plt.style.use('ggplot')\n",
    "\n",
    "import warnings\n",
    "warnings.filterwarnings(\"ignore\")\n",
    "\n",
    "%store -r WORKDIR\n",
    "\n",
    "if 'WORKDIR' not in dir():\n",
    "    WORKDIR = 'C:/Users/Paulo/Desktop/infnet-projeto-final/mit_data_science/'\n",
    "\n",
    "data_proc_file = WORKDIR + '/Data/Processed/nyctaxi_data_modeling_green.parquet'\n",
    "save_file = WORKDIR + '/Data/Processed/nyctaxi_data_analysis_green.parquet'\n",
    "\n",
    "pd.plotting.register_matplotlib_converters()"
   ]
  },
  {
   "cell_type": "markdown",
   "metadata": {},
   "source": [
    "# Leitura dos Dados "
   ]
  },
  {
   "cell_type": "code",
   "execution_count": 2,
   "metadata": {},
   "outputs": [
    {
     "name": "stdout",
     "output_type": "stream",
     "text": [
      "shape: (3942, 7)\n",
      "columns: Index(['dropoff_latitude', 'dropoff_longitude', 'fare_amount',\n",
      "       'passenger_count', 'pickup_latitude', 'pickup_longitude',\n",
      "       'pickup_datetime'],\n",
      "      dtype='object')\n"
     ]
    }
   ],
   "source": [
    "train = pd.read_parquet(data_proc_file)\n",
    "\n",
    "print('shape:', train.shape)\n",
    "print('columns:', train.columns)"
   ]
  },
  {
   "cell_type": "markdown",
   "metadata": {},
   "source": [
    "## Engineering features\n",
    "\n",
    "Achamos que os dois fatores que mais importam na tarifa do táxi é a duração da corrida e a distância.\n",
    "A distância já existe no dataset, porém podemos aplicar outras distâncias como a Euclidiana e Manhattan.\n",
    "\n",
    "### Duração\n",
    "\n",
    "A duração da viagem não é dada e não podemos calcular porque a hora de chegada não é dada. Isso faz sentido\n",
    "\n",
    "porque a intenção do modelo é prever a tarifa **antes** da viagem acontecer\n",
    "\n",
    "Algo que influencia a duração da viagem é a condição do tráfego. Podemos deduzir usando `pickup_datetime`.\n",
    "\n",
    "* *hora do dia*: tráfego será menor durante a noite\n",
    "* *dia da semana*: tráfego será menor nos finais de semana\n",
    "* *dia do ano*: feriados e férias, por exemplo\n",
    "* *ano*: pode ser influenciado por mudanças nas regras de transporte ou inflação"
   ]
  },
  {
   "cell_type": "code",
   "execution_count": 3,
   "metadata": {},
   "outputs": [],
   "source": [
    "train['hour_of_day'] = train['pickup_datetime'].map(lambda date: date.timetuple().tm_hour)"
   ]
  },
  {
   "cell_type": "code",
   "execution_count": 4,
   "metadata": {},
   "outputs": [
    {
     "data": {
      "text/html": [
       "<div>\n",
       "<style scoped>\n",
       "    .dataframe tbody tr th:only-of-type {\n",
       "        vertical-align: middle;\n",
       "    }\n",
       "\n",
       "    .dataframe tbody tr th {\n",
       "        vertical-align: top;\n",
       "    }\n",
       "\n",
       "    .dataframe thead th {\n",
       "        text-align: right;\n",
       "    }\n",
       "</style>\n",
       "<table border=\"1\" class=\"dataframe\">\n",
       "  <thead>\n",
       "    <tr style=\"text-align: right;\">\n",
       "      <th></th>\n",
       "      <th>dropoff_latitude</th>\n",
       "      <th>dropoff_longitude</th>\n",
       "      <th>fare_amount</th>\n",
       "      <th>passenger_count</th>\n",
       "      <th>pickup_latitude</th>\n",
       "      <th>pickup_longitude</th>\n",
       "      <th>pickup_datetime</th>\n",
       "      <th>hour_of_day</th>\n",
       "    </tr>\n",
       "  </thead>\n",
       "  <tbody>\n",
       "    <tr>\n",
       "      <th>3000</th>\n",
       "      <td>40.698044</td>\n",
       "      <td>-73.924278</td>\n",
       "      <td>8.0</td>\n",
       "      <td>1</td>\n",
       "      <td>40.680611</td>\n",
       "      <td>-73.928642</td>\n",
       "      <td>2016-01-01 00:29:24</td>\n",
       "      <td>0</td>\n",
       "    </tr>\n",
       "    <tr>\n",
       "      <th>3001</th>\n",
       "      <td>40.761379</td>\n",
       "      <td>-73.923920</td>\n",
       "      <td>15.5</td>\n",
       "      <td>1</td>\n",
       "      <td>40.723175</td>\n",
       "      <td>-73.952675</td>\n",
       "      <td>2016-01-01 00:19:39</td>\n",
       "      <td>0</td>\n",
       "    </tr>\n",
       "    <tr>\n",
       "      <th>3002</th>\n",
       "      <td>40.646072</td>\n",
       "      <td>-74.013161</td>\n",
       "      <td>16.5</td>\n",
       "      <td>1</td>\n",
       "      <td>40.676105</td>\n",
       "      <td>-73.971611</td>\n",
       "      <td>2016-01-01 00:19:33</td>\n",
       "      <td>0</td>\n",
       "    </tr>\n",
       "    <tr>\n",
       "      <th>3003</th>\n",
       "      <td>40.689034</td>\n",
       "      <td>-74.000648</td>\n",
       "      <td>13.5</td>\n",
       "      <td>1</td>\n",
       "      <td>40.669579</td>\n",
       "      <td>-73.989502</td>\n",
       "      <td>2016-01-01 00:22:12</td>\n",
       "      <td>0</td>\n",
       "    </tr>\n",
       "    <tr>\n",
       "      <th>3004</th>\n",
       "      <td>40.663013</td>\n",
       "      <td>-73.940720</td>\n",
       "      <td>12.0</td>\n",
       "      <td>1</td>\n",
       "      <td>40.682854</td>\n",
       "      <td>-73.964729</td>\n",
       "      <td>2016-01-01 00:24:01</td>\n",
       "      <td>0</td>\n",
       "    </tr>\n",
       "  </tbody>\n",
       "</table>\n",
       "</div>"
      ],
      "text/plain": [
       "      dropoff_latitude  dropoff_longitude  fare_amount  passenger_count  \\\n",
       "3000         40.698044         -73.924278          8.0                1   \n",
       "3001         40.761379         -73.923920         15.5                1   \n",
       "3002         40.646072         -74.013161         16.5                1   \n",
       "3003         40.689034         -74.000648         13.5                1   \n",
       "3004         40.663013         -73.940720         12.0                1   \n",
       "\n",
       "      pickup_latitude  pickup_longitude     pickup_datetime  hour_of_day  \n",
       "3000        40.680611        -73.928642 2016-01-01 00:29:24            0  \n",
       "3001        40.723175        -73.952675 2016-01-01 00:19:39            0  \n",
       "3002        40.676105        -73.971611 2016-01-01 00:19:33            0  \n",
       "3003        40.669579        -73.989502 2016-01-01 00:22:12            0  \n",
       "3004        40.682854        -73.964729 2016-01-01 00:24:01            0  "
      ]
     },
     "execution_count": 4,
     "metadata": {},
     "output_type": "execute_result"
    }
   ],
   "source": [
    "train.head()"
   ]
  },
  {
   "cell_type": "code",
   "execution_count": 5,
   "metadata": {},
   "outputs": [],
   "source": [
    "train['day_of_week'] = train['pickup_datetime'].map(lambda date: date.timetuple().tm_wday)\n",
    "train['day_of_year'] = train['pickup_datetime'].map(lambda date: date.timetuple().tm_yday)\n",
    "train['year'] = train['pickup_datetime'].map(lambda date: date.timetuple().tm_year)"
   ]
  },
  {
   "cell_type": "code",
   "execution_count": 6,
   "metadata": {},
   "outputs": [
    {
     "data": {
      "text/html": [
       "<div>\n",
       "<style scoped>\n",
       "    .dataframe tbody tr th:only-of-type {\n",
       "        vertical-align: middle;\n",
       "    }\n",
       "\n",
       "    .dataframe tbody tr th {\n",
       "        vertical-align: top;\n",
       "    }\n",
       "\n",
       "    .dataframe thead th {\n",
       "        text-align: right;\n",
       "    }\n",
       "</style>\n",
       "<table border=\"1\" class=\"dataframe\">\n",
       "  <thead>\n",
       "    <tr style=\"text-align: right;\">\n",
       "      <th></th>\n",
       "      <th>dropoff_latitude</th>\n",
       "      <th>dropoff_longitude</th>\n",
       "      <th>fare_amount</th>\n",
       "      <th>passenger_count</th>\n",
       "      <th>pickup_latitude</th>\n",
       "      <th>pickup_longitude</th>\n",
       "      <th>pickup_datetime</th>\n",
       "      <th>hour_of_day</th>\n",
       "      <th>day_of_week</th>\n",
       "      <th>day_of_year</th>\n",
       "      <th>year</th>\n",
       "    </tr>\n",
       "  </thead>\n",
       "  <tbody>\n",
       "    <tr>\n",
       "      <th>3000</th>\n",
       "      <td>40.698044</td>\n",
       "      <td>-73.924278</td>\n",
       "      <td>8.0</td>\n",
       "      <td>1</td>\n",
       "      <td>40.680611</td>\n",
       "      <td>-73.928642</td>\n",
       "      <td>2016-01-01 00:29:24</td>\n",
       "      <td>0</td>\n",
       "      <td>4</td>\n",
       "      <td>1</td>\n",
       "      <td>2016</td>\n",
       "    </tr>\n",
       "    <tr>\n",
       "      <th>3001</th>\n",
       "      <td>40.761379</td>\n",
       "      <td>-73.923920</td>\n",
       "      <td>15.5</td>\n",
       "      <td>1</td>\n",
       "      <td>40.723175</td>\n",
       "      <td>-73.952675</td>\n",
       "      <td>2016-01-01 00:19:39</td>\n",
       "      <td>0</td>\n",
       "      <td>4</td>\n",
       "      <td>1</td>\n",
       "      <td>2016</td>\n",
       "    </tr>\n",
       "    <tr>\n",
       "      <th>3002</th>\n",
       "      <td>40.646072</td>\n",
       "      <td>-74.013161</td>\n",
       "      <td>16.5</td>\n",
       "      <td>1</td>\n",
       "      <td>40.676105</td>\n",
       "      <td>-73.971611</td>\n",
       "      <td>2016-01-01 00:19:33</td>\n",
       "      <td>0</td>\n",
       "      <td>4</td>\n",
       "      <td>1</td>\n",
       "      <td>2016</td>\n",
       "    </tr>\n",
       "    <tr>\n",
       "      <th>3003</th>\n",
       "      <td>40.689034</td>\n",
       "      <td>-74.000648</td>\n",
       "      <td>13.5</td>\n",
       "      <td>1</td>\n",
       "      <td>40.669579</td>\n",
       "      <td>-73.989502</td>\n",
       "      <td>2016-01-01 00:22:12</td>\n",
       "      <td>0</td>\n",
       "      <td>4</td>\n",
       "      <td>1</td>\n",
       "      <td>2016</td>\n",
       "    </tr>\n",
       "    <tr>\n",
       "      <th>3004</th>\n",
       "      <td>40.663013</td>\n",
       "      <td>-73.940720</td>\n",
       "      <td>12.0</td>\n",
       "      <td>1</td>\n",
       "      <td>40.682854</td>\n",
       "      <td>-73.964729</td>\n",
       "      <td>2016-01-01 00:24:01</td>\n",
       "      <td>0</td>\n",
       "      <td>4</td>\n",
       "      <td>1</td>\n",
       "      <td>2016</td>\n",
       "    </tr>\n",
       "  </tbody>\n",
       "</table>\n",
       "</div>"
      ],
      "text/plain": [
       "      dropoff_latitude  dropoff_longitude  fare_amount  passenger_count  \\\n",
       "3000         40.698044         -73.924278          8.0                1   \n",
       "3001         40.761379         -73.923920         15.5                1   \n",
       "3002         40.646072         -74.013161         16.5                1   \n",
       "3003         40.689034         -74.000648         13.5                1   \n",
       "3004         40.663013         -73.940720         12.0                1   \n",
       "\n",
       "      pickup_latitude  pickup_longitude     pickup_datetime  hour_of_day  \\\n",
       "3000        40.680611        -73.928642 2016-01-01 00:29:24            0   \n",
       "3001        40.723175        -73.952675 2016-01-01 00:19:39            0   \n",
       "3002        40.676105        -73.971611 2016-01-01 00:19:33            0   \n",
       "3003        40.669579        -73.989502 2016-01-01 00:22:12            0   \n",
       "3004        40.682854        -73.964729 2016-01-01 00:24:01            0   \n",
       "\n",
       "      day_of_week  day_of_year  year  \n",
       "3000            4            1  2016  \n",
       "3001            4            1  2016  \n",
       "3002            4            1  2016  \n",
       "3003            4            1  2016  \n",
       "3004            4            1  2016  "
      ]
     },
     "execution_count": 6,
     "metadata": {},
     "output_type": "execute_result"
    }
   ],
   "source": [
    "train.head()"
   ]
  },
  {
   "cell_type": "markdown",
   "metadata": {},
   "source": [
    "Precisamos tratarmos os anos que são bissextos"
   ]
  },
  {
   "cell_type": "code",
   "execution_count": 7,
   "metadata": {},
   "outputs": [
    {
     "data": {
      "text/plain": [
       "(3942, 11)"
      ]
     },
     "execution_count": 7,
     "metadata": {},
     "output_type": "execute_result"
    }
   ],
   "source": [
    "train.shape"
   ]
  },
  {
   "cell_type": "code",
   "execution_count": 8,
   "metadata": {},
   "outputs": [
    {
     "data": {
      "text/plain": [
       "0"
      ]
     },
     "execution_count": 8,
     "metadata": {},
     "output_type": "execute_result"
    }
   ],
   "source": [
    "len(train[train['pickup_datetime'].dt.strftime('%m-%d') == '02-29'])"
   ]
  },
  {
   "cell_type": "code",
   "execution_count": 9,
   "metadata": {},
   "outputs": [],
   "source": [
    "train.drop(train['pickup_datetime'][train['pickup_datetime'].dt.strftime('%m-%d') == '02-29'].index,\n",
    "           inplace = True)"
   ]
  },
  {
   "cell_type": "markdown",
   "metadata": {},
   "source": [
    "Agora precisamos pegar os anos bissextos e remover um dia dos dias após 28 de fevereiro, ou seja, a partir do 59 dia do ano. \n",
    "31 dias de Janeiro + 28 dias de Fevereiro = 59 dias"
   ]
  },
  {
   "cell_type": "code",
   "execution_count": 10,
   "metadata": {},
   "outputs": [],
   "source": [
    "condition = (train['year'] % 4 == 0) & (train['day_of_year'] > 59)\n",
    "train['day_of_year'][condition] = train['day_of_year'] - 1"
   ]
  },
  {
   "cell_type": "markdown",
   "metadata": {},
   "source": [
    "Agora vamos plotar os gráficos para verificar como as variaveis criadas podem nos ajudar a entender o comportamento das corridas.\n",
    "Precisamos excluir o ano de 2015 e 2016 dessa analise por ele não possuir o ano completo"
   ]
  },
  {
   "cell_type": "code",
   "execution_count": 11,
   "metadata": {},
   "outputs": [
    {
     "data": {
      "image/png": "[encoded data removed]",
      "text/plain": [
       "<Figure size 1080x216 with 4 Axes>"
      ]
     },
     "metadata": {},
     "output_type": "display_data"
    }
   ],
   "source": [
    "fig, ax = plt.subplots(1, 4, figsize = (15,3))\n",
    "train_not_2016 = train[train['year'] < 2015]\n",
    "ax[0].hist(train_not_2016['hour_of_day'], bins = 24)\n",
    "ax[0].set_title('Hour of day')\n",
    "ax[1].hist(train_not_2016['day_of_week'], bins = 7)\n",
    "ax[1].set_title('Days of week')\n",
    "ax[2].hist(train_not_2016['day_of_year'], bins = 365)\n",
    "ax[2].set_title('Day of year')\n",
    "ax[3].hist(train_not_2016['year'], bins = 4)\n",
    "ax[3].set_title('Year');"
   ]
  },
  {
   "cell_type": "markdown",
   "metadata": {},
   "source": [
    "* Podemos ver que durate a madruga o movimento é menor que durante o horario comercial.\n",
    "* Aos dias da semana vemos que sabado e domingo tem uma redução.\n",
    "* Nos dias do ano, verificamos que um aumento do consumo no final do ano.\n",
    "* E que não existe muita diferença de um ano para o outro"
   ]
  },
  {
   "cell_type": "markdown",
   "metadata": {},
   "source": [
    "Vou remover o ano de 2016 para melhorar a base de dados"
   ]
  },
  {
   "cell_type": "code",
   "execution_count": 12,
   "metadata": {},
   "outputs": [],
   "source": [
    "train = train.drop(train.loc[(train['year'] == 2015)].index)\n",
    "train = train.drop(train.loc[(train['year'] == 2016)].index)\n"
   ]
  },
  {
   "cell_type": "code",
   "execution_count": 13,
   "metadata": {},
   "outputs": [
    {
     "data": {
      "text/plain": [
       "(1951, 11)"
      ]
     },
     "execution_count": 13,
     "metadata": {},
     "output_type": "execute_result"
    }
   ],
   "source": [
    "train.shape"
   ]
  },
  {
   "cell_type": "markdown",
   "metadata": {},
   "source": [
    "#### Relações entre pickup_datetime e a quantidade de corridas"
   ]
  },
  {
   "cell_type": "code",
   "execution_count": 14,
   "metadata": {},
   "outputs": [
    {
     "data": {
      "image/png": "[encoded data removed]",
      "text/plain": [
       "<Figure size 432x288 with 1 Axes>"
      ]
     },
     "metadata": {},
     "output_type": "display_data"
    }
   ],
   "source": [
    "plt.hist(train['pickup_datetime'], bins = 100);"
   ]
  },
  {
   "cell_type": "code",
   "execution_count": 15,
   "metadata": {},
   "outputs": [
    {
     "data": {
      "text/plain": [
       "<matplotlib.collections.PathCollection at 0x1b270dbaee0>"
      ]
     },
     "execution_count": 15,
     "metadata": {},
     "output_type": "execute_result"
    },
    {
     "data": {
      "image/png": "[encoded data removed]",
      "text/plain": [
       "<Figure size 1080x360 with 1 Axes>"
      ]
     },
     "metadata": {},
     "output_type": "display_data"
    }
   ],
   "source": [
    "plt.figure(figsize = (15, 5))\n",
    "plt.scatter(train['pickup_datetime'], train['fare_amount'], s = 5, alpha = 0.6)"
   ]
  },
  {
   "cell_type": "markdown",
   "metadata": {},
   "source": [
    "Podemos verificar que existe uma linha entre os valores de 40 e 60 da tarifa. Isso pode ser alguma tarifa fixa de saida ou ida para rodoviarias ou aeroportos. Podemos verificar se isso se confirma.\n",
    "\n",
    "Para isso, podemos verificar com um 'zoom' o intervalo entre esses valores e analisar"
   ]
  },
  {
   "cell_type": "code",
   "execution_count": 16,
   "metadata": {},
   "outputs": [],
   "source": [
    "from collections import Counter\n",
    "fare_zoom = train['fare_amount'][(train['fare_amount'] > 40) & (train['fare_amount'] < 60)]"
   ]
  },
  {
   "cell_type": "code",
   "execution_count": 17,
   "metadata": {},
   "outputs": [
    {
     "data": {
      "text/plain": [
       "(23,)"
      ]
     },
     "execution_count": 17,
     "metadata": {},
     "output_type": "execute_result"
    }
   ],
   "source": [
    "fare_zoom.shape"
   ]
  },
  {
   "cell_type": "markdown",
   "metadata": {},
   "source": [
    "Temos 103 valores dentro desse intervalo, podemos continuar para fazer a contagem de cada valor."
   ]
  },
  {
   "cell_type": "code",
   "execution_count": 18,
   "metadata": {},
   "outputs": [],
   "source": [
    "common_fares_zoom = Counter(fare_zoom)"
   ]
  },
  {
   "cell_type": "code",
   "execution_count": 19,
   "metadata": {},
   "outputs": [
    {
     "data": {
      "text/plain": [
       "Counter({41.5: 2,\n",
       "         52.0: 7,\n",
       "         46.5: 1,\n",
       "         44.5: 1,\n",
       "         48.5: 1,\n",
       "         50.0: 2,\n",
       "         42.5: 1,\n",
       "         56.0: 1,\n",
       "         54.0: 1,\n",
       "         43.5: 1,\n",
       "         41.0: 3,\n",
       "         45.5: 1,\n",
       "         47.0: 1})"
      ]
     },
     "execution_count": 19,
     "metadata": {},
     "output_type": "execute_result"
    }
   ],
   "source": [
    "common_fares_zoom"
   ]
  },
  {
   "cell_type": "code",
   "execution_count": 20,
   "metadata": {},
   "outputs": [],
   "source": [
    "most_common_fares_zoom = common_fares_zoom.most_common()"
   ]
  },
  {
   "cell_type": "code",
   "execution_count": 21,
   "metadata": {},
   "outputs": [
    {
     "data": {
      "text/plain": [
       "[(52.0, 7),\n",
       " (41.0, 3),\n",
       " (41.5, 2),\n",
       " (50.0, 2),\n",
       " (46.5, 1),\n",
       " (44.5, 1),\n",
       " (48.5, 1),\n",
       " (42.5, 1),\n",
       " (56.0, 1),\n",
       " (54.0, 1),\n",
       " (43.5, 1),\n",
       " (45.5, 1),\n",
       " (47.0, 1)]"
      ]
     },
     "execution_count": 21,
     "metadata": {},
     "output_type": "execute_result"
    }
   ],
   "source": [
    "most_common_fares_zoom"
   ]
  },
  {
   "cell_type": "markdown",
   "metadata": {},
   "source": [
    "Podemos verificar que temos uma grande quantidade de valores fixos de 52 e 45. Vamos plotar um grafico para verificar melhor."
   ]
  },
  {
   "cell_type": "code",
   "execution_count": 22,
   "metadata": {},
   "outputs": [
    {
     "data": {
      "image/png": "[encoded data removed]",
      "text/plain": [
       "<Figure size 432x288 with 1 Axes>"
      ]
     },
     "metadata": {},
     "output_type": "display_data"
    }
   ],
   "source": [
    "plt.bar([x[0] for x in most_common_fares_zoom], [x[1] for x in most_common_fares_zoom]);"
   ]
  },
  {
   "cell_type": "code",
   "execution_count": 23,
   "metadata": {},
   "outputs": [
    {
     "data": {
      "text/plain": [
       "<Figure size 720x1440 with 0 Axes>"
      ]
     },
     "metadata": {},
     "output_type": "display_data"
    }
   ],
   "source": [
    "import folium\n",
    "from folium.plugins import HeatMap\n",
    "# Definição da latitude e longitude de NYC\n",
    "\n",
    "plt.figure(figsize= (10,20))\n",
    "\n",
    "mpick = folium.Map(location = [40.65,-74.10], zoom_start=10)\n",
    "mdrop = folium.Map(location = [40.65,-74.10], zoom_start=10)"
   ]
  },
  {
   "cell_type": "markdown",
   "metadata": {},
   "source": [
    "Verificando o mapa de calor das saídas das corridas."
   ]
  },
  {
   "cell_type": "code",
   "execution_count": 24,
   "metadata": {},
   "outputs": [
    {
     "data": {
      "text/html": [
       "<div style=\"width:100%;\"><div style=\"position:relative;width:100%;height:0;padding-bottom:60%;\"><span style=\"color:#565656\">Make this Notebook Trusted to load map: File -> Trust Notebook</span><iframe src=\"about:blank\" style=\"position:absolute;width:100%;height:100%;left:0;top:0;border:none !important;\" data-html=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 onload=\"this.contentDocument.open();this.contentDocument.write(atob(this.getAttribute('data-html')));this.contentDocument.close();\" allowfullscreen webkitallowfullscreen mozallowfullscreen></iframe></div></div>"
      ],
      "text/plain": [
       "<folium.folium.Map at 0x1b2714825b0>"
      ]
     },
     "metadata": {},
     "output_type": "display_data"
    }
   ],
   "source": [
    "HeatMap(train[['pickup_latitude','pickup_longitude']].dropna(),radius=8,gradient={0.2:'blue',0.4:'purple',0.6:'orange',1.0:'red'}).add_to(mpick)\n",
    "display(mpick)"
   ]
  },
  {
   "cell_type": "markdown",
   "metadata": {},
   "source": [
    "Verificando o mapa de calor das chegadas das corridas."
   ]
  },
  {
   "cell_type": "code",
   "execution_count": 25,
   "metadata": {},
   "outputs": [
    {
     "data": {
      "text/html": [
       "<div style=\"width:100%;\"><div style=\"position:relative;width:100%;height:0;padding-bottom:60%;\"><span style=\"color:#565656\">Make this Notebook Trusted to load map: File -> Trust Notebook</span><iframe src=\"about:blank\" style=\"position:absolute;width:100%;height:100%;left:0;top:0;border:none !important;\" data-html=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 onload=\"this.contentDocument.open();this.contentDocument.write(atob(this.getAttribute('data-html')));this.contentDocument.close();\" allowfullscreen webkitallowfullscreen mozallowfullscreen></iframe></div></div>"
      ],
      "text/plain": [
       "<folium.folium.Map at 0x1b271d8c370>"
      ]
     },
     "metadata": {},
     "output_type": "display_data"
    }
   ],
   "source": [
    "HeatMap(train[['dropoff_latitude','dropoff_longitude']].dropna(),radius=8,gradient={0.2:'green',0.4:'yellow',0.6:'pink',1.0:'purple'}).add_to(mdrop)\n",
    "display(mdrop)"
   ]
  },
  {
   "cell_type": "markdown",
   "metadata": {},
   "source": [
    "Vamos buscar as coordenadas dos pontos do centro da cidade e no aeroporto, onde o volume é maior e também naquela média de valores visto anteriormente.\n",
    "Vamos buscar primeiro a area do aerporto"
   ]
  },
  {
   "cell_type": "code",
   "execution_count": 26,
   "metadata": {},
   "outputs": [],
   "source": [
    "coords = train[['dropoff_latitude',\n",
    "                'dropoff_longitude']][(train['fare_amount'] > 40) &\n",
    "                                       (train['fare_amount'] < 60) &\n",
    "                                       (train['dropoff_latitude'] < 40.7) &\n",
    "                                       (train['dropoff_latitude'] > 40.6) &\n",
    "                                       (train['dropoff_longitude'] < -73.7) &\n",
    "                                       (train['dropoff_longitude'] > -73.9)]"
   ]
  },
  {
   "cell_type": "code",
   "execution_count": 27,
   "metadata": {},
   "outputs": [
    {
     "data": {
      "text/plain": [
       "(9, 2)"
      ]
     },
     "execution_count": 27,
     "metadata": {},
     "output_type": "execute_result"
    }
   ],
   "source": [
    "coords.shape"
   ]
  },
  {
   "cell_type": "code",
   "execution_count": 28,
   "metadata": {},
   "outputs": [
    {
     "data": {
      "text/html": [
       "<div>\n",
       "<style scoped>\n",
       "    .dataframe tbody tr th:only-of-type {\n",
       "        vertical-align: middle;\n",
       "    }\n",
       "\n",
       "    .dataframe tbody tr th {\n",
       "        vertical-align: top;\n",
       "    }\n",
       "\n",
       "    .dataframe thead th {\n",
       "        text-align: right;\n",
       "    }\n",
       "</style>\n",
       "<table border=\"1\" class=\"dataframe\">\n",
       "  <thead>\n",
       "    <tr style=\"text-align: right;\">\n",
       "      <th></th>\n",
       "      <th>dropoff_latitude</th>\n",
       "      <th>dropoff_longitude</th>\n",
       "    </tr>\n",
       "  </thead>\n",
       "  <tbody>\n",
       "    <tr>\n",
       "      <th>5305</th>\n",
       "      <td>40.643631</td>\n",
       "      <td>-73.783638</td>\n",
       "    </tr>\n",
       "    <tr>\n",
       "      <th>5468</th>\n",
       "      <td>40.648949</td>\n",
       "      <td>-73.783020</td>\n",
       "    </tr>\n",
       "    <tr>\n",
       "      <th>5491</th>\n",
       "      <td>40.644173</td>\n",
       "      <td>-73.782524</td>\n",
       "    </tr>\n",
       "    <tr>\n",
       "      <th>5588</th>\n",
       "      <td>40.673107</td>\n",
       "      <td>-73.833702</td>\n",
       "    </tr>\n",
       "    <tr>\n",
       "      <th>5719</th>\n",
       "      <td>40.645931</td>\n",
       "      <td>-73.776260</td>\n",
       "    </tr>\n",
       "  </tbody>\n",
       "</table>\n",
       "</div>"
      ],
      "text/plain": [
       "      dropoff_latitude  dropoff_longitude\n",
       "5305         40.643631         -73.783638\n",
       "5468         40.648949         -73.783020\n",
       "5491         40.644173         -73.782524\n",
       "5588         40.673107         -73.833702\n",
       "5719         40.645931         -73.776260"
      ]
     },
     "execution_count": 28,
     "metadata": {},
     "output_type": "execute_result"
    }
   ],
   "source": [
    "coords.head()"
   ]
  },
  {
   "cell_type": "code",
   "execution_count": 29,
   "metadata": {},
   "outputs": [
    {
     "name": "stdout",
     "output_type": "stream",
     "text": [
      "40.64512634277344 -73.7835922241211\n"
     ]
    }
   ],
   "source": [
    "print(coords['dropoff_latitude'].median(), coords['dropoff_longitude'].median())"
   ]
  },
  {
   "cell_type": "markdown",
   "metadata": {},
   "source": [
    "Agora a área do centro da cidade."
   ]
  },
  {
   "cell_type": "code",
   "execution_count": 30,
   "metadata": {},
   "outputs": [],
   "source": [
    "coords = train[['dropoff_latitude',\n",
    "                'dropoff_longitude']][(train['fare_amount'] > 40) &\n",
    "                                       (train['fare_amount'] < 60) &\n",
    "                                       (train['dropoff_latitude'] < 40.85) &\n",
    "                                       (train['dropoff_latitude'] > 40.7) &\n",
    "                                       (train['dropoff_longitude'] < -73.9) &\n",
    "                                       (train['dropoff_longitude'] > -74.1)]"
   ]
  },
  {
   "cell_type": "code",
   "execution_count": 31,
   "metadata": {},
   "outputs": [
    {
     "name": "stdout",
     "output_type": "stream",
     "text": [
      "40.77145767211914 -73.944580078125\n"
     ]
    }
   ],
   "source": [
    "print(coords['dropoff_latitude'].median(), coords['dropoff_longitude'].median())"
   ]
  },
  {
   "cell_type": "markdown",
   "metadata": {},
   "source": [
    "Agora vamos verificar os tres valores mais comuns que filtramos anteriormente e a localização"
   ]
  },
  {
   "cell_type": "code",
   "execution_count": 32,
   "metadata": {},
   "outputs": [],
   "source": [
    "filtered = train[['fare_amount', \n",
    "                  'passenger_count']][((train['fare_amount'] == most_common_fares_zoom[0][0]) |\n",
    "                                       (train['fare_amount'] == most_common_fares_zoom[1][0]) |\n",
    "                                       (train['fare_amount'] == most_common_fares_zoom[2][0]))&\n",
    "                                       (train['fare_amount'] < 60) &\n",
    "                                       (train['dropoff_latitude'] < 40.7) & \n",
    "                                       (train['dropoff_latitude'] > 40.6) & \n",
    "                                       (train['dropoff_longitude'] < -73.7) &\n",
    "                                       (train['dropoff_longitude'] > -73.9)]"
   ]
  },
  {
   "cell_type": "code",
   "execution_count": 33,
   "metadata": {},
   "outputs": [
    {
     "data": {
      "text/plain": [
       "(4, 2)"
      ]
     },
     "execution_count": 33,
     "metadata": {},
     "output_type": "execute_result"
    }
   ],
   "source": [
    "filtered.shape"
   ]
  },
  {
   "cell_type": "code",
   "execution_count": 34,
   "metadata": {},
   "outputs": [
    {
     "data": {
      "text/plain": [
       "<matplotlib.collections.PathCollection at 0x1b271ea9ca0>"
      ]
     },
     "execution_count": 34,
     "metadata": {},
     "output_type": "execute_result"
    },
    {
     "data": {
      "image/png": "[encoded data removed]",
      "text/plain": [
       "<Figure size 432x288 with 1 Axes>"
      ]
     },
     "metadata": {},
     "output_type": "display_data"
    }
   ],
   "source": [
    "plt.scatter(filtered['passenger_count'], filtered['fare_amount'])"
   ]
  },
  {
   "cell_type": "markdown",
   "metadata": {},
   "source": [
    "Podemos ver que o número de passageiros não interfere no valor da corrida. No caso, aparenta realmente ser uma tarifa fixa. Vamos analisar com as horas e os dias ."
   ]
  },
  {
   "cell_type": "code",
   "execution_count": 35,
   "metadata": {},
   "outputs": [],
   "source": [
    "filtered = train[['fare_amount', \n",
    "                  'hour_of_day',\n",
    "                  'day_of_week',\n",
    "                  'day_of_year']][((train['fare_amount'] == most_common_fares_zoom[0][0]) |\n",
    "                                       (train['fare_amount'] == most_common_fares_zoom[1][0]) |\n",
    "                                       (train['fare_amount'] == most_common_fares_zoom[2][0]) |\n",
    "                                       (train['fare_amount'] == most_common_fares_zoom[4][0]))&\n",
    "                                       (train['fare_amount'] < 60) &\n",
    "                                       (train['dropoff_latitude'] < 40.7) & \n",
    "                                       (train['dropoff_latitude'] > 40.6) & \n",
    "                                       (train['dropoff_longitude'] < -73.7) &\n",
    "                                       (train['dropoff_longitude'] > -73.9)]"
   ]
  },
  {
   "cell_type": "code",
   "execution_count": 36,
   "metadata": {},
   "outputs": [
    {
     "data": {
      "image/png": "[encoded data removed]",
      "text/plain": [
       "<Figure size 1080x360 with 3 Axes>"
      ]
     },
     "metadata": {},
     "output_type": "display_data"
    }
   ],
   "source": [
    "fig, ax = plt.subplots(1, 3, figsize = (15, 5))\n",
    "ax[0].scatter(filtered['hour_of_day'], filtered['fare_amount'])\n",
    "ax[0].set_title('Hour of day')\n",
    "ax[1].scatter(filtered['day_of_week'], filtered['fare_amount'])\n",
    "ax[1].set_title('Day of week')\n",
    "ax[2].scatter(filtered['day_of_year'], filtered['fare_amount'])\n",
    "ax[2].set_title('Day of year');"
   ]
  },
  {
   "cell_type": "markdown",
   "metadata": {},
   "source": [
    "Podemos ver que, conforme o número de passageiros, essas outras variáveis também não interferem no valor da tarifa. Podemos com isso apagar nossa variaável pickup_datetime"
   ]
  },
  {
   "cell_type": "code",
   "execution_count": 37,
   "metadata": {},
   "outputs": [
    {
     "data": {
      "text/html": [
       "<div>\n",
       "<style scoped>\n",
       "    .dataframe tbody tr th:only-of-type {\n",
       "        vertical-align: middle;\n",
       "    }\n",
       "\n",
       "    .dataframe tbody tr th {\n",
       "        vertical-align: top;\n",
       "    }\n",
       "\n",
       "    .dataframe thead th {\n",
       "        text-align: right;\n",
       "    }\n",
       "</style>\n",
       "<table border=\"1\" class=\"dataframe\">\n",
       "  <thead>\n",
       "    <tr style=\"text-align: right;\">\n",
       "      <th></th>\n",
       "      <th>dropoff_latitude</th>\n",
       "      <th>dropoff_longitude</th>\n",
       "      <th>fare_amount</th>\n",
       "      <th>passenger_count</th>\n",
       "      <th>pickup_latitude</th>\n",
       "      <th>pickup_longitude</th>\n",
       "      <th>hour_of_day</th>\n",
       "      <th>day_of_week</th>\n",
       "      <th>day_of_year</th>\n",
       "      <th>year</th>\n",
       "    </tr>\n",
       "  </thead>\n",
       "  <tbody>\n",
       "    <tr>\n",
       "      <th>5003</th>\n",
       "      <td>40.742592</td>\n",
       "      <td>-73.953972</td>\n",
       "      <td>10.0</td>\n",
       "      <td>1</td>\n",
       "      <td>40.728981</td>\n",
       "      <td>-73.957542</td>\n",
       "      <td>9</td>\n",
       "      <td>1</td>\n",
       "      <td>329</td>\n",
       "      <td>2014</td>\n",
       "    </tr>\n",
       "    <tr>\n",
       "      <th>5004</th>\n",
       "      <td>40.841522</td>\n",
       "      <td>-73.939621</td>\n",
       "      <td>6.5</td>\n",
       "      <td>1</td>\n",
       "      <td>40.853523</td>\n",
       "      <td>-73.934090</td>\n",
       "      <td>9</td>\n",
       "      <td>1</td>\n",
       "      <td>273</td>\n",
       "      <td>2014</td>\n",
       "    </tr>\n",
       "    <tr>\n",
       "      <th>5005</th>\n",
       "      <td>40.842319</td>\n",
       "      <td>-73.939034</td>\n",
       "      <td>6.5</td>\n",
       "      <td>1</td>\n",
       "      <td>40.853634</td>\n",
       "      <td>-73.930634</td>\n",
       "      <td>19</td>\n",
       "      <td>4</td>\n",
       "      <td>178</td>\n",
       "      <td>2014</td>\n",
       "    </tr>\n",
       "    <tr>\n",
       "      <th>5006</th>\n",
       "      <td>40.680859</td>\n",
       "      <td>-73.971199</td>\n",
       "      <td>6.5</td>\n",
       "      <td>1</td>\n",
       "      <td>40.693134</td>\n",
       "      <td>-73.969048</td>\n",
       "      <td>23</td>\n",
       "      <td>2</td>\n",
       "      <td>295</td>\n",
       "      <td>2014</td>\n",
       "    </tr>\n",
       "    <tr>\n",
       "      <th>5007</th>\n",
       "      <td>40.873913</td>\n",
       "      <td>-73.898750</td>\n",
       "      <td>7.5</td>\n",
       "      <td>1</td>\n",
       "      <td>40.862232</td>\n",
       "      <td>-73.901405</td>\n",
       "      <td>15</td>\n",
       "      <td>3</td>\n",
       "      <td>261</td>\n",
       "      <td>2014</td>\n",
       "    </tr>\n",
       "  </tbody>\n",
       "</table>\n",
       "</div>"
      ],
      "text/plain": [
       "      dropoff_latitude  dropoff_longitude  fare_amount  passenger_count  \\\n",
       "5003         40.742592         -73.953972         10.0                1   \n",
       "5004         40.841522         -73.939621          6.5                1   \n",
       "5005         40.842319         -73.939034          6.5                1   \n",
       "5006         40.680859         -73.971199          6.5                1   \n",
       "5007         40.873913         -73.898750          7.5                1   \n",
       "\n",
       "      pickup_latitude  pickup_longitude  hour_of_day  day_of_week  \\\n",
       "5003        40.728981        -73.957542            9            1   \n",
       "5004        40.853523        -73.934090            9            1   \n",
       "5005        40.853634        -73.930634           19            4   \n",
       "5006        40.693134        -73.969048           23            2   \n",
       "5007        40.862232        -73.901405           15            3   \n",
       "\n",
       "      day_of_year  year  \n",
       "5003          329  2014  \n",
       "5004          273  2014  \n",
       "5005          178  2014  \n",
       "5006          295  2014  \n",
       "5007          261  2014  "
      ]
     },
     "execution_count": 37,
     "metadata": {},
     "output_type": "execute_result"
    }
   ],
   "source": [
    "train.drop('pickup_datetime', axis = 1, inplace = True)\n",
    "train.head()"
   ]
  },
  {
   "cell_type": "markdown",
   "metadata": {},
   "source": [
    "###  Distância\n"
   ]
  },
  {
   "cell_type": "markdown",
   "metadata": {},
   "source": [
    "Agora podemos criar as novas variaveis de distancia, tanto euclidiana e manhathan, para isso precisamos fazer algumas adatapações."
   ]
  },
  {
   "cell_type": "code",
   "execution_count": 38,
   "metadata": {},
   "outputs": [],
   "source": [
    "lon1, lon2 = np.radians(train['pickup_longitude']), np.radians(train['dropoff_longitude'])\n",
    "lat1, lat2 = np.radians(train['pickup_latitude']), np.radians(train['dropoff_latitude'])"
   ]
  },
  {
   "cell_type": "markdown",
   "metadata": {},
   "source": [
    "Vamos subtrair as longitudes e latitudes"
   ]
  },
  {
   "cell_type": "code",
   "execution_count": 39,
   "metadata": {},
   "outputs": [],
   "source": [
    "dlon = lon2 - lon1\n",
    "dlat = lat2 - lat1"
   ]
  },
  {
   "cell_type": "markdown",
   "metadata": {},
   "source": [
    "Agora com as variáveis já ajustadas, podemos aplicar e criar as novas distancias já em kilometros."
   ]
  },
  {
   "cell_type": "code",
   "execution_count": 40,
   "metadata": {},
   "outputs": [],
   "source": [
    "# Distância Euclidiana (Km)\n",
    "a = np.sin(dlat / 2)**2 + np.cos(lat1) * np.cos(lat2) * np.sin(dlon/2)**2\n",
    "c = 2 * np.arctan2(np.sqrt(a), np.sqrt(1 - a))\n",
    "train['eucl_distance'] = 6373 * c"
   ]
  },
  {
   "cell_type": "code",
   "execution_count": 41,
   "metadata": {},
   "outputs": [
    {
     "data": {
      "text/html": [
       "<div>\n",
       "<style scoped>\n",
       "    .dataframe tbody tr th:only-of-type {\n",
       "        vertical-align: middle;\n",
       "    }\n",
       "\n",
       "    .dataframe tbody tr th {\n",
       "        vertical-align: top;\n",
       "    }\n",
       "\n",
       "    .dataframe thead th {\n",
       "        text-align: right;\n",
       "    }\n",
       "</style>\n",
       "<table border=\"1\" class=\"dataframe\">\n",
       "  <thead>\n",
       "    <tr style=\"text-align: right;\">\n",
       "      <th></th>\n",
       "      <th>dropoff_latitude</th>\n",
       "      <th>dropoff_longitude</th>\n",
       "      <th>fare_amount</th>\n",
       "      <th>passenger_count</th>\n",
       "      <th>pickup_latitude</th>\n",
       "      <th>pickup_longitude</th>\n",
       "      <th>hour_of_day</th>\n",
       "      <th>day_of_week</th>\n",
       "      <th>day_of_year</th>\n",
       "      <th>year</th>\n",
       "      <th>eucl_distance</th>\n",
       "    </tr>\n",
       "  </thead>\n",
       "  <tbody>\n",
       "    <tr>\n",
       "      <th>5003</th>\n",
       "      <td>40.742592</td>\n",
       "      <td>-73.953972</td>\n",
       "      <td>10.0</td>\n",
       "      <td>1</td>\n",
       "      <td>40.728981</td>\n",
       "      <td>-73.957542</td>\n",
       "      <td>9</td>\n",
       "      <td>1</td>\n",
       "      <td>329</td>\n",
       "      <td>2014</td>\n",
       "      <td>1.543551</td>\n",
       "    </tr>\n",
       "    <tr>\n",
       "      <th>5004</th>\n",
       "      <td>40.841522</td>\n",
       "      <td>-73.939621</td>\n",
       "      <td>6.5</td>\n",
       "      <td>1</td>\n",
       "      <td>40.853523</td>\n",
       "      <td>-73.934090</td>\n",
       "      <td>9</td>\n",
       "      <td>1</td>\n",
       "      <td>273</td>\n",
       "      <td>2014</td>\n",
       "      <td>1.413679</td>\n",
       "    </tr>\n",
       "    <tr>\n",
       "      <th>5005</th>\n",
       "      <td>40.842319</td>\n",
       "      <td>-73.939034</td>\n",
       "      <td>6.5</td>\n",
       "      <td>1</td>\n",
       "      <td>40.853634</td>\n",
       "      <td>-73.930634</td>\n",
       "      <td>19</td>\n",
       "      <td>4</td>\n",
       "      <td>178</td>\n",
       "      <td>2014</td>\n",
       "      <td>1.443378</td>\n",
       "    </tr>\n",
       "    <tr>\n",
       "      <th>5006</th>\n",
       "      <td>40.680859</td>\n",
       "      <td>-73.971199</td>\n",
       "      <td>6.5</td>\n",
       "      <td>1</td>\n",
       "      <td>40.693134</td>\n",
       "      <td>-73.969048</td>\n",
       "      <td>23</td>\n",
       "      <td>2</td>\n",
       "      <td>295</td>\n",
       "      <td>2014</td>\n",
       "      <td>1.377429</td>\n",
       "    </tr>\n",
       "    <tr>\n",
       "      <th>5007</th>\n",
       "      <td>40.873913</td>\n",
       "      <td>-73.898750</td>\n",
       "      <td>7.5</td>\n",
       "      <td>1</td>\n",
       "      <td>40.862232</td>\n",
       "      <td>-73.901405</td>\n",
       "      <td>15</td>\n",
       "      <td>3</td>\n",
       "      <td>261</td>\n",
       "      <td>2014</td>\n",
       "      <td>1.318286</td>\n",
       "    </tr>\n",
       "  </tbody>\n",
       "</table>\n",
       "</div>"
      ],
      "text/plain": [
       "      dropoff_latitude  dropoff_longitude  fare_amount  passenger_count  \\\n",
       "5003         40.742592         -73.953972         10.0                1   \n",
       "5004         40.841522         -73.939621          6.5                1   \n",
       "5005         40.842319         -73.939034          6.5                1   \n",
       "5006         40.680859         -73.971199          6.5                1   \n",
       "5007         40.873913         -73.898750          7.5                1   \n",
       "\n",
       "      pickup_latitude  pickup_longitude  hour_of_day  day_of_week  \\\n",
       "5003        40.728981        -73.957542            9            1   \n",
       "5004        40.853523        -73.934090            9            1   \n",
       "5005        40.853634        -73.930634           19            4   \n",
       "5006        40.693134        -73.969048           23            2   \n",
       "5007        40.862232        -73.901405           15            3   \n",
       "\n",
       "      day_of_year  year  eucl_distance  \n",
       "5003          329  2014       1.543551  \n",
       "5004          273  2014       1.413679  \n",
       "5005          178  2014       1.443378  \n",
       "5006          295  2014       1.377429  \n",
       "5007          261  2014       1.318286  "
      ]
     },
     "execution_count": 41,
     "metadata": {},
     "output_type": "execute_result"
    }
   ],
   "source": [
    "train.head()"
   ]
  },
  {
   "cell_type": "code",
   "execution_count": 42,
   "metadata": {},
   "outputs": [],
   "source": [
    "# Distância Manhattan (Km)\n",
    "a1 = np.sin(dlon / 2)**2\n",
    "c1 = 2 * np.arctan2(np.sqrt(a1), np.sqrt(1 - a1))\n",
    "a2 = np.sin(dlat / 2)**2\n",
    "c2 = 2 * np.arctan2(np.sqrt(a2), np.sqrt(1 - a2))\n",
    "train['manh_distance'] = 6373 * (c1 + c2)"
   ]
  },
  {
   "cell_type": "code",
   "execution_count": 43,
   "metadata": {},
   "outputs": [
    {
     "data": {
      "text/html": [
       "<div>\n",
       "<style scoped>\n",
       "    .dataframe tbody tr th:only-of-type {\n",
       "        vertical-align: middle;\n",
       "    }\n",
       "\n",
       "    .dataframe tbody tr th {\n",
       "        vertical-align: top;\n",
       "    }\n",
       "\n",
       "    .dataframe thead th {\n",
       "        text-align: right;\n",
       "    }\n",
       "</style>\n",
       "<table border=\"1\" class=\"dataframe\">\n",
       "  <thead>\n",
       "    <tr style=\"text-align: right;\">\n",
       "      <th></th>\n",
       "      <th>dropoff_latitude</th>\n",
       "      <th>dropoff_longitude</th>\n",
       "      <th>fare_amount</th>\n",
       "      <th>passenger_count</th>\n",
       "      <th>pickup_latitude</th>\n",
       "      <th>pickup_longitude</th>\n",
       "      <th>hour_of_day</th>\n",
       "      <th>day_of_week</th>\n",
       "      <th>day_of_year</th>\n",
       "      <th>year</th>\n",
       "      <th>eucl_distance</th>\n",
       "      <th>manh_distance</th>\n",
       "    </tr>\n",
       "  </thead>\n",
       "  <tbody>\n",
       "    <tr>\n",
       "      <th>5003</th>\n",
       "      <td>40.742592</td>\n",
       "      <td>-73.953972</td>\n",
       "      <td>10.0</td>\n",
       "      <td>1</td>\n",
       "      <td>40.728981</td>\n",
       "      <td>-73.957542</td>\n",
       "      <td>9</td>\n",
       "      <td>1</td>\n",
       "      <td>329</td>\n",
       "      <td>2014</td>\n",
       "      <td>1.543551</td>\n",
       "      <td>1.911084</td>\n",
       "    </tr>\n",
       "    <tr>\n",
       "      <th>5004</th>\n",
       "      <td>40.841522</td>\n",
       "      <td>-73.939621</td>\n",
       "      <td>6.5</td>\n",
       "      <td>1</td>\n",
       "      <td>40.853523</td>\n",
       "      <td>-73.934090</td>\n",
       "      <td>9</td>\n",
       "      <td>1</td>\n",
       "      <td>273</td>\n",
       "      <td>2014</td>\n",
       "      <td>1.413679</td>\n",
       "      <td>1.950120</td>\n",
       "    </tr>\n",
       "    <tr>\n",
       "      <th>5005</th>\n",
       "      <td>40.842319</td>\n",
       "      <td>-73.939034</td>\n",
       "      <td>6.5</td>\n",
       "      <td>1</td>\n",
       "      <td>40.853634</td>\n",
       "      <td>-73.930634</td>\n",
       "      <td>19</td>\n",
       "      <td>4</td>\n",
       "      <td>178</td>\n",
       "      <td>2014</td>\n",
       "      <td>1.443378</td>\n",
       "      <td>2.192824</td>\n",
       "    </tr>\n",
       "    <tr>\n",
       "      <th>5006</th>\n",
       "      <td>40.680859</td>\n",
       "      <td>-73.971199</td>\n",
       "      <td>6.5</td>\n",
       "      <td>1</td>\n",
       "      <td>40.693134</td>\n",
       "      <td>-73.969048</td>\n",
       "      <td>23</td>\n",
       "      <td>2</td>\n",
       "      <td>295</td>\n",
       "      <td>2014</td>\n",
       "      <td>1.377429</td>\n",
       "      <td>1.604733</td>\n",
       "    </tr>\n",
       "    <tr>\n",
       "      <th>5007</th>\n",
       "      <td>40.873913</td>\n",
       "      <td>-73.898750</td>\n",
       "      <td>7.5</td>\n",
       "      <td>1</td>\n",
       "      <td>40.862232</td>\n",
       "      <td>-73.901405</td>\n",
       "      <td>15</td>\n",
       "      <td>3</td>\n",
       "      <td>261</td>\n",
       "      <td>2014</td>\n",
       "      <td>1.318286</td>\n",
       "      <td>1.594550</td>\n",
       "    </tr>\n",
       "    <tr>\n",
       "      <th>...</th>\n",
       "      <td>...</td>\n",
       "      <td>...</td>\n",
       "      <td>...</td>\n",
       "      <td>...</td>\n",
       "      <td>...</td>\n",
       "      <td>...</td>\n",
       "      <td>...</td>\n",
       "      <td>...</td>\n",
       "      <td>...</td>\n",
       "      <td>...</td>\n",
       "      <td>...</td>\n",
       "      <td>...</td>\n",
       "    </tr>\n",
       "    <tr>\n",
       "      <th>6995</th>\n",
       "      <td>40.728565</td>\n",
       "      <td>-73.860748</td>\n",
       "      <td>6.0</td>\n",
       "      <td>1</td>\n",
       "      <td>40.733994</td>\n",
       "      <td>-73.871117</td>\n",
       "      <td>15</td>\n",
       "      <td>1</td>\n",
       "      <td>302</td>\n",
       "      <td>2013</td>\n",
       "      <td>1.062216</td>\n",
       "      <td>1.757060</td>\n",
       "    </tr>\n",
       "    <tr>\n",
       "      <th>6996</th>\n",
       "      <td>40.789669</td>\n",
       "      <td>-73.954422</td>\n",
       "      <td>5.5</td>\n",
       "      <td>2</td>\n",
       "      <td>40.786087</td>\n",
       "      <td>-73.951340</td>\n",
       "      <td>9</td>\n",
       "      <td>2</td>\n",
       "      <td>254</td>\n",
       "      <td>2013</td>\n",
       "      <td>0.475524</td>\n",
       "      <td>0.741266</td>\n",
       "    </tr>\n",
       "    <tr>\n",
       "      <th>6997</th>\n",
       "      <td>40.763779</td>\n",
       "      <td>-73.976265</td>\n",
       "      <td>19.0</td>\n",
       "      <td>5</td>\n",
       "      <td>40.796963</td>\n",
       "      <td>-73.937904</td>\n",
       "      <td>9</td>\n",
       "      <td>4</td>\n",
       "      <td>270</td>\n",
       "      <td>2013</td>\n",
       "      <td>4.905388</td>\n",
       "      <td>7.957899</td>\n",
       "    </tr>\n",
       "    <tr>\n",
       "      <th>6998</th>\n",
       "      <td>40.693333</td>\n",
       "      <td>-73.830406</td>\n",
       "      <td>9.5</td>\n",
       "      <td>5</td>\n",
       "      <td>40.713631</td>\n",
       "      <td>-73.829918</td>\n",
       "      <td>13</td>\n",
       "      <td>3</td>\n",
       "      <td>311</td>\n",
       "      <td>2013</td>\n",
       "      <td>2.258119</td>\n",
       "      <td>2.312055</td>\n",
       "    </tr>\n",
       "    <tr>\n",
       "      <th>6999</th>\n",
       "      <td>40.769245</td>\n",
       "      <td>-73.988426</td>\n",
       "      <td>14.5</td>\n",
       "      <td>1</td>\n",
       "      <td>40.809235</td>\n",
       "      <td>-73.959419</td>\n",
       "      <td>13</td>\n",
       "      <td>0</td>\n",
       "      <td>350</td>\n",
       "      <td>2013</td>\n",
       "      <td>5.074657</td>\n",
       "      <td>7.674461</td>\n",
       "    </tr>\n",
       "  </tbody>\n",
       "</table>\n",
       "<p>1951 rows × 12 columns</p>\n",
       "</div>"
      ],
      "text/plain": [
       "      dropoff_latitude  dropoff_longitude  fare_amount  passenger_count  \\\n",
       "5003         40.742592         -73.953972         10.0                1   \n",
       "5004         40.841522         -73.939621          6.5                1   \n",
       "5005         40.842319         -73.939034          6.5                1   \n",
       "5006         40.680859         -73.971199          6.5                1   \n",
       "5007         40.873913         -73.898750          7.5                1   \n",
       "...                ...                ...          ...              ...   \n",
       "6995         40.728565         -73.860748          6.0                1   \n",
       "6996         40.789669         -73.954422          5.5                2   \n",
       "6997         40.763779         -73.976265         19.0                5   \n",
       "6998         40.693333         -73.830406          9.5                5   \n",
       "6999         40.769245         -73.988426         14.5                1   \n",
       "\n",
       "      pickup_latitude  pickup_longitude  hour_of_day  day_of_week  \\\n",
       "5003        40.728981        -73.957542            9            1   \n",
       "5004        40.853523        -73.934090            9            1   \n",
       "5005        40.853634        -73.930634           19            4   \n",
       "5006        40.693134        -73.969048           23            2   \n",
       "5007        40.862232        -73.901405           15            3   \n",
       "...               ...               ...          ...          ...   \n",
       "6995        40.733994        -73.871117           15            1   \n",
       "6996        40.786087        -73.951340            9            2   \n",
       "6997        40.796963        -73.937904            9            4   \n",
       "6998        40.713631        -73.829918           13            3   \n",
       "6999        40.809235        -73.959419           13            0   \n",
       "\n",
       "      day_of_year  year  eucl_distance  manh_distance  \n",
       "5003          329  2014       1.543551       1.911084  \n",
       "5004          273  2014       1.413679       1.950120  \n",
       "5005          178  2014       1.443378       2.192824  \n",
       "5006          295  2014       1.377429       1.604733  \n",
       "5007          261  2014       1.318286       1.594550  \n",
       "...           ...   ...            ...            ...  \n",
       "6995          302  2013       1.062216       1.757060  \n",
       "6996          254  2013       0.475524       0.741266  \n",
       "6997          270  2013       4.905388       7.957899  \n",
       "6998          311  2013       2.258119       2.312055  \n",
       "6999          350  2013       5.074657       7.674461  \n",
       "\n",
       "[1951 rows x 12 columns]"
      ]
     },
     "execution_count": 43,
     "metadata": {},
     "output_type": "execute_result"
    }
   ],
   "source": [
    "train"
   ]
  },
  {
   "cell_type": "code",
   "execution_count": 44,
   "metadata": {},
   "outputs": [
    {
     "data": {
      "text/plain": [
       "Text(0.5, 1.0, 'Manhattan Distance')"
      ]
     },
     "execution_count": 44,
     "metadata": {},
     "output_type": "execute_result"
    },
    {
     "data": {
      "image/png": "[encoded data removed]",
      "text/plain": [
       "<Figure size 864x288 with 2 Axes>"
      ]
     },
     "metadata": {},
     "output_type": "display_data"
    }
   ],
   "source": [
    "fig, ax = plt.subplots(1, 2, figsize = (12,4))\n",
    "ax[0].hist(train['eucl_distance'])\n",
    "ax[0].set_title('Euclidian Distance')\n",
    "ax[1].hist(train['manh_distance'])\n",
    "ax[1].set_title('Manhattan Distance')"
   ]
  },
  {
   "cell_type": "markdown",
   "metadata": {},
   "source": [
    "Verificamos que as distancias são bem parecidas. Vamos manter para ver qual tem a maior importancia para o modelo ao final.\n",
    "Com isso podemos iniciar o pré-processamento dos dados para iniciar a criação do nosso modelo."
   ]
  },
  {
   "cell_type": "code",
   "execution_count": 47,
   "metadata": {},
   "outputs": [
    {
     "data": {
      "text/plain": [
       "dropoff_latitude     0\n",
       "dropoff_longitude    0\n",
       "fare_amount          0\n",
       "passenger_count      0\n",
       "pickup_latitude      0\n",
       "pickup_longitude     0\n",
       "hour_of_day          0\n",
       "day_of_week          0\n",
       "day_of_year          0\n",
       "year                 0\n",
       "eucl_distance        0\n",
       "manh_distance        0\n",
       "dtype: int64"
      ]
     },
     "execution_count": 47,
     "metadata": {},
     "output_type": "execute_result"
    }
   ],
   "source": [
    "train.shape"
   ]
  },
  {
   "cell_type": "markdown",
   "metadata": {},
   "source": [
    "df_array = train.to_numpy()\n",
    "df_array.shape"
   ]
  },
  {
   "cell_type": "markdown",
   "metadata": {},
   "source": [
    "df_array[0]"
   ]
  },
  {
   "cell_type": "markdown",
   "metadata": {},
   "source": [
    "import sqlite3\n",
    "\n",
    "connection = sqlite3.connect('C:/Users/Paulo/NYC-Taxi/Code/Operationalization/nyctaxi/taxi.sqlite3')\n",
    "cursor = connection.cursor()\n",
    "\n",
    "criar_tabela = \"CREATE TABLE IF NOT EXISTS taxi (\\\n",
    "                    dropoff_latitude\tNUMERIC NOT NULL DEFAULT 0,\\\n",
    "                    dropoff_longitude\tNUMERIC NOT NULL DEFAULT 0,\\\n",
    "                    fare_amount\tNUMERIC NOT NULL DEFAULT 0,\\\n",
    "                    passenger_count\tINTEGER NOT NULL DEFAULT 0,\\\n",
    "                    pickup_latitude\tNUMERIC NOT NULL DEFAULT 0,\\\n",
    "                    pickup_longitude\tINTEGER NOT NULL DEFAULT 0,\\\n",
    "                    hour_of_day\tINTEGER NOT NULL DEFAULT 0,\\\n",
    "                    day_of_week\tINTEGER NOT NULL DEFAULT 0,\\\n",
    "                    day_of_year\tINTEGER NOT NULL DEFAULT 0,\\\n",
    "                    year\tINTEGER NOT NULL DEFAULT 0,\\\n",
    "                    eucl_distance\tNUMERIC NOT NULL DEFAULT 0,\\\n",
    "                    manh_distance\tNUMERIC NOT NULL DEFAULT 0\\\n",
    "                    )\"\n",
    "cursor.execute(criar_tabela)\n",
    "\n",
    "\n",
    "cursor.executemany(\"INSERT INTO taxi (dropoff_latitude, dropoff_longitude, fare_amount,passenger_count, pickup_latitude, \\\n",
    "                                        pickup_longitude, hour_of_day, day_of_week, day_of_year, year, \\\n",
    "                                        eucl_distance, manh_distance) VALUES (?, ?, ?, ?, ?, ?, ?, ?, ?, ?, ?, ?)\", \\\n",
    "                                        df_array)\n",
    "connection.commit()"
   ]
  },
  {
   "cell_type": "markdown",
   "metadata": {},
   "source": [
    "# Exportanto Base de Dados"
   ]
  },
  {
   "cell_type": "code",
   "execution_count": 95,
   "metadata": {},
   "outputs": [],
   "source": [
    "train.to_parquet(save_file)"
   ]
  },
  {
   "cell_type": "code",
   "execution_count": 96,
   "metadata": {},
   "outputs": [
    {
     "data": {
      "text/html": [
       "<div>\n",
       "<style scoped>\n",
       "    .dataframe tbody tr th:only-of-type {\n",
       "        vertical-align: middle;\n",
       "    }\n",
       "\n",
       "    .dataframe tbody tr th {\n",
       "        vertical-align: top;\n",
       "    }\n",
       "\n",
       "    .dataframe thead th {\n",
       "        text-align: right;\n",
       "    }\n",
       "</style>\n",
       "<table border=\"1\" class=\"dataframe\">\n",
       "  <thead>\n",
       "    <tr style=\"text-align: right;\">\n",
       "      <th></th>\n",
       "      <th>dropoff_latitude</th>\n",
       "      <th>dropoff_longitude</th>\n",
       "      <th>fare_amount</th>\n",
       "      <th>passenger_count</th>\n",
       "      <th>pickup_latitude</th>\n",
       "      <th>pickup_longitude</th>\n",
       "      <th>hour_of_day</th>\n",
       "      <th>day_of_week</th>\n",
       "      <th>day_of_year</th>\n",
       "      <th>year</th>\n",
       "      <th>eucl_distance</th>\n",
       "      <th>manh_distance</th>\n",
       "    </tr>\n",
       "    <tr>\n",
       "      <th>index</th>\n",
       "      <th></th>\n",
       "      <th></th>\n",
       "      <th></th>\n",
       "      <th></th>\n",
       "      <th></th>\n",
       "      <th></th>\n",
       "      <th></th>\n",
       "      <th></th>\n",
       "      <th></th>\n",
       "      <th></th>\n",
       "      <th></th>\n",
       "      <th></th>\n",
       "    </tr>\n",
       "  </thead>\n",
       "  <tbody>\n",
       "    <tr>\n",
       "      <th>5003</th>\n",
       "      <td>40.742592</td>\n",
       "      <td>-73.953972</td>\n",
       "      <td>10.0</td>\n",
       "      <td>1</td>\n",
       "      <td>40.728981</td>\n",
       "      <td>-73.957542</td>\n",
       "      <td>9</td>\n",
       "      <td>1</td>\n",
       "      <td>329</td>\n",
       "      <td>2014</td>\n",
       "      <td>1.543551</td>\n",
       "      <td>1.911084</td>\n",
       "    </tr>\n",
       "    <tr>\n",
       "      <th>5004</th>\n",
       "      <td>40.841522</td>\n",
       "      <td>-73.939621</td>\n",
       "      <td>6.5</td>\n",
       "      <td>1</td>\n",
       "      <td>40.853523</td>\n",
       "      <td>-73.934090</td>\n",
       "      <td>9</td>\n",
       "      <td>1</td>\n",
       "      <td>273</td>\n",
       "      <td>2014</td>\n",
       "      <td>1.413679</td>\n",
       "      <td>1.950120</td>\n",
       "    </tr>\n",
       "    <tr>\n",
       "      <th>5005</th>\n",
       "      <td>40.842319</td>\n",
       "      <td>-73.939034</td>\n",
       "      <td>6.5</td>\n",
       "      <td>1</td>\n",
       "      <td>40.853634</td>\n",
       "      <td>-73.930634</td>\n",
       "      <td>19</td>\n",
       "      <td>4</td>\n",
       "      <td>178</td>\n",
       "      <td>2014</td>\n",
       "      <td>1.443378</td>\n",
       "      <td>2.192824</td>\n",
       "    </tr>\n",
       "    <tr>\n",
       "      <th>5006</th>\n",
       "      <td>40.680859</td>\n",
       "      <td>-73.971199</td>\n",
       "      <td>6.5</td>\n",
       "      <td>1</td>\n",
       "      <td>40.693134</td>\n",
       "      <td>-73.969048</td>\n",
       "      <td>23</td>\n",
       "      <td>2</td>\n",
       "      <td>295</td>\n",
       "      <td>2014</td>\n",
       "      <td>1.377429</td>\n",
       "      <td>1.604733</td>\n",
       "    </tr>\n",
       "    <tr>\n",
       "      <th>5007</th>\n",
       "      <td>40.873913</td>\n",
       "      <td>-73.898750</td>\n",
       "      <td>7.5</td>\n",
       "      <td>1</td>\n",
       "      <td>40.862232</td>\n",
       "      <td>-73.901405</td>\n",
       "      <td>15</td>\n",
       "      <td>3</td>\n",
       "      <td>261</td>\n",
       "      <td>2014</td>\n",
       "      <td>1.318286</td>\n",
       "      <td>1.594550</td>\n",
       "    </tr>\n",
       "    <tr>\n",
       "      <th>...</th>\n",
       "      <td>...</td>\n",
       "      <td>...</td>\n",
       "      <td>...</td>\n",
       "      <td>...</td>\n",
       "      <td>...</td>\n",
       "      <td>...</td>\n",
       "      <td>...</td>\n",
       "      <td>...</td>\n",
       "      <td>...</td>\n",
       "      <td>...</td>\n",
       "      <td>...</td>\n",
       "      <td>...</td>\n",
       "    </tr>\n",
       "    <tr>\n",
       "      <th>6995</th>\n",
       "      <td>40.728565</td>\n",
       "      <td>-73.860748</td>\n",
       "      <td>6.0</td>\n",
       "      <td>1</td>\n",
       "      <td>40.733994</td>\n",
       "      <td>-73.871117</td>\n",
       "      <td>15</td>\n",
       "      <td>1</td>\n",
       "      <td>302</td>\n",
       "      <td>2013</td>\n",
       "      <td>1.062216</td>\n",
       "      <td>1.757060</td>\n",
       "    </tr>\n",
       "    <tr>\n",
       "      <th>6996</th>\n",
       "      <td>40.789669</td>\n",
       "      <td>-73.954422</td>\n",
       "      <td>5.5</td>\n",
       "      <td>2</td>\n",
       "      <td>40.786087</td>\n",
       "      <td>-73.951340</td>\n",
       "      <td>9</td>\n",
       "      <td>2</td>\n",
       "      <td>254</td>\n",
       "      <td>2013</td>\n",
       "      <td>0.475524</td>\n",
       "      <td>0.741266</td>\n",
       "    </tr>\n",
       "    <tr>\n",
       "      <th>6997</th>\n",
       "      <td>40.763779</td>\n",
       "      <td>-73.976265</td>\n",
       "      <td>19.0</td>\n",
       "      <td>5</td>\n",
       "      <td>40.796963</td>\n",
       "      <td>-73.937904</td>\n",
       "      <td>9</td>\n",
       "      <td>4</td>\n",
       "      <td>270</td>\n",
       "      <td>2013</td>\n",
       "      <td>4.905388</td>\n",
       "      <td>7.957899</td>\n",
       "    </tr>\n",
       "    <tr>\n",
       "      <th>6998</th>\n",
       "      <td>40.693333</td>\n",
       "      <td>-73.830406</td>\n",
       "      <td>9.5</td>\n",
       "      <td>5</td>\n",
       "      <td>40.713631</td>\n",
       "      <td>-73.829918</td>\n",
       "      <td>13</td>\n",
       "      <td>3</td>\n",
       "      <td>311</td>\n",
       "      <td>2013</td>\n",
       "      <td>2.258119</td>\n",
       "      <td>2.312055</td>\n",
       "    </tr>\n",
       "    <tr>\n",
       "      <th>6999</th>\n",
       "      <td>40.769245</td>\n",
       "      <td>-73.988426</td>\n",
       "      <td>14.5</td>\n",
       "      <td>1</td>\n",
       "      <td>40.809235</td>\n",
       "      <td>-73.959419</td>\n",
       "      <td>13</td>\n",
       "      <td>0</td>\n",
       "      <td>350</td>\n",
       "      <td>2013</td>\n",
       "      <td>5.074657</td>\n",
       "      <td>7.674461</td>\n",
       "    </tr>\n",
       "  </tbody>\n",
       "</table>\n",
       "<p>1951 rows × 12 columns</p>\n",
       "</div>"
      ],
      "text/plain": [
       "       dropoff_latitude  dropoff_longitude  fare_amount  passenger_count  \\\n",
       "index                                                                      \n",
       "5003          40.742592         -73.953972         10.0                1   \n",
       "5004          40.841522         -73.939621          6.5                1   \n",
       "5005          40.842319         -73.939034          6.5                1   \n",
       "5006          40.680859         -73.971199          6.5                1   \n",
       "5007          40.873913         -73.898750          7.5                1   \n",
       "...                 ...                ...          ...              ...   \n",
       "6995          40.728565         -73.860748          6.0                1   \n",
       "6996          40.789669         -73.954422          5.5                2   \n",
       "6997          40.763779         -73.976265         19.0                5   \n",
       "6998          40.693333         -73.830406          9.5                5   \n",
       "6999          40.769245         -73.988426         14.5                1   \n",
       "\n",
       "       pickup_latitude  pickup_longitude  hour_of_day  day_of_week  \\\n",
       "index                                                                \n",
       "5003         40.728981        -73.957542            9            1   \n",
       "5004         40.853523        -73.934090            9            1   \n",
       "5005         40.853634        -73.930634           19            4   \n",
       "5006         40.693134        -73.969048           23            2   \n",
       "5007         40.862232        -73.901405           15            3   \n",
       "...                ...               ...          ...          ...   \n",
       "6995         40.733994        -73.871117           15            1   \n",
       "6996         40.786087        -73.951340            9            2   \n",
       "6997         40.796963        -73.937904            9            4   \n",
       "6998         40.713631        -73.829918           13            3   \n",
       "6999         40.809235        -73.959419           13            0   \n",
       "\n",
       "       day_of_year  year  eucl_distance  manh_distance  \n",
       "index                                                   \n",
       "5003           329  2014       1.543551       1.911084  \n",
       "5004           273  2014       1.413679       1.950120  \n",
       "5005           178  2014       1.443378       2.192824  \n",
       "5006           295  2014       1.377429       1.604733  \n",
       "5007           261  2014       1.318286       1.594550  \n",
       "...            ...   ...            ...            ...  \n",
       "6995           302  2013       1.062216       1.757060  \n",
       "6996           254  2013       0.475524       0.741266  \n",
       "6997           270  2013       4.905388       7.957899  \n",
       "6998           311  2013       2.258119       2.312055  \n",
       "6999           350  2013       5.074657       7.674461  \n",
       "\n",
       "[1951 rows x 12 columns]"
      ]
     },
     "execution_count": 96,
     "metadata": {},
     "output_type": "execute_result"
    }
   ],
   "source": [
    "train"
   ]
  }
 ],
 "metadata": {
  "kernelspec": {
   "display_name": "Python 3",
   "language": "python",
   "name": "python3"
  },
  "language_info": {
   "codemirror_mode": {
    "name": "ipython",
    "version": 3
   },
   "file_extension": ".py",
   "mimetype": "text/x-python",
   "name": "python",
   "nbconvert_exporter": "python",
   "pygments_lexer": "ipython3",
   "version": "3.8.3"
  }
 },
 "nbformat": 4,
 "nbformat_minor": 4
}
