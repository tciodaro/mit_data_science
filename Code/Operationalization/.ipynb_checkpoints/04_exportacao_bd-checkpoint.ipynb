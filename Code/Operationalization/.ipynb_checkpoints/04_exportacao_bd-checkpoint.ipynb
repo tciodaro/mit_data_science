{
 "cells": [
  {
   "cell_type": "code",
   "execution_count": 1,
   "metadata": {},
   "outputs": [],
   "source": [
    "import sqlite3\n",
    "import pandas as  pd\n",
    "import numpy as np\n",
    "import datetime\n",
    "import os"
   ]
  },
  {
   "cell_type": "markdown",
   "metadata": {},
   "source": [
    "### <span style=\"color:#9932CC\">**1. Diretórios Mapeados**</span>"
   ]
  },
  {
   "cell_type": "code",
   "execution_count": 2,
   "metadata": {},
   "outputs": [],
   "source": [
    "result_file = '../../Data/Operacao/dados_result.parquet'\n",
    "\n",
    "path_database = '../../Code/Operationalization/db.sqlite3'"
   ]
  },
  {
   "cell_type": "markdown",
   "metadata": {},
   "source": [
    "### <span style=\"color:#9932CC\">**2. Leitura dos dados tratados**</span>"
   ]
  },
  {
   "cell_type": "code",
   "execution_count": 3,
   "metadata": {},
   "outputs": [],
   "source": [
    "dataframe = pd.read_parquet(result_file)\n"
   ]
  },
  {
   "cell_type": "code",
   "execution_count": 5,
   "metadata": {},
   "outputs": [
    {
     "data": {
      "text/html": [
       "<div>\n",
       "<style scoped>\n",
       "    .dataframe tbody tr th:only-of-type {\n",
       "        vertical-align: middle;\n",
       "    }\n",
       "\n",
       "    .dataframe tbody tr th {\n",
       "        vertical-align: top;\n",
       "    }\n",
       "\n",
       "    .dataframe thead th {\n",
       "        text-align: right;\n",
       "    }\n",
       "</style>\n",
       "<table border=\"1\" class=\"dataframe\">\n",
       "  <thead>\n",
       "    <tr style=\"text-align: right;\">\n",
       "      <th></th>\n",
       "      <th>id</th>\n",
       "      <th>dsc_texto</th>\n",
       "      <th>tip_supervisao</th>\n",
       "      <th>din_execucao</th>\n",
       "      <th>tip_predicao</th>\n",
       "      <th>pct_predicao</th>\n",
       "    </tr>\n",
       "  </thead>\n",
       "  <tbody>\n",
       "    <tr>\n",
       "      <th>0</th>\n",
       "      <td>832897</td>\n",
       "      <td>desligamento involuntario da unidade geradora ...</td>\n",
       "      <td>oper</td>\n",
       "      <td>2020-09-12 21:39:23.492051</td>\n",
       "      <td>True</td>\n",
       "      <td>78.2</td>\n",
       "    </tr>\n",
       "    <tr>\n",
       "      <th>1</th>\n",
       "      <td>832899</td>\n",
       "      <td>sera realizado manutencao corretiva no transfo...</td>\n",
       "      <td>oper</td>\n",
       "      <td>2020-09-12 21:39:23.492051</td>\n",
       "      <td>True</td>\n",
       "      <td>97.3</td>\n",
       "    </tr>\n",
       "  </tbody>\n",
       "</table>\n",
       "</div>"
      ],
      "text/plain": [
       "       id                                          dsc_texto tip_supervisao  \\\n",
       "0  832897  desligamento involuntario da unidade geradora ...           oper   \n",
       "1  832899  sera realizado manutencao corretiva no transfo...           oper   \n",
       "\n",
       "                 din_execucao  tip_predicao  pct_predicao  \n",
       "0  2020-09-12 21:39:23.492051          True          78.2  \n",
       "1  2020-09-12 21:39:23.492051          True          97.3  "
      ]
     },
     "execution_count": 5,
     "metadata": {},
     "output_type": "execute_result"
    }
   ],
   "source": [
    "dataframe.head(2)"
   ]
  },
  {
   "cell_type": "markdown",
   "metadata": {},
   "source": [
    "### <span style=\"color:#9932CC\">**3. Inclusão ou Atualização na base de dados**</span>"
   ]
  },
  {
   "cell_type": "code",
   "execution_count": null,
   "metadata": {},
   "outputs": [],
   "source": [
    "sqliteConnection = sqlite3.connect(path_database)\n",
    "cursor = sqliteConnection.cursor()\n",
    "    \n",
    "for index,row in dataframe.iterrows():\n",
    "    df_id  = dataframe.loc[index,'id']\n",
    "    df_dsc_texto  = dataframe.loc[index,'dsc_texto']\n",
    "    df_tip_supervisao  = dataframe.loc[index,'tip_supervisao']\n",
    "    df_din_execucao  = dataframe.loc[index,'din_execucao']\n",
    "    df_tip_predicao  = dataframe.loc[index,'tip_predicao']\n",
    "    df_pct_predicao  = dataframe.loc[index,'pct_predicao']\n",
    "    \n",
    "    array_id = np.array([df_id]) \n",
    "    array_insert = np.array([df_id,df_dsc_texto,df_tip_supervisao,df_din_execucao,df_tip_predicao,df_pct_predicao]) \n",
    "    array_update = np.array([df_din_execucao, df_tip_supervisao, df_tip_predicao, df_pct_predicao, df_id]) \n",
    "       \n",
    "    \n",
    "    try:\n",
    "        \n",
    "        #print(\"Conectado com sucesso ao SQLite\")\n",
    "        sqlite_query = \"\"\" SELECT COUNT(id) as total FROM applications_predicao WHERE id = ? \"\"\"\n",
    "        cursor.execute(sqlite_query, array_id)\n",
    "        (total,) = cursor.fetchone()\n",
    "        \n",
    "        if total == 0 : \n",
    "            sqlite_insert_query = \"\"\"INSERT INTO applications_predicao(id,dsc_texto,tip_supervisao,din_execucao,tip_predicao,pct_predicao)\n",
    "                                     VALUES (?,?,?,?,?,?)\"\"\"\n",
    "            cursor.execute(sqlite_insert_query,array_insert)\n",
    "            sqliteConnection.commit()\n",
    "            #print('')\n",
    "            # print(\"Total=\", cursor.rowcount, \" registros inseridos com sucesso\")   \n",
    "        \n",
    "        else:\n",
    "            sqlite_update_query = \"\"\"UPDATE applications_predicao SET din_execucao =  ?, tip_supervisao = ? , tip_predicao = ? ,\n",
    "                                     pct_predicao = ?  WHERE id = ?  \"\"\"\n",
    "            cursor.execute(sqlite_update_query, array_update)\n",
    "            #sqliteConnection.commit()\n",
    "           # print('')\n",
    "           # print(\"Total=\", cursor.rowcount, \"registros atualizados com sucesso\")     \n",
    "                        \n",
    "    except sqlite3.Error as error:\n",
    "        print(\"erro = \", error)\n",
    "    \n",
    "   \n",
    "\n",
    "cursor.close()\n",
    "sqliteConnection.close()\n",
    "print(\"Inclusao e Atualização realizadas com sucesso\")\n",
    "print(\"Conexão com SQLite fechada\")\n",
    "print()\n",
    "      "
   ]
  },
  {
   "cell_type": "markdown",
   "metadata": {},
   "source": [
    "### <span style=\"color:#9932CC\">**5. Formatação Percentual**</span>"
   ]
  },
  {
   "cell_type": "code",
   "execution_count": 8,
   "metadata": {},
   "outputs": [
    {
     "name": "stdout",
     "output_type": "stream",
     "text": [
      "\n",
      "\n"
     ]
    }
   ],
   "source": [
    "sqliteConnection = sqlite3.connect(path_database)\n",
    "cursor = sqliteConnection.cursor()\n",
    "\n",
    "try:    \n",
    "    sqlite_update_query = \"\"\"UPDATE applications_predicao set pct_predicao = CAST(CAST(pct_predicao AS DECIMAL(4,2)) AS VARCHAR(10))\"\"\"\n",
    "    cursor.execute(sqlite_update_query)\n",
    "    sqliteConnection.commit()\n",
    "    cursor.close()    \n",
    "   \n",
    "\n",
    "except sqlite3.Error as error:\n",
    "    print(\"erro = \", error)\n",
    "    \n",
    "    \n",
    "finally:\n",
    "   if (sqliteConnection):\n",
    "        sqliteConnection.close() "
   ]
  },
  {
   "cell_type": "markdown",
   "metadata": {},
   "source": [
    "### <span style=\"color:#9932CC\">**6. Atualiza Estatistica**</span>"
   ]
  },
  {
   "cell_type": "code",
   "execution_count": 9,
   "metadata": {},
   "outputs": [
    {
     "name": "stdout",
     "output_type": "stream",
     "text": [
      "Conectado com sucesso ao SQLite\n",
      "Estatistica Finalizada\n",
      "\n",
      "\n"
     ]
    }
   ],
   "source": [
    "df_data = pd.DataFrame(data=dataframe.din_execucao.astype(str))\n",
    "df_data = df_data.min()\n",
    "\n",
    "array_df_data = df_data.to_numpy()\n",
    "#array_df_data\n",
    "\n",
    "\n",
    "sqliteConnection = sqlite3.connect(path_database)\n",
    "\n",
    "cursor = sqliteConnection.cursor()\n",
    "print(\"Conectado com sucesso ao SQLite\")\n",
    "\n",
    "try:\n",
    "    \n",
    "    # BLOCO - TRUE\n",
    "    # ---------------------------------\n",
    "    sqlite_select_true_query = \"\"\"SELECT COUNT(*) as total_true from applications_predicao \n",
    "                                WHERE tip_predicao = 'True' and din_execucao = ? \"\"\"\n",
    " \n",
    "    cursor.execute(sqlite_select_true_query, array_df_data)\n",
    "    (total_true,) = cursor.fetchone()\n",
    "    a = np.array(total_true)\n",
    "    array_true = np.append(array_df_data, a)  \n",
    "       \n",
    "    sqlite_insert_queryTrue = \"\"\"INSERT INTO applications_estatistica(din_execucao, dsc_predicao, qtd_registro) \n",
    "                             VALUES  (?, 'True', ? ) \"\"\"\n",
    "    \n",
    "    cursor.execute(sqlite_insert_queryTrue, array_true)\n",
    "    sqliteConnection.commit()\n",
    "    \n",
    "    \n",
    "    \n",
    "     # BLOCO -  FALSE\n",
    "     # ---------------------------------\n",
    "    sqlite_select_false_query = \"\"\"SELECT COUNT(*) as total_false from applications_predicao \n",
    "                          WHERE tip_predicao = 'False' and din_execucao = ? \"\"\"\n",
    " \n",
    "    cursor.execute(sqlite_select_false_query, array_df_data)\n",
    "    (total_false,) = cursor.fetchone()\n",
    "    b = np.array(total_false)\n",
    "    array_false = np.append(array_df_data, b)  \n",
    "\n",
    "    sqlite_insert_queryFalse = \"\"\"INSERT INTO applications_estatistica(din_execucao, dsc_predicao, qtd_registro) \n",
    "                             VALUES  (?, 'False', ? ) \"\"\"\n",
    "    \n",
    "    cursor.execute(sqlite_insert_queryFalse, array_false)\n",
    "    sqliteConnection.commit()\n",
    "    \n",
    "       \n",
    "    # Final do Processo\n",
    "    cursor.close()\n",
    "\n",
    "except sqlite3.Error as error:\n",
    "    print(\"Falha em INSERT no database\", error) \n",
    "  \n",
    "    \n",
    "finally:\n",
    "   if (sqliteConnection):\n",
    "        sqliteConnection.close()  \n",
    "        print(\"Estatistica Finalizada\")  \n",
    "        print(\"\")\n",
    "        print(\"\")               "
   ]
  },
  {
   "cell_type": "code",
   "execution_count": null,
   "metadata": {},
   "outputs": [],
   "source": []
  }
 ],
 "metadata": {
  "kernelspec": {
   "display_name": "Python 3",
   "language": "python",
   "name": "python3"
  },
  "language_info": {
   "codemirror_mode": {
    "name": "ipython",
    "version": 3
   },
   "file_extension": ".py",
   "mimetype": "text/x-python",
   "name": "python",
   "nbconvert_exporter": "python",
   "pygments_lexer": "ipython3",
   "version": "3.7.6"
  }
 },
 "nbformat": 4,
 "nbformat_minor": 4
}
