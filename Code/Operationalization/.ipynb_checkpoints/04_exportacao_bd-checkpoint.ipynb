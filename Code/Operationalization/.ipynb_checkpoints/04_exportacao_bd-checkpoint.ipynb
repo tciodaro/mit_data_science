{
 "cells": [
  {
   "cell_type": "code",
   "execution_count": 1,
   "metadata": {},
   "outputs": [],
   "source": [
    "import sqlite3\n",
    "import pandas as  pd\n",
    "import numpy as np\n",
    "import datetime\n",
    "import os"
   ]
  },
  {
   "cell_type": "markdown",
   "metadata": {},
   "source": [
    "### <span style=\"color:#9932CC\">**1. Diretórios Mapeados**</span>"
   ]
  },
  {
   "cell_type": "code",
   "execution_count": 2,
   "metadata": {},
   "outputs": [],
   "source": [
    "result_file = '../../Data/Operacao/dados_result.parquet'\n",
    "\n",
    "path_database = '../../Code/Operationalization/db.sqlite3'"
   ]
  },
  {
   "cell_type": "markdown",
   "metadata": {},
   "source": [
    "### <span style=\"color:#9932CC\">**2. Leitura dos dados tratados**</span>"
   ]
  },
  {
   "cell_type": "code",
   "execution_count": 3,
   "metadata": {},
   "outputs": [],
   "source": [
    "dataframe = pd.read_parquet(result_file)\n"
   ]
  },
  {
   "cell_type": "markdown",
   "metadata": {},
   "source": [
    "### <span style=\"color:#9932CC\">**3. Inclusão ou Atualização na base de dados**</span>"
   ]
  },
  {
   "cell_type": "code",
   "execution_count": 4,
   "metadata": {},
   "outputs": [
    {
     "name": "stdout",
     "output_type": "stream",
     "text": [
      "Inclusao e Atualização realizadas com sucesso\n",
      "Conexão com SQLite fechada\n",
      "\n"
     ]
    }
   ],
   "source": [
    "sqliteConnection = sqlite3.connect(path_database)\n",
    "cursor = sqliteConnection.cursor()\n",
    "    \n",
    "for index,row in dataframe.iterrows():\n",
    "    df_id  = dataframe.loc[index,'id']\n",
    "    df_dsc_texto  = dataframe.loc[index,'dsc_texto']\n",
    "    df_tip_supervisao  = dataframe.loc[index,'tip_supervisao']\n",
    "    df_din_execucao  = dataframe.loc[index,'din_execucao']\n",
    "    df_tip_evento  = dataframe.loc[index,'tip_evento']\n",
    "    df_tip_predicao  = dataframe.loc[index,'tip_predicao']\n",
    "    df_pct_predicao  = dataframe.loc[index,'pct_predicao']\n",
    "    \n",
    "    array_id = np.array([df_id]) \n",
    "    array_insert = np.array([df_id,df_dsc_texto,df_tip_supervisao,df_din_execucao,df_tip_evento,df_tip_predicao,df_pct_predicao]) \n",
    "    array_update = np.array([df_din_execucao,df_tip_evento,df_tip_predicao,df_pct_predicao,df_id]) \n",
    "       \n",
    "    \n",
    "    try:\n",
    "        \n",
    "        #print(\"Conectado com sucesso ao SQLite\")\n",
    "        sqlite_query = \"\"\" SELECT COUNT(id_sin) as total FROM applications_dadospredicao WHERE id_sin = ? \"\"\"\n",
    "        cursor.execute(sqlite_query, array_id)\n",
    "        (total,) = cursor.fetchone()\n",
    "        \n",
    "        if total == 0 : \n",
    "            sqlite_insert_query = \"\"\"INSERT INTO applications_dadospredicao(id_sin,dsc_texto,tip_supervisao,din_execucao,tip_evento,tip_predicao,pct_predicao)\n",
    "                                     VALUES (?,?,?,?,?,?,?)\"\"\"\n",
    "            cursor.execute(sqlite_insert_query,array_insert)\n",
    "            sqliteConnection.commit()\n",
    "            #print('')\n",
    "            #print(\"Total=\", cursor.rowcount, \" registros inseridos com sucesso\")   \n",
    "        \n",
    "        else:\n",
    "            sqlite_update_query = \"\"\"UPDATE applications_dadospredicao SET din_execucao =  ?, tip_evento = ? , tip_predicao = ? ,\n",
    "                                     pct_predicao = ?  WHERE id_sin = ?  \"\"\"\n",
    "            cursor.execute(sqlite_update_query, array_update)\n",
    "            #sqliteConnection.commit()\n",
    "            #print('')\n",
    "            #print(\"Total=\", cursor.rowcount, \"registros atualizados com sucesso\")     \n",
    "                        \n",
    "    except sqlite3.Error as error:\n",
    "        print(\"erro = \", error)\n",
    "    \n",
    "   \n",
    "    \n",
    "cursor.close()\n",
    "sqliteConnection.close()\n",
    "print(\"Inclusao e Atualização realizadas com sucesso\")\n",
    "print(\"Conexão com SQLite fechada\")\n",
    "print()\n",
    "      "
   ]
  },
  {
   "cell_type": "code",
   "execution_count": 5,
   "metadata": {},
   "outputs": [
    {
     "name": "stdout",
     "output_type": "stream",
     "text": [
      "\n",
      "\n"
     ]
    }
   ],
   "source": [
    "sqliteConnection = sqlite3.connect(path_database)\n",
    "cursor = sqliteConnection.cursor()\n",
    "\n",
    "try:    \n",
    "    sqlite_update_query = \"\"\"UPDATE applications_dadospredicao set pct_predicao = CAST(CAST(pct_predicao AS DECIMAL(4,2)) AS VARCHAR(10))\"\"\"\n",
    "    cursor.execute(sqlite_update_query)\n",
    "    sqliteConnection.commit()\n",
    "    cursor.close()    \n",
    "   \n",
    "\n",
    "except sqlite3.Error as error:\n",
    "    print(\"erro = \", error)\n",
    "    \n",
    "    \n",
    "finally:\n",
    "   if (sqliteConnection):\n",
    "        sqliteConnection.close()         \n",
    "        print(\"\")\n",
    "        print(\"\")               "
   ]
  },
  {
   "cell_type": "markdown",
   "metadata": {},
   "source": [
    "### <span style=\"color:#9932CC\">**4. Atualiza Estatistica**</span>"
   ]
  },
  {
   "cell_type": "code",
   "execution_count": 6,
   "metadata": {},
   "outputs": [
    {
     "name": "stdout",
     "output_type": "stream",
     "text": [
      "Conectado com sucesso ao SQLite\n",
      "Estatistica Finalizada\n",
      "\n",
      "\n"
     ]
    }
   ],
   "source": [
    "df_data = pd.DataFrame(data=dataframe.din_execucao.astype(str))\n",
    "df_data = df_data.min()\n",
    "\n",
    "array_df_data = df_data.to_numpy()\n",
    "array_df_data\n",
    "\n",
    "\n",
    "sqliteConnection = sqlite3.connect(path_database)\n",
    "\n",
    "cursor = sqliteConnection.cursor()\n",
    "print(\"Conectado com sucesso ao SQLite\")\n",
    "\n",
    "try:\n",
    "    \n",
    "    # BLOCO 1 - TRUE x TRUE\n",
    "    # ---------------------------------\n",
    "    sqlite_select_tt_query = \"\"\"SELECT COUNT(*) as total_tt from applications_dadospredicao \n",
    "                          WHERE tip_evento = 'True' and tip_predicao = 'True' and din_execucao = ? \"\"\"\n",
    " \n",
    "    cursor.execute(sqlite_select_tt_query, array_df_data)\n",
    "    (total_tt,) = cursor.fetchone()\n",
    "    a = np.array(total_tt)\n",
    "    array_tt = np.append(array_df_data, a)  \n",
    "       \n",
    "    sqlite_insert_query = \"\"\"INSERT INTO applications_dadosestatistica(din_execucao,dsc_predicao,qtd_registro) \n",
    "                             VALUES  (?, 'True - True', ? ) \"\"\"\n",
    "    \n",
    "    cursor.execute(sqlite_insert_query, array_tt)\n",
    "    sqliteConnection.commit()\n",
    "    \n",
    "    \n",
    "    \n",
    "     # BLOCO 2 - TRUE x FALSE\n",
    "     # ---------------------------------\n",
    "    sqlite_select_tf_query = \"\"\"SELECT COUNT(*) as total_tf from applications_dadospredicao \n",
    "                          WHERE tip_evento = 'True' and tip_predicao = 'False' and din_execucao = ? \"\"\"\n",
    " \n",
    "    cursor.execute(sqlite_select_tf_query, array_df_data)\n",
    "    (total_tf,) = cursor.fetchone()\n",
    "    b = np.array(total_tf)\n",
    "    array_tf = np.append(array_df_data, b)  \n",
    "\n",
    "    sqlite_insert_query = \"\"\"INSERT INTO applications_dadosestatistica(din_execucao,dsc_predicao,qtd_registro) \n",
    "                             VALUES  (?, 'True - False', ? ) \"\"\"\n",
    "    \n",
    "    cursor.execute(sqlite_insert_query, array_tf)\n",
    "    sqliteConnection.commit()\n",
    "    \n",
    "    \n",
    "    \n",
    "     # BLOCO 3 - FALSE x TRUE\n",
    "     # ---------------------------------\n",
    "    sqlite_select_ft_query = \"\"\"SELECT  COUNT(*) as total_ft from applications_dadospredicao \n",
    "                          WHERE tip_evento = 'False' and tip_predicao = 'True' and din_execucao = ? \"\"\"\n",
    " \n",
    "    cursor.execute(sqlite_select_ft_query, array_df_data)\n",
    "    (total_ft,) = cursor.fetchone()\n",
    "    c = np.array(total_ft)\n",
    "    array_ft = np.append(array_df_data, c) \n",
    "    \n",
    "    sqlite_insert_query = \"\"\"INSERT INTO applications_dadosestatistica(din_execucao,dsc_predicao,qtd_registro) \n",
    "                             VALUES  (?, 'False - True', ? ) \"\"\"\n",
    "    \n",
    "    cursor.execute(sqlite_insert_query, array_ft)\n",
    "    sqliteConnection.commit()\n",
    "    \n",
    "    \n",
    "    \n",
    "     # BLOCO 4 - FALSE x FALSE\n",
    "     # ---------------------------------\n",
    "    sqlite_select_ff_query = \"\"\"SELECT  COUNT(*) as total_ff from applications_dadospredicao \n",
    "                          WHERE tip_evento = 'False' and tip_predicao = 'False' and din_execucao = ? \"\"\"\n",
    " \n",
    "    cursor.execute(sqlite_select_ff_query, array_df_data)\n",
    "    (total_ff,) = cursor.fetchone()\n",
    "    d = np.array(total_ff)\n",
    "    array_ff = np.append(array_df_data, d) \n",
    "    \n",
    "    sqlite_insert_query = \"\"\"INSERT INTO applications_dadosestatistica(din_execucao,dsc_predicao,qtd_registro) \n",
    "                             VALUES  (?, 'False - False', ? ) \"\"\"\n",
    "    \n",
    "    cursor.execute(sqlite_insert_query, array_ff)\n",
    "    sqliteConnection.commit()\n",
    "\n",
    "    \n",
    "    # Final do Processo\n",
    "    cursor.close()\n",
    "\n",
    "except sqlite3.Error as error:\n",
    "    print(\"Falha em INSERT no database\", error) \n",
    "  \n",
    "    \n",
    "finally:\n",
    "   if (sqliteConnection):\n",
    "        sqliteConnection.close()  \n",
    "        print(\"Estatistica Finalizada\")  \n",
    "        print(\"\")\n",
    "        print(\"\")               "
   ]
  },
  {
   "cell_type": "code",
   "execution_count": null,
   "metadata": {},
   "outputs": [],
   "source": []
  }
 ],
 "metadata": {
  "kernelspec": {
   "display_name": "Python 3",
   "language": "python",
   "name": "python3"
  },
  "language_info": {
   "codemirror_mode": {
    "name": "ipython",
    "version": 3
   },
   "file_extension": ".py",
   "mimetype": "text/x-python",
   "name": "python",
   "nbconvert_exporter": "python",
   "pygments_lexer": "ipython3",
   "version": "3.7.6"
  }
 },
 "nbformat": 4,
 "nbformat_minor": 4
}
