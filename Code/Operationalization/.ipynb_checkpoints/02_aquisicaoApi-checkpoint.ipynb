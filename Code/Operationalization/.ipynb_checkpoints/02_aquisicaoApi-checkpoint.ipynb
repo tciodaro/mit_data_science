{
 "cells": [
  {
   "cell_type": "code",
   "execution_count": 1,
   "metadata": {},
   "outputs": [],
   "source": [
    "import requests\n",
    "import pandas as pd\n",
    "import pickle\n",
    "import json\n",
    "import snappy\n",
    "import sys\n",
    "from urllib.parse import urlencode\n"
   ]
  },
  {
   "cell_type": "code",
   "execution_count": null,
   "metadata": {},
   "outputs": [],
   "source": [
    "#notebook_path_exit = '../../Code/Operationalization/05_dataframe_exit.ipynb'"
   ]
  },
  {
   "cell_type": "markdown",
   "metadata": {},
   "source": [
    "### <span style=\"color:#C71585\">**1. Diretório Mapeado**</span>"
   ]
  },
  {
   "cell_type": "code",
   "execution_count": 2,
   "metadata": {},
   "outputs": [],
   "source": [
    "save_file = '../../Data/Operacao/dados_coleta.parquet'"
   ]
  },
  {
   "cell_type": "markdown",
   "metadata": {},
   "source": [
    "### <span style=\"color:#C71585\"> **2. Upload de variavel para pesquisa de dados na API**</span>"
   ]
  },
  {
   "cell_type": "code",
   "execution_count": 3,
   "metadata": {},
   "outputs": [],
   "source": [
    "#baseurl = 'http://localhost:8000/services/coleta/?dat_inicio=01/08/2020&dat_fim=04/08/2020'\n",
    "\n",
    "% store -r baseurl\n",
    "baseurl"
   ]
  },
  {
   "cell_type": "code",
   "execution_count": null,
   "metadata": {},
   "outputs": [],
   "source": []
  },
  {
   "cell_type": "markdown",
   "metadata": {},
   "source": [
    "### <span style=\"color:#C71585\"> **3. Upload de Dados via API**</span>"
   ]
  },
  {
   "cell_type": "code",
   "execution_count": 4,
   "metadata": {},
   "outputs": [
    {
     "name": "stdout",
     "output_type": "stream",
     "text": [
      "=> Recuperando dados da API\n",
      "<Response [200]>\n",
      "\n"
     ]
    }
   ],
   "source": [
    "print('=> Recuperando dados da API')\n",
    "response = requests.get(baseurl)\n",
    "print(response)\n",
    "print('')"
   ]
  },
  {
   "cell_type": "markdown",
   "metadata": {},
   "source": [
    "### <span style=\"color:#C71585\"> **4. Visualizar dados da API**<span>"
   ]
  },
  {
   "cell_type": "code",
   "execution_count": 5,
   "metadata": {},
   "outputs": [],
   "source": [
    "obj = json.loads(response.text)\n",
    "dataframe =  pd.DataFrame.from_dict(obj)\n"
   ]
  },
  {
   "cell_type": "code",
   "execution_count": 8,
   "metadata": {},
   "outputs": [
    {
     "name": "stdout",
     "output_type": "stream",
     "text": [
      "shape: (26, 3)\n"
     ]
    }
   ],
   "source": [
    "if (dataframe.empty) :\n",
    "    print('')\n",
    "    print('!!!!!!!!!!!!!!!')\n",
    "    print('DATAFRAME VAZIO')\n",
    "    print('!!!!!!!!!!!!!!!')   \n",
    "    print('Nenhum procedimento executado!!')  \n",
    "    sys.exit(0)\n",
    "  \n",
    "else:    \n",
    "    print('shape:', dataframe.shape)\n",
    "    #print('columns:', dataframe.columns)\n",
    "   \n",
    "    "
   ]
  },
  {
   "cell_type": "code",
   "execution_count": 7,
   "metadata": {},
   "outputs": [
    {
     "data": {
      "text/html": [
       "<div>\n",
       "<style scoped>\n",
       "    .dataframe tbody tr th:only-of-type {\n",
       "        vertical-align: middle;\n",
       "    }\n",
       "\n",
       "    .dataframe tbody tr th {\n",
       "        vertical-align: top;\n",
       "    }\n",
       "\n",
       "    .dataframe thead th {\n",
       "        text-align: right;\n",
       "    }\n",
       "</style>\n",
       "<table border=\"1\" class=\"dataframe\">\n",
       "  <thead>\n",
       "    <tr style=\"text-align: right;\">\n",
       "      <th></th>\n",
       "      <th>id</th>\n",
       "      <th>din_evento</th>\n",
       "      <th>dsc_texto</th>\n",
       "    </tr>\n",
       "  </thead>\n",
       "  <tbody>\n",
       "    <tr>\n",
       "      <th>0</th>\n",
       "      <td>832897</td>\n",
       "      <td>01/08/2020 08:37:24</td>\n",
       "      <td>DESLIGAMENTO INVOLUNTÁRIO DA UNIDADE GERADORA ...</td>\n",
       "    </tr>\n",
       "    <tr>\n",
       "      <th>1</th>\n",
       "      <td>832899</td>\n",
       "      <td>01/08/2020 10:26:45</td>\n",
       "      <td>SERÁ REALIZADO MANUTENÇÃO CORRETIVA NO TRANSFO...</td>\n",
       "    </tr>\n",
       "    <tr>\n",
       "      <th>2</th>\n",
       "      <td>832952</td>\n",
       "      <td>02/08/2020 21:42:53</td>\n",
       "      <td>Manutenção corretiva da Linha 04 - ME na UHE S...</td>\n",
       "    </tr>\n",
       "    <tr>\n",
       "      <th>3</th>\n",
       "      <td>832955</td>\n",
       "      <td>03/08/2020 00:31:55</td>\n",
       "      <td>UG  17 Grupo 03 – Hora inicial: 00:00h Final: ...</td>\n",
       "    </tr>\n",
       "    <tr>\n",
       "      <th>4</th>\n",
       "      <td>832971</td>\n",
       "      <td>03/08/2020 09:36:55</td>\n",
       "      <td>Substituição de equipamento da rede de comunic...</td>\n",
       "    </tr>\n",
       "  </tbody>\n",
       "</table>\n",
       "</div>"
      ],
      "text/plain": [
       "       id           din_evento  \\\n",
       "0  832897  01/08/2020 08:37:24   \n",
       "1  832899  01/08/2020 10:26:45   \n",
       "2  832952  02/08/2020 21:42:53   \n",
       "3  832955  03/08/2020 00:31:55   \n",
       "4  832971  03/08/2020 09:36:55   \n",
       "\n",
       "                                           dsc_texto  \n",
       "0  DESLIGAMENTO INVOLUNTÁRIO DA UNIDADE GERADORA ...  \n",
       "1  SERÁ REALIZADO MANUTENÇÃO CORRETIVA NO TRANSFO...  \n",
       "2  Manutenção corretiva da Linha 04 - ME na UHE S...  \n",
       "3  UG  17 Grupo 03 – Hora inicial: 00:00h Final: ...  \n",
       "4  Substituição de equipamento da rede de comunic...  "
      ]
     },
     "execution_count": 7,
     "metadata": {},
     "output_type": "execute_result"
    }
   ],
   "source": [
    " dataframe.head()"
   ]
  },
  {
   "cell_type": "markdown",
   "metadata": {},
   "source": [
    "### <span style=\"color:#C71585\"> **5. Adequaçao do Dataframe** </span>"
   ]
  },
  {
   "cell_type": "code",
   "execution_count": 9,
   "metadata": {},
   "outputs": [],
   "source": [
    "#Remove apenas as colunas dentro do ['','']\n",
    "#dataframe = dataframe.drop(columns=['nome','secao','dat_publicacao','categoria'])\n",
    "\n",
    "# Remove todas as colunas com exceção de ['','']\n",
    "# -------------------------------------------------\n",
    "dataframe.drop(dataframe.columns.difference(['id','dsc_texto']), 1, inplace=True)\n"
   ]
  },
  {
   "cell_type": "markdown",
   "metadata": {},
   "source": [
    "### <span style=\"color:#C71585\"> **6.Preparação dos Dados**</span>"
   ]
  },
  {
   "cell_type": "markdown",
   "metadata": {},
   "source": [
    "#### <span style=\"color:#1C1C1C\">**6.1. Remove linhas nulas no Dataframe**</span>"
   ]
  },
  {
   "cell_type": "code",
   "execution_count": 10,
   "metadata": {},
   "outputs": [],
   "source": [
    "dataframe = dataframe.dropna()"
   ]
  },
  {
   "cell_type": "markdown",
   "metadata": {},
   "source": [
    "#### <span style=\"color:#1C1C1C\">**6.2. Remove linhas duplicatas no Dataframe**</span>"
   ]
  },
  {
   "cell_type": "code",
   "execution_count": 11,
   "metadata": {},
   "outputs": [],
   "source": [
    "dataframe = dataframe.drop_duplicates()"
   ]
  },
  {
   "cell_type": "markdown",
   "metadata": {},
   "source": [
    "### <span style=\"color:#C71585\"> **7.Vista do Dataframe**</span>"
   ]
  },
  {
   "cell_type": "code",
   "execution_count": 12,
   "metadata": {},
   "outputs": [
    {
     "data": {
      "text/html": [
       "<div>\n",
       "<style scoped>\n",
       "    .dataframe tbody tr th:only-of-type {\n",
       "        vertical-align: middle;\n",
       "    }\n",
       "\n",
       "    .dataframe tbody tr th {\n",
       "        vertical-align: top;\n",
       "    }\n",
       "\n",
       "    .dataframe thead th {\n",
       "        text-align: right;\n",
       "    }\n",
       "</style>\n",
       "<table border=\"1\" class=\"dataframe\">\n",
       "  <thead>\n",
       "    <tr style=\"text-align: right;\">\n",
       "      <th></th>\n",
       "      <th>id</th>\n",
       "      <th>dsc_texto</th>\n",
       "    </tr>\n",
       "  </thead>\n",
       "  <tbody>\n",
       "    <tr>\n",
       "      <th>0</th>\n",
       "      <td>832897</td>\n",
       "      <td>DESLIGAMENTO INVOLUNTÁRIO DA UNIDADE GERADORA ...</td>\n",
       "    </tr>\n",
       "    <tr>\n",
       "      <th>1</th>\n",
       "      <td>832899</td>\n",
       "      <td>SERÁ REALIZADO MANUTENÇÃO CORRETIVA NO TRANSFO...</td>\n",
       "    </tr>\n",
       "    <tr>\n",
       "      <th>2</th>\n",
       "      <td>832952</td>\n",
       "      <td>Manutenção corretiva da Linha 04 - ME na UHE S...</td>\n",
       "    </tr>\n",
       "    <tr>\n",
       "      <th>3</th>\n",
       "      <td>832955</td>\n",
       "      <td>UG  17 Grupo 03 – Hora inicial: 00:00h Final: ...</td>\n",
       "    </tr>\n",
       "    <tr>\n",
       "      <th>4</th>\n",
       "      <td>832971</td>\n",
       "      <td>Substituição de equipamento da rede de comunic...</td>\n",
       "    </tr>\n",
       "  </tbody>\n",
       "</table>\n",
       "</div>"
      ],
      "text/plain": [
       "       id                                          dsc_texto\n",
       "0  832897  DESLIGAMENTO INVOLUNTÁRIO DA UNIDADE GERADORA ...\n",
       "1  832899  SERÁ REALIZADO MANUTENÇÃO CORRETIVA NO TRANSFO...\n",
       "2  832952  Manutenção corretiva da Linha 04 - ME na UHE S...\n",
       "3  832955  UG  17 Grupo 03 – Hora inicial: 00:00h Final: ...\n",
       "4  832971  Substituição de equipamento da rede de comunic..."
      ]
     },
     "execution_count": 12,
     "metadata": {},
     "output_type": "execute_result"
    }
   ],
   "source": [
    "dataframe.head()"
   ]
  },
  {
   "cell_type": "markdown",
   "metadata": {},
   "source": [
    "### <span style=\"color:#C71585\">**8. Tratamento de Caracteres**</span>"
   ]
  },
  {
   "cell_type": "markdown",
   "metadata": {},
   "source": [
    "#### <span style=\"color:#1C1C1C\">**8.1 Converte para Letras Minusculas** </span>"
   ]
  },
  {
   "cell_type": "code",
   "execution_count": 13,
   "metadata": {},
   "outputs": [],
   "source": [
    "dataframe['dsc_texto'] = dataframe['dsc_texto'].str.lower() "
   ]
  },
  {
   "cell_type": "markdown",
   "metadata": {},
   "source": [
    "#### <span style=\"color:#1C1C1C\">**8.2 Limpeza do texto** </span>"
   ]
  },
  {
   "cell_type": "code",
   "execution_count": 14,
   "metadata": {},
   "outputs": [],
   "source": [
    "# Criação de função e chamada da mesma\n",
    "\n",
    "def corrigir_nomes(nome):\n",
    "    nome = nome.replace('0',' ').replace('1',' ').replace('2',' ').replace('3',' ').replace('4',' ').replace('5',' ').replace('6',' ').replace('7',' ')\n",
    "    nome = nome.replace('º',' ').replace('ª',' ').replace('²',' ').replace('°',' ').replace('8',' ').replace('9',' ').replace('ô','o').replace('õ','o')\n",
    "    nome = nome.replace('à','a').replace('ã','a').replace('á','a').replace('â','a').replace('é','e').replace('ê','e').replace('í','i').replace('ó','o')\n",
    "    return nome\n",
    "\n",
    "dataframe['dsc_texto'] = dataframe['dsc_texto'].apply(corrigir_nomes)\n",
    "\n",
    "# Uso de função de substituição de teste, estilo FIND - SUBSTITUIR\n",
    "\n",
    "dataframe['dsc_texto'] = dataframe['dsc_texto'].str.replace(r'[^\\w\\s]+', ' ')\n",
    "dataframe['dsc_texto'] = dataframe['dsc_texto'].str.replace(r'ú','u')\n",
    "dataframe['dsc_texto'] = dataframe['dsc_texto'].str.replace(r'ü','u')\n",
    "dataframe['dsc_texto'] = dataframe['dsc_texto'].str.replace(r'ç','c')\n"
   ]
  },
  {
   "cell_type": "markdown",
   "metadata": {},
   "source": [
    "### <span style=\"color:#C71585\">**9. Exporta resultado para Parquet**</span>"
   ]
  },
  {
   "cell_type": "code",
   "execution_count": 15,
   "metadata": {},
   "outputs": [],
   "source": [
    "dataframe.to_parquet(save_file, compression='snappy')"
   ]
  },
  {
   "cell_type": "code",
   "execution_count": null,
   "metadata": {},
   "outputs": [],
   "source": []
  }
 ],
 "metadata": {
  "kernelspec": {
   "display_name": "Python 3",
   "language": "python",
   "name": "python3"
  },
  "language_info": {
   "codemirror_mode": {
    "name": "ipython",
    "version": 3
   },
   "file_extension": ".py",
   "mimetype": "text/x-python",
   "name": "python",
   "nbconvert_exporter": "python",
   "pygments_lexer": "ipython3",
   "version": "3.7.6"
  }
 },
 "nbformat": 4,
 "nbformat_minor": 4
}
