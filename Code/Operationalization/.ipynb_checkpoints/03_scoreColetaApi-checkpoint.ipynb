{
 "cells": [
  {
   "cell_type": "code",
   "execution_count": 1,
   "metadata": {},
   "outputs": [],
   "source": [
    "import os\n",
    "import pandas as pd\n",
    "import pickle\n",
    "import json\n",
    "import seaborn as sns\n",
    "import datetime\n",
    "from sklearn.linear_model import LogisticRegressionCV\n",
    "import matplotlib.pyplot as plt\n",
    "\n",
    "import sqlite3\n",
    "\n",
    "%matplotlib inline\n",
    "\n",
    "pd.plotting.register_matplotlib_converters()\n"
   ]
  },
  {
   "cell_type": "markdown",
   "metadata": {},
   "source": [
    "### <span style=\"color:navy\"> **1. Diretórios Mapeados** </span>"
   ]
  },
  {
   "cell_type": "code",
   "execution_count": 2,
   "metadata": {},
   "outputs": [],
   "source": [
    "parquet_file = '../../Data/Operacao/dados_coleta.parquet'\n",
    "\n",
    "model_file =  '../../Data/Modeling/modelo_previsao.jbl'\n",
    "save_result = '../../Data/Operacao/dados_result.parquet'\n"
   ]
  },
  {
   "cell_type": "markdown",
   "metadata": {},
   "source": [
    "### <span style=\"color:navy\"> **2. Carrega dados da API Pós-Preparação** </span>"
   ]
  },
  {
   "cell_type": "code",
   "execution_count": 3,
   "metadata": {},
   "outputs": [],
   "source": [
    "dataframe = pd.read_parquet(parquet_file)\n"
   ]
  },
  {
   "cell_type": "markdown",
   "metadata": {},
   "source": [
    "### <span style=\"color:navy\"> **3. Carrega Modelo de Predição**</span>"
   ]
  },
  {
   "cell_type": "code",
   "execution_count": 4,
   "metadata": {},
   "outputs": [],
   "source": [
    "with open(model_file, 'rb') as fid:\n",
    "    trained_models = pickle.load(fid)"
   ]
  },
  {
   "cell_type": "markdown",
   "metadata": {},
   "source": [
    "### <span style=\"color:navy\"> **4. Informar Qual Modelo de Predição será Usado** </span>"
   ]
  },
  {
   "cell_type": "code",
   "execution_count": 5,
   "metadata": {},
   "outputs": [],
   "source": [
    "model_name = 'LogisticRegr'\n",
    "modelAquisicao = trained_models[model_name]"
   ]
  },
  {
   "cell_type": "code",
   "execution_count": null,
   "metadata": {},
   "outputs": [],
   "source": []
  },
  {
   "cell_type": "markdown",
   "metadata": {},
   "source": [
    "### <span style=\"color:navy\"> **5. Executa Modelo de Predição sobre DadosAPI** </span>"
   ]
  },
  {
   "cell_type": "code",
   "execution_count": 6,
   "metadata": {},
   "outputs": [],
   "source": [
    "X = dataframe['dsc_manutencao'].values.reshape(-1).tolist()\n",
    "\n",
    "# Retorno de Probabilidade\n",
    "Result_percentual = modelAquisicao.predict_proba(X)[:,1]\n",
    "\n",
    "# Retorno de True e False\n",
    "Result_boleano = modelAquisicao.predict(dataframe['dsc_manutencao'])\n"
   ]
  },
  {
   "cell_type": "code",
   "execution_count": null,
   "metadata": {},
   "outputs": [],
   "source": []
  },
  {
   "cell_type": "markdown",
   "metadata": {},
   "source": [
    "### <span style=\"color:navy\"> **6. Criação de Novas Colunas no Dataframe para Receber Previsao** </span>"
   ]
  },
  {
   "cell_type": "code",
   "execution_count": 7,
   "metadata": {},
   "outputs": [],
   "source": [
    "# RENOMEAR COLUNAS\n",
    "dataframe.rename(columns={'dsc_manutencao': 'dsc_texto','tip_evento': 'tip_supervisao'}, inplace=True)\n",
    "\n",
    "dataframe['din_execucao'] = datetime.datetime.now()\n",
    "dataframe.din_execucao = dataframe.din_execucao.astype(str)\n",
    "\n",
    "dataframe['tip_evento'] = dataframe.tip_supervisao\n",
    "dataframe[\"tip_evento\"].replace({\"oper\": \"True\", \"prop\": \"False\"}, inplace=True)\n",
    "\n",
    "dataframe['tip_predicao'] = Result_boleano\n",
    "\n",
    "dataframe['pct_predicao'] = Result_percentual\n",
    "dataframe.pct_predicao = dataframe.pct_predicao.astype(float).round(3)*100\n"
   ]
  },
  {
   "cell_type": "code",
   "execution_count": 8,
   "metadata": {},
   "outputs": [],
   "source": [
    "#for index,row in dataframe.iterrows():\n",
    "     #dataframe.loc[index,'Resultc'] =  Result[index]\n",
    "\n",
    "#for index,row in dataframe.iterrows():\n",
    "     #dataframe.loc[index,'Resultprobc'] =  Resultprob[index] * 100        \n",
    "        "
   ]
  },
  {
   "cell_type": "markdown",
   "metadata": {},
   "source": [
    "### <span style=\"color:navy\"> **7. Visualização de Dataframe Resultante** </span>"
   ]
  },
  {
   "cell_type": "code",
   "execution_count": 9,
   "metadata": {},
   "outputs": [
    {
     "data": {
      "text/html": [
       "<div>\n",
       "<style scoped>\n",
       "    .dataframe tbody tr th:only-of-type {\n",
       "        vertical-align: middle;\n",
       "    }\n",
       "\n",
       "    .dataframe tbody tr th {\n",
       "        vertical-align: top;\n",
       "    }\n",
       "\n",
       "    .dataframe thead th {\n",
       "        text-align: right;\n",
       "    }\n",
       "</style>\n",
       "<table border=\"1\" class=\"dataframe\">\n",
       "  <thead>\n",
       "    <tr style=\"text-align: right;\">\n",
       "      <th></th>\n",
       "      <th>id</th>\n",
       "      <th>dsc_texto</th>\n",
       "      <th>tip_supervisao</th>\n",
       "      <th>din_execucao</th>\n",
       "      <th>tip_evento</th>\n",
       "      <th>tip_predicao</th>\n",
       "      <th>pct_predicao</th>\n",
       "    </tr>\n",
       "  </thead>\n",
       "  <tbody>\n",
       "    <tr>\n",
       "      <th>0</th>\n",
       "      <td>835269</td>\n",
       "      <td>verificar a causa do desligamento da unidade</td>\n",
       "      <td>oper</td>\n",
       "      <td>2020-09-08 00:16:03.177867</td>\n",
       "      <td>True</td>\n",
       "      <td>True</td>\n",
       "      <td>84.3</td>\n",
       "    </tr>\n",
       "    <tr>\n",
       "      <th>1</th>\n",
       "      <td>835267</td>\n",
       "      <td>ensaios operacionais de retorno da ug   ao sis...</td>\n",
       "      <td>oper</td>\n",
       "      <td>2020-09-08 00:16:03.177867</td>\n",
       "      <td>True</td>\n",
       "      <td>True</td>\n",
       "      <td>98.3</td>\n",
       "    </tr>\n",
       "    <tr>\n",
       "      <th>2</th>\n",
       "      <td>835263</td>\n",
       "      <td>manutencao, inspecao e limpeza no anel coletor</td>\n",
       "      <td>oper</td>\n",
       "      <td>2020-09-08 00:16:03.177867</td>\n",
       "      <td>True</td>\n",
       "      <td>True</td>\n",
       "      <td>91.5</td>\n",
       "    </tr>\n",
       "    <tr>\n",
       "      <th>3</th>\n",
       "      <td>835261</td>\n",
       "      <td>passivacao do oleo do transformador elevador t...</td>\n",
       "      <td>oper</td>\n",
       "      <td>2020-09-08 00:16:03.177867</td>\n",
       "      <td>True</td>\n",
       "      <td>True</td>\n",
       "      <td>96.3</td>\n",
       "    </tr>\n",
       "    <tr>\n",
       "      <th>4</th>\n",
       "      <td>835241</td>\n",
       "      <td>acompanhamento da operacao do bipolo   em rvo ...</td>\n",
       "      <td>oper</td>\n",
       "      <td>2020-09-08 00:16:03.177867</td>\n",
       "      <td>True</td>\n",
       "      <td>False</td>\n",
       "      <td>14.1</td>\n",
       "    </tr>\n",
       "  </tbody>\n",
       "</table>\n",
       "</div>"
      ],
      "text/plain": [
       "       id                                          dsc_texto tip_supervisao  \\\n",
       "0  835269      verificar a causa do desligamento da unidade            oper   \n",
       "1  835267  ensaios operacionais de retorno da ug   ao sis...           oper   \n",
       "2  835263   manutencao, inspecao e limpeza no anel coletor             oper   \n",
       "3  835261  passivacao do oleo do transformador elevador t...           oper   \n",
       "4  835241  acompanhamento da operacao do bipolo   em rvo ...           oper   \n",
       "\n",
       "                 din_execucao tip_evento  tip_predicao  pct_predicao  \n",
       "0  2020-09-08 00:16:03.177867       True          True          84.3  \n",
       "1  2020-09-08 00:16:03.177867       True          True          98.3  \n",
       "2  2020-09-08 00:16:03.177867       True          True          91.5  \n",
       "3  2020-09-08 00:16:03.177867       True          True          96.3  \n",
       "4  2020-09-08 00:16:03.177867       True         False          14.1  "
      ]
     },
     "execution_count": 9,
     "metadata": {},
     "output_type": "execute_result"
    }
   ],
   "source": [
    "dataframe.head(5)"
   ]
  },
  {
   "cell_type": "markdown",
   "metadata": {},
   "source": [
    "### <span style=\"color:blue\">**8. Graficos** </span>"
   ]
  },
  {
   "cell_type": "markdown",
   "metadata": {},
   "source": [
    "#### <span style=\"color:blue\"> **8.1 Quantitativos** </span>"
   ]
  },
  {
   "cell_type": "code",
   "execution_count": 10,
   "metadata": {},
   "outputs": [
    {
     "name": "stdout",
     "output_type": "stream",
     "text": [
      "\n",
      "\n",
      "1. Quantitativos de Registros Processados\n",
      "\n"
     ]
    }
   ],
   "source": [
    "print('')\n",
    "print('')\n",
    "print('1. Quantitativos de Registros Processados')\n",
    "print('')"
   ]
  },
  {
   "cell_type": "code",
   "execution_count": 11,
   "metadata": {},
   "outputs": [
    {
     "data": {
      "text/plain": [
       "True     143\n",
       "False    120\n",
       "Name: tip_predicao, dtype: int64"
      ]
     },
     "execution_count": 11,
     "metadata": {},
     "output_type": "execute_result"
    }
   ],
   "source": [
    "dataframe.tip_predicao.value_counts()"
   ]
  },
  {
   "cell_type": "code",
   "execution_count": 12,
   "metadata": {},
   "outputs": [
    {
     "data": {
      "text/plain": [
       "<matplotlib.axes._subplots.AxesSubplot at 0x21c95753288>"
      ]
     },
     "execution_count": 12,
     "metadata": {},
     "output_type": "execute_result"
    },
    {
     "data": {
      "image/png": "[encoded data removed]",
      "text/plain": [
       "<Figure size 432x288 with 1 Axes>"
      ]
     },
     "metadata": {
      "needs_background": "light"
     },
     "output_type": "display_data"
    }
   ],
   "source": [
    "dataframe.tip_predicao.value_counts().plot(kind='barh',color=\"orange\",title = \"Quantitativos\",subplots=False)"
   ]
  },
  {
   "cell_type": "code",
   "execution_count": null,
   "metadata": {},
   "outputs": [],
   "source": []
  },
  {
   "cell_type": "code",
   "execution_count": 13,
   "metadata": {},
   "outputs": [
    {
     "name": "stdout",
     "output_type": "stream",
     "text": [
      "\n",
      "2. Boxplot - Distribuição das Porcentagem da Predição\n",
      "\n"
     ]
    }
   ],
   "source": [
    "print('')\n",
    "print('2. Boxplot - Distribuição das Porcentagem da Predição')\n",
    "print('')"
   ]
  },
  {
   "cell_type": "markdown",
   "metadata": {},
   "source": [
    "#### <span style=\"color:blue\"> **8.2 Boxplot - Distribuição das Porcentagem da Predição** </span>"
   ]
  },
  {
   "cell_type": "code",
   "execution_count": 14,
   "metadata": {},
   "outputs": [
    {
     "data": {
      "text/plain": [
       "<matplotlib.axes._subplots.AxesSubplot at 0x21c95787248>"
      ]
     },
     "execution_count": 14,
     "metadata": {},
     "output_type": "execute_result"
    },
    {
     "data": {
      "image/png": "[encoded data removed]",
      "text/plain": [
       "<Figure size 432x288 with 1 Axes>"
      ]
     },
     "metadata": {
      "needs_background": "light"
     },
     "output_type": "display_data"
    }
   ],
   "source": [
    "# linewidth= Grossura da linha\n",
    "sns.boxplot(data=dataframe,orient=\"h\",palette=\"Set3\",linewidth=1,fliersize=3,x='pct_predicao',y=\"tip_predicao\",hue=\"tip_predicao\")"
   ]
  },
  {
   "cell_type": "code",
   "execution_count": 15,
   "metadata": {},
   "outputs": [
    {
     "name": "stdout",
     "output_type": "stream",
     "text": [
      "\n",
      "3. Distribuição das Porcentagem da Predição\n",
      "\n"
     ]
    }
   ],
   "source": [
    "print('')\n",
    "print('3. Distribuição das Porcentagem da Predição')\n",
    "print('')"
   ]
  },
  {
   "cell_type": "markdown",
   "metadata": {},
   "source": [
    "#### <span style=\"color:blue\"> **8.3 Distribuição das Porcentagem da Predição** </span>"
   ]
  },
  {
   "cell_type": "code",
   "execution_count": 16,
   "metadata": {},
   "outputs": [
    {
     "data": {
      "text/plain": [
       "array([<matplotlib.axes._subplots.AxesSubplot object at 0x0000021C957CF348>,\n",
       "       <matplotlib.axes._subplots.AxesSubplot object at 0x0000021C96471508>],\n",
       "      dtype=object)"
      ]
     },
     "execution_count": 16,
     "metadata": {},
     "output_type": "execute_result"
    },
    {
     "data": {
      "image/png": "[encoded data removed]",
      "text/plain": [
       "<Figure size 432x288 with 2 Axes>"
      ]
     },
     "metadata": {
      "needs_background": "light"
     },
     "output_type": "display_data"
    }
   ],
   "source": [
    "dataframe.hist(column=\"pct_predicao\",by=\"tip_predicao\",bins=50)"
   ]
  },
  {
   "cell_type": "code",
   "execution_count": null,
   "metadata": {},
   "outputs": [],
   "source": []
  },
  {
   "cell_type": "markdown",
   "metadata": {},
   "source": [
    "### <span style=\"color:navy\"> **9 Exporta Resultado para Parquet** </span>"
   ]
  },
  {
   "cell_type": "code",
   "execution_count": 17,
   "metadata": {},
   "outputs": [],
   "source": [
    "dataframe.to_parquet(save_result, compression='snappy')"
   ]
  },
  {
   "cell_type": "code",
   "execution_count": null,
   "metadata": {},
   "outputs": [],
   "source": []
  }
 ],
 "metadata": {
  "kernelspec": {
   "display_name": "Python 3",
   "language": "python",
   "name": "python3"
  },
  "language_info": {
   "codemirror_mode": {
    "name": "ipython",
    "version": 3
   },
   "file_extension": ".py",
   "mimetype": "text/x-python",
   "name": "python",
   "nbconvert_exporter": "python",
   "pygments_lexer": "ipython3",
   "version": "3.7.6"
  }
 },
 "nbformat": 4,
 "nbformat_minor": 4
}
