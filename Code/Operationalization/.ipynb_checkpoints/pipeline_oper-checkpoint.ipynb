{
 "cells": [
  {
   "cell_type": "markdown",
   "metadata": {},
   "source": [
    "## <span style=\"color:#0000CD\">**Predição de Supervisão de Equipamentos da Rede Elétrica**</span>\n"
   ]
  },
  {
   "cell_type": "code",
   "execution_count": 5,
   "metadata": {},
   "outputs": [],
   "source": [
    "WORKDIR = '../../Code/Operationalization/'"
   ]
  },
  {
   "cell_type": "code",
   "execution_count": null,
   "metadata": {},
   "outputs": [],
   "source": []
  },
  {
   "cell_type": "markdown",
   "metadata": {},
   "source": [
    "#### <span style=\"color:#0000CD\">**1. Informe abaixo o PERÍODO de Datas a ser consultado**\n",
    "**Formato: dd/mm/yyyy**</span>"
   ]
  },
  {
   "cell_type": "code",
   "execution_count": 6,
   "metadata": {},
   "outputs": [
    {
     "name": "stdout",
     "output_type": "stream",
     "text": [
      "Stored 'baseurl' (str)\n"
     ]
    }
   ],
   "source": [
    "baseurl = 'http://localhost:8000/services/dadoscoleta/?dat_inicio=01/08/2020&dat_fim=10/08/2020'\n",
    "%store baseurl"
   ]
  },
  {
   "cell_type": "markdown",
   "metadata": {},
   "source": [
    "#### <span style=\"color:#0000CD\">**2. Notebooks a serem executados**"
   ]
  },
  {
   "cell_type": "code",
   "execution_count": 7,
   "metadata": {},
   "outputs": [],
   "source": [
    "notebooks = [\n",
    "    '01_preparodados.ipynb',\n",
    "    '02_aquisicaoApi.ipynb',\n",
    "    '03_scoreColetaApi.ipynb',\n",
    "    '04_exportacao_bd.ipynb'\n",
    "]"
   ]
  },
  {
   "cell_type": "markdown",
   "metadata": {},
   "source": [
    "#### <span style=\"color:#0000CD\">**3. Log de Execução**"
   ]
  },
  {
   "cell_type": "code",
   "execution_count": 8,
   "metadata": {},
   "outputs": [
    {
     "name": "stdout",
     "output_type": "stream",
     "text": [
      "Stored 'WORKDIR' (str)\n",
      "\n",
      "Conectado com sucesso ao SQLite\n",
      "Tabela ja estava Vazia\n",
      "Ação Executada, conexão com SQLite fechada\n",
      "\n",
      "Conectado com sucesso ao SQLite\n",
      "Total  585  registros inseridos com sucesso\n",
      "Conexão com SQLite fechada\n",
      "\n",
      "01_preparodados.ipynb\n",
      "=> Recuperando dados da API\n",
      "<Response [200]>\n",
      "\n",
      "shape: (136, 4)\n",
      "02_aquisicaoApi.ipynb\n",
      "\n",
      "\n",
      "1. Quantitativos de Registros Processados\n",
      "\n"
     ]
    },
    {
     "data": {
      "image/png": "[encoded data removed]",
      "text/plain": [
       "<Figure size 432x288 with 1 Axes>"
      ]
     },
     "metadata": {
      "needs_background": "light"
     },
     "output_type": "display_data"
    },
    {
     "name": "stdout",
     "output_type": "stream",
     "text": [
      "\n",
      "2. Boxplot - Distribuição das Porcentagem da Predição\n",
      "\n"
     ]
    },
    {
     "data": {
      "image/png": "[encoded data removed]",
      "text/plain": [
       "<Figure size 432x288 with 1 Axes>"
      ]
     },
     "metadata": {
      "needs_background": "light"
     },
     "output_type": "display_data"
    },
    {
     "name": "stdout",
     "output_type": "stream",
     "text": [
      "\n",
      "3. Distribuição das Porcentagem da Predição\n",
      "\n"
     ]
    },
    {
     "data": {
      "image/png": "[encoded data removed]",
      "text/plain": [
       "<Figure size 432x288 with 2 Axes>"
      ]
     },
     "metadata": {
      "needs_background": "light"
     },
     "output_type": "display_data"
    },
    {
     "name": "stdout",
     "output_type": "stream",
     "text": [
      "03_scoreColetaApi.ipynb\n",
      "Inclusao e Atualização realizadas com sucesso\n",
      "Conexão com SQLite fechada\n",
      "\n",
      "\n",
      "\n",
      "Conectado com sucesso ao SQLite\n",
      "Estatistica Finalizada\n",
      "\n",
      "\n",
      "04_exportacao_bd.ipynb\n"
     ]
    }
   ],
   "source": [
    "%store WORKDIR\n",
    "print(\"\")\n",
    "\n",
    "error_list = {}\n",
    "for fname in notebooks:\n",
    "    #print('Notebook:', fname)    \n",
    "    notebook_path = WORKDIR + fname\n",
    "    #print('path:', notebook_path)\n",
    "    \n",
    "    try:\n",
    "         %run $notebook_path\n",
    "         print(fname)\n",
    "        \n",
    "    except Exception as err:\n",
    "        print('ERROR: ', err)\n",
    "        error_list[fname] = err.__str__()\n",
    "        break    "
   ]
  },
  {
   "cell_type": "code",
   "execution_count": null,
   "metadata": {},
   "outputs": [],
   "source": []
  },
  {
   "cell_type": "code",
   "execution_count": null,
   "metadata": {},
   "outputs": [],
   "source": []
  }
 ],
 "metadata": {
  "kernelspec": {
   "display_name": "Python 3",
   "language": "python",
   "name": "python3"
  },
  "language_info": {
   "codemirror_mode": {
    "name": "ipython",
    "version": 3
   },
   "file_extension": ".py",
   "mimetype": "text/x-python",
   "name": "python",
   "nbconvert_exporter": "python",
   "pygments_lexer": "ipython3",
   "version": "3.7.6"
  }
 },
 "nbformat": 4,
 "nbformat_minor": 4
}
