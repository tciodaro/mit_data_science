{
 "cells": [
  {
   "cell_type": "code",
   "execution_count": 16,
   "metadata": {},
   "outputs": [],
   "source": [
    "import requests\n",
    "from rest_framework import status\n",
    "import json\n",
    "import pandas\n",
    "\n",
    "WORKDIR = 'C:/Users/BZ241WX/Documents/InfNet/CursoPosDataScience/mit_data_science/'\n",
    "\n",
    "\n",
    "supplier_name = 'Vinhos e Vinhos'\n",
    "\n",
    "supplier_data = WORKDIR + '/Data/Raw/winequality-red-op.parquet'\n",
    "\n",
    "number_of_wines = 150\n",
    "\n",
    "base_url = 'http://127.0.0.1:8000/'"
   ]
  },
  {
   "cell_type": "markdown",
   "metadata": {},
   "source": [
    "# Recuperar Dados "
   ]
  },
  {
   "cell_type": "code",
   "execution_count": 17,
   "metadata": {},
   "outputs": [
    {
     "name": "stdout",
     "output_type": "stream",
     "text": [
      "(150, 12)\n"
     ]
    },
    {
     "data": {
      "text/html": [
       "<div>\n",
       "<style scoped>\n",
       "    .dataframe tbody tr th:only-of-type {\n",
       "        vertical-align: middle;\n",
       "    }\n",
       "\n",
       "    .dataframe tbody tr th {\n",
       "        vertical-align: top;\n",
       "    }\n",
       "\n",
       "    .dataframe thead th {\n",
       "        text-align: right;\n",
       "    }\n",
       "</style>\n",
       "<table border=\"1\" class=\"dataframe\">\n",
       "  <thead>\n",
       "    <tr style=\"text-align: right;\">\n",
       "      <th></th>\n",
       "      <th>fixed_acidity</th>\n",
       "      <th>volatile_acidity</th>\n",
       "      <th>citric_acid</th>\n",
       "      <th>residual_sugar</th>\n",
       "      <th>chlorides</th>\n",
       "      <th>free_sulfur_dioxide</th>\n",
       "      <th>total_sulfur_dioxide</th>\n",
       "      <th>density</th>\n",
       "      <th>pH</th>\n",
       "      <th>sulphates</th>\n",
       "      <th>alcohol</th>\n",
       "      <th>name</th>\n",
       "    </tr>\n",
       "  </thead>\n",
       "  <tbody>\n",
       "    <tr>\n",
       "      <th>1372</th>\n",
       "      <td>8.7</td>\n",
       "      <td>0.780</td>\n",
       "      <td>0.51</td>\n",
       "      <td>1.7</td>\n",
       "      <td>0.415</td>\n",
       "      <td>12.0</td>\n",
       "      <td>66.0</td>\n",
       "      <td>0.99623</td>\n",
       "      <td>3.00</td>\n",
       "      <td>1.17</td>\n",
       "      <td>9.2</td>\n",
       "      <td>wine-red1372</td>\n",
       "    </tr>\n",
       "    <tr>\n",
       "      <th>352</th>\n",
       "      <td>7.7</td>\n",
       "      <td>0.665</td>\n",
       "      <td>0.00</td>\n",
       "      <td>2.4</td>\n",
       "      <td>0.090</td>\n",
       "      <td>8.0</td>\n",
       "      <td>19.0</td>\n",
       "      <td>0.99740</td>\n",
       "      <td>3.27</td>\n",
       "      <td>0.73</td>\n",
       "      <td>9.3</td>\n",
       "      <td>wine-red352</td>\n",
       "    </tr>\n",
       "    <tr>\n",
       "      <th>1155</th>\n",
       "      <td>8.3</td>\n",
       "      <td>0.600</td>\n",
       "      <td>0.25</td>\n",
       "      <td>2.2</td>\n",
       "      <td>0.118</td>\n",
       "      <td>9.0</td>\n",
       "      <td>38.0</td>\n",
       "      <td>0.99616</td>\n",
       "      <td>3.15</td>\n",
       "      <td>0.53</td>\n",
       "      <td>9.8</td>\n",
       "      <td>wine-red1155</td>\n",
       "    </tr>\n",
       "    <tr>\n",
       "      <th>698</th>\n",
       "      <td>9.4</td>\n",
       "      <td>0.615</td>\n",
       "      <td>0.28</td>\n",
       "      <td>3.2</td>\n",
       "      <td>0.087</td>\n",
       "      <td>18.0</td>\n",
       "      <td>72.0</td>\n",
       "      <td>1.00010</td>\n",
       "      <td>3.31</td>\n",
       "      <td>0.53</td>\n",
       "      <td>9.7</td>\n",
       "      <td>wine-red698</td>\n",
       "    </tr>\n",
       "    <tr>\n",
       "      <th>1040</th>\n",
       "      <td>7.4</td>\n",
       "      <td>0.965</td>\n",
       "      <td>0.00</td>\n",
       "      <td>2.2</td>\n",
       "      <td>0.088</td>\n",
       "      <td>16.0</td>\n",
       "      <td>32.0</td>\n",
       "      <td>0.99756</td>\n",
       "      <td>3.58</td>\n",
       "      <td>0.67</td>\n",
       "      <td>10.2</td>\n",
       "      <td>wine-red1040</td>\n",
       "    </tr>\n",
       "  </tbody>\n",
       "</table>\n",
       "</div>"
      ],
      "text/plain": [
       "      fixed_acidity  volatile_acidity  citric_acid  residual_sugar  chlorides  \\\n",
       "1372            8.7             0.780         0.51             1.7      0.415   \n",
       "352             7.7             0.665         0.00             2.4      0.090   \n",
       "1155            8.3             0.600         0.25             2.2      0.118   \n",
       "698             9.4             0.615         0.28             3.2      0.087   \n",
       "1040            7.4             0.965         0.00             2.2      0.088   \n",
       "\n",
       "      free_sulfur_dioxide  total_sulfur_dioxide  density    pH  sulphates  \\\n",
       "1372                 12.0                  66.0  0.99623  3.00       1.17   \n",
       "352                   8.0                  19.0  0.99740  3.27       0.73   \n",
       "1155                  9.0                  38.0  0.99616  3.15       0.53   \n",
       "698                  18.0                  72.0  1.00010  3.31       0.53   \n",
       "1040                 16.0                  32.0  0.99756  3.58       0.67   \n",
       "\n",
       "      alcohol          name  \n",
       "1372      9.2  wine-red1372  \n",
       "352       9.3   wine-red352  \n",
       "1155      9.8  wine-red1155  \n",
       "698       9.7   wine-red698  \n",
       "1040     10.2  wine-red1040  "
      ]
     },
     "execution_count": 17,
     "metadata": {},
     "output_type": "execute_result"
    }
   ],
   "source": [
    "data = pandas.read_parquet(supplier_data).sample(number_of_wines)\n",
    "print(data.shape)\n",
    "data.head()"
   ]
  },
  {
   "cell_type": "markdown",
   "metadata": {},
   "source": [
    "# Post data "
   ]
  },
  {
   "cell_type": "code",
   "execution_count": 18,
   "metadata": {},
   "outputs": [],
   "source": [
    "url = base_url + 'wine/'\n",
    "\n",
    "for i, row in data.iterrows():\n",
    "    post_data = row.to_dict()\n",
    "    post_data['supplier'] = supplier_name\n",
    "    response = requests.post(url, post_data)\n",
    "\n",
    "    if response.status_code == status.HTTP_400_BAD_REQUEST:\n",
    "        print('Vinho ja existente')\n",
    "   \n",
    "    "
   ]
  },
  {
   "cell_type": "code",
   "execution_count": null,
   "metadata": {},
   "outputs": [],
   "source": []
  }
 ],
 "metadata": {
  "kernelspec": {
   "display_name": "Python 3",
   "language": "python",
   "name": "python3"
  },
  "language_info": {
   "codemirror_mode": {
    "name": "ipython",
    "version": 3
   },
   "file_extension": ".py",
   "mimetype": "text/x-python",
   "name": "python",
   "nbconvert_exporter": "python",
   "pygments_lexer": "ipython3",
   "version": "3.7.4"
  }
 },
 "nbformat": 4,
 "nbformat_minor": 4
}
