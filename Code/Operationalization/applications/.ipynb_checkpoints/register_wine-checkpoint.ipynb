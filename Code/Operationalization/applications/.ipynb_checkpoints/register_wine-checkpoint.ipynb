{
 "cells": [
  {
   "cell_type": "code",
   "execution_count": 20,
   "metadata": {},
   "outputs": [],
   "source": [
    "import requests\n",
    "from rest_framework import status\n",
    "import json\n",
    "import pandas\n",
    "\n",
    "WORKDIR = 'C:/Users/BZ241WX/Documents/InfNet/CursoPosDataScience/mit_data_science/'\n",
    "\n",
    "supplier_name = 'vinhos globais ltda'\n",
    "\n",
    "supplier_data = WORKDIR + '/Data/Raw/winequality-red-op.parquet'\n",
    "\n",
    "number_of_wines = 1\n",
    "\n",
    "base_url = 'http://127.0.0.1:8000/'"
   ]
  },
  {
   "cell_type": "markdown",
   "metadata": {},
   "source": [
    "# Recuperar Dados "
   ]
  },
  {
   "cell_type": "code",
   "execution_count": 21,
   "metadata": {},
   "outputs": [
    {
     "name": "stdout",
     "output_type": "stream",
     "text": [
      "(1, 12)\n"
     ]
    },
    {
     "data": {
      "text/html": [
       "<div>\n",
       "<style scoped>\n",
       "    .dataframe tbody tr th:only-of-type {\n",
       "        vertical-align: middle;\n",
       "    }\n",
       "\n",
       "    .dataframe tbody tr th {\n",
       "        vertical-align: top;\n",
       "    }\n",
       "\n",
       "    .dataframe thead th {\n",
       "        text-align: right;\n",
       "    }\n",
       "</style>\n",
       "<table border=\"1\" class=\"dataframe\">\n",
       "  <thead>\n",
       "    <tr style=\"text-align: right;\">\n",
       "      <th></th>\n",
       "      <th>fixed_acidity</th>\n",
       "      <th>volatile_acidity</th>\n",
       "      <th>citric_acid</th>\n",
       "      <th>residual_sugar</th>\n",
       "      <th>chlorides</th>\n",
       "      <th>free_sulfur_dioxide</th>\n",
       "      <th>total_sulfur_dioxide</th>\n",
       "      <th>density</th>\n",
       "      <th>pH</th>\n",
       "      <th>sulphates</th>\n",
       "      <th>alcohol</th>\n",
       "      <th>name</th>\n",
       "    </tr>\n",
       "  </thead>\n",
       "  <tbody>\n",
       "    <tr>\n",
       "      <th>1405</th>\n",
       "      <td>7.7</td>\n",
       "      <td>0.28</td>\n",
       "      <td>0.3</td>\n",
       "      <td>2.0</td>\n",
       "      <td>0.062</td>\n",
       "      <td>18.0</td>\n",
       "      <td>34.0</td>\n",
       "      <td>0.9952</td>\n",
       "      <td>3.28</td>\n",
       "      <td>0.9</td>\n",
       "      <td>11.3</td>\n",
       "      <td>wine-red1405</td>\n",
       "    </tr>\n",
       "  </tbody>\n",
       "</table>\n",
       "</div>"
      ],
      "text/plain": [
       "      fixed_acidity  volatile_acidity  citric_acid  residual_sugar  chlorides  \\\n",
       "1405            7.7              0.28          0.3             2.0      0.062   \n",
       "\n",
       "      free_sulfur_dioxide  total_sulfur_dioxide  density    pH  sulphates  \\\n",
       "1405                 18.0                  34.0   0.9952  3.28        0.9   \n",
       "\n",
       "      alcohol          name  \n",
       "1405     11.3  wine-red1405  "
      ]
     },
     "execution_count": 21,
     "metadata": {},
     "output_type": "execute_result"
    }
   ],
   "source": [
    "data = pandas.read_parquet(supplier_data).sample(number_of_wines)\n",
    "print(data.shape)\n",
    "data.head()"
   ]
  },
  {
   "cell_type": "markdown",
   "metadata": {},
   "source": [
    "# Post data "
   ]
  },
  {
   "cell_type": "code",
   "execution_count": 22,
   "metadata": {},
   "outputs": [
    {
     "data": {
      "text/html": [
       "{\"name\":\"wine-red1405\",\"fixed_acidity\":7.7,\"volatile_acidity\":0.28,\"citric_acid\":0.3,\"residual_sugar\":2.0,\"chlorides\":0.062,\"free_sulfur_dioxide\":18.0,\"total_sulfur_dioxide\":34.0,\"density\":0.9952,\"pH\":3.28,\"sulphates\":0.9,\"alcohol\":11.3,\"estimated_score\":null}"
      ],
      "text/plain": [
       "<IPython.core.display.HTML object>"
      ]
     },
     "metadata": {},
     "output_type": "display_data"
    }
   ],
   "source": [
    "url = base_url + 'wine/'\n",
    "post_data = data.to_dict('list')\n",
    "response = requests.post(url, post_data)\n",
    "\n",
    "if response.status_code == status.HTTP_400_BAD_REQUEST:\n",
    "    print('Vinhos ja existentes')\n",
    "elif response.status_code == status.HTTP_200_OK:\n",
    "    print('Vinhos criado!')\n",
    "else:\n",
    "    from IPython.core.display import display, HTML\n",
    "    display(HTML(response.text))"
   ]
  },
  {
   "cell_type": "code",
   "execution_count": null,
   "metadata": {},
   "outputs": [],
   "source": []
  }
 ],
 "metadata": {
  "kernelspec": {
   "display_name": "Python 3",
   "language": "python",
   "name": "python3"
  },
  "language_info": {
   "codemirror_mode": {
    "name": "ipython",
    "version": 3
   },
   "file_extension": ".py",
   "mimetype": "text/x-python",
   "name": "python",
   "nbconvert_exporter": "python",
   "pygments_lexer": "ipython3",
   "version": "3.7.4"
  }
 },
 "nbformat": 4,
 "nbformat_minor": 4
}
