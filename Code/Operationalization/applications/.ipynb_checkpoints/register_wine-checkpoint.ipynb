{
 "cells": [
  {
   "cell_type": "code",
   "execution_count": 13,
   "metadata": {},
   "outputs": [],
   "source": [
    "import requests\n",
    "from rest_framework import status\n",
    "import json\n",
    "import pandas\n",
    "\n",
    "WORKDIR = 'C:/Users/BZ241WX/Documents/InfNet/CursoPosDataScience/mit_data_science/'\n",
    "\n",
    "\n",
    "supplier_name = 'Vinhos e Vinhos'\n",
    "\n",
    "supplier_data = WORKDIR + '/Data/Raw/winequality-red-op.parquet'\n",
    "\n",
    "number_of_wines = 200\n",
    "\n",
    "base_url = 'http://127.0.0.1:8000/'"
   ]
  },
  {
   "cell_type": "markdown",
   "metadata": {},
   "source": [
    "# Recuperar Dados "
   ]
  },
  {
   "cell_type": "code",
   "execution_count": 14,
   "metadata": {},
   "outputs": [
    {
     "name": "stdout",
     "output_type": "stream",
     "text": [
      "(200, 12)\n"
     ]
    },
    {
     "data": {
      "text/html": [
       "<div>\n",
       "<style scoped>\n",
       "    .dataframe tbody tr th:only-of-type {\n",
       "        vertical-align: middle;\n",
       "    }\n",
       "\n",
       "    .dataframe tbody tr th {\n",
       "        vertical-align: top;\n",
       "    }\n",
       "\n",
       "    .dataframe thead th {\n",
       "        text-align: right;\n",
       "    }\n",
       "</style>\n",
       "<table border=\"1\" class=\"dataframe\">\n",
       "  <thead>\n",
       "    <tr style=\"text-align: right;\">\n",
       "      <th></th>\n",
       "      <th>fixed_acidity</th>\n",
       "      <th>volatile_acidity</th>\n",
       "      <th>citric_acid</th>\n",
       "      <th>residual_sugar</th>\n",
       "      <th>chlorides</th>\n",
       "      <th>free_sulfur_dioxide</th>\n",
       "      <th>total_sulfur_dioxide</th>\n",
       "      <th>density</th>\n",
       "      <th>pH</th>\n",
       "      <th>sulphates</th>\n",
       "      <th>alcohol</th>\n",
       "      <th>name</th>\n",
       "    </tr>\n",
       "  </thead>\n",
       "  <tbody>\n",
       "    <tr>\n",
       "      <th>595</th>\n",
       "      <td>8.9</td>\n",
       "      <td>0.595</td>\n",
       "      <td>0.41</td>\n",
       "      <td>7.9</td>\n",
       "      <td>0.086</td>\n",
       "      <td>30.0</td>\n",
       "      <td>109.0</td>\n",
       "      <td>0.99980</td>\n",
       "      <td>3.27</td>\n",
       "      <td>0.57</td>\n",
       "      <td>9.3</td>\n",
       "      <td>wine-red595</td>\n",
       "    </tr>\n",
       "    <tr>\n",
       "      <th>26</th>\n",
       "      <td>7.6</td>\n",
       "      <td>0.410</td>\n",
       "      <td>0.24</td>\n",
       "      <td>1.8</td>\n",
       "      <td>0.080</td>\n",
       "      <td>4.0</td>\n",
       "      <td>11.0</td>\n",
       "      <td>0.99620</td>\n",
       "      <td>3.28</td>\n",
       "      <td>0.59</td>\n",
       "      <td>9.5</td>\n",
       "      <td>wine-red26</td>\n",
       "    </tr>\n",
       "    <tr>\n",
       "      <th>911</th>\n",
       "      <td>9.1</td>\n",
       "      <td>0.280</td>\n",
       "      <td>0.46</td>\n",
       "      <td>9.0</td>\n",
       "      <td>0.114</td>\n",
       "      <td>3.0</td>\n",
       "      <td>9.0</td>\n",
       "      <td>0.99901</td>\n",
       "      <td>3.18</td>\n",
       "      <td>0.60</td>\n",
       "      <td>10.9</td>\n",
       "      <td>wine-red911</td>\n",
       "    </tr>\n",
       "    <tr>\n",
       "      <th>286</th>\n",
       "      <td>12.0</td>\n",
       "      <td>0.450</td>\n",
       "      <td>0.55</td>\n",
       "      <td>2.0</td>\n",
       "      <td>0.073</td>\n",
       "      <td>25.0</td>\n",
       "      <td>49.0</td>\n",
       "      <td>0.99970</td>\n",
       "      <td>3.10</td>\n",
       "      <td>0.76</td>\n",
       "      <td>10.3</td>\n",
       "      <td>wine-red286</td>\n",
       "    </tr>\n",
       "    <tr>\n",
       "      <th>476</th>\n",
       "      <td>9.3</td>\n",
       "      <td>0.270</td>\n",
       "      <td>0.41</td>\n",
       "      <td>2.0</td>\n",
       "      <td>0.091</td>\n",
       "      <td>6.0</td>\n",
       "      <td>16.0</td>\n",
       "      <td>0.99800</td>\n",
       "      <td>3.28</td>\n",
       "      <td>0.70</td>\n",
       "      <td>9.7</td>\n",
       "      <td>wine-red476</td>\n",
       "    </tr>\n",
       "  </tbody>\n",
       "</table>\n",
       "</div>"
      ],
      "text/plain": [
       "     fixed_acidity  volatile_acidity  citric_acid  residual_sugar  chlorides  \\\n",
       "595            8.9             0.595         0.41             7.9      0.086   \n",
       "26             7.6             0.410         0.24             1.8      0.080   \n",
       "911            9.1             0.280         0.46             9.0      0.114   \n",
       "286           12.0             0.450         0.55             2.0      0.073   \n",
       "476            9.3             0.270         0.41             2.0      0.091   \n",
       "\n",
       "     free_sulfur_dioxide  total_sulfur_dioxide  density    pH  sulphates  \\\n",
       "595                 30.0                 109.0  0.99980  3.27       0.57   \n",
       "26                   4.0                  11.0  0.99620  3.28       0.59   \n",
       "911                  3.0                   9.0  0.99901  3.18       0.60   \n",
       "286                 25.0                  49.0  0.99970  3.10       0.76   \n",
       "476                  6.0                  16.0  0.99800  3.28       0.70   \n",
       "\n",
       "     alcohol         name  \n",
       "595      9.3  wine-red595  \n",
       "26       9.5   wine-red26  \n",
       "911     10.9  wine-red911  \n",
       "286     10.3  wine-red286  \n",
       "476      9.7  wine-red476  "
      ]
     },
     "execution_count": 14,
     "metadata": {},
     "output_type": "execute_result"
    }
   ],
   "source": [
    "data = pandas.read_parquet(supplier_data).sample(number_of_wines)\n",
    "print(data.shape)\n",
    "data.head()"
   ]
  },
  {
   "cell_type": "markdown",
   "metadata": {},
   "source": [
    "# Post data "
   ]
  },
  {
   "cell_type": "code",
   "execution_count": 15,
   "metadata": {},
   "outputs": [],
   "source": [
    "url = base_url + 'wine/'\n",
    "\n",
    "for i, row in data.iterrows():\n",
    "    post_data = row.to_dict()\n",
    "    post_data['supplier'] = supplier_name\n",
    "    response = requests.post(url, post_data)\n",
    "\n",
    "    if response.status_code == status.HTTP_400_BAD_REQUEST:\n",
    "        print('Vinho ja existente')\n",
    "   \n",
    "    "
   ]
  },
  {
   "cell_type": "code",
   "execution_count": null,
   "metadata": {},
   "outputs": [],
   "source": []
  }
 ],
 "metadata": {
  "kernelspec": {
   "display_name": "Python 3",
   "language": "python",
   "name": "python3"
  },
  "language_info": {
   "codemirror_mode": {
    "name": "ipython",
    "version": 3
   },
   "file_extension": ".py",
   "mimetype": "text/x-python",
   "name": "python",
   "nbconvert_exporter": "python",
   "pygments_lexer": "ipython3",
   "version": "3.7.4"
  }
 },
 "nbformat": 4,
 "nbformat_minor": 4
}
