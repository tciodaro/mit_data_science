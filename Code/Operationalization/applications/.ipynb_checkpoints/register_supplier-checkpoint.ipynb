{
 "cells": [
  {
   "cell_type": "code",
   "execution_count": 5,
   "metadata": {},
   "outputs": [],
   "source": [
    "import requests\n",
    "from rest_framework import status\n",
    "import json\n",
    "\n",
    "supplier_name = 'Vinhos e Vinhos'\n",
    "supplier_address = 'Rua do semple, 22, Roma, Italia'\n",
    "\n",
    "\n",
    "url = 'http://127.0.0.1:8000/supplier/'"
   ]
  },
  {
   "cell_type": "markdown",
   "metadata": {},
   "source": [
    "# Post data "
   ]
  },
  {
   "cell_type": "code",
   "execution_count": 6,
   "metadata": {},
   "outputs": [
    {
     "data": {
      "text/html": [
       "{\"name\":\"Vinhos e Vinhos\",\"address\":\"Rua do semple, 22, Roma, Italia\",\"created\":\"2020-08-25T19:59:19.548364Z\"}"
      ],
      "text/plain": [
       "<IPython.core.display.HTML object>"
      ]
     },
     "metadata": {},
     "output_type": "display_data"
    }
   ],
   "source": [
    "post_data = {\n",
    "    'name':supplier_name,\n",
    "    'address': supplier_address\n",
    "}\n",
    "response = requests.post(url, post_data)\n",
    "\n",
    "if response.status_code == status.HTTP_400_BAD_REQUEST:\n",
    "    print('Supplier já existe na base de dados')\n",
    "elif response.status_code == status.HTTP_200_OK:\n",
    "    print('Supplier criado!')\n",
    "else:\n",
    "    from IPython.core.display import display, HTML\n",
    "    display(HTML(response.text))"
   ]
  },
  {
   "cell_type": "code",
   "execution_count": null,
   "metadata": {},
   "outputs": [],
   "source": []
  },
  {
   "cell_type": "code",
   "execution_count": null,
   "metadata": {},
   "outputs": [],
   "source": []
  },
  {
   "cell_type": "code",
   "execution_count": null,
   "metadata": {},
   "outputs": [],
   "source": []
  }
 ],
 "metadata": {
  "kernelspec": {
   "display_name": "Python 3",
   "language": "python",
   "name": "python3"
  },
  "language_info": {
   "codemirror_mode": {
    "name": "ipython",
    "version": 3
   },
   "file_extension": ".py",
   "mimetype": "text/x-python",
   "name": "python",
   "nbconvert_exporter": "python",
   "pygments_lexer": "ipython3",
   "version": "3.7.4"
  }
 },
 "nbformat": 4,
 "nbformat_minor": 4
}
