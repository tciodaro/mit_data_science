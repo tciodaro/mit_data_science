{
 "cells": [
  {
   "cell_type": "markdown",
   "metadata": {},
   "source": [
    "## <span style=\"color:#4B0082\">**1. Preparação de Dados para Carga na API**</span>"
   ]
  },
  {
   "cell_type": "code",
   "execution_count": 1,
   "metadata": {
    "tags": []
   },
   "outputs": [],
   "source": [
    "import sqlite3\n",
    "from datetime import datetime \n",
    "import pandas as  pd\n",
    "import numpy as np\n",
    "import os\n"
   ]
  },
  {
   "cell_type": "markdown",
   "metadata": {},
   "source": [
    "### <span style=\"color:#9932CC\">**1. Diretórios Mapeados**</span>"
   ]
  },
  {
   "cell_type": "code",
   "execution_count": 2,
   "metadata": {},
   "outputs": [],
   "source": [
    "source_file = '../../Data/Operacao/carga_api.csv'\n",
    "\n",
    "path_database = '../../Code/Operationalization/db.sqlite3'"
   ]
  },
  {
   "cell_type": "markdown",
   "metadata": {},
   "source": [
    "### <span style=\"color:#9932CC\">**2. Leitura do CSV e Conversao para Array**</span>"
   ]
  },
  {
   "cell_type": "code",
   "execution_count": 3,
   "metadata": {},
   "outputs": [],
   "source": [
    "dataframe = pd.read_csv(source_file, sep='|',encoding = \"utf-8\")\n",
    "dataframe.shape\n",
    "dataframe.head()\n",
    "array_dataframe = dataframe.to_numpy()\n"
   ]
  },
  {
   "cell_type": "markdown",
   "metadata": {},
   "source": [
    "### <span style=\"color:#9932CC\">**3. Base de Dados -  Limpa Tabela de Coleta**</span>"
   ]
  },
  {
   "cell_type": "code",
   "execution_count": 4,
   "metadata": {},
   "outputs": [
    {
     "name": "stdout",
     "output_type": "stream",
     "text": [
      "Conectado com sucesso ao SQLite\n",
      "Tabela ja estava Vazia\n",
      "Ação Executada, conexão com SQLite fechada\n",
      "\n"
     ]
    }
   ],
   "source": [
    "sqliteConnection = sqlite3.connect(path_database)\n",
    "\n",
    "cursor = sqliteConnection.cursor()\n",
    "print(\"Conectado com sucesso ao SQLite\")\n",
    "\n",
    "try:\n",
    "    sqlite_insert_query = \"\"\"SELECT COUNT(*) as total FROM applications_dadoscoleta\"\"\"\n",
    "    cursor.execute(sqlite_insert_query)\n",
    "    (total,) = cursor.fetchone()\n",
    "    #print(total)\n",
    "     \n",
    "    if total != 0 :       \n",
    "        sqlite_delete_query = \"\"\"DELETE FROM applications_dadoscoleta\"\"\"\n",
    "        cursor.execute(sqlite_delete_query)\n",
    "        sqliteConnection.commit()\n",
    "        print(\"Dados Antigos Deletados\")\n",
    "       \n",
    "    else:   \n",
    "        print(\"Tabela ja estava Vazia\")\n",
    "  \n",
    "    cursor.close()\n",
    "\n",
    "except sqlite3.Error as error:\n",
    "    print(\"Falha em DELETE no database\", error) \n",
    "    \n",
    "finally:\n",
    "   if (sqliteConnection):\n",
    "        sqliteConnection.close()  \n",
    "        print(\"Ação Executada, conexão com SQLite fechada\")  \n",
    "        print(\"\")\n",
    "        "
   ]
  },
  {
   "cell_type": "markdown",
   "metadata": {},
   "source": [
    "### <span style=\"color:#9932CC\">**4. Base de Dados -  Nova Carga de Coleta**</span>"
   ]
  },
  {
   "cell_type": "code",
   "execution_count": 5,
   "metadata": {
    "tags": []
   },
   "outputs": [
    {
     "name": "stdout",
     "output_type": "stream",
     "text": [
      "Conectado com sucesso ao SQLite\n",
      "Total  585  registros inseridos com sucesso\n",
      "Conexão com SQLite fechada\n",
      "\n"
     ]
    }
   ],
   "source": [
    "sqliteConnection = sqlite3.connect(path_database)\n",
    "\n",
    "cursor = sqliteConnection.cursor()\n",
    "print(\"Conectado com sucesso ao SQLite\")\n",
    "\n",
    "#Insere informações no banco de dados\n",
    "try:\n",
    "    sqlite_insert_query = \"\"\"INSERT INTO applications_dadoscoleta(id, din_evento, dsc_manutencao, tip_evento)  \n",
    "                             VALUES  (?, ?, ?, ?) \"\"\"\n",
    "\n",
    "    cursor.executemany(sqlite_insert_query, array_dataframe)\n",
    "    sqliteConnection.commit()\n",
    "    \n",
    "    print(\"Total \", cursor.rowcount, \" registros inseridos com sucesso\")\n",
    "  \n",
    "    cursor.close()\n",
    "               \n",
    "except sqlite3.Error as error:\n",
    "    print(\"Falha ao inserir registros no database\", error)\n",
    "finally:\n",
    "   if (sqliteConnection):\n",
    "       sqliteConnection.close()\n",
    "       print(\"Conexão com SQLite fechada\")\n",
    "       print(\"\")\n",
    "       \n"
   ]
  },
  {
   "cell_type": "code",
   "execution_count": null,
   "metadata": {},
   "outputs": [],
   "source": []
  }
 ],
 "metadata": {
  "celltoolbar": "Tags",
  "kernelspec": {
   "display_name": "Python 3",
   "language": "python",
   "name": "python3"
  },
  "language_info": {
   "codemirror_mode": {
    "name": "ipython",
    "version": 3
   },
   "file_extension": ".py",
   "mimetype": "text/x-python",
   "name": "python",
   "nbconvert_exporter": "python",
   "pygments_lexer": "ipython3",
   "version": "3.7.6"
  }
 },
 "nbformat": 4,
 "nbformat_minor": 4
}
