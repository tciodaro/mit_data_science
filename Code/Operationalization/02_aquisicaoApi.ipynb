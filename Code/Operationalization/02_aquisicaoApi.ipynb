{
 "cells": [
  {
   "cell_type": "code",
   "execution_count": 1,
   "metadata": {},
   "outputs": [],
   "source": [
    "import requests\n",
    "import pandas as pd\n",
    "import pickle\n",
    "import json\n",
    "import snappy\n",
    "import sys\n",
    "from urllib.parse import urlencode\n"
   ]
  },
  {
   "cell_type": "code",
   "execution_count": 2,
   "metadata": {},
   "outputs": [],
   "source": [
    "notebook_path_exit = '../../Code/Operationalization/05_dataframe_exit.ipynb'"
   ]
  },
  {
   "cell_type": "markdown",
   "metadata": {},
   "source": [
    "### <span style=\"color:#C71585\">**1. Diretório Mapeado**</span>"
   ]
  },
  {
   "cell_type": "code",
   "execution_count": 3,
   "metadata": {},
   "outputs": [],
   "source": [
    "save_file = '../../Data/Operacao/dados_coleta.parquet'"
   ]
  },
  {
   "cell_type": "markdown",
   "metadata": {},
   "source": [
    "### <span style=\"color:#C71585\"> **2. Upload de variavel para pesquisa de dados na API**</span>"
   ]
  },
  {
   "cell_type": "code",
   "execution_count": 4,
   "metadata": {},
   "outputs": [],
   "source": [
    "# baseurl = 'http://localhost:8000/services/dadoscoleta/?dat_inicio=01/08/2020&dat_fim=15/08/2020'\n",
    "\n",
    "%store -r baseurl\n",
    "baseurl"
   ]
  },
  {
   "cell_type": "code",
   "execution_count": null,
   "metadata": {},
   "outputs": [],
   "source": []
  },
  {
   "cell_type": "markdown",
   "metadata": {},
   "source": [
    "### <span style=\"color:#C71585\"> **3. Upload de Dados via API**</span>"
   ]
  },
  {
   "cell_type": "code",
   "execution_count": 5,
   "metadata": {},
   "outputs": [
    {
     "name": "stdout",
     "output_type": "stream",
     "text": [
      "=> Recuperando dados da API\n",
      "<Response [200]>\n",
      "\n"
     ]
    }
   ],
   "source": [
    "print('=> Recuperando dados da API')\n",
    "response = requests.get(baseurl)\n",
    "print(response)\n",
    "print('')"
   ]
  },
  {
   "cell_type": "markdown",
   "metadata": {},
   "source": [
    "### <span style=\"color:#C71585\"> **4. Visualizar dados da API**<span>"
   ]
  },
  {
   "cell_type": "code",
   "execution_count": 6,
   "metadata": {},
   "outputs": [],
   "source": [
    "obj = json.loads(response.text)\n",
    "dataframe =  pd.DataFrame.from_dict(obj)\n"
   ]
  },
  {
   "cell_type": "code",
   "execution_count": 7,
   "metadata": {},
   "outputs": [
    {
     "name": "stdout",
     "output_type": "stream",
     "text": [
      "shape: (263, 4)\n"
     ]
    }
   ],
   "source": [
    "if (dataframe.empty) :\n",
    "    print('')\n",
    "    print('!!!!!!!!!!!!!!!')\n",
    "    print('DATAFRAME VAZIO')\n",
    "    print('!!!!!!!!!!!!!!!')   \n",
    "    print('Nenhum procedimento executado!!')  \n",
    "    sys.exit(0)\n",
    "  \n",
    "else:    \n",
    "    print('shape:', dataframe.shape)\n",
    "    #print('columns:', dataframe.columns)\n",
    "    "
   ]
  },
  {
   "cell_type": "markdown",
   "metadata": {},
   "source": [
    "### <span style=\"color:#C71585\"> **5. Adequaçao do Dataframe** </span>"
   ]
  },
  {
   "cell_type": "code",
   "execution_count": 8,
   "metadata": {},
   "outputs": [],
   "source": [
    "#Remove apenas as colunas dentro do ['','']\n",
    "#dataframe = dataframe.drop(columns=['nome','secao','dat_publicacao','categoria'])\n",
    "\n",
    "# Remove todas as colunas com exceção de ['','']\n",
    "# -------------------------------------------------\n",
    "dataframe.drop(dataframe.columns.difference(['id','dsc_manutencao','tip_evento']), 1, inplace=True)\n"
   ]
  },
  {
   "cell_type": "markdown",
   "metadata": {},
   "source": [
    "### <span style=\"color:#C71585\"> **6.Preparação dos Dados**</span>"
   ]
  },
  {
   "cell_type": "markdown",
   "metadata": {},
   "source": [
    "#### <span style=\"color:#1C1C1C\">**6.1. Remove linhas nulas no Dataframe**</span>"
   ]
  },
  {
   "cell_type": "code",
   "execution_count": 9,
   "metadata": {},
   "outputs": [],
   "source": [
    "dataframe = dataframe.dropna()"
   ]
  },
  {
   "cell_type": "code",
   "execution_count": null,
   "metadata": {},
   "outputs": [],
   "source": []
  },
  {
   "cell_type": "markdown",
   "metadata": {},
   "source": [
    "#### <span style=\"color:#1C1C1C\">**6.2. Remove linhas duplicatas no Dataframe**</span>"
   ]
  },
  {
   "cell_type": "code",
   "execution_count": 10,
   "metadata": {},
   "outputs": [],
   "source": [
    "dataframe = dataframe.drop_duplicates()"
   ]
  },
  {
   "cell_type": "code",
   "execution_count": null,
   "metadata": {},
   "outputs": [],
   "source": []
  },
  {
   "cell_type": "markdown",
   "metadata": {},
   "source": [
    "### <span style=\"color:#C71585\"> **7.Vista do Dataframe**</span>"
   ]
  },
  {
   "cell_type": "code",
   "execution_count": 11,
   "metadata": {},
   "outputs": [
    {
     "data": {
      "text/html": [
       "<div>\n",
       "<style scoped>\n",
       "    .dataframe tbody tr th:only-of-type {\n",
       "        vertical-align: middle;\n",
       "    }\n",
       "\n",
       "    .dataframe tbody tr th {\n",
       "        vertical-align: top;\n",
       "    }\n",
       "\n",
       "    .dataframe thead th {\n",
       "        text-align: right;\n",
       "    }\n",
       "</style>\n",
       "<table border=\"1\" class=\"dataframe\">\n",
       "  <thead>\n",
       "    <tr style=\"text-align: right;\">\n",
       "      <th></th>\n",
       "      <th>id</th>\n",
       "      <th>dsc_manutencao</th>\n",
       "      <th>tip_evento</th>\n",
       "    </tr>\n",
       "  </thead>\n",
       "  <tbody>\n",
       "    <tr>\n",
       "      <th>0</th>\n",
       "      <td>835269</td>\n",
       "      <td>VERIFICAR A CAUSA DO DESLIGAMENTO DA UNIDADE.</td>\n",
       "      <td>oper</td>\n",
       "    </tr>\n",
       "    <tr>\n",
       "      <th>1</th>\n",
       "      <td>835267</td>\n",
       "      <td>Ensaios operacionais de retorno da UG-8 ao sis...</td>\n",
       "      <td>oper</td>\n",
       "    </tr>\n",
       "    <tr>\n",
       "      <th>2</th>\n",
       "      <td>835263</td>\n",
       "      <td>Manutenção, inspeção e limpeza no anel coletor</td>\n",
       "      <td>oper</td>\n",
       "    </tr>\n",
       "    <tr>\n",
       "      <th>3</th>\n",
       "      <td>835261</td>\n",
       "      <td>Passivação do óleo do Transformador Elevador T...</td>\n",
       "      <td>oper</td>\n",
       "    </tr>\n",
       "    <tr>\n",
       "      <th>4</th>\n",
       "      <td>835241</td>\n",
       "      <td>Acompanhamento da Operação do Bipolo 2 em RVO ...</td>\n",
       "      <td>oper</td>\n",
       "    </tr>\n",
       "  </tbody>\n",
       "</table>\n",
       "</div>"
      ],
      "text/plain": [
       "       id                                     dsc_manutencao tip_evento\n",
       "0  835269      VERIFICAR A CAUSA DO DESLIGAMENTO DA UNIDADE.       oper\n",
       "1  835267  Ensaios operacionais de retorno da UG-8 ao sis...       oper\n",
       "2  835263   Manutenção, inspeção e limpeza no anel coletor         oper\n",
       "3  835261  Passivação do óleo do Transformador Elevador T...       oper\n",
       "4  835241  Acompanhamento da Operação do Bipolo 2 em RVO ...       oper"
      ]
     },
     "execution_count": 11,
     "metadata": {},
     "output_type": "execute_result"
    }
   ],
   "source": [
    "dataframe.head()"
   ]
  },
  {
   "cell_type": "code",
   "execution_count": null,
   "metadata": {},
   "outputs": [],
   "source": []
  },
  {
   "cell_type": "markdown",
   "metadata": {},
   "source": [
    "### <span style=\"color:#C71585\">**8. Tratamento de Caracteres**</span>"
   ]
  },
  {
   "cell_type": "markdown",
   "metadata": {},
   "source": [
    "#### <span style=\"color:#1C1C1C\">**8.1 Converte para Letras Minusculas** </span>"
   ]
  },
  {
   "cell_type": "code",
   "execution_count": 12,
   "metadata": {},
   "outputs": [],
   "source": [
    "dataframe['dsc_manutencao'] = dataframe['dsc_manutencao'].str.lower() "
   ]
  },
  {
   "cell_type": "markdown",
   "metadata": {},
   "source": [
    "#### <span style=\"color:#1C1C1C\">**8.2 Limpeza do texto** </span>"
   ]
  },
  {
   "cell_type": "code",
   "execution_count": 13,
   "metadata": {},
   "outputs": [],
   "source": [
    "dataframe['dsc_manutencao'] = dataframe['dsc_manutencao'].str.replace(r'-',' ')\n",
    "dataframe['dsc_manutencao'] = dataframe['dsc_manutencao'].str.replace(r':',' ')\n",
    "dataframe['dsc_manutencao'] = dataframe['dsc_manutencao'].str.replace(r'.',' ')\n",
    "dataframe['dsc_manutencao'] = dataframe['dsc_manutencao'].str.replace(r';',' ')\n",
    "dataframe['dsc_manutencao'] = dataframe['dsc_manutencao'].str.replace(r'/',' ')\n",
    "dataframe['dsc_manutencao'] = dataframe['dsc_manutencao'].str.replace(r'<p>',' ')\n",
    "dataframe['dsc_manutencao'] = dataframe['dsc_manutencao'].str.replace(r'</p>',' ')\n",
    "dataframe['dsc_manutencao'] = dataframe['dsc_manutencao'].str.replace('$',' ')\n",
    "dataframe['dsc_manutencao'] = dataframe['dsc_manutencao'].str.replace('§',' ')\n",
    "dataframe['dsc_manutencao'] = dataframe['dsc_manutencao'].str.replace('%',' ')\n",
    "dataframe['dsc_manutencao'] = dataframe['dsc_manutencao'].str.replace('&',' ')\n",
    "dataframe['dsc_manutencao'] = dataframe['dsc_manutencao'].str.replace('#',' ')\n",
    "dataframe['dsc_manutencao'] = dataframe['dsc_manutencao'].str.replace('*',' ')\n",
    "dataframe['dsc_manutencao'] = dataframe['dsc_manutencao'].str.replace('!',' ')\n",
    "dataframe['dsc_manutencao'] = dataframe['dsc_manutencao'].str.replace('?',' ')\n",
    "dataframe['dsc_manutencao'] = dataframe['dsc_manutencao'].str.replace(r'º',' ')\n",
    "dataframe['dsc_manutencao'] = dataframe['dsc_manutencao'].str.replace(r'ª',' ')\n",
    "dataframe['dsc_manutencao'] = dataframe['dsc_manutencao'].str.replace(r'²',' ')\n",
    "dataframe['dsc_manutencao'] = dataframe['dsc_manutencao'].str.replace(r'°',' ')\n",
    "dataframe['dsc_manutencao'] = dataframe['dsc_manutencao'].str.replace(r'à','a')\n",
    "dataframe['dsc_manutencao'] = dataframe['dsc_manutencao'].str.replace(r'ã','a')\n",
    "dataframe['dsc_manutencao'] = dataframe['dsc_manutencao'].str.replace(r'á','a')\n",
    "dataframe['dsc_manutencao'] = dataframe['dsc_manutencao'].str.replace(r'â','a')\n",
    "dataframe['dsc_manutencao'] = dataframe['dsc_manutencao'].str.replace(r'é','e')\n",
    "dataframe['dsc_manutencao'] = dataframe['dsc_manutencao'].str.replace(r'ê','e')\n",
    "dataframe['dsc_manutencao'] = dataframe['dsc_manutencao'].str.replace(r'í','i')\n",
    "dataframe['dsc_manutencao'] = dataframe['dsc_manutencao'].str.replace(r'ì','i')\n",
    "dataframe['dsc_manutencao'] = dataframe['dsc_manutencao'].str.replace(r'ó','o')\n",
    "dataframe['dsc_manutencao'] = dataframe['dsc_manutencao'].str.replace(r'ô','o')\n",
    "dataframe['dsc_manutencao'] = dataframe['dsc_manutencao'].str.replace(r'õ','o')\n",
    "dataframe['dsc_manutencao'] = dataframe['dsc_manutencao'].str.replace(r'ú','u')\n",
    "dataframe['dsc_manutencao'] = dataframe['dsc_manutencao'].str.replace(r'ü','u')\n",
    "dataframe['dsc_manutencao'] = dataframe['dsc_manutencao'].str.replace(r'ç','c')\n",
    "dataframe['dsc_manutencao'] = dataframe['dsc_manutencao'].str.replace(r'[',' ')\n",
    "dataframe['dsc_manutencao'] = dataframe['dsc_manutencao'].str.replace(r']',' ')\n",
    "dataframe['dsc_manutencao'] = dataframe['dsc_manutencao'].str.replace(r'{',' ')\n",
    "dataframe['dsc_manutencao'] = dataframe['dsc_manutencao'].str.replace(r'}',' ')\n",
    "dataframe['dsc_manutencao'] = dataframe['dsc_manutencao'].str.replace(r'(',' ')\n",
    "dataframe['dsc_manutencao'] = dataframe['dsc_manutencao'].str.replace(r')',' ')\n",
    "dataframe['dsc_manutencao'] = dataframe['dsc_manutencao'].str.replace(r'<',' ')\n",
    "dataframe['dsc_manutencao'] = dataframe['dsc_manutencao'].str.replace(r'>',' ')\n",
    "dataframe['dsc_manutencao'] = dataframe['dsc_manutencao'].str.replace(r'1',' ')\n",
    "dataframe['dsc_manutencao'] = dataframe['dsc_manutencao'].str.replace(r'2',' ')\n",
    "dataframe['dsc_manutencao'] = dataframe['dsc_manutencao'].str.replace(r'3',' ')\n",
    "dataframe['dsc_manutencao'] = dataframe['dsc_manutencao'].str.replace(r'4',' ')\n",
    "dataframe['dsc_manutencao'] = dataframe['dsc_manutencao'].str.replace(r'5',' ')\n",
    "dataframe['dsc_manutencao'] = dataframe['dsc_manutencao'].str.replace(r'6',' ')\n",
    "dataframe['dsc_manutencao'] = dataframe['dsc_manutencao'].str.replace(r'7',' ')\n",
    "dataframe['dsc_manutencao'] = dataframe['dsc_manutencao'].str.replace(r'8',' ')\n",
    "dataframe['dsc_manutencao'] = dataframe['dsc_manutencao'].str.replace(r'9',' ')\n",
    "dataframe['dsc_manutencao'] = dataframe['dsc_manutencao'].str.replace(r'0',' ')\n",
    "dataframe['dsc_manutencao'] = dataframe['dsc_manutencao'].str.replace(r'@\\S+',' ')\n",
    "dataframe['dsc_manutencao'] = dataframe['dsc_manutencao'].str.replace(r'@','at')\n",
    "dataframe['dsc_manutencao'] = dataframe['dsc_manutencao'].str.replace(r'http\\S+',' ')\n",
    "dataframe['dsc_manutencao'] = dataframe['dsc_manutencao'].str.replace(r'http',' ')"
   ]
  },
  {
   "cell_type": "code",
   "execution_count": null,
   "metadata": {},
   "outputs": [],
   "source": []
  },
  {
   "cell_type": "markdown",
   "metadata": {},
   "source": [
    "### <span style=\"color:#C71585\">**9. Exporta resultado para Parquet**</span>"
   ]
  },
  {
   "cell_type": "code",
   "execution_count": 14,
   "metadata": {},
   "outputs": [],
   "source": [
    "dataframe.to_parquet(save_file, compression='snappy')"
   ]
  },
  {
   "cell_type": "code",
   "execution_count": null,
   "metadata": {},
   "outputs": [],
   "source": []
  }
 ],
 "metadata": {
  "kernelspec": {
   "display_name": "Python 3",
   "language": "python",
   "name": "python3"
  },
  "language_info": {
   "codemirror_mode": {
    "name": "ipython",
    "version": 3
   },
   "file_extension": ".py",
   "mimetype": "text/x-python",
   "name": "python",
   "nbconvert_exporter": "python",
   "pygments_lexer": "ipython3",
   "version": "3.7.6"
  }
 },
 "nbformat": 4,
 "nbformat_minor": 4
}
