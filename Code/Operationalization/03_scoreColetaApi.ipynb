{
 "cells": [
  {
   "cell_type": "code",
   "execution_count": 1,
   "metadata": {},
   "outputs": [],
   "source": [
    "import os\n",
    "import pandas as pd\n",
    "import pickle\n",
    "import json\n",
    "import seaborn as sns\n",
    "import datetime\n",
    "from sklearn.linear_model import LogisticRegressionCV\n",
    "import matplotlib.pyplot as plt\n",
    "\n",
    "import sqlite3\n",
    "\n",
    "%matplotlib inline\n",
    "\n",
    "pd.plotting.register_matplotlib_converters()\n"
   ]
  },
  {
   "cell_type": "markdown",
   "metadata": {},
   "source": [
    "### <span style=\"color:navy\"> **1. Diretórios Mapeados** </span>"
   ]
  },
  {
   "cell_type": "code",
   "execution_count": 2,
   "metadata": {},
   "outputs": [],
   "source": [
    "parquet_file = '../../Data/Operacao/dados_coleta.parquet'\n",
    "\n",
    "model_file =  '../../Data/Modeling/modelo_previsao.jbl'\n",
    "\n",
    "save_result = '../../Data/Operacao/dados_result.parquet'\n"
   ]
  },
  {
   "cell_type": "markdown",
   "metadata": {},
   "source": [
    "### <span style=\"color:navy\"> **2. Carrega dados da API Pós-Preparação** </span>"
   ]
  },
  {
   "cell_type": "code",
   "execution_count": 3,
   "metadata": {},
   "outputs": [],
   "source": [
    "dataframe = pd.read_parquet(parquet_file)\n"
   ]
  },
  {
   "cell_type": "markdown",
   "metadata": {},
   "source": [
    "### <span style=\"color:navy\"> **3. Carrega Modelo de Predição**</span>"
   ]
  },
  {
   "cell_type": "code",
   "execution_count": 4,
   "metadata": {},
   "outputs": [],
   "source": [
    "with open(model_file, 'rb') as fid:\n",
    "    trained_models = pickle.load(fid)"
   ]
  },
  {
   "cell_type": "markdown",
   "metadata": {},
   "source": [
    "### <span style=\"color:navy\"> **4. Informar Qual Modelo de Predição será Usado** </span>"
   ]
  },
  {
   "cell_type": "code",
   "execution_count": 5,
   "metadata": {},
   "outputs": [],
   "source": [
    "model_name = 'LogisticRegr'\n",
    "modelAquisicao = trained_models[model_name]"
   ]
  },
  {
   "cell_type": "code",
   "execution_count": null,
   "metadata": {},
   "outputs": [],
   "source": []
  },
  {
   "cell_type": "markdown",
   "metadata": {},
   "source": [
    "### <span style=\"color:navy\"> **5. Executa Modelo de Predição sobre DadosAPI** </span>"
   ]
  },
  {
   "cell_type": "code",
   "execution_count": 6,
   "metadata": {},
   "outputs": [],
   "source": [
    "X = dataframe['dsc_texto'].values.reshape(-1).tolist()\n",
    "\n",
    "# Retorno de Probabilidade\n",
    "Result_percentual = modelAquisicao.predict_proba(X)[:,1]\n",
    "\n",
    "# Retorno de True e False\n",
    "Result_boleano = modelAquisicao.predict(dataframe['dsc_texto'])\n"
   ]
  },
  {
   "cell_type": "code",
   "execution_count": 7,
   "metadata": {},
   "outputs": [
    {
     "data": {
      "text/html": [
       "<div>\n",
       "<style scoped>\n",
       "    .dataframe tbody tr th:only-of-type {\n",
       "        vertical-align: middle;\n",
       "    }\n",
       "\n",
       "    .dataframe tbody tr th {\n",
       "        vertical-align: top;\n",
       "    }\n",
       "\n",
       "    .dataframe thead th {\n",
       "        text-align: right;\n",
       "    }\n",
       "</style>\n",
       "<table border=\"1\" class=\"dataframe\">\n",
       "  <thead>\n",
       "    <tr style=\"text-align: right;\">\n",
       "      <th></th>\n",
       "      <th>id</th>\n",
       "      <th>dsc_texto</th>\n",
       "    </tr>\n",
       "  </thead>\n",
       "  <tbody>\n",
       "    <tr>\n",
       "      <th>0</th>\n",
       "      <td>832897</td>\n",
       "      <td>desligamento involuntario da unidade geradora ...</td>\n",
       "    </tr>\n",
       "    <tr>\n",
       "      <th>1</th>\n",
       "      <td>832899</td>\n",
       "      <td>sera realizado manutencao corretiva no transfo...</td>\n",
       "    </tr>\n",
       "    <tr>\n",
       "      <th>2</th>\n",
       "      <td>832952</td>\n",
       "      <td>manutencao corretiva da linha      me na uhe s...</td>\n",
       "    </tr>\n",
       "    <tr>\n",
       "      <th>3</th>\n",
       "      <td>832955</td>\n",
       "      <td>ug     grupo      hora inicial       h final  ...</td>\n",
       "    </tr>\n",
       "    <tr>\n",
       "      <th>4</th>\n",
       "      <td>832971</td>\n",
       "      <td>substituicao de equipamento da rede de comunic...</td>\n",
       "    </tr>\n",
       "  </tbody>\n",
       "</table>\n",
       "</div>"
      ],
      "text/plain": [
       "       id                                          dsc_texto\n",
       "0  832897  desligamento involuntario da unidade geradora ...\n",
       "1  832899  sera realizado manutencao corretiva no transfo...\n",
       "2  832952  manutencao corretiva da linha      me na uhe s...\n",
       "3  832955  ug     grupo      hora inicial       h final  ...\n",
       "4  832971  substituicao de equipamento da rede de comunic..."
      ]
     },
     "execution_count": 7,
     "metadata": {},
     "output_type": "execute_result"
    }
   ],
   "source": []
  },
  {
   "cell_type": "markdown",
   "metadata": {},
   "source": [
    "### <span style=\"color:navy\"> **6. Criação de Novas Colunas no Dataframe para Receber Previsao** </span>"
   ]
  },
  {
   "cell_type": "code",
   "execution_count": 17,
   "metadata": {},
   "outputs": [],
   "source": [
    "dataframe['tip_supervisao'] = Result_boleano\n",
    "\n",
    "dataframe = dataframe.astype({\"tip_supervisao\": str})\n",
    "dataframe.tip_supervisao.replace({'True': 'oper'}, inplace=True)\n",
    "dataframe.tip_supervisao.replace({'False': 'prop'}, inplace=True)\n",
    "\n",
    "\n",
    "dataframe['din_execucao'] = datetime.datetime.now()\n",
    "dataframe.din_execucao = dataframe.din_execucao.astype(str)\n",
    "\n",
    "dataframe['tip_predicao'] = Result_boleano\n",
    "\n",
    "dataframe['pct_predicao'] = Result_percentual\n",
    "dataframe.pct_predicao = dataframe.pct_predicao.astype(float).round(3)*100\n"
   ]
  },
  {
   "cell_type": "code",
   "execution_count": null,
   "metadata": {},
   "outputs": [],
   "source": [
    "#for index,row in dataframe.iterrows():\n",
    "     #dataframe.loc[index,'Resultc'] =  Result[index]\n",
    "\n",
    "#for index,row in dataframe.iterrows():\n",
    "     #dataframe.loc[index,'Resultprobc'] =  Resultprob[index] * 100        \n",
    "        "
   ]
  },
  {
   "cell_type": "markdown",
   "metadata": {},
   "source": [
    "#### <span style=\"color:blue\">**6.1 Visão do Dataframe completo de predição**</span>"
   ]
  },
  {
   "cell_type": "code",
   "execution_count": 18,
   "metadata": {},
   "outputs": [
    {
     "data": {
      "text/html": [
       "<div>\n",
       "<style scoped>\n",
       "    .dataframe tbody tr th:only-of-type {\n",
       "        vertical-align: middle;\n",
       "    }\n",
       "\n",
       "    .dataframe tbody tr th {\n",
       "        vertical-align: top;\n",
       "    }\n",
       "\n",
       "    .dataframe thead th {\n",
       "        text-align: right;\n",
       "    }\n",
       "</style>\n",
       "<table border=\"1\" class=\"dataframe\">\n",
       "  <thead>\n",
       "    <tr style=\"text-align: right;\">\n",
       "      <th></th>\n",
       "      <th>id</th>\n",
       "      <th>dsc_texto</th>\n",
       "      <th>tip_supervisao</th>\n",
       "      <th>din_execucao</th>\n",
       "      <th>tip_predicao</th>\n",
       "      <th>pct_predicao</th>\n",
       "    </tr>\n",
       "  </thead>\n",
       "  <tbody>\n",
       "    <tr>\n",
       "      <th>0</th>\n",
       "      <td>832897</td>\n",
       "      <td>desligamento involuntario da unidade geradora ...</td>\n",
       "      <td>oper</td>\n",
       "      <td>2020-09-12 21:39:23.492051</td>\n",
       "      <td>True</td>\n",
       "      <td>78.2</td>\n",
       "    </tr>\n",
       "    <tr>\n",
       "      <th>1</th>\n",
       "      <td>832899</td>\n",
       "      <td>sera realizado manutencao corretiva no transfo...</td>\n",
       "      <td>oper</td>\n",
       "      <td>2020-09-12 21:39:23.492051</td>\n",
       "      <td>True</td>\n",
       "      <td>97.3</td>\n",
       "    </tr>\n",
       "    <tr>\n",
       "      <th>2</th>\n",
       "      <td>832952</td>\n",
       "      <td>manutencao corretiva da linha      me na uhe s...</td>\n",
       "      <td>oper</td>\n",
       "      <td>2020-09-12 21:39:23.492051</td>\n",
       "      <td>True</td>\n",
       "      <td>64.1</td>\n",
       "    </tr>\n",
       "    <tr>\n",
       "      <th>3</th>\n",
       "      <td>832955</td>\n",
       "      <td>ug     grupo      hora inicial       h final  ...</td>\n",
       "      <td>oper</td>\n",
       "      <td>2020-09-12 21:39:23.492051</td>\n",
       "      <td>True</td>\n",
       "      <td>98.9</td>\n",
       "    </tr>\n",
       "    <tr>\n",
       "      <th>4</th>\n",
       "      <td>832971</td>\n",
       "      <td>substituicao de equipamento da rede de comunic...</td>\n",
       "      <td>prop</td>\n",
       "      <td>2020-09-12 21:39:23.492051</td>\n",
       "      <td>False</td>\n",
       "      <td>12.6</td>\n",
       "    </tr>\n",
       "  </tbody>\n",
       "</table>\n",
       "</div>"
      ],
      "text/plain": [
       "       id                                          dsc_texto tip_supervisao  \\\n",
       "0  832897  desligamento involuntario da unidade geradora ...           oper   \n",
       "1  832899  sera realizado manutencao corretiva no transfo...           oper   \n",
       "2  832952  manutencao corretiva da linha      me na uhe s...           oper   \n",
       "3  832955  ug     grupo      hora inicial       h final  ...           oper   \n",
       "4  832971  substituicao de equipamento da rede de comunic...           prop   \n",
       "\n",
       "                 din_execucao  tip_predicao  pct_predicao  \n",
       "0  2020-09-12 21:39:23.492051          True          78.2  \n",
       "1  2020-09-12 21:39:23.492051          True          97.3  \n",
       "2  2020-09-12 21:39:23.492051          True          64.1  \n",
       "3  2020-09-12 21:39:23.492051          True          98.9  \n",
       "4  2020-09-12 21:39:23.492051         False          12.6  "
      ]
     },
     "execution_count": 18,
     "metadata": {},
     "output_type": "execute_result"
    }
   ],
   "source": [
    "dataframe.head()"
   ]
  },
  {
   "cell_type": "markdown",
   "metadata": {},
   "source": [
    "### <span style=\"color:navy\"> **8. Gráficos** </span>"
   ]
  },
  {
   "cell_type": "markdown",
   "metadata": {},
   "source": [
    "#### <span style=\"color:blue\"> **8.1 Quantitativos** </span>"
   ]
  },
  {
   "cell_type": "code",
   "execution_count": 22,
   "metadata": {},
   "outputs": [
    {
     "name": "stdout",
     "output_type": "stream",
     "text": [
      "\n",
      "\n",
      "1. Quantitativos de Registros Processados\n",
      "\n"
     ]
    }
   ],
   "source": [
    "print('')\n",
    "print('')\n",
    "print('1. Quantitativos de Registros Processados')\n",
    "print('')"
   ]
  },
  {
   "cell_type": "code",
   "execution_count": 23,
   "metadata": {},
   "outputs": [
    {
     "data": {
      "text/plain": [
       "True     15\n",
       "False    11\n",
       "Name: tip_predicao, dtype: int64"
      ]
     },
     "execution_count": 23,
     "metadata": {},
     "output_type": "execute_result"
    }
   ],
   "source": [
    "dataframe.tip_predicao.value_counts()"
   ]
  },
  {
   "cell_type": "code",
   "execution_count": 38,
   "metadata": {},
   "outputs": [
    {
     "data": {
      "text/plain": [
       "<matplotlib.axes._subplots.AxesSubplot at 0x1d7ade11548>"
      ]
     },
     "execution_count": 38,
     "metadata": {},
     "output_type": "execute_result"
    },
    {
     "data": {
      "image/png": "[encoded data removed]",
      "text/plain": [
       "<Figure size 432x288 with 1 Axes>"
      ]
     },
     "metadata": {
      "needs_background": "light"
     },
     "output_type": "display_data"
    }
   ],
   "source": [
    "dataframe.tip_supervisao.value_counts().plot(kind='barh',color=\"orange\",title = \"Quantitativos\",subplots=False)"
   ]
  },
  {
   "cell_type": "code",
   "execution_count": null,
   "metadata": {},
   "outputs": [],
   "source": []
  },
  {
   "cell_type": "code",
   "execution_count": 26,
   "metadata": {},
   "outputs": [
    {
     "name": "stdout",
     "output_type": "stream",
     "text": [
      "\n",
      "2. Boxplot - Distribuição das Porcentagem da Predição\n",
      "\n"
     ]
    }
   ],
   "source": [
    "print('')\n",
    "print('2. Boxplot - Distribuição das Porcentagem da Predição')\n",
    "print('')"
   ]
  },
  {
   "cell_type": "markdown",
   "metadata": {},
   "source": [
    "#### <span style=\"color:blue\"> **8.2 Boxplot - Distribuição das Porcentagem da Predição** </span>"
   ]
  },
  {
   "cell_type": "code",
   "execution_count": 37,
   "metadata": {},
   "outputs": [
    {
     "data": {
      "text/plain": [
       "<matplotlib.axes._subplots.AxesSubplot at 0x1d7addd0308>"
      ]
     },
     "execution_count": 37,
     "metadata": {},
     "output_type": "execute_result"
    },
    {
     "data": {
      "image/png": "[encoded data removed]",
      "text/plain": [
       "<Figure size 432x288 with 1 Axes>"
      ]
     },
     "metadata": {
      "needs_background": "light"
     },
     "output_type": "display_data"
    }
   ],
   "source": [
    "# linewidth= Grossura da linha\n",
    "sns.boxplot(data=dataframe,orient=\"h\",palette=\"Set3\",linewidth=1,fliersize=3,x='pct_predicao',y=\"tip_supervisao\",hue=\"tip_supervisao\")"
   ]
  },
  {
   "cell_type": "code",
   "execution_count": 28,
   "metadata": {},
   "outputs": [
    {
     "name": "stdout",
     "output_type": "stream",
     "text": [
      "\n",
      "3. Distribuição das Porcentagem da Predição\n",
      "\n"
     ]
    }
   ],
   "source": [
    "print('')\n",
    "print('3. Distribuição das Porcentagem da Predição')\n",
    "print('')"
   ]
  },
  {
   "cell_type": "markdown",
   "metadata": {},
   "source": [
    "#### <span style=\"color:blue\"> **8.3 Distribuição das Porcentagem da Predição** </span>"
   ]
  },
  {
   "cell_type": "code",
   "execution_count": 31,
   "metadata": {},
   "outputs": [
    {
     "data": {
      "text/plain": [
       "array([<matplotlib.axes._subplots.AxesSubplot object at 0x000001D7ADA6B108>,\n",
       "       <matplotlib.axes._subplots.AxesSubplot object at 0x000001D7ADA8ECC8>],\n",
       "      dtype=object)"
      ]
     },
     "execution_count": 31,
     "metadata": {},
     "output_type": "execute_result"
    },
    {
     "data": {
      "image/png": "[encoded data removed]",
      "text/plain": [
       "<Figure size 432x288 with 2 Axes>"
      ]
     },
     "metadata": {
      "needs_background": "light"
     },
     "output_type": "display_data"
    }
   ],
   "source": [
    "dataframe.hist(column=\"pct_predicao\",by=\"tip_supervisao\",bins=50)"
   ]
  },
  {
   "cell_type": "code",
   "execution_count": null,
   "metadata": {},
   "outputs": [],
   "source": []
  },
  {
   "cell_type": "markdown",
   "metadata": {},
   "source": [
    "### <span style=\"color:navy\"> **9 Exporta Resultado para Parquet** </span>"
   ]
  },
  {
   "cell_type": "code",
   "execution_count": 30,
   "metadata": {},
   "outputs": [],
   "source": [
    "dataframe.to_parquet(save_result, compression='snappy')"
   ]
  },
  {
   "cell_type": "code",
   "execution_count": null,
   "metadata": {},
   "outputs": [],
   "source": []
  }
 ],
 "metadata": {
  "kernelspec": {
   "display_name": "Python 3",
   "language": "python",
   "name": "python3"
  },
  "language_info": {
   "codemirror_mode": {
    "name": "ipython",
    "version": 3
   },
   "file_extension": ".py",
   "mimetype": "text/x-python",
   "name": "python",
   "nbconvert_exporter": "python",
   "pygments_lexer": "ipython3",
   "version": "3.7.6"
  }
 },
 "nbformat": 4,
 "nbformat_minor": 4
}
