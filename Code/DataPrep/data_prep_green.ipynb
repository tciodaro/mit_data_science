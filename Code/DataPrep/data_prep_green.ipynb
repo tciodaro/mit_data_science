{
 "cells": [
  {
   "cell_type": "code",
   "execution_count": 10,
   "metadata": {},
   "outputs": [],
   "source": [
    "import matplotlib.pyplot as plt\n",
    "import pandas as pd\n",
    "import numpy as np\n",
    "\n",
    "%matplotlib inline\n",
    "plt.style.use('ggplot')\n",
    "\n",
    "import warnings\n",
    "warnings.filterwarnings(\"ignore\")\n",
    "\n",
    "\n",
    "%store -r WORKDIR\n",
    "\n",
    "if 'WORKDIR' not in dir():\n",
    "    WORKDIR = 'C:/Users/Paulo/Desktop/infnet-projeto-final/mit_data_science/'\n",
    "\n",
    "data_raw_file = WORKDIR + '/Data/Raw/nyctaxi_data_collect_green.parquet'\n",
    "data_proc_file = WORKDIR + '/Data/Processed/nyctaxi_data_modeling_green.parquet'\n",
    "\n",
    "\n",
    "pd.plotting.register_matplotlib_converters()"
   ]
  },
  {
   "cell_type": "markdown",
   "metadata": {},
   "source": [
    "# Leitura dos Dados "
   ]
  },
  {
   "cell_type": "code",
   "execution_count": 11,
   "metadata": {},
   "outputs": [
    {
     "name": "stdout",
     "output_type": "stream",
     "text": [
      "shape: (7000, 8)\n",
      "columns: Index(['dropoff_latitude', 'dropoff_longitude', 'fare_amount',\n",
      "       'lpep_dropoff_datetime', 'lpep_pickup_datetime', 'passenger_count',\n",
      "       'pickup_latitude', 'pickup_longitude'],\n",
      "      dtype='object')\n"
     ]
    },
    {
     "data": {
      "text/html": [
       "<div>\n",
       "<style scoped>\n",
       "    .dataframe tbody tr th:only-of-type {\n",
       "        vertical-align: middle;\n",
       "    }\n",
       "\n",
       "    .dataframe tbody tr th {\n",
       "        vertical-align: top;\n",
       "    }\n",
       "\n",
       "    .dataframe thead th {\n",
       "        text-align: right;\n",
       "    }\n",
       "</style>\n",
       "<table border=\"1\" class=\"dataframe\">\n",
       "  <thead>\n",
       "    <tr style=\"text-align: right;\">\n",
       "      <th></th>\n",
       "      <th>dropoff_latitude</th>\n",
       "      <th>dropoff_longitude</th>\n",
       "      <th>fare_amount</th>\n",
       "      <th>lpep_dropoff_datetime</th>\n",
       "      <th>lpep_pickup_datetime</th>\n",
       "      <th>passenger_count</th>\n",
       "      <th>pickup_latitude</th>\n",
       "      <th>pickup_longitude</th>\n",
       "    </tr>\n",
       "  </thead>\n",
       "  <tbody>\n",
       "    <tr>\n",
       "      <th>0</th>\n",
       "      <td>None</td>\n",
       "      <td>None</td>\n",
       "      <td>9</td>\n",
       "      <td>2017-01-01T00:11:05.000</td>\n",
       "      <td>2017-01-01T00:01:15.000</td>\n",
       "      <td>1</td>\n",
       "      <td>None</td>\n",
       "      <td>None</td>\n",
       "    </tr>\n",
       "    <tr>\n",
       "      <th>1</th>\n",
       "      <td>None</td>\n",
       "      <td>None</td>\n",
       "      <td>6.5</td>\n",
       "      <td>2017-01-01T00:09:00.000</td>\n",
       "      <td>2017-01-01T00:03:34.000</td>\n",
       "      <td>1</td>\n",
       "      <td>None</td>\n",
       "      <td>None</td>\n",
       "    </tr>\n",
       "    <tr>\n",
       "      <th>2</th>\n",
       "      <td>None</td>\n",
       "      <td>None</td>\n",
       "      <td>12</td>\n",
       "      <td>2017-01-01T00:12:55.000</td>\n",
       "      <td>2017-01-01T00:04:02.000</td>\n",
       "      <td>5</td>\n",
       "      <td>None</td>\n",
       "      <td>None</td>\n",
       "    </tr>\n",
       "    <tr>\n",
       "      <th>3</th>\n",
       "      <td>None</td>\n",
       "      <td>None</td>\n",
       "      <td>10.5</td>\n",
       "      <td>2017-01-01T00:14:23.000</td>\n",
       "      <td>2017-01-01T00:01:40.000</td>\n",
       "      <td>1</td>\n",
       "      <td>None</td>\n",
       "      <td>None</td>\n",
       "    </tr>\n",
       "    <tr>\n",
       "      <th>4</th>\n",
       "      <td>None</td>\n",
       "      <td>None</td>\n",
       "      <td>11.5</td>\n",
       "      <td>2017-01-01T00:18:55.000</td>\n",
       "      <td>2017-01-01T00:00:51.000</td>\n",
       "      <td>1</td>\n",
       "      <td>None</td>\n",
       "      <td>None</td>\n",
       "    </tr>\n",
       "  </tbody>\n",
       "</table>\n",
       "</div>"
      ],
      "text/plain": [
       "  dropoff_latitude dropoff_longitude fare_amount    lpep_dropoff_datetime  \\\n",
       "0             None              None           9  2017-01-01T00:11:05.000   \n",
       "1             None              None         6.5  2017-01-01T00:09:00.000   \n",
       "2             None              None          12  2017-01-01T00:12:55.000   \n",
       "3             None              None        10.5  2017-01-01T00:14:23.000   \n",
       "4             None              None        11.5  2017-01-01T00:18:55.000   \n",
       "\n",
       "      lpep_pickup_datetime passenger_count pickup_latitude pickup_longitude  \n",
       "0  2017-01-01T00:01:15.000               1            None             None  \n",
       "1  2017-01-01T00:03:34.000               1            None             None  \n",
       "2  2017-01-01T00:04:02.000               5            None             None  \n",
       "3  2017-01-01T00:01:40.000               1            None             None  \n",
       "4  2017-01-01T00:00:51.000               1            None             None  "
      ]
     },
     "execution_count": 11,
     "metadata": {},
     "output_type": "execute_result"
    }
   ],
   "source": [
    "data = pd.read_parquet(data_raw_file)\n",
    "\n",
    "print('shape:', data.shape)\n",
    "print('columns:', data.columns)\n",
    "data.head()"
   ]
  },
  {
   "cell_type": "markdown",
   "metadata": {},
   "source": [
    "# Estatistica dos dados "
   ]
  },
  {
   "cell_type": "code",
   "execution_count": 12,
   "metadata": {},
   "outputs": [
    {
     "data": {
      "text/html": [
       "<div>\n",
       "<style scoped>\n",
       "    .dataframe tbody tr th:only-of-type {\n",
       "        vertical-align: middle;\n",
       "    }\n",
       "\n",
       "    .dataframe tbody tr th {\n",
       "        vertical-align: top;\n",
       "    }\n",
       "\n",
       "    .dataframe thead th {\n",
       "        text-align: right;\n",
       "    }\n",
       "</style>\n",
       "<table border=\"1\" class=\"dataframe\">\n",
       "  <thead>\n",
       "    <tr style=\"text-align: right;\">\n",
       "      <th></th>\n",
       "      <th>dropoff_latitude</th>\n",
       "      <th>dropoff_longitude</th>\n",
       "      <th>fare_amount</th>\n",
       "      <th>lpep_dropoff_datetime</th>\n",
       "      <th>lpep_pickup_datetime</th>\n",
       "      <th>passenger_count</th>\n",
       "      <th>pickup_latitude</th>\n",
       "      <th>pickup_longitude</th>\n",
       "    </tr>\n",
       "  </thead>\n",
       "  <tbody>\n",
       "    <tr>\n",
       "      <th>count</th>\n",
       "      <td>4000</td>\n",
       "      <td>4000</td>\n",
       "      <td>7000</td>\n",
       "      <td>7000</td>\n",
       "      <td>7000</td>\n",
       "      <td>7000</td>\n",
       "      <td>4000</td>\n",
       "      <td>4000</td>\n",
       "    </tr>\n",
       "    <tr>\n",
       "      <th>unique</th>\n",
       "      <td>3804</td>\n",
       "      <td>3579</td>\n",
       "      <td>120</td>\n",
       "      <td>5331</td>\n",
       "      <td>5482</td>\n",
       "      <td>6</td>\n",
       "      <td>3712</td>\n",
       "      <td>3377</td>\n",
       "    </tr>\n",
       "    <tr>\n",
       "      <th>top</th>\n",
       "      <td>0</td>\n",
       "      <td>0</td>\n",
       "      <td>5</td>\n",
       "      <td>2013-10-02T23:22:54.000</td>\n",
       "      <td>2013-10-02T23:17:00.000</td>\n",
       "      <td>1</td>\n",
       "      <td>0</td>\n",
       "      <td>0</td>\n",
       "    </tr>\n",
       "    <tr>\n",
       "      <th>freq</th>\n",
       "      <td>30</td>\n",
       "      <td>30</td>\n",
       "      <td>324</td>\n",
       "      <td>16</td>\n",
       "      <td>16</td>\n",
       "      <td>5737</td>\n",
       "      <td>31</td>\n",
       "      <td>31</td>\n",
       "    </tr>\n",
       "  </tbody>\n",
       "</table>\n",
       "</div>"
      ],
      "text/plain": [
       "       dropoff_latitude dropoff_longitude fare_amount  \\\n",
       "count              4000              4000        7000   \n",
       "unique             3804              3579         120   \n",
       "top                   0                 0           5   \n",
       "freq                 30                30         324   \n",
       "\n",
       "          lpep_dropoff_datetime     lpep_pickup_datetime passenger_count  \\\n",
       "count                      7000                     7000            7000   \n",
       "unique                     5331                     5482               6   \n",
       "top     2013-10-02T23:22:54.000  2013-10-02T23:17:00.000               1   \n",
       "freq                         16                       16            5737   \n",
       "\n",
       "       pickup_latitude pickup_longitude  \n",
       "count             4000             4000  \n",
       "unique            3712             3377  \n",
       "top                  0                0  \n",
       "freq                31               31  "
      ]
     },
     "execution_count": 12,
     "metadata": {},
     "output_type": "execute_result"
    }
   ],
   "source": [
    "data.describe()"
   ]
  },
  {
   "cell_type": "code",
   "execution_count": 13,
   "metadata": {},
   "outputs": [
    {
     "data": {
      "text/plain": [
       "dropoff_latitude         object\n",
       "dropoff_longitude        object\n",
       "fare_amount              object\n",
       "lpep_dropoff_datetime    object\n",
       "lpep_pickup_datetime     object\n",
       "passenger_count          object\n",
       "pickup_latitude          object\n",
       "pickup_longitude         object\n",
       "dtype: object"
      ]
     },
     "execution_count": 13,
     "metadata": {},
     "output_type": "execute_result"
    }
   ],
   "source": [
    "data.dtypes"
   ]
  },
  {
   "cell_type": "markdown",
   "metadata": {},
   "source": [
    "# Correção do tipo dos dados"
   ]
  },
  {
   "cell_type": "code",
   "execution_count": 14,
   "metadata": {},
   "outputs": [
    {
     "data": {
      "text/html": [
       "<div>\n",
       "<style scoped>\n",
       "    .dataframe tbody tr th:only-of-type {\n",
       "        vertical-align: middle;\n",
       "    }\n",
       "\n",
       "    .dataframe tbody tr th {\n",
       "        vertical-align: top;\n",
       "    }\n",
       "\n",
       "    .dataframe thead th {\n",
       "        text-align: right;\n",
       "    }\n",
       "</style>\n",
       "<table border=\"1\" class=\"dataframe\">\n",
       "  <thead>\n",
       "    <tr style=\"text-align: right;\">\n",
       "      <th></th>\n",
       "      <th>dropoff_latitude</th>\n",
       "      <th>dropoff_longitude</th>\n",
       "      <th>fare_amount</th>\n",
       "      <th>passenger_count</th>\n",
       "      <th>pickup_latitude</th>\n",
       "      <th>pickup_longitude</th>\n",
       "    </tr>\n",
       "  </thead>\n",
       "  <tbody>\n",
       "    <tr>\n",
       "      <th>count</th>\n",
       "      <td>4000.000000</td>\n",
       "      <td>4000.000000</td>\n",
       "      <td>7000.000000</td>\n",
       "      <td>7000.000000</td>\n",
       "      <td>4000.000000</td>\n",
       "      <td>4000.000000</td>\n",
       "    </tr>\n",
       "    <tr>\n",
       "      <th>mean</th>\n",
       "      <td>40.449147</td>\n",
       "      <td>-73.378270</td>\n",
       "      <td>12.313643</td>\n",
       "      <td>1.475571</td>\n",
       "      <td>40.441422</td>\n",
       "      <td>-73.360332</td>\n",
       "    </tr>\n",
       "    <tr>\n",
       "      <th>std</th>\n",
       "      <td>3.517141</td>\n",
       "      <td>6.379682</td>\n",
       "      <td>9.819976</td>\n",
       "      <td>1.202216</td>\n",
       "      <td>3.575008</td>\n",
       "      <td>6.484315</td>\n",
       "    </tr>\n",
       "    <tr>\n",
       "      <th>min</th>\n",
       "      <td>0.000000</td>\n",
       "      <td>-74.257263</td>\n",
       "      <td>-5.000000</td>\n",
       "      <td>1.000000</td>\n",
       "      <td>0.000000</td>\n",
       "      <td>-74.035309</td>\n",
       "    </tr>\n",
       "    <tr>\n",
       "      <th>25%</th>\n",
       "      <td>40.710144</td>\n",
       "      <td>-73.963024</td>\n",
       "      <td>6.500000</td>\n",
       "      <td>1.000000</td>\n",
       "      <td>40.710790</td>\n",
       "      <td>-73.957802</td>\n",
       "    </tr>\n",
       "    <tr>\n",
       "      <th>50%</th>\n",
       "      <td>40.752684</td>\n",
       "      <td>-73.941734</td>\n",
       "      <td>9.500000</td>\n",
       "      <td>1.000000</td>\n",
       "      <td>40.750307</td>\n",
       "      <td>-73.942280</td>\n",
       "    </tr>\n",
       "    <tr>\n",
       "      <th>75%</th>\n",
       "      <td>40.801377</td>\n",
       "      <td>-73.906876</td>\n",
       "      <td>15.500000</td>\n",
       "      <td>1.000000</td>\n",
       "      <td>40.805650</td>\n",
       "      <td>-73.912397</td>\n",
       "    </tr>\n",
       "    <tr>\n",
       "      <th>max</th>\n",
       "      <td>40.974236</td>\n",
       "      <td>0.000000</td>\n",
       "      <td>400.000000</td>\n",
       "      <td>6.000000</td>\n",
       "      <td>40.903797</td>\n",
       "      <td>0.000000</td>\n",
       "    </tr>\n",
       "  </tbody>\n",
       "</table>\n",
       "</div>"
      ],
      "text/plain": [
       "       dropoff_latitude  dropoff_longitude  fare_amount  passenger_count  \\\n",
       "count       4000.000000        4000.000000  7000.000000      7000.000000   \n",
       "mean          40.449147         -73.378270    12.313643         1.475571   \n",
       "std            3.517141           6.379682     9.819976         1.202216   \n",
       "min            0.000000         -74.257263    -5.000000         1.000000   \n",
       "25%           40.710144         -73.963024     6.500000         1.000000   \n",
       "50%           40.752684         -73.941734     9.500000         1.000000   \n",
       "75%           40.801377         -73.906876    15.500000         1.000000   \n",
       "max           40.974236           0.000000   400.000000         6.000000   \n",
       "\n",
       "       pickup_latitude  pickup_longitude  \n",
       "count      4000.000000       4000.000000  \n",
       "mean         40.441422        -73.360332  \n",
       "std           3.575008          6.484315  \n",
       "min           0.000000        -74.035309  \n",
       "25%          40.710790        -73.957802  \n",
       "50%          40.750307        -73.942280  \n",
       "75%          40.805650        -73.912397  \n",
       "max          40.903797          0.000000  "
      ]
     },
     "execution_count": 14,
     "metadata": {},
     "output_type": "execute_result"
    }
   ],
   "source": [
    "data['pickup_datetime'] = pd.to_datetime(data.lpep_pickup_datetime, format='%Y-%m-%d %H:%M:%S')\n",
    "data['dropoff_datetime'] = pd.to_datetime(data.lpep_dropoff_datetime, format='%Y-%m-%d %H:%M:%S')\n",
    "data.drop(['lpep_dropoff_datetime', 'lpep_pickup_datetime'], axis = 1, inplace = True)\n",
    "\n",
    "data_types = {\n",
    "    'fare_amount': float,\n",
    "    'pickup_latitude': float,\n",
    "    'pickup_longitude': float,\n",
    "    'dropoff_latitude': float,\n",
    "    'pickup_latitude': float,\n",
    "    'dropoff_longitude': float,  \n",
    "    'passenger_count': int\n",
    "}\n",
    "for cname, dtype in data_types.items():\n",
    "    if dtype == np.float32:\n",
    "        data.loc[data[cname].astype(str) == '',cname] = '0'\n",
    "    \n",
    "    data[cname] = data[cname].astype(dtype)\n",
    "    \n",
    "data.describe()"
   ]
  },
  {
   "cell_type": "code",
   "execution_count": 15,
   "metadata": {},
   "outputs": [
    {
     "data": {
      "text/plain": [
       "dropoff_latitude            float64\n",
       "dropoff_longitude           float64\n",
       "fare_amount                 float64\n",
       "passenger_count               int32\n",
       "pickup_latitude             float64\n",
       "pickup_longitude            float64\n",
       "pickup_datetime      datetime64[ns]\n",
       "dropoff_datetime     datetime64[ns]\n",
       "dtype: object"
      ]
     },
     "execution_count": 15,
     "metadata": {},
     "output_type": "execute_result"
    }
   ],
   "source": [
    "data.dtypes"
   ]
  },
  {
   "cell_type": "code",
   "execution_count": 16,
   "metadata": {},
   "outputs": [],
   "source": [
    "### Convertendo a distancia de milhas para kilometros"
   ]
  },
  {
   "cell_type": "markdown",
   "metadata": {},
   "source": [
    "# Verificar Valores Nulos"
   ]
  },
  {
   "cell_type": "code",
   "execution_count": 21,
   "metadata": {},
   "outputs": [
    {
     "data": {
      "text/plain": [
       "dropoff_latitude     3000\n",
       "dropoff_longitude    3000\n",
       "fare_amount             0\n",
       "passenger_count         0\n",
       "pickup_latitude      3000\n",
       "pickup_longitude     3000\n",
       "pickup_datetime         0\n",
       "dropoff_datetime        0\n",
       "dtype: int64"
      ]
     },
     "execution_count": 21,
     "metadata": {},
     "output_type": "execute_result"
    }
   ],
   "source": [
    "data.isna().sum()"
   ]
  },
  {
   "cell_type": "code",
   "execution_count": 62,
   "metadata": {},
   "outputs": [],
   "source": [
    "data.dropna(inplace = True)\n",
    "data.drop(['dropoff_datetime'], axis = 1, inplace = True)"
   ]
  },
  {
   "cell_type": "code",
   "execution_count": 63,
   "metadata": {},
   "outputs": [
    {
     "data": {
      "text/plain": [
       "dropoff_latitude     0\n",
       "dropoff_longitude    0\n",
       "fare_amount          0\n",
       "passenger_count      0\n",
       "pickup_latitude      0\n",
       "pickup_longitude     0\n",
       "pickup_datetime      0\n",
       "dtype: int64"
      ]
     },
     "execution_count": 63,
     "metadata": {},
     "output_type": "execute_result"
    }
   ],
   "source": [
    "data.isna().sum()"
   ]
  },
  {
   "cell_type": "code",
   "execution_count": 64,
   "metadata": {},
   "outputs": [
    {
     "data": {
      "text/plain": [
       "(3942, 7)"
      ]
     },
     "execution_count": 64,
     "metadata": {},
     "output_type": "execute_result"
    }
   ],
   "source": [
    "data.shape"
   ]
  },
  {
   "cell_type": "markdown",
   "metadata": {},
   "source": [
    "# Variável Alvo "
   ]
  },
  {
   "cell_type": "code",
   "execution_count": 65,
   "metadata": {},
   "outputs": [
    {
     "data": {
      "text/plain": [
       "fare_amount\n",
       "99.5    99.5\n",
       "96.0    96.0\n",
       "76.0    76.0\n",
       "71.5    71.5\n",
       "67.5    67.5\n",
       "65.5    65.5\n",
       "64.5    64.5\n",
       "60.0    60.0\n",
       "58.0    58.0\n",
       "56.0    56.0\n",
       "Name: fare_amount, dtype: float64"
      ]
     },
     "execution_count": 65,
     "metadata": {},
     "output_type": "execute_result"
    }
   ],
   "source": [
    "data.groupby('fare_amount').fare_amount.last().sort_values(ascending=False).head(10)"
   ]
  },
  {
   "cell_type": "markdown",
   "metadata": {},
   "source": [
    "## Verificação das Variáveis"
   ]
  },
  {
   "cell_type": "markdown",
   "metadata": {},
   "source": [
    "#### pickup_datetime"
   ]
  },
  {
   "cell_type": "code",
   "execution_count": 66,
   "metadata": {},
   "outputs": [
    {
     "data": {
      "text/plain": [
       "count                    3942\n",
       "unique                   3695\n",
       "top       2016-01-01 00:36:32\n",
       "freq                        6\n",
       "first     2013-08-10 23:24:06\n",
       "last      2016-01-01 00:47:54\n",
       "Name: pickup_datetime, dtype: object"
      ]
     },
     "execution_count": 66,
     "metadata": {},
     "output_type": "execute_result"
    }
   ],
   "source": [
    "data['pickup_datetime'].describe()"
   ]
  },
  {
   "cell_type": "markdown",
   "metadata": {},
   "source": [
    "Plotando um histograma para verificar a distribuição"
   ]
  },
  {
   "cell_type": "code",
   "execution_count": 67,
   "metadata": {},
   "outputs": [
    {
     "data": {
      "image/png": "[encoded data removed]",
      "text/plain": [
       "<Figure size 432x288 with 1 Axes>"
      ]
     },
     "metadata": {},
     "output_type": "display_data"
    }
   ],
   "source": [
    "plt.hist(data['pickup_datetime'], bins = 100);"
   ]
  },
  {
   "cell_type": "markdown",
   "metadata": {},
   "source": [
    "### Coordenadas\n",
    "\n",
    "#### `pickup_longitude`"
   ]
  },
  {
   "cell_type": "code",
   "execution_count": 68,
   "metadata": {},
   "outputs": [
    {
     "data": {
      "text/plain": [
       "count    3942.000000\n",
       "mean      -73.933483\n",
       "std         0.039888\n",
       "min       -74.035309\n",
       "25%       -73.957874\n",
       "50%       -73.942692\n",
       "75%       -73.913881\n",
       "max       -73.781517\n",
       "Name: pickup_longitude, dtype: float64"
      ]
     },
     "execution_count": 68,
     "metadata": {},
     "output_type": "execute_result"
    }
   ],
   "source": [
    "plon = data['pickup_longitude']\n",
    "plon.describe()"
   ]
  },
  {
   "cell_type": "code",
   "execution_count": 69,
   "metadata": {},
   "outputs": [
    {
     "data": {
      "image/png": "[encoded data removed]",
      "text/plain": [
       "<Figure size 432x288 with 1 Axes>"
      ]
     },
     "metadata": {},
     "output_type": "display_data"
    }
   ],
   "source": [
    "plt.hist(plon, bins = 100);"
   ]
  },
  {
   "cell_type": "code",
   "execution_count": 70,
   "metadata": {},
   "outputs": [
    {
     "data": {
      "text/plain": [
       "-73.94269180297852"
      ]
     },
     "execution_count": 70,
     "metadata": {},
     "output_type": "execute_result"
    }
   ],
   "source": [
    "plon.median()"
   ]
  },
  {
   "cell_type": "code",
   "execution_count": 71,
   "metadata": {},
   "outputs": [
    {
     "data": {
      "image/png": "[encoded data removed]",
      "text/plain": [
       "<Figure size 432x288 with 1 Axes>"
      ]
     },
     "metadata": {},
     "output_type": "display_data"
    }
   ],
   "source": [
    "plt.hist(plon[(plon > plon.median() - 1.5) & (plon < plon.median() + 1.5)], bins = 100);"
   ]
  },
  {
   "cell_type": "markdown",
   "metadata": {},
   "source": [
    "Criando uma condição para pegar somente as coordenadas dentro do intervalo do zoom."
   ]
  },
  {
   "cell_type": "code",
   "execution_count": 72,
   "metadata": {},
   "outputs": [],
   "source": [
    "plon_val = (plon > plon.median() - 0.5) & (plon < plon.median() + 0.5)"
   ]
  },
  {
   "cell_type": "code",
   "execution_count": 73,
   "metadata": {},
   "outputs": [
    {
     "data": {
      "text/plain": [
       "True    3942\n",
       "Name: pickup_longitude, dtype: int64"
      ]
     },
     "execution_count": 73,
     "metadata": {},
     "output_type": "execute_result"
    }
   ],
   "source": [
    "plon_val.value_counts()"
   ]
  },
  {
   "cell_type": "code",
   "execution_count": 74,
   "metadata": {},
   "outputs": [
    {
     "name": "stdout",
     "output_type": "stream",
     "text": [
      "True    3942\n",
      "Name: pickup_longitude, dtype: int64 \n",
      " True    1.0\n",
      "Name: pickup_longitude, dtype: float64\n"
     ]
    }
   ],
   "source": [
    "print(plon_val.value_counts(), '\\n', plon_val.value_counts(normalize = True))"
   ]
  },
  {
   "cell_type": "markdown",
   "metadata": {},
   "source": [
    "Podemos verificar que os valores 'outliers' representam 1.7% da base, então poderemos remove-los sem impactar nossa analise"
   ]
  },
  {
   "cell_type": "markdown",
   "metadata": {},
   "source": [
    "#### pickup_latitude\n"
   ]
  },
  {
   "cell_type": "code",
   "execution_count": 75,
   "metadata": {},
   "outputs": [
    {
     "data": {
      "text/plain": [
       "count    3942.000000\n",
       "mean       40.757171\n",
       "std         0.057634\n",
       "min        40.575535\n",
       "25%        40.711871\n",
       "50%        40.750870\n",
       "75%        40.805726\n",
       "max        40.903797\n",
       "Name: pickup_latitude, dtype: float64"
      ]
     },
     "execution_count": 75,
     "metadata": {},
     "output_type": "execute_result"
    }
   ],
   "source": [
    "plat = data['pickup_latitude']\n",
    "plat.describe()"
   ]
  },
  {
   "cell_type": "code",
   "execution_count": 76,
   "metadata": {},
   "outputs": [
    {
     "data": {
      "image/png": "[encoded data removed]",
      "text/plain": [
       "<Figure size 432x288 with 1 Axes>"
      ]
     },
     "metadata": {},
     "output_type": "display_data"
    }
   ],
   "source": [
    "plt.hist(plat, bins = 100);"
   ]
  },
  {
   "cell_type": "code",
   "execution_count": 77,
   "metadata": {},
   "outputs": [
    {
     "data": {
      "image/png": "[encoded data removed]",
      "text/plain": [
       "<Figure size 432x288 with 1 Axes>"
      ]
     },
     "metadata": {},
     "output_type": "display_data"
    }
   ],
   "source": [
    "plt.hist(plat[(plat > plat.median() - 2.5) & (plat < plat.median() + 2.5)], bins = 100);"
   ]
  },
  {
   "cell_type": "code",
   "execution_count": 78,
   "metadata": {},
   "outputs": [
    {
     "name": "stdout",
     "output_type": "stream",
     "text": [
      "True    3942\n",
      "Name: pickup_latitude, dtype: int64 \n",
      " True    1.0\n",
      "Name: pickup_latitude, dtype: float64\n"
     ]
    }
   ],
   "source": [
    "plat_val = (plat > plat.median() - 0.5) & (plat < plat.median() + 0.5)\n",
    "print(plat_val.value_counts(), '\\n', plat_val.value_counts(normalize = True))"
   ]
  },
  {
   "cell_type": "markdown",
   "metadata": {},
   "source": [
    "#### dropoff_longitude"
   ]
  },
  {
   "cell_type": "code",
   "execution_count": 79,
   "metadata": {},
   "outputs": [
    {
     "data": {
      "text/plain": [
       "count    3942.000000\n",
       "mean      -73.932997\n",
       "std         0.047259\n",
       "min       -74.257263\n",
       "25%       -73.963221\n",
       "50%       -73.942089\n",
       "75%       -73.908369\n",
       "max       -73.689034\n",
       "Name: dropoff_longitude, dtype: float64"
      ]
     },
     "execution_count": 79,
     "metadata": {},
     "output_type": "execute_result"
    }
   ],
   "source": [
    "dlon = data['dropoff_longitude']\n",
    "dlon.describe()"
   ]
  },
  {
   "cell_type": "code",
   "execution_count": 80,
   "metadata": {},
   "outputs": [
    {
     "data": {
      "image/png": "[encoded data removed]",
      "text/plain": [
       "<Figure size 1080x360 with 2 Axes>"
      ]
     },
     "metadata": {},
     "output_type": "display_data"
    }
   ],
   "source": [
    "fig, ax = plt.subplots(1, 2, figsize = (15, 5))\n",
    "ax[0].hist(dlon, bins = 100)\n",
    "ax[1].hist(dlon[(dlon > dlon.median() - 2.5) & (dlon < dlon.median() + 2.5)], bins = 100);"
   ]
  },
  {
   "cell_type": "code",
   "execution_count": 81,
   "metadata": {},
   "outputs": [
    {
     "name": "stdout",
     "output_type": "stream",
     "text": [
      "True    3942\n",
      "Name: dropoff_longitude, dtype: int64 \n",
      " True    1.0\n",
      "Name: dropoff_longitude, dtype: float64\n"
     ]
    }
   ],
   "source": [
    "dlon_val = (dlon > dlon.median() - 0.5) & (dlon < dlon.median() + 0.5)\n",
    "print(dlon_val.value_counts(), '\\n', dlon_val.value_counts(normalize = True))"
   ]
  },
  {
   "cell_type": "markdown",
   "metadata": {},
   "source": [
    "#### dropoff_latitude\n"
   ]
  },
  {
   "cell_type": "code",
   "execution_count": 82,
   "metadata": {},
   "outputs": [
    {
     "data": {
      "text/plain": [
       "count    3942.000000\n",
       "mean       40.754632\n",
       "std         0.058985\n",
       "min        40.576553\n",
       "25%        40.710999\n",
       "50%        40.752859\n",
       "75%        40.801432\n",
       "max        40.974236\n",
       "Name: dropoff_latitude, dtype: float64"
      ]
     },
     "execution_count": 82,
     "metadata": {},
     "output_type": "execute_result"
    }
   ],
   "source": [
    "dlat = data['dropoff_latitude']\n",
    "dlat.describe()"
   ]
  },
  {
   "cell_type": "code",
   "execution_count": 83,
   "metadata": {},
   "outputs": [
    {
     "data": {
      "image/png": "[encoded data removed]",
      "text/plain": [
       "<Figure size 1080x360 with 2 Axes>"
      ]
     },
     "metadata": {},
     "output_type": "display_data"
    }
   ],
   "source": [
    "fig, ax = plt.subplots(1, 2, figsize = (15, 5))\n",
    "ax[0].hist(dlat, bins = 100)\n",
    "ax[1].hist(dlat[(dlat > dlat.median() - 2.5) & (dlat < dlat.median() + 2.5)], bins = 100);"
   ]
  },
  {
   "cell_type": "code",
   "execution_count": 84,
   "metadata": {},
   "outputs": [
    {
     "name": "stdout",
     "output_type": "stream",
     "text": [
      "True    3942\n",
      "Name: dropoff_latitude, dtype: int64 \n",
      " True    1.0\n",
      "Name: dropoff_latitude, dtype: float64\n"
     ]
    }
   ],
   "source": [
    "dlat_val = (dlat > dlat.median() - 0.5) & (dlat < dlat.median() + 0.5)\n",
    "print(dlat_val.value_counts(), '\\n', dlat_val.value_counts(normalize = True))"
   ]
  },
  {
   "cell_type": "code",
   "execution_count": 85,
   "metadata": {},
   "outputs": [
    {
     "data": {
      "image/png": "[encoded data removed]",
      "text/plain": [
       "<Figure size 1080x360 with 8 Axes>"
      ]
     },
     "metadata": {},
     "output_type": "display_data"
    }
   ],
   "source": [
    "fig, ax = plt.subplots(4, 2, figsize = (15, 5))\n",
    "ax[0,0].hist(plat, bins = 100)\n",
    "ax[0,1].hist(plat[(plat > plat.median() - 2.5) & (plat < plat.median() + 2.5)], bins = 100);\n",
    "ax[1,0].hist(plon, bins = 100)\n",
    "ax[1,1].hist(plon[(plon > plon.median() - 2.5) & (plon < plon.median() + 2.5)], bins = 100);\n",
    "ax[2,0].hist(dlat, bins = 100)\n",
    "ax[2,1].hist(dlat[(dlat > dlat.median() - 2.5) & (dlat < dlat.median() + 2.5)], bins = 100);\n",
    "ax[3,0].hist(dlon, bins = 100)\n",
    "ax[3,1].hist(dlon[(dlon > dlon.median() - 2.5) & (dlon < dlon.median() + 2.5)], bins = 100);"
   ]
  },
  {
   "cell_type": "markdown",
   "metadata": {},
   "source": [
    "### Inteiros\n",
    "\n",
    "#### `passenger_count`"
   ]
  },
  {
   "cell_type": "code",
   "execution_count": 86,
   "metadata": {},
   "outputs": [
    {
     "data": {
      "text/plain": [
       "count    3942.000000\n",
       "mean        1.457636\n",
       "std         1.166915\n",
       "min         1.000000\n",
       "25%         1.000000\n",
       "50%         1.000000\n",
       "75%         1.000000\n",
       "max         6.000000\n",
       "Name: passenger_count, dtype: float64"
      ]
     },
     "execution_count": 86,
     "metadata": {},
     "output_type": "execute_result"
    }
   ],
   "source": [
    "pcnt = data['passenger_count']\n",
    "pcnt.describe()"
   ]
  },
  {
   "cell_type": "markdown",
   "metadata": {},
   "source": [
    "Verificar quantos valores igual a zero e a média deles"
   ]
  },
  {
   "cell_type": "code",
   "execution_count": 87,
   "metadata": {},
   "outputs": [
    {
     "name": "stdout",
     "output_type": "stream",
     "text": [
      "0 0.0\n"
     ]
    }
   ],
   "source": [
    "print((pcnt == 0).sum(), (pcnt == 0).mean())"
   ]
  },
  {
   "cell_type": "code",
   "execution_count": 88,
   "metadata": {},
   "outputs": [
    {
     "data": {
      "image/png": "[encoded data removed]",
      "text/plain": [
       "<Figure size 432x288 with 1 Axes>"
      ]
     },
     "metadata": {},
     "output_type": "display_data"
    }
   ],
   "source": [
    "plt.hist(pcnt, bins = 100);"
   ]
  },
  {
   "cell_type": "code",
   "execution_count": 89,
   "metadata": {},
   "outputs": [
    {
     "name": "stdout",
     "output_type": "stream",
     "text": [
      "True    3942\n",
      "Name: passenger_count, dtype: int64 \n",
      " True    1.0\n",
      "Name: passenger_count, dtype: float64\n"
     ]
    }
   ],
   "source": [
    "pcnt_val = (pcnt >= 1) & (pcnt <= 6)\n",
    "print(pcnt_val.value_counts(), '\\n', pcnt_val.value_counts(normalize = True))"
   ]
  },
  {
   "cell_type": "markdown",
   "metadata": {},
   "source": [
    "### Floats\n",
    "\n",
    "#### `fare_amount`"
   ]
  },
  {
   "cell_type": "code",
   "execution_count": 90,
   "metadata": {},
   "outputs": [
    {
     "data": {
      "text/plain": [
       "count    3942.000000\n",
       "mean       12.150736\n",
       "std         8.405955\n",
       "min         2.500000\n",
       "25%         6.500000\n",
       "50%         9.500000\n",
       "75%        15.500000\n",
       "max        99.500000\n",
       "Name: fare_amount, dtype: float64"
      ]
     },
     "execution_count": 90,
     "metadata": {},
     "output_type": "execute_result"
    }
   ],
   "source": [
    "fare = data['fare_amount']\n",
    "fare.describe()"
   ]
  },
  {
   "cell_type": "code",
   "execution_count": 91,
   "metadata": {},
   "outputs": [
    {
     "data": {
      "image/png": "[encoded data removed]",
      "text/plain": [
       "<Figure size 432x288 with 1 Axes>"
      ]
     },
     "metadata": {},
     "output_type": "display_data"
    }
   ],
   "source": [
    "plt.hist(fare, bins = 100);"
   ]
  },
  {
   "cell_type": "code",
   "execution_count": 92,
   "metadata": {},
   "outputs": [
    {
     "data": {
      "image/png": "[encoded data removed]",
      "text/plain": [
       "<Figure size 432x288 with 1 Axes>"
      ]
     },
     "metadata": {},
     "output_type": "display_data"
    }
   ],
   "source": [
    "plt.hist(fare[fare < 10], bins = 100);"
   ]
  },
  {
   "cell_type": "code",
   "execution_count": 93,
   "metadata": {},
   "outputs": [
    {
     "data": {
      "image/png": "[encoded data removed]",
      "text/plain": [
       "<Figure size 432x288 with 1 Axes>"
      ]
     },
     "metadata": {},
     "output_type": "display_data"
    }
   ],
   "source": [
    "plt.hist(fare[fare > 50], bins = 100);"
   ]
  },
  {
   "cell_type": "markdown",
   "metadata": {},
   "source": [
    "Removendo os outliers"
   ]
  },
  {
   "cell_type": "code",
   "execution_count": 94,
   "metadata": {},
   "outputs": [
    {
     "name": "stdout",
     "output_type": "stream",
     "text": [
      "True    3942\n",
      "Name: fare_amount, dtype: int64 \n",
      " True    1.0\n",
      "Name: fare_amount, dtype: float64\n"
     ]
    }
   ],
   "source": [
    "fare_val = (fare > 2) & (fare < 150)\n",
    "print(fare_val.value_counts(), '\\n', fare_val.value_counts(normalize = True))"
   ]
  },
  {
   "cell_type": "markdown",
   "metadata": {},
   "source": [
    "Unindo todas as analises realizadas para exclusão dos registros em lote"
   ]
  },
  {
   "cell_type": "code",
   "execution_count": 95,
   "metadata": {},
   "outputs": [],
   "source": [
    "val_entries = fare_val & plon_val & plat_val & dlon_val & dlat_val & pcnt_val"
   ]
  },
  {
   "cell_type": "code",
   "execution_count": 96,
   "metadata": {},
   "outputs": [
    {
     "name": "stdout",
     "output_type": "stream",
     "text": [
      "True    3942\n",
      "dtype: int64 \n",
      " True    1.0\n",
      "dtype: float64\n"
     ]
    }
   ],
   "source": [
    "print(val_entries.value_counts(), '\\n', val_entries.value_counts(normalize = True))"
   ]
  },
  {
   "cell_type": "markdown",
   "metadata": {},
   "source": [
    "POdemos verificar que os registros inconsistentes representam 2.2% da nossa base, então não teremos tanto impacto para remove-los"
   ]
  },
  {
   "cell_type": "code",
   "execution_count": 97,
   "metadata": {},
   "outputs": [],
   "source": [
    "data = data.drop(val_entries[val_entries == False].index)"
   ]
  },
  {
   "cell_type": "code",
   "execution_count": 98,
   "metadata": {},
   "outputs": [
    {
     "data": {
      "text/html": [
       "<div>\n",
       "<style scoped>\n",
       "    .dataframe tbody tr th:only-of-type {\n",
       "        vertical-align: middle;\n",
       "    }\n",
       "\n",
       "    .dataframe tbody tr th {\n",
       "        vertical-align: top;\n",
       "    }\n",
       "\n",
       "    .dataframe thead th {\n",
       "        text-align: right;\n",
       "    }\n",
       "</style>\n",
       "<table border=\"1\" class=\"dataframe\">\n",
       "  <thead>\n",
       "    <tr style=\"text-align: right;\">\n",
       "      <th></th>\n",
       "      <th>dropoff_latitude</th>\n",
       "      <th>dropoff_longitude</th>\n",
       "      <th>fare_amount</th>\n",
       "      <th>passenger_count</th>\n",
       "      <th>pickup_latitude</th>\n",
       "      <th>pickup_longitude</th>\n",
       "      <th>pickup_datetime</th>\n",
       "    </tr>\n",
       "  </thead>\n",
       "  <tbody>\n",
       "    <tr>\n",
       "      <th>3000</th>\n",
       "      <td>40.698044</td>\n",
       "      <td>-73.924278</td>\n",
       "      <td>8.0</td>\n",
       "      <td>1</td>\n",
       "      <td>40.680611</td>\n",
       "      <td>-73.928642</td>\n",
       "      <td>2016-01-01 00:29:24</td>\n",
       "    </tr>\n",
       "    <tr>\n",
       "      <th>3001</th>\n",
       "      <td>40.761379</td>\n",
       "      <td>-73.923920</td>\n",
       "      <td>15.5</td>\n",
       "      <td>1</td>\n",
       "      <td>40.723175</td>\n",
       "      <td>-73.952675</td>\n",
       "      <td>2016-01-01 00:19:39</td>\n",
       "    </tr>\n",
       "    <tr>\n",
       "      <th>3002</th>\n",
       "      <td>40.646072</td>\n",
       "      <td>-74.013161</td>\n",
       "      <td>16.5</td>\n",
       "      <td>1</td>\n",
       "      <td>40.676105</td>\n",
       "      <td>-73.971611</td>\n",
       "      <td>2016-01-01 00:19:33</td>\n",
       "    </tr>\n",
       "    <tr>\n",
       "      <th>3003</th>\n",
       "      <td>40.689034</td>\n",
       "      <td>-74.000648</td>\n",
       "      <td>13.5</td>\n",
       "      <td>1</td>\n",
       "      <td>40.669579</td>\n",
       "      <td>-73.989502</td>\n",
       "      <td>2016-01-01 00:22:12</td>\n",
       "    </tr>\n",
       "    <tr>\n",
       "      <th>3004</th>\n",
       "      <td>40.663013</td>\n",
       "      <td>-73.940720</td>\n",
       "      <td>12.0</td>\n",
       "      <td>1</td>\n",
       "      <td>40.682854</td>\n",
       "      <td>-73.964729</td>\n",
       "      <td>2016-01-01 00:24:01</td>\n",
       "    </tr>\n",
       "  </tbody>\n",
       "</table>\n",
       "</div>"
      ],
      "text/plain": [
       "      dropoff_latitude  dropoff_longitude  fare_amount  passenger_count  \\\n",
       "3000         40.698044         -73.924278          8.0                1   \n",
       "3001         40.761379         -73.923920         15.5                1   \n",
       "3002         40.646072         -74.013161         16.5                1   \n",
       "3003         40.689034         -74.000648         13.5                1   \n",
       "3004         40.663013         -73.940720         12.0                1   \n",
       "\n",
       "      pickup_latitude  pickup_longitude     pickup_datetime  \n",
       "3000        40.680611        -73.928642 2016-01-01 00:29:24  \n",
       "3001        40.723175        -73.952675 2016-01-01 00:19:39  \n",
       "3002        40.676105        -73.971611 2016-01-01 00:19:33  \n",
       "3003        40.669579        -73.989502 2016-01-01 00:22:12  \n",
       "3004        40.682854        -73.964729 2016-01-01 00:24:01  "
      ]
     },
     "execution_count": 98,
     "metadata": {},
     "output_type": "execute_result"
    }
   ],
   "source": [
    "data.head()"
   ]
  },
  {
   "cell_type": "code",
   "execution_count": 99,
   "metadata": {},
   "outputs": [
    {
     "data": {
      "text/plain": [
       "(3942, 7)"
      ]
     },
     "execution_count": 99,
     "metadata": {},
     "output_type": "execute_result"
    }
   ],
   "source": [
    "data.shape"
   ]
  },
  {
   "cell_type": "markdown",
   "metadata": {},
   "source": [
    "# Exportar Base de Dados "
   ]
  },
  {
   "cell_type": "code",
   "execution_count": 100,
   "metadata": {},
   "outputs": [],
   "source": [
    "data.to_parquet(data_proc_file)"
   ]
  }
 ],
 "metadata": {
  "kernelspec": {
   "display_name": "Python 3",
   "language": "python",
   "name": "python3"
  },
  "language_info": {
   "codemirror_mode": {
    "name": "ipython",
    "version": 3
   },
   "file_extension": ".py",
   "mimetype": "text/x-python",
   "name": "python",
   "nbconvert_exporter": "python",
   "pygments_lexer": "ipython3",
   "version": "3.8.3"
  }
 },
 "nbformat": 4,
 "nbformat_minor": 4
}
