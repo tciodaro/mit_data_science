{
 "cells": [
  {
   "cell_type": "code",
   "execution_count": 1,
   "metadata": {},
   "outputs": [],
   "source": [
    "import pandas as  pd\n",
    "import snappy\n",
    "import numpy as np\n"
   ]
  },
  {
   "cell_type": "markdown",
   "metadata": {},
   "source": [
    "### <span style=\"color:#DC143C\">**1. Diretórios Mapeados**</span>"
   ]
  },
  {
   "cell_type": "code",
   "execution_count": 2,
   "metadata": {},
   "outputs": [],
   "source": [
    "source_file = '../../Data/Raw/dados_treinoteste.csv'\n",
    "save_file = '../../Data/Processed/dados_treinoteste.parquet'\n"
   ]
  },
  {
   "cell_type": "markdown",
   "metadata": {},
   "source": [
    "### <span style=\"color:#DC143C\">**2.Transferência Dados para DataFrame**</span>"
   ]
  },
  {
   "cell_type": "code",
   "execution_count": 3,
   "metadata": {},
   "outputs": [],
   "source": [
    "dataframe = pd.read_csv(source_file, sep='|',encoding = \"utf-8\")"
   ]
  },
  {
   "cell_type": "markdown",
   "metadata": {},
   "source": [
    "#### <span style=\"color:#4B0082\">**2.1 Formato do DataFrame**</span>"
   ]
  },
  {
   "cell_type": "code",
   "execution_count": 4,
   "metadata": {},
   "outputs": [
    {
     "name": "stdout",
     "output_type": "stream",
     "text": [
      "shape: (22718, 4)\n",
      "columns: Index(['id', 'din_solicitacao', 'dsc_texto', 'tip_supreal'], dtype='object')\n"
     ]
    }
   ],
   "source": [
    "if (dataframe.empty) :\n",
    "    print('DATAFRAME VAZIO')\n",
    "else:\n",
    "  print('shape:', dataframe.shape)\n",
    "  print('columns:', dataframe.columns)\n",
    "   "
   ]
  },
  {
   "cell_type": "markdown",
   "metadata": {},
   "source": [
    "#### <span style=\"color:#4B0082\">**2.2 Remover Colunas \"Não Úteis\" para Modelo**</span>"
   ]
  },
  {
   "cell_type": "code",
   "execution_count": 5,
   "metadata": {},
   "outputs": [],
   "source": [
    "dataframe = dataframe.drop(columns=['id','din_solicitacao'])\n",
    "#print('columns:', dataframe.columns)"
   ]
  },
  {
   "cell_type": "markdown",
   "metadata": {},
   "source": [
    "#### <span style=\"color:#4B0082\">**2.3 Quantidade de valores não nulos**</span>"
   ]
  },
  {
   "cell_type": "code",
   "execution_count": 6,
   "metadata": {},
   "outputs": [
    {
     "data": {
      "text/plain": [
       "dsc_texto      22718\n",
       "tip_supreal    22717\n",
       "dtype: int64"
      ]
     },
     "execution_count": 6,
     "metadata": {},
     "output_type": "execute_result"
    }
   ],
   "source": [
    "dataframe.count()\n"
   ]
  },
  {
   "cell_type": "markdown",
   "metadata": {},
   "source": [
    "#### <span style=\"color:#4B0082\">**2.4  Valores nulos**</span>"
   ]
  },
  {
   "cell_type": "code",
   "execution_count": 7,
   "metadata": {},
   "outputs": [
    {
     "data": {
      "text/plain": [
       "dsc_texto      0\n",
       "tip_supreal    1\n",
       "dtype: int64"
      ]
     },
     "execution_count": 7,
     "metadata": {},
     "output_type": "execute_result"
    }
   ],
   "source": [
    "dataframe.isnull().sum()\n"
   ]
  },
  {
   "cell_type": "markdown",
   "metadata": {},
   "source": [
    "### <span style=\"color:#DC143C\">**3.Tratamento de Dados no DataFrame**</span>"
   ]
  },
  {
   "cell_type": "markdown",
   "metadata": {},
   "source": [
    "#### <span style=\"color:#4B0082\">**3.1 Remover linhas com valores null em qualquer coluna**</span>"
   ]
  },
  {
   "cell_type": "code",
   "execution_count": 8,
   "metadata": {},
   "outputs": [
    {
     "data": {
      "text/plain": [
       "dsc_texto      0\n",
       "tip_supreal    0\n",
       "dtype: int64"
      ]
     },
     "execution_count": 8,
     "metadata": {},
     "output_type": "execute_result"
    }
   ],
   "source": [
    "#dataframe=dataframe.dropna(subset=['TEXTO'])\n",
    "dataframe = dataframe.dropna()\n",
    "dataframe.isnull().sum()\n"
   ]
  },
  {
   "cell_type": "markdown",
   "metadata": {},
   "source": [
    "#### <span style=\"color:#4B0082\">**3.2 Remover duplicatas** </span>"
   ]
  },
  {
   "cell_type": "code",
   "execution_count": 9,
   "metadata": {},
   "outputs": [],
   "source": [
    "dataframe = dataframe.drop_duplicates()\n"
   ]
  },
  {
   "cell_type": "markdown",
   "metadata": {},
   "source": [
    "### <span style=\"color:#DC143C\">**4.Tratamento de Caracteres**</span>"
   ]
  },
  {
   "cell_type": "markdown",
   "metadata": {},
   "source": [
    "#### <span style=\"color:#4B0082\">**4.1 UPPER - Letras minusculas** </span>"
   ]
  },
  {
   "cell_type": "code",
   "execution_count": 10,
   "metadata": {},
   "outputs": [],
   "source": [
    "dataframe['dsc_texto'] = dataframe['dsc_texto'].str.lower()"
   ]
  },
  {
   "cell_type": "code",
   "execution_count": 11,
   "metadata": {},
   "outputs": [],
   "source": [
    "dataframe['tip_supreal'] = dataframe['tip_supreal'].str.lower()"
   ]
  },
  {
   "cell_type": "markdown",
   "metadata": {},
   "source": [
    "#### <span style=\"color:#4B0082\">**4.2 Substuir o caracteres \"Indesejados\" por espaços**</span>"
   ]
  },
  {
   "cell_type": "code",
   "execution_count": 12,
   "metadata": {},
   "outputs": [],
   "source": [
    "dataframe['dsc_texto'] = dataframe['dsc_texto'].str.replace(r'[^\\w\\s]+', ' ')\n",
    "dataframe['dsc_texto'] = dataframe['dsc_texto'].str.replace(r'º',' ')\n",
    "dataframe['dsc_texto'] = dataframe['dsc_texto'].str.replace(r'ª',' ')\n",
    "dataframe['dsc_texto'] = dataframe['dsc_texto'].str.replace(r'²',' ')\n",
    "dataframe['dsc_texto'] = dataframe['dsc_texto'].str.replace(r'°',' ')\n",
    "dataframe['dsc_texto'] = dataframe['dsc_texto'].str.replace(r'à','a')\n",
    "dataframe['dsc_texto'] = dataframe['dsc_texto'].str.replace(r'ã','a')\n",
    "dataframe['dsc_texto'] = dataframe['dsc_texto'].str.replace(r'á','a')\n",
    "dataframe['dsc_texto'] = dataframe['dsc_texto'].str.replace(r'â','a')\n",
    "dataframe['dsc_texto'] = dataframe['dsc_texto'].str.replace(r'é','e')\n",
    "dataframe['dsc_texto'] = dataframe['dsc_texto'].str.replace(r'ê','e')\n",
    "dataframe['dsc_texto'] = dataframe['dsc_texto'].str.replace(r'í','i')\n",
    "dataframe['dsc_texto'] = dataframe['dsc_texto'].str.replace(r'ì','i')\n",
    "dataframe['dsc_texto'] = dataframe['dsc_texto'].str.replace(r'ó','o')\n",
    "dataframe['dsc_texto'] = dataframe['dsc_texto'].str.replace(r'ô','o')\n",
    "dataframe['dsc_texto'] = dataframe['dsc_texto'].str.replace(r'õ','o')\n",
    "dataframe['dsc_texto'] = dataframe['dsc_texto'].str.replace(r'ú','u')\n",
    "dataframe['dsc_texto'] = dataframe['dsc_texto'].str.replace(r'ü','u')\n",
    "dataframe['dsc_texto'] = dataframe['dsc_texto'].str.replace(r'ç','c')\n",
    "dataframe['dsc_texto'] = dataframe['dsc_texto'].str.replace(r'1',' ')\n",
    "dataframe['dsc_texto'] = dataframe['dsc_texto'].str.replace(r'2',' ')\n",
    "dataframe['dsc_texto'] = dataframe['dsc_texto'].str.replace(r'3',' ')\n",
    "dataframe['dsc_texto'] = dataframe['dsc_texto'].str.replace(r'4',' ')\n",
    "dataframe['dsc_texto'] = dataframe['dsc_texto'].str.replace(r'5',' ')\n",
    "dataframe['dsc_texto'] = dataframe['dsc_texto'].str.replace(r'6',' ')\n",
    "dataframe['dsc_texto'] = dataframe['dsc_texto'].str.replace(r'7',' ')\n",
    "dataframe['dsc_texto'] = dataframe['dsc_texto'].str.replace(r'8',' ')\n",
    "dataframe['dsc_texto'] = dataframe['dsc_texto'].str.replace(r'9',' ')\n",
    "dataframe['dsc_texto'] = dataframe['dsc_texto'].str.replace(r'0',' ')\n"
   ]
  },
  {
   "cell_type": "markdown",
   "metadata": {},
   "source": [
    "#### <span style=\"color:#4B0082\">**4.3 \"Visão\" dos dados do Dataframe**</span>"
   ]
  },
  {
   "cell_type": "code",
   "execution_count": 13,
   "metadata": {},
   "outputs": [
    {
     "data": {
      "text/html": [
       "<div>\n",
       "<style scoped>\n",
       "    .dataframe tbody tr th:only-of-type {\n",
       "        vertical-align: middle;\n",
       "    }\n",
       "\n",
       "    .dataframe tbody tr th {\n",
       "        vertical-align: top;\n",
       "    }\n",
       "\n",
       "    .dataframe thead th {\n",
       "        text-align: right;\n",
       "    }\n",
       "</style>\n",
       "<table border=\"1\" class=\"dataframe\">\n",
       "  <thead>\n",
       "    <tr style=\"text-align: right;\">\n",
       "      <th></th>\n",
       "      <th>dsc_texto</th>\n",
       "      <th>tip_supreal</th>\n",
       "    </tr>\n",
       "  </thead>\n",
       "  <tbody>\n",
       "    <tr>\n",
       "      <th>0</th>\n",
       "      <td>realizar testes nos controles de potencia ativ...</td>\n",
       "      <td>prop</td>\n",
       "    </tr>\n",
       "    <tr>\n",
       "      <th>1</th>\n",
       "      <td>equipe snefabbdorbp  atualizacao de firmware u...</td>\n",
       "      <td>prop</td>\n",
       "    </tr>\n",
       "    <tr>\n",
       "      <th>2</th>\n",
       "      <td>inspecao ao longo da lt  apos desarme</td>\n",
       "      <td>oper</td>\n",
       "    </tr>\n",
       "    <tr>\n",
       "      <th>3</th>\n",
       "      <td>manutencao na bomba de extracao de condensado ...</td>\n",
       "      <td>oper</td>\n",
       "    </tr>\n",
       "    <tr>\n",
       "      <th>4</th>\n",
       "      <td>intervencao para realizacao de atividades dos ...</td>\n",
       "      <td>oper</td>\n",
       "    </tr>\n",
       "  </tbody>\n",
       "</table>\n",
       "</div>"
      ],
      "text/plain": [
       "                                           dsc_texto tip_supreal\n",
       "0  realizar testes nos controles de potencia ativ...        prop\n",
       "1  equipe snefabbdorbp  atualizacao de firmware u...        prop\n",
       "2             inspecao ao longo da lt  apos desarme         oper\n",
       "3  manutencao na bomba de extracao de condensado ...        oper\n",
       "4  intervencao para realizacao de atividades dos ...        oper"
      ]
     },
     "execution_count": 13,
     "metadata": {},
     "output_type": "execute_result"
    }
   ],
   "source": [
    "dataframe.head(5)"
   ]
  },
  {
   "cell_type": "markdown",
   "metadata": {},
   "source": [
    "### <span style=\"color:#DC143C\">**5.Resumo Estatístico da cadeia de caracteres**</span>"
   ]
  },
  {
   "cell_type": "markdown",
   "metadata": {},
   "source": [
    "#### <span style=\"color:#4B0082\">**5.1 Resumo sobre as colunas**</span>"
   ]
  },
  {
   "cell_type": "code",
   "execution_count": 14,
   "metadata": {},
   "outputs": [
    {
     "data": {
      "text/html": [
       "<div>\n",
       "<style scoped>\n",
       "    .dataframe tbody tr th:only-of-type {\n",
       "        vertical-align: middle;\n",
       "    }\n",
       "\n",
       "    .dataframe tbody tr th {\n",
       "        vertical-align: top;\n",
       "    }\n",
       "\n",
       "    .dataframe thead th {\n",
       "        text-align: right;\n",
       "    }\n",
       "</style>\n",
       "<table border=\"1\" class=\"dataframe\">\n",
       "  <thead>\n",
       "    <tr style=\"text-align: right;\">\n",
       "      <th></th>\n",
       "      <th>dsc_texto</th>\n",
       "      <th>tip_supreal</th>\n",
       "    </tr>\n",
       "  </thead>\n",
       "  <tbody>\n",
       "    <tr>\n",
       "      <th>count</th>\n",
       "      <td>17738</td>\n",
       "      <td>17738</td>\n",
       "    </tr>\n",
       "    <tr>\n",
       "      <th>unique</th>\n",
       "      <td>16554</td>\n",
       "      <td>2</td>\n",
       "    </tr>\n",
       "    <tr>\n",
       "      <th>top</th>\n",
       "      <td>implantacao da bd     do sage</td>\n",
       "      <td>oper</td>\n",
       "    </tr>\n",
       "    <tr>\n",
       "      <th>freq</th>\n",
       "      <td>43</td>\n",
       "      <td>8926</td>\n",
       "    </tr>\n",
       "  </tbody>\n",
       "</table>\n",
       "</div>"
      ],
      "text/plain": [
       "                             dsc_texto tip_supreal\n",
       "count                            17738       17738\n",
       "unique                           16554           2\n",
       "top     implantacao da bd     do sage         oper\n",
       "freq                                43        8926"
      ]
     },
     "execution_count": 14,
     "metadata": {},
     "output_type": "execute_result"
    }
   ],
   "source": [
    "dataframe.describe(include='all')\n",
    "\n",
    "# Descreve caracteristicas de 1 coluna apenas\n",
    "#dataframe['dsc_manutencao'].describe()\n",
    "\n",
    "# Descreve apenas colunas \"Numericas\"\n",
    "#dataframe.describe(include=[np.number])\n",
    "\n",
    "# Descreve apenas colunas Textp\n",
    "#dataframe.describe(exclude=[np.number])"
   ]
  },
  {
   "cell_type": "markdown",
   "metadata": {},
   "source": [
    "#### <span style=\"color:#4B0082\">**5.2 Variável Alvo**</span>"
   ]
  },
  {
   "cell_type": "code",
   "execution_count": 15,
   "metadata": {},
   "outputs": [
    {
     "data": {
      "text/html": [
       "<div>\n",
       "<style scoped>\n",
       "    .dataframe tbody tr th:only-of-type {\n",
       "        vertical-align: middle;\n",
       "    }\n",
       "\n",
       "    .dataframe tbody tr th {\n",
       "        vertical-align: top;\n",
       "    }\n",
       "\n",
       "    .dataframe thead th {\n",
       "        text-align: right;\n",
       "    }\n",
       "</style>\n",
       "<table border=\"1\" class=\"dataframe\">\n",
       "  <thead>\n",
       "    <tr style=\"text-align: right;\">\n",
       "      <th></th>\n",
       "      <th>dsc_texto</th>\n",
       "    </tr>\n",
       "    <tr>\n",
       "      <th>tip_supreal</th>\n",
       "      <th></th>\n",
       "    </tr>\n",
       "  </thead>\n",
       "  <tbody>\n",
       "    <tr>\n",
       "      <th>oper</th>\n",
       "      <td>8926</td>\n",
       "    </tr>\n",
       "    <tr>\n",
       "      <th>prop</th>\n",
       "      <td>8812</td>\n",
       "    </tr>\n",
       "  </tbody>\n",
       "</table>\n",
       "</div>"
      ],
      "text/plain": [
       "             dsc_texto\n",
       "tip_supreal           \n",
       "oper              8926\n",
       "prop              8812"
      ]
     },
     "execution_count": 15,
     "metadata": {},
     "output_type": "execute_result"
    }
   ],
   "source": [
    "dataframe.groupby('tip_supreal').count()"
   ]
  },
  {
   "cell_type": "markdown",
   "metadata": {},
   "source": [
    "#### <span style=\"color:#4B0082\">**5.3 Variáveis Preditoras**</span>"
   ]
  },
  {
   "cell_type": "code",
   "execution_count": 16,
   "metadata": {},
   "outputs": [
    {
     "data": {
      "text/plain": [
       "count    17738.000000\n",
       "mean       164.578250\n",
       "std        211.914361\n",
       "min          1.000000\n",
       "25%         75.000000\n",
       "50%        113.000000\n",
       "75%        179.000000\n",
       "max       6261.000000\n",
       "Name: dsc_texto, dtype: float64"
      ]
     },
     "execution_count": 16,
     "metadata": {},
     "output_type": "execute_result"
    }
   ],
   "source": [
    "dataframe.dsc_texto.str.len().describe()"
   ]
  },
  {
   "cell_type": "code",
   "execution_count": null,
   "metadata": {},
   "outputs": [],
   "source": []
  },
  {
   "cell_type": "markdown",
   "metadata": {},
   "source": [
    "### <span style=\"color:#DC143C\">**5.Exportar Base de Dados PARQUET**</span>"
   ]
  },
  {
   "cell_type": "code",
   "execution_count": 17,
   "metadata": {},
   "outputs": [],
   "source": [
    "dataframe.to_parquet(save_file, compression='snappy')"
   ]
  },
  {
   "cell_type": "code",
   "execution_count": null,
   "metadata": {},
   "outputs": [],
   "source": []
  }
 ],
 "metadata": {
  "kernelspec": {
   "display_name": "Python 3",
   "language": "python",
   "name": "python3"
  },
  "language_info": {
   "codemirror_mode": {
    "name": "ipython",
    "version": 3
   },
   "file_extension": ".py",
   "mimetype": "text/x-python",
   "name": "python",
   "nbconvert_exporter": "python",
   "pygments_lexer": "ipython3",
   "version": "3.7.6"
  }
 },
 "nbformat": 4,
 "nbformat_minor": 4
}
