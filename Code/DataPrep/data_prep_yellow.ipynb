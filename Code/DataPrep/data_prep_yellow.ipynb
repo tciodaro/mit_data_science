{
 "cells": [
  {
   "cell_type": "code",
   "execution_count": 50,
   "metadata": {},
   "outputs": [],
   "source": [
    "import matplotlib.pyplot as plt\n",
    "import pandas as pd\n",
    "import numpy as np\n",
    "\n",
    "%matplotlib inline\n",
    "plt.style.use('ggplot')\n",
    "\n",
    "import warnings\n",
    "warnings.filterwarnings(\"ignore\")\n",
    "\n",
    "\n",
    "%store -r WORKDIR\n",
    "\n",
    "if 'WORKDIR' not in dir():\n",
    "    WORKDIR = 'C:/Users/Paulo/Desktop/infnet-projeto-final/mit_data_science/'\n",
    "\n",
    "data_raw_file = WORKDIR + '/Data/Raw/nyctaxi_data_collect_yellow.parquet'\n",
    "data_proc_file = WORKDIR + '/Data/Processed/nyctaxi_data_modeling_yellow.parquet'\n",
    "\n",
    "\n",
    "pd.plotting.register_matplotlib_converters()"
   ]
  },
  {
   "cell_type": "markdown",
   "metadata": {},
   "source": [
    "# Leitura dos Dados "
   ]
  },
  {
   "cell_type": "code",
   "execution_count": 19,
   "metadata": {},
   "outputs": [
    {
     "name": "stdout",
     "output_type": "stream",
     "text": [
      "shape: (8000, 10)\n",
      "columns: Index(['dropoff_datetime', 'dropoff_latitude', 'dropoff_longitude',\n",
      "       'fare_amount', 'passenger_count', 'pickup_datetime', 'pickup_latitude',\n",
      "       'pickup_longitude', 'tpep_dropoff_datetime', 'tpep_pickup_datetime'],\n",
      "      dtype='object')\n"
     ]
    },
    {
     "data": {
      "text/html": [
       "<div>\n",
       "<style scoped>\n",
       "    .dataframe tbody tr th:only-of-type {\n",
       "        vertical-align: middle;\n",
       "    }\n",
       "\n",
       "    .dataframe tbody tr th {\n",
       "        vertical-align: top;\n",
       "    }\n",
       "\n",
       "    .dataframe thead th {\n",
       "        text-align: right;\n",
       "    }\n",
       "</style>\n",
       "<table border=\"1\" class=\"dataframe\">\n",
       "  <thead>\n",
       "    <tr style=\"text-align: right;\">\n",
       "      <th></th>\n",
       "      <th>dropoff_datetime</th>\n",
       "      <th>dropoff_latitude</th>\n",
       "      <th>dropoff_longitude</th>\n",
       "      <th>fare_amount</th>\n",
       "      <th>passenger_count</th>\n",
       "      <th>pickup_datetime</th>\n",
       "      <th>pickup_latitude</th>\n",
       "      <th>pickup_longitude</th>\n",
       "      <th>tpep_dropoff_datetime</th>\n",
       "      <th>tpep_pickup_datetime</th>\n",
       "    </tr>\n",
       "  </thead>\n",
       "  <tbody>\n",
       "    <tr>\n",
       "      <th>0</th>\n",
       "      <td>None</td>\n",
       "      <td>None</td>\n",
       "      <td>None</td>\n",
       "      <td>10</td>\n",
       "      <td>1</td>\n",
       "      <td>None</td>\n",
       "      <td>None</td>\n",
       "      <td>None</td>\n",
       "      <td>2084-11-04T12:47:41.000</td>\n",
       "      <td>2084-11-04T12:32:24.000</td>\n",
       "    </tr>\n",
       "    <tr>\n",
       "      <th>1</th>\n",
       "      <td>None</td>\n",
       "      <td>None</td>\n",
       "      <td>None</td>\n",
       "      <td>10</td>\n",
       "      <td>1</td>\n",
       "      <td>None</td>\n",
       "      <td>None</td>\n",
       "      <td>None</td>\n",
       "      <td>2084-11-04T12:47:41.000</td>\n",
       "      <td>2084-11-04T12:32:24.000</td>\n",
       "    </tr>\n",
       "    <tr>\n",
       "      <th>2</th>\n",
       "      <td>None</td>\n",
       "      <td>None</td>\n",
       "      <td>None</td>\n",
       "      <td>4</td>\n",
       "      <td>1</td>\n",
       "      <td>None</td>\n",
       "      <td>None</td>\n",
       "      <td>None</td>\n",
       "      <td>2084-11-04T12:29:00.000</td>\n",
       "      <td>2084-11-04T12:25:53.000</td>\n",
       "    </tr>\n",
       "    <tr>\n",
       "      <th>3</th>\n",
       "      <td>None</td>\n",
       "      <td>None</td>\n",
       "      <td>None</td>\n",
       "      <td>4</td>\n",
       "      <td>1</td>\n",
       "      <td>None</td>\n",
       "      <td>None</td>\n",
       "      <td>None</td>\n",
       "      <td>2084-11-04T12:29:00.000</td>\n",
       "      <td>2084-11-04T12:25:53.000</td>\n",
       "    </tr>\n",
       "    <tr>\n",
       "      <th>4</th>\n",
       "      <td>None</td>\n",
       "      <td>None</td>\n",
       "      <td>None</td>\n",
       "      <td>10</td>\n",
       "      <td>1</td>\n",
       "      <td>None</td>\n",
       "      <td>None</td>\n",
       "      <td>None</td>\n",
       "      <td>2084-11-04T12:22:24.000</td>\n",
       "      <td>2084-11-04T12:08:33.000</td>\n",
       "    </tr>\n",
       "  </tbody>\n",
       "</table>\n",
       "</div>"
      ],
      "text/plain": [
       "  dropoff_datetime dropoff_latitude dropoff_longitude fare_amount  \\\n",
       "0             None             None              None          10   \n",
       "1             None             None              None          10   \n",
       "2             None             None              None           4   \n",
       "3             None             None              None           4   \n",
       "4             None             None              None          10   \n",
       "\n",
       "  passenger_count pickup_datetime pickup_latitude pickup_longitude  \\\n",
       "0               1            None            None             None   \n",
       "1               1            None            None             None   \n",
       "2               1            None            None             None   \n",
       "3               1            None            None             None   \n",
       "4               1            None            None             None   \n",
       "\n",
       "     tpep_dropoff_datetime     tpep_pickup_datetime  \n",
       "0  2084-11-04T12:47:41.000  2084-11-04T12:32:24.000  \n",
       "1  2084-11-04T12:47:41.000  2084-11-04T12:32:24.000  \n",
       "2  2084-11-04T12:29:00.000  2084-11-04T12:25:53.000  \n",
       "3  2084-11-04T12:29:00.000  2084-11-04T12:25:53.000  \n",
       "4  2084-11-04T12:22:24.000  2084-11-04T12:08:33.000  "
      ]
     },
     "execution_count": 19,
     "metadata": {},
     "output_type": "execute_result"
    }
   ],
   "source": [
    "data = pd.read_parquet(data_raw_file)\n",
    "\n",
    "print('shape:', data.shape)\n",
    "print('columns:', data.columns)\n",
    "data.head()"
   ]
  },
  {
   "cell_type": "markdown",
   "metadata": {},
   "source": [
    "# Estatistica dos dados "
   ]
  },
  {
   "cell_type": "code",
   "execution_count": 20,
   "metadata": {},
   "outputs": [
    {
     "data": {
      "text/html": [
       "<div>\n",
       "<style scoped>\n",
       "    .dataframe tbody tr th:only-of-type {\n",
       "        vertical-align: middle;\n",
       "    }\n",
       "\n",
       "    .dataframe tbody tr th {\n",
       "        vertical-align: top;\n",
       "    }\n",
       "\n",
       "    .dataframe thead th {\n",
       "        text-align: right;\n",
       "    }\n",
       "</style>\n",
       "<table border=\"1\" class=\"dataframe\">\n",
       "  <thead>\n",
       "    <tr style=\"text-align: right;\">\n",
       "      <th></th>\n",
       "      <th>dropoff_datetime</th>\n",
       "      <th>dropoff_latitude</th>\n",
       "      <th>dropoff_longitude</th>\n",
       "      <th>fare_amount</th>\n",
       "      <th>passenger_count</th>\n",
       "      <th>pickup_datetime</th>\n",
       "      <th>pickup_latitude</th>\n",
       "      <th>pickup_longitude</th>\n",
       "      <th>tpep_dropoff_datetime</th>\n",
       "      <th>tpep_pickup_datetime</th>\n",
       "    </tr>\n",
       "  </thead>\n",
       "  <tbody>\n",
       "    <tr>\n",
       "      <th>count</th>\n",
       "      <td>3000</td>\n",
       "      <td>6000</td>\n",
       "      <td>6000</td>\n",
       "      <td>8000</td>\n",
       "      <td>8000</td>\n",
       "      <td>2000</td>\n",
       "      <td>6000</td>\n",
       "      <td>6000</td>\n",
       "      <td>5000</td>\n",
       "      <td>6000</td>\n",
       "    </tr>\n",
       "    <tr>\n",
       "      <th>unique</th>\n",
       "      <td>2999</td>\n",
       "      <td>5699</td>\n",
       "      <td>5555</td>\n",
       "      <td>216</td>\n",
       "      <td>7</td>\n",
       "      <td>2000</td>\n",
       "      <td>5682</td>\n",
       "      <td>5521</td>\n",
       "      <td>4634</td>\n",
       "      <td>5338</td>\n",
       "    </tr>\n",
       "    <tr>\n",
       "      <th>top</th>\n",
       "      <td>2011-05-09T18:12:00.000</td>\n",
       "      <td>0</td>\n",
       "      <td>0</td>\n",
       "      <td>6.5</td>\n",
       "      <td>1</td>\n",
       "      <td>2015-06-08T19:06:11.000</td>\n",
       "      <td>0</td>\n",
       "      <td>0</td>\n",
       "      <td>2018-12-31T23:58:13.000</td>\n",
       "      <td>2017-02-23T05:38:02.000</td>\n",
       "    </tr>\n",
       "    <tr>\n",
       "      <th>freq</th>\n",
       "      <td>2</td>\n",
       "      <td>114</td>\n",
       "      <td>115</td>\n",
       "      <td>410</td>\n",
       "      <td>5689</td>\n",
       "      <td>1</td>\n",
       "      <td>114</td>\n",
       "      <td>114</td>\n",
       "      <td>5</td>\n",
       "      <td>5</td>\n",
       "    </tr>\n",
       "  </tbody>\n",
       "</table>\n",
       "</div>"
      ],
      "text/plain": [
       "               dropoff_datetime dropoff_latitude dropoff_longitude  \\\n",
       "count                      3000             6000              6000   \n",
       "unique                     2999             5699              5555   \n",
       "top     2011-05-09T18:12:00.000                0                 0   \n",
       "freq                          2              114               115   \n",
       "\n",
       "       fare_amount passenger_count          pickup_datetime pickup_latitude  \\\n",
       "count         8000            8000                     2000            6000   \n",
       "unique         216               7                     2000            5682   \n",
       "top            6.5               1  2015-06-08T19:06:11.000               0   \n",
       "freq           410            5689                        1             114   \n",
       "\n",
       "       pickup_longitude    tpep_dropoff_datetime     tpep_pickup_datetime  \n",
       "count              6000                     5000                     6000  \n",
       "unique             5521                     4634                     5338  \n",
       "top                   0  2018-12-31T23:58:13.000  2017-02-23T05:38:02.000  \n",
       "freq                114                        5                        5  "
      ]
     },
     "execution_count": 20,
     "metadata": {},
     "output_type": "execute_result"
    }
   ],
   "source": [
    "data.describe()"
   ]
  },
  {
   "cell_type": "code",
   "execution_count": 21,
   "metadata": {},
   "outputs": [
    {
     "data": {
      "text/plain": [
       "dropoff_datetime         object\n",
       "dropoff_latitude         object\n",
       "dropoff_longitude        object\n",
       "fare_amount              object\n",
       "passenger_count          object\n",
       "pickup_datetime          object\n",
       "pickup_latitude          object\n",
       "pickup_longitude         object\n",
       "tpep_dropoff_datetime    object\n",
       "tpep_pickup_datetime     object\n",
       "dtype: object"
      ]
     },
     "execution_count": 21,
     "metadata": {},
     "output_type": "execute_result"
    }
   ],
   "source": [
    "data.dtypes"
   ]
  },
  {
   "cell_type": "markdown",
   "metadata": {},
   "source": [
    "# Correção do tipo dos dados"
   ]
  },
  {
   "cell_type": "code",
   "execution_count": 22,
   "metadata": {},
   "outputs": [
    {
     "data": {
      "text/html": [
       "<div>\n",
       "<style scoped>\n",
       "    .dataframe tbody tr th:only-of-type {\n",
       "        vertical-align: middle;\n",
       "    }\n",
       "\n",
       "    .dataframe tbody tr th {\n",
       "        vertical-align: top;\n",
       "    }\n",
       "\n",
       "    .dataframe thead th {\n",
       "        text-align: right;\n",
       "    }\n",
       "</style>\n",
       "<table border=\"1\" class=\"dataframe\">\n",
       "  <thead>\n",
       "    <tr style=\"text-align: right;\">\n",
       "      <th></th>\n",
       "      <th>dropoff_latitude</th>\n",
       "      <th>dropoff_longitude</th>\n",
       "      <th>fare_amount</th>\n",
       "      <th>passenger_count</th>\n",
       "      <th>pickup_latitude</th>\n",
       "      <th>pickup_longitude</th>\n",
       "    </tr>\n",
       "  </thead>\n",
       "  <tbody>\n",
       "    <tr>\n",
       "      <th>count</th>\n",
       "      <td>6000.000000</td>\n",
       "      <td>6000.000000</td>\n",
       "      <td>8000.000000</td>\n",
       "      <td>8000.000000</td>\n",
       "      <td>6000.000000</td>\n",
       "      <td>6000.000000</td>\n",
       "    </tr>\n",
       "    <tr>\n",
       "      <th>mean</th>\n",
       "      <td>39.938102</td>\n",
       "      <td>-72.507108</td>\n",
       "      <td>12.546251</td>\n",
       "      <td>1.652625</td>\n",
       "      <td>39.937463</td>\n",
       "      <td>-72.531132</td>\n",
       "    </tr>\n",
       "    <tr>\n",
       "      <th>std</th>\n",
       "      <td>5.940305</td>\n",
       "      <td>10.385885</td>\n",
       "      <td>10.744629</td>\n",
       "      <td>1.311553</td>\n",
       "      <td>5.940115</td>\n",
       "      <td>10.309993</td>\n",
       "    </tr>\n",
       "    <tr>\n",
       "      <th>min</th>\n",
       "      <td>-74.011015</td>\n",
       "      <td>-74.241305</td>\n",
       "      <td>-5.000000</td>\n",
       "      <td>0.000000</td>\n",
       "      <td>-73.991172</td>\n",
       "      <td>-74.182447</td>\n",
       "    </tr>\n",
       "    <tr>\n",
       "      <th>25%</th>\n",
       "      <td>40.732948</td>\n",
       "      <td>-73.991529</td>\n",
       "      <td>6.100000</td>\n",
       "      <td>1.000000</td>\n",
       "      <td>40.734170</td>\n",
       "      <td>-73.991982</td>\n",
       "    </tr>\n",
       "    <tr>\n",
       "      <th>50%</th>\n",
       "      <td>40.752966</td>\n",
       "      <td>-73.979864</td>\n",
       "      <td>9.000000</td>\n",
       "      <td>1.000000</td>\n",
       "      <td>40.752548</td>\n",
       "      <td>-73.981833</td>\n",
       "    </tr>\n",
       "    <tr>\n",
       "      <th>75%</th>\n",
       "      <td>40.767573</td>\n",
       "      <td>-73.962920</td>\n",
       "      <td>14.100000</td>\n",
       "      <td>2.000000</td>\n",
       "      <td>40.767041</td>\n",
       "      <td>-73.967386</td>\n",
       "    </tr>\n",
       "    <tr>\n",
       "      <th>max</th>\n",
       "      <td>40.938418</td>\n",
       "      <td>40.796100</td>\n",
       "      <td>100.000000</td>\n",
       "      <td>6.000000</td>\n",
       "      <td>40.895650</td>\n",
       "      <td>40.774510</td>\n",
       "    </tr>\n",
       "  </tbody>\n",
       "</table>\n",
       "</div>"
      ],
      "text/plain": [
       "       dropoff_latitude  dropoff_longitude  fare_amount  passenger_count  \\\n",
       "count       6000.000000        6000.000000  8000.000000      8000.000000   \n",
       "mean          39.938102         -72.507108    12.546251         1.652625   \n",
       "std            5.940305          10.385885    10.744629         1.311553   \n",
       "min          -74.011015         -74.241305    -5.000000         0.000000   \n",
       "25%           40.732948         -73.991529     6.100000         1.000000   \n",
       "50%           40.752966         -73.979864     9.000000         1.000000   \n",
       "75%           40.767573         -73.962920    14.100000         2.000000   \n",
       "max           40.938418          40.796100   100.000000         6.000000   \n",
       "\n",
       "       pickup_latitude  pickup_longitude  \n",
       "count      6000.000000       6000.000000  \n",
       "mean         39.937463        -72.531132  \n",
       "std           5.940115         10.309993  \n",
       "min         -73.991172        -74.182447  \n",
       "25%          40.734170        -73.991982  \n",
       "50%          40.752548        -73.981833  \n",
       "75%          40.767041        -73.967386  \n",
       "max          40.895650         40.774510  "
      ]
     },
     "execution_count": 22,
     "metadata": {},
     "output_type": "execute_result"
    }
   ],
   "source": [
    "data['pickup_datetime'] = pd.to_datetime(data.pickup_datetime, format='%Y-%m-%d %H:%M:%S')\n",
    "data['dropoff_datetime'] = pd.to_datetime(data.dropoff_datetime, format='%Y-%m-%d %H:%M:%S')\n",
    "data['tpep_pickup_datetime'] = pd.to_datetime(data.tpep_pickup_datetime, format='%Y-%m-%d %H:%M:%S')\n",
    "data['tpep_dropoff_datetime'] = pd.to_datetime(data.tpep_dropoff_datetime, format='%Y-%m-%d %H:%M:%S')\n",
    "\n",
    "data_types = {\n",
    "    'fare_amount': float,\n",
    "    'pickup_latitude': float,\n",
    "    'pickup_longitude': float,\n",
    "    'dropoff_latitude': float,\n",
    "    'pickup_latitude': float,\n",
    "    'dropoff_longitude': float,  \n",
    "    'passenger_count': int\n",
    "}\n",
    "for cname, dtype in data_types.items():\n",
    "    if dtype == np.float32:\n",
    "        data.loc[data[cname].astype(str) == '',cname] = '0'\n",
    "    \n",
    "    data[cname] = data[cname].astype(dtype)\n",
    "    \n",
    "data.describe()"
   ]
  },
  {
   "cell_type": "code",
   "execution_count": 23,
   "metadata": {},
   "outputs": [
    {
     "data": {
      "text/plain": [
       "dropoff_datetime         datetime64[ns]\n",
       "dropoff_latitude                float64\n",
       "dropoff_longitude               float64\n",
       "fare_amount                     float64\n",
       "passenger_count                   int32\n",
       "pickup_datetime          datetime64[ns]\n",
       "pickup_latitude                 float64\n",
       "pickup_longitude                float64\n",
       "tpep_dropoff_datetime    datetime64[ns]\n",
       "tpep_pickup_datetime     datetime64[ns]\n",
       "dtype: object"
      ]
     },
     "execution_count": 23,
     "metadata": {},
     "output_type": "execute_result"
    }
   ],
   "source": [
    "data.dtypes"
   ]
  },
  {
   "cell_type": "code",
   "execution_count": 24,
   "metadata": {},
   "outputs": [],
   "source": [
    "### Convertendo a distancia de milhas para kilometros"
   ]
  },
  {
   "cell_type": "markdown",
   "metadata": {},
   "source": [
    "# Verificar Valores Nulos"
   ]
  },
  {
   "cell_type": "code",
   "execution_count": 25,
   "metadata": {},
   "outputs": [
    {
     "data": {
      "text/plain": [
       "dropoff_datetime         5000\n",
       "dropoff_latitude         2000\n",
       "dropoff_longitude        2000\n",
       "fare_amount                 0\n",
       "passenger_count             0\n",
       "pickup_datetime          6000\n",
       "pickup_latitude          2000\n",
       "pickup_longitude         2000\n",
       "tpep_dropoff_datetime    3000\n",
       "tpep_pickup_datetime     2000\n",
       "dtype: int64"
      ]
     },
     "execution_count": 25,
     "metadata": {},
     "output_type": "execute_result"
    }
   ],
   "source": [
    "data.isna().sum()"
   ]
  },
  {
   "cell_type": "code",
   "execution_count": 26,
   "metadata": {},
   "outputs": [],
   "source": [
    "data.update(data['pickup_datetime'].fillna(data['tpep_pickup_datetime']))\n",
    "data.drop(['tpep_dropoff_datetime','tpep_pickup_datetime', 'dropoff_datetime'], axis = 1, inplace = True)\n",
    "#data.dropna(inplace = True)"
   ]
  },
  {
   "cell_type": "code",
   "execution_count": 27,
   "metadata": {},
   "outputs": [
    {
     "data": {
      "text/plain": [
       "dropoff_latitude     2000\n",
       "dropoff_longitude    2000\n",
       "fare_amount             0\n",
       "passenger_count         0\n",
       "pickup_datetime         0\n",
       "pickup_latitude      2000\n",
       "pickup_longitude     2000\n",
       "dtype: int64"
      ]
     },
     "execution_count": 27,
     "metadata": {},
     "output_type": "execute_result"
    }
   ],
   "source": [
    "data.isna().sum()"
   ]
  },
  {
   "cell_type": "markdown",
   "metadata": {},
   "source": [
    "# Variável Alvo "
   ]
  },
  {
   "cell_type": "code",
   "execution_count": 28,
   "metadata": {},
   "outputs": [
    {
     "data": {
      "text/plain": [
       "fare_amount\n",
       "100.0    100.0\n",
       "96.5      96.5\n",
       "96.0      96.0\n",
       "75.5      75.5\n",
       "75.0      75.0\n",
       "73.0      73.0\n",
       "72.7      72.7\n",
       "69.5      69.5\n",
       "68.5      68.5\n",
       "67.0      67.0\n",
       "Name: fare_amount, dtype: float64"
      ]
     },
     "execution_count": 28,
     "metadata": {},
     "output_type": "execute_result"
    }
   ],
   "source": [
    "data.groupby('fare_amount').fare_amount.last().sort_values(ascending=False).head(10)"
   ]
  },
  {
   "cell_type": "markdown",
   "metadata": {},
   "source": [
    "## Verificação das Variáveis"
   ]
  },
  {
   "cell_type": "markdown",
   "metadata": {},
   "source": [
    "#### pickup_datetime"
   ]
  },
  {
   "cell_type": "code",
   "execution_count": 51,
   "metadata": {},
   "outputs": [
    {
     "data": {
      "text/plain": [
       "count                    8000\n",
       "unique                   7338\n",
       "top       2018-12-31 23:51:33\n",
       "freq                        5\n",
       "first     2011-01-01 02:22:26\n",
       "last      2084-11-04 12:32:24\n",
       "Name: pickup_datetime, dtype: object"
      ]
     },
     "execution_count": 51,
     "metadata": {},
     "output_type": "execute_result"
    }
   ],
   "source": [
    "data['pickup_datetime'].describe()"
   ]
  },
  {
   "cell_type": "markdown",
   "metadata": {},
   "source": [
    "Plotando um histograma para verificar a distribuição"
   ]
  },
  {
   "cell_type": "code",
   "execution_count": 52,
   "metadata": {},
   "outputs": [
    {
     "data": {
      "image/png": "[encoded data removed]",
      "text/plain": [
       "<Figure size 432x288 with 1 Axes>"
      ]
     },
     "metadata": {},
     "output_type": "display_data"
    }
   ],
   "source": [
    "plt.hist(data['pickup_datetime'], bins = 100);"
   ]
  },
  {
   "cell_type": "markdown",
   "metadata": {},
   "source": [
    "### Coordenadas\n",
    "\n",
    "#### `pickup_longitude`"
   ]
  },
  {
   "cell_type": "code",
   "execution_count": 53,
   "metadata": {},
   "outputs": [
    {
     "data": {
      "text/plain": [
       "count    6000.000000\n",
       "mean      -72.531132\n",
       "std        10.309993\n",
       "min       -74.182447\n",
       "25%       -73.991982\n",
       "50%       -73.981833\n",
       "75%       -73.967386\n",
       "max        40.774510\n",
       "Name: pickup_longitude, dtype: float64"
      ]
     },
     "execution_count": 53,
     "metadata": {},
     "output_type": "execute_result"
    }
   ],
   "source": [
    "plon = data['pickup_longitude']\n",
    "plon.describe()"
   ]
  },
  {
   "cell_type": "code",
   "execution_count": 54,
   "metadata": {},
   "outputs": [
    {
     "data": {
      "image/png": "[encoded data removed]",
      "text/plain": [
       "<Figure size 432x288 with 1 Axes>"
      ]
     },
     "metadata": {},
     "output_type": "display_data"
    }
   ],
   "source": [
    "plt.hist(plon, bins = 100);"
   ]
  },
  {
   "cell_type": "code",
   "execution_count": 55,
   "metadata": {},
   "outputs": [
    {
     "data": {
      "text/plain": [
       "-73.98183270581055"
      ]
     },
     "execution_count": 55,
     "metadata": {},
     "output_type": "execute_result"
    }
   ],
   "source": [
    "plon.median()"
   ]
  },
  {
   "cell_type": "code",
   "execution_count": 56,
   "metadata": {},
   "outputs": [
    {
     "data": {
      "image/png": "[encoded data removed]",
      "text/plain": [
       "<Figure size 432x288 with 1 Axes>"
      ]
     },
     "metadata": {},
     "output_type": "display_data"
    }
   ],
   "source": [
    "plt.hist(plon[(plon > plon.median() - 1.5) & (plon < plon.median() + 1.5)], bins = 100);"
   ]
  },
  {
   "cell_type": "markdown",
   "metadata": {},
   "source": [
    "Criando uma condição para pegar somente as coordenadas dentro do intervalo do zoom."
   ]
  },
  {
   "cell_type": "code",
   "execution_count": 57,
   "metadata": {},
   "outputs": [],
   "source": [
    "plon_val = (plon > plon.median() - 0.5) & (plon < plon.median() + 0.5)"
   ]
  },
  {
   "cell_type": "code",
   "execution_count": 58,
   "metadata": {},
   "outputs": [
    {
     "data": {
      "text/plain": [
       "True     5884\n",
       "False    2116\n",
       "Name: pickup_longitude, dtype: int64"
      ]
     },
     "execution_count": 58,
     "metadata": {},
     "output_type": "execute_result"
    }
   ],
   "source": [
    "plon_val.value_counts()"
   ]
  },
  {
   "cell_type": "code",
   "execution_count": 59,
   "metadata": {},
   "outputs": [
    {
     "name": "stdout",
     "output_type": "stream",
     "text": [
      "True     5884\n",
      "False    2116\n",
      "Name: pickup_longitude, dtype: int64 \n",
      " True     0.7355\n",
      "False    0.2645\n",
      "Name: pickup_longitude, dtype: float64\n"
     ]
    }
   ],
   "source": [
    "print(plon_val.value_counts(), '\\n', plon_val.value_counts(normalize = True))"
   ]
  },
  {
   "cell_type": "markdown",
   "metadata": {},
   "source": [
    "Podemos verificar que os valores 'outliers' representam 1.7% da base, então poderemos remove-los sem impactar nossa analise"
   ]
  },
  {
   "cell_type": "markdown",
   "metadata": {},
   "source": [
    "#### pickup_latitude\n"
   ]
  },
  {
   "cell_type": "code",
   "execution_count": 60,
   "metadata": {},
   "outputs": [
    {
     "data": {
      "text/plain": [
       "count    6000.000000\n",
       "mean       39.937463\n",
       "std         5.940115\n",
       "min       -73.991172\n",
       "25%        40.734170\n",
       "50%        40.752548\n",
       "75%        40.767041\n",
       "max        40.895650\n",
       "Name: pickup_latitude, dtype: float64"
      ]
     },
     "execution_count": 60,
     "metadata": {},
     "output_type": "execute_result"
    }
   ],
   "source": [
    "plat = data['pickup_latitude']\n",
    "plat.describe()"
   ]
  },
  {
   "cell_type": "code",
   "execution_count": 61,
   "metadata": {},
   "outputs": [
    {
     "data": {
      "image/png": "[encoded data removed]",
      "text/plain": [
       "<Figure size 432x288 with 1 Axes>"
      ]
     },
     "metadata": {},
     "output_type": "display_data"
    }
   ],
   "source": [
    "plt.hist(plat, bins = 100);"
   ]
  },
  {
   "cell_type": "code",
   "execution_count": 62,
   "metadata": {},
   "outputs": [
    {
     "data": {
      "image/png": "[encoded data removed]",
      "text/plain": [
       "<Figure size 432x288 with 1 Axes>"
      ]
     },
     "metadata": {},
     "output_type": "display_data"
    }
   ],
   "source": [
    "plt.hist(plat[(plat > plat.median() - 2.5) & (plat < plat.median() + 2.5)], bins = 100);"
   ]
  },
  {
   "cell_type": "code",
   "execution_count": 63,
   "metadata": {},
   "outputs": [
    {
     "name": "stdout",
     "output_type": "stream",
     "text": [
      "True     5882\n",
      "False    2118\n",
      "Name: pickup_latitude, dtype: int64 \n",
      " True     0.73525\n",
      "False    0.26475\n",
      "Name: pickup_latitude, dtype: float64\n"
     ]
    }
   ],
   "source": [
    "plat_val = (plat > plat.median() - 0.5) & (plat < plat.median() + 0.5)\n",
    "print(plat_val.value_counts(), '\\n', plat_val.value_counts(normalize = True))"
   ]
  },
  {
   "cell_type": "markdown",
   "metadata": {},
   "source": [
    "#### dropoff_longitude"
   ]
  },
  {
   "cell_type": "code",
   "execution_count": 64,
   "metadata": {},
   "outputs": [
    {
     "data": {
      "text/plain": [
       "count    6000.000000\n",
       "mean      -72.507108\n",
       "std        10.385885\n",
       "min       -74.241305\n",
       "25%       -73.991529\n",
       "50%       -73.979864\n",
       "75%       -73.962920\n",
       "max        40.796100\n",
       "Name: dropoff_longitude, dtype: float64"
      ]
     },
     "execution_count": 64,
     "metadata": {},
     "output_type": "execute_result"
    }
   ],
   "source": [
    "dlon = data['dropoff_longitude']\n",
    "dlon.describe()"
   ]
  },
  {
   "cell_type": "code",
   "execution_count": 65,
   "metadata": {},
   "outputs": [
    {
     "data": {
      "image/png": "[encoded data removed]",
      "text/plain": [
       "<Figure size 1080x360 with 2 Axes>"
      ]
     },
     "metadata": {},
     "output_type": "display_data"
    }
   ],
   "source": [
    "fig, ax = plt.subplots(1, 2, figsize = (15, 5))\n",
    "ax[0].hist(dlon, bins = 100)\n",
    "ax[1].hist(dlon[(dlon > dlon.median() - 2.5) & (dlon < dlon.median() + 2.5)], bins = 100);"
   ]
  },
  {
   "cell_type": "code",
   "execution_count": 66,
   "metadata": {},
   "outputs": [
    {
     "name": "stdout",
     "output_type": "stream",
     "text": [
      "True     5882\n",
      "False    2118\n",
      "Name: dropoff_longitude, dtype: int64 \n",
      " True     0.73525\n",
      "False    0.26475\n",
      "Name: dropoff_longitude, dtype: float64\n"
     ]
    }
   ],
   "source": [
    "dlon_val = (dlon > dlon.median() - 0.5) & (dlon < dlon.median() + 0.5)\n",
    "print(dlon_val.value_counts(), '\\n', dlon_val.value_counts(normalize = True))"
   ]
  },
  {
   "cell_type": "markdown",
   "metadata": {},
   "source": [
    "#### dropoff_latitude\n"
   ]
  },
  {
   "cell_type": "code",
   "execution_count": 67,
   "metadata": {},
   "outputs": [
    {
     "data": {
      "text/plain": [
       "count    6000.000000\n",
       "mean       39.938102\n",
       "std         5.940305\n",
       "min       -74.011015\n",
       "25%        40.732948\n",
       "50%        40.752966\n",
       "75%        40.767573\n",
       "max        40.938418\n",
       "Name: dropoff_latitude, dtype: float64"
      ]
     },
     "execution_count": 67,
     "metadata": {},
     "output_type": "execute_result"
    }
   ],
   "source": [
    "dlat = data['dropoff_latitude']\n",
    "dlat.describe()"
   ]
  },
  {
   "cell_type": "code",
   "execution_count": 68,
   "metadata": {},
   "outputs": [
    {
     "data": {
      "image/png": "[encoded data removed]",
      "text/plain": [
       "<Figure size 1080x360 with 2 Axes>"
      ]
     },
     "metadata": {},
     "output_type": "display_data"
    }
   ],
   "source": [
    "fig, ax = plt.subplots(1, 2, figsize = (15, 5))\n",
    "ax[0].hist(dlat, bins = 100)\n",
    "ax[1].hist(dlat[(dlat > dlat.median() - 2.5) & (dlat < dlat.median() + 2.5)], bins = 100);"
   ]
  },
  {
   "cell_type": "code",
   "execution_count": 69,
   "metadata": {},
   "outputs": [
    {
     "name": "stdout",
     "output_type": "stream",
     "text": [
      "True     5882\n",
      "False    2118\n",
      "Name: dropoff_latitude, dtype: int64 \n",
      " True     0.73525\n",
      "False    0.26475\n",
      "Name: dropoff_latitude, dtype: float64\n"
     ]
    }
   ],
   "source": [
    "dlat_val = (dlat > dlat.median() - 0.5) & (dlat < dlat.median() + 0.5)\n",
    "print(dlat_val.value_counts(), '\\n', dlat_val.value_counts(normalize = True))"
   ]
  },
  {
   "cell_type": "code",
   "execution_count": 70,
   "metadata": {},
   "outputs": [
    {
     "data": {
      "image/png": "[encoded data removed]",
      "text/plain": [
       "<Figure size 1080x360 with 8 Axes>"
      ]
     },
     "metadata": {},
     "output_type": "display_data"
    }
   ],
   "source": [
    "fig, ax = plt.subplots(4, 2, figsize = (15, 5))\n",
    "ax[0,0].hist(plat, bins = 100)\n",
    "ax[0,1].hist(plat[(plat > plat.median() - 2.5) & (plat < plat.median() + 2.5)], bins = 100);\n",
    "ax[1,0].hist(plon, bins = 100)\n",
    "ax[1,1].hist(plon[(plon > plon.median() - 2.5) & (plon < plon.median() + 2.5)], bins = 100);\n",
    "ax[2,0].hist(dlat, bins = 100)\n",
    "ax[2,1].hist(dlat[(dlat > dlat.median() - 2.5) & (dlat < dlat.median() + 2.5)], bins = 100);\n",
    "ax[3,0].hist(dlon, bins = 100)\n",
    "ax[3,1].hist(dlon[(dlon > dlon.median() - 2.5) & (dlon < dlon.median() + 2.5)], bins = 100);"
   ]
  },
  {
   "cell_type": "markdown",
   "metadata": {},
   "source": [
    "### Inteiros\n",
    "\n",
    "#### `passenger_count`"
   ]
  },
  {
   "cell_type": "code",
   "execution_count": 72,
   "metadata": {},
   "outputs": [
    {
     "data": {
      "text/plain": [
       "count    8000.000000\n",
       "mean        1.652625\n",
       "std         1.311553\n",
       "min         0.000000\n",
       "25%         1.000000\n",
       "50%         1.000000\n",
       "75%         2.000000\n",
       "max         6.000000\n",
       "Name: passenger_count, dtype: float64"
      ]
     },
     "execution_count": 72,
     "metadata": {},
     "output_type": "execute_result"
    }
   ],
   "source": [
    "pcnt = data['passenger_count']\n",
    "pcnt.describe()"
   ]
  },
  {
   "cell_type": "markdown",
   "metadata": {},
   "source": [
    "Verificar quantos valores igual a zero e a média deles"
   ]
  },
  {
   "cell_type": "code",
   "execution_count": 73,
   "metadata": {},
   "outputs": [
    {
     "name": "stdout",
     "output_type": "stream",
     "text": [
      "34 0.00425\n"
     ]
    }
   ],
   "source": [
    "print((pcnt == 0).sum(), (pcnt == 0).mean())"
   ]
  },
  {
   "cell_type": "code",
   "execution_count": 74,
   "metadata": {},
   "outputs": [
    {
     "data": {
      "image/png": "[encoded data removed]",
      "text/plain": [
       "<Figure size 432x288 with 1 Axes>"
      ]
     },
     "metadata": {},
     "output_type": "display_data"
    }
   ],
   "source": [
    "plt.hist(pcnt, bins = 100);"
   ]
  },
  {
   "cell_type": "code",
   "execution_count": 75,
   "metadata": {},
   "outputs": [
    {
     "name": "stdout",
     "output_type": "stream",
     "text": [
      "True     7966\n",
      "False      34\n",
      "Name: passenger_count, dtype: int64 \n",
      " True     0.99575\n",
      "False    0.00425\n",
      "Name: passenger_count, dtype: float64\n"
     ]
    }
   ],
   "source": [
    "pcnt_val = (pcnt >= 1) & (pcnt <= 6)\n",
    "print(pcnt_val.value_counts(), '\\n', pcnt_val.value_counts(normalize = True))"
   ]
  },
  {
   "cell_type": "markdown",
   "metadata": {},
   "source": [
    "### Floats\n",
    "\n",
    "#### `fare_amount`"
   ]
  },
  {
   "cell_type": "code",
   "execution_count": 76,
   "metadata": {},
   "outputs": [
    {
     "data": {
      "text/plain": [
       "count    8000.000000\n",
       "mean       12.546251\n",
       "std        10.744629\n",
       "min        -5.000000\n",
       "25%         6.100000\n",
       "50%         9.000000\n",
       "75%        14.100000\n",
       "max       100.000000\n",
       "Name: fare_amount, dtype: float64"
      ]
     },
     "execution_count": 76,
     "metadata": {},
     "output_type": "execute_result"
    }
   ],
   "source": [
    "fare = data['fare_amount']\n",
    "fare.describe()"
   ]
  },
  {
   "cell_type": "code",
   "execution_count": 77,
   "metadata": {},
   "outputs": [
    {
     "data": {
      "image/png": "[encoded data removed]",
      "text/plain": [
       "<Figure size 432x288 with 1 Axes>"
      ]
     },
     "metadata": {},
     "output_type": "display_data"
    }
   ],
   "source": [
    "plt.hist(fare, bins = 100);"
   ]
  },
  {
   "cell_type": "code",
   "execution_count": 78,
   "metadata": {},
   "outputs": [
    {
     "data": {
      "image/png": "[encoded data removed]",
      "text/plain": [
       "<Figure size 432x288 with 1 Axes>"
      ]
     },
     "metadata": {},
     "output_type": "display_data"
    }
   ],
   "source": [
    "plt.hist(fare[fare < 10], bins = 100);"
   ]
  },
  {
   "cell_type": "code",
   "execution_count": 79,
   "metadata": {},
   "outputs": [
    {
     "data": {
      "image/png": "[encoded data removed]",
      "text/plain": [
       "<Figure size 432x288 with 1 Axes>"
      ]
     },
     "metadata": {},
     "output_type": "display_data"
    }
   ],
   "source": [
    "plt.hist(fare[fare > 50], bins = 100);"
   ]
  },
  {
   "cell_type": "markdown",
   "metadata": {},
   "source": [
    "Removendo os outliers"
   ]
  },
  {
   "cell_type": "code",
   "execution_count": 80,
   "metadata": {},
   "outputs": [
    {
     "name": "stdout",
     "output_type": "stream",
     "text": [
      "True     7991\n",
      "False       9\n",
      "Name: fare_amount, dtype: int64 \n",
      " True     0.998875\n",
      "False    0.001125\n",
      "Name: fare_amount, dtype: float64\n"
     ]
    }
   ],
   "source": [
    "fare_val = (fare > 2) & (fare < 150)\n",
    "print(fare_val.value_counts(), '\\n', fare_val.value_counts(normalize = True))"
   ]
  },
  {
   "cell_type": "markdown",
   "metadata": {},
   "source": [
    "Unindo todas as analises realizadas para exclusão dos registros em lote"
   ]
  },
  {
   "cell_type": "code",
   "execution_count": 81,
   "metadata": {},
   "outputs": [],
   "source": [
    "val_entries = fare_val & plon_val & plat_val & dlon_val & dlat_val & pcnt_val"
   ]
  },
  {
   "cell_type": "code",
   "execution_count": 82,
   "metadata": {},
   "outputs": [
    {
     "name": "stdout",
     "output_type": "stream",
     "text": [
      "True     5849\n",
      "False    2151\n",
      "dtype: int64 \n",
      " True     0.731125\n",
      "False    0.268875\n",
      "dtype: float64\n"
     ]
    }
   ],
   "source": [
    "print(val_entries.value_counts(), '\\n', val_entries.value_counts(normalize = True))"
   ]
  },
  {
   "cell_type": "markdown",
   "metadata": {},
   "source": [
    "POdemos verificar que os registros inconsistentes representam 2.2% da nossa base, então não teremos tanto impacto para remove-los"
   ]
  },
  {
   "cell_type": "code",
   "execution_count": 83,
   "metadata": {},
   "outputs": [],
   "source": [
    "data = data.drop(val_entries[val_entries == False].index)"
   ]
  },
  {
   "cell_type": "code",
   "execution_count": 84,
   "metadata": {},
   "outputs": [
    {
     "data": {
      "text/html": [
       "<div>\n",
       "<style scoped>\n",
       "    .dataframe tbody tr th:only-of-type {\n",
       "        vertical-align: middle;\n",
       "    }\n",
       "\n",
       "    .dataframe tbody tr th {\n",
       "        vertical-align: top;\n",
       "    }\n",
       "\n",
       "    .dataframe thead th {\n",
       "        text-align: right;\n",
       "    }\n",
       "</style>\n",
       "<table border=\"1\" class=\"dataframe\">\n",
       "  <thead>\n",
       "    <tr style=\"text-align: right;\">\n",
       "      <th></th>\n",
       "      <th>dropoff_latitude</th>\n",
       "      <th>dropoff_longitude</th>\n",
       "      <th>fare_amount</th>\n",
       "      <th>passenger_count</th>\n",
       "      <th>pickup_datetime</th>\n",
       "      <th>pickup_latitude</th>\n",
       "      <th>pickup_longitude</th>\n",
       "    </tr>\n",
       "  </thead>\n",
       "  <tbody>\n",
       "    <tr>\n",
       "      <th>2000</th>\n",
       "      <td>40.753777</td>\n",
       "      <td>-73.987465</td>\n",
       "      <td>12.0</td>\n",
       "      <td>1</td>\n",
       "      <td>2016-02-04 08:32:14</td>\n",
       "      <td>40.764282</td>\n",
       "      <td>-73.969154</td>\n",
       "    </tr>\n",
       "    <tr>\n",
       "      <th>2001</th>\n",
       "      <td>40.788132</td>\n",
       "      <td>-73.978127</td>\n",
       "      <td>5.0</td>\n",
       "      <td>1</td>\n",
       "      <td>2016-02-13 21:58:56</td>\n",
       "      <td>40.780354</td>\n",
       "      <td>-73.976402</td>\n",
       "    </tr>\n",
       "    <tr>\n",
       "      <th>2002</th>\n",
       "      <td>40.776989</td>\n",
       "      <td>-73.963516</td>\n",
       "      <td>6.0</td>\n",
       "      <td>1</td>\n",
       "      <td>2016-02-23 19:16:09</td>\n",
       "      <td>40.781178</td>\n",
       "      <td>-73.975861</td>\n",
       "    </tr>\n",
       "    <tr>\n",
       "      <th>2003</th>\n",
       "      <td>40.756050</td>\n",
       "      <td>-73.967773</td>\n",
       "      <td>7.5</td>\n",
       "      <td>1</td>\n",
       "      <td>2016-02-09 13:33:08</td>\n",
       "      <td>40.764771</td>\n",
       "      <td>-73.988289</td>\n",
       "    </tr>\n",
       "    <tr>\n",
       "      <th>2004</th>\n",
       "      <td>40.763859</td>\n",
       "      <td>-73.995766</td>\n",
       "      <td>8.5</td>\n",
       "      <td>1</td>\n",
       "      <td>2016-02-10 13:30:03</td>\n",
       "      <td>40.778614</td>\n",
       "      <td>-73.977974</td>\n",
       "    </tr>\n",
       "  </tbody>\n",
       "</table>\n",
       "</div>"
      ],
      "text/plain": [
       "      dropoff_latitude  dropoff_longitude  fare_amount  passenger_count  \\\n",
       "2000         40.753777         -73.987465         12.0                1   \n",
       "2001         40.788132         -73.978127          5.0                1   \n",
       "2002         40.776989         -73.963516          6.0                1   \n",
       "2003         40.756050         -73.967773          7.5                1   \n",
       "2004         40.763859         -73.995766          8.5                1   \n",
       "\n",
       "         pickup_datetime  pickup_latitude  pickup_longitude  \n",
       "2000 2016-02-04 08:32:14        40.764282        -73.969154  \n",
       "2001 2016-02-13 21:58:56        40.780354        -73.976402  \n",
       "2002 2016-02-23 19:16:09        40.781178        -73.975861  \n",
       "2003 2016-02-09 13:33:08        40.764771        -73.988289  \n",
       "2004 2016-02-10 13:30:03        40.778614        -73.977974  "
      ]
     },
     "execution_count": 84,
     "metadata": {},
     "output_type": "execute_result"
    }
   ],
   "source": [
    "data.head()"
   ]
  },
  {
   "cell_type": "code",
   "execution_count": 86,
   "metadata": {},
   "outputs": [
    {
     "data": {
      "text/plain": [
       "(5849, 7)"
      ]
     },
     "execution_count": 86,
     "metadata": {},
     "output_type": "execute_result"
    }
   ],
   "source": [
    "data.shape"
   ]
  },
  {
   "cell_type": "markdown",
   "metadata": {},
   "source": [
    "# Exportar Base de Dados "
   ]
  },
  {
   "cell_type": "code",
   "execution_count": 87,
   "metadata": {},
   "outputs": [],
   "source": [
    "data.to_parquet(data_proc_file)"
   ]
  }
 ],
 "metadata": {
  "kernelspec": {
   "display_name": "Python 3",
   "language": "python",
   "name": "python3"
  },
  "language_info": {
   "codemirror_mode": {
    "name": "ipython",
    "version": 3
   },
   "file_extension": ".py",
   "mimetype": "text/x-python",
   "name": "python",
   "nbconvert_exporter": "python",
   "pygments_lexer": "ipython3",
   "version": "3.8.3"
  }
 },
 "nbformat": 4,
 "nbformat_minor": 4
}
